{
 "cells": [
  {
   "cell_type": "markdown",
   "metadata": {},
   "source": [
    "# Описание проекта \"Принятие решений в бизнесе\"\n",
    "\n",
    "\n",
    "Вы — аналитик крупного интернет-магазина.\n",
    "Вместе с отделом маркетинга вы подготовили список гипотез для увеличения выручки.\n",
    "Приоритизируйте гипотезы, запустите A/B-тест и проанализируйте результаты."
   ]
  },
  {
   "cell_type": "markdown",
   "metadata": {},
   "source": [
    "## Приоритизация гипотез."
   ]
  },
  {
   "cell_type": "markdown",
   "metadata": {},
   "source": [
    "Подгрузим необходимые библеотеки"
   ]
  },
  {
   "cell_type": "code",
   "execution_count": 1,
   "metadata": {},
   "outputs": [],
   "source": [
    "import pandas as pd\n",
    "import scipy.stats as stats\n",
    "import datetime as dt\n",
    "import numpy as np\n",
    "import matplotlib.pyplot as plt"
   ]
  },
  {
   "cell_type": "markdown",
   "metadata": {},
   "source": [
    "Скачаем данные и посмотрим"
   ]
  },
  {
   "cell_type": "code",
   "execution_count": 2,
   "metadata": {},
   "outputs": [
    {
     "data": {
      "text/html": [
       "<div>\n",
       "<style scoped>\n",
       "    .dataframe tbody tr th:only-of-type {\n",
       "        vertical-align: middle;\n",
       "    }\n",
       "\n",
       "    .dataframe tbody tr th {\n",
       "        vertical-align: top;\n",
       "    }\n",
       "\n",
       "    .dataframe thead th {\n",
       "        text-align: right;\n",
       "    }\n",
       "</style>\n",
       "<table border=\"1\" class=\"dataframe\">\n",
       "  <thead>\n",
       "    <tr style=\"text-align: right;\">\n",
       "      <th></th>\n",
       "      <th>Hypothesis</th>\n",
       "      <th>Reach</th>\n",
       "      <th>Impact</th>\n",
       "      <th>Confidence</th>\n",
       "      <th>Efforts</th>\n",
       "    </tr>\n",
       "  </thead>\n",
       "  <tbody>\n",
       "    <tr>\n",
       "      <th>0</th>\n",
       "      <td>Добавить два новых канала привлечения трафика,...</td>\n",
       "      <td>3</td>\n",
       "      <td>10</td>\n",
       "      <td>8</td>\n",
       "      <td>6</td>\n",
       "    </tr>\n",
       "    <tr>\n",
       "      <th>1</th>\n",
       "      <td>Запустить собственную службу доставки, что сок...</td>\n",
       "      <td>2</td>\n",
       "      <td>5</td>\n",
       "      <td>4</td>\n",
       "      <td>10</td>\n",
       "    </tr>\n",
       "    <tr>\n",
       "      <th>2</th>\n",
       "      <td>Добавить блоки рекомендаций товаров на сайт ин...</td>\n",
       "      <td>8</td>\n",
       "      <td>3</td>\n",
       "      <td>7</td>\n",
       "      <td>3</td>\n",
       "    </tr>\n",
       "    <tr>\n",
       "      <th>3</th>\n",
       "      <td>Изменить структура категорий, что увеличит кон...</td>\n",
       "      <td>8</td>\n",
       "      <td>3</td>\n",
       "      <td>3</td>\n",
       "      <td>8</td>\n",
       "    </tr>\n",
       "    <tr>\n",
       "      <th>4</th>\n",
       "      <td>Изменить цвет фона главной страницы, чтобы уве...</td>\n",
       "      <td>3</td>\n",
       "      <td>1</td>\n",
       "      <td>1</td>\n",
       "      <td>1</td>\n",
       "    </tr>\n",
       "    <tr>\n",
       "      <th>5</th>\n",
       "      <td>Добавить страницу отзывов клиентов о магазине,...</td>\n",
       "      <td>3</td>\n",
       "      <td>2</td>\n",
       "      <td>2</td>\n",
       "      <td>3</td>\n",
       "    </tr>\n",
       "    <tr>\n",
       "      <th>6</th>\n",
       "      <td>Показать на главной странице баннеры с актуаль...</td>\n",
       "      <td>5</td>\n",
       "      <td>3</td>\n",
       "      <td>8</td>\n",
       "      <td>3</td>\n",
       "    </tr>\n",
       "    <tr>\n",
       "      <th>7</th>\n",
       "      <td>Добавить форму подписки на все основные страни...</td>\n",
       "      <td>10</td>\n",
       "      <td>7</td>\n",
       "      <td>8</td>\n",
       "      <td>5</td>\n",
       "    </tr>\n",
       "    <tr>\n",
       "      <th>8</th>\n",
       "      <td>Запустить акцию, дающую скидку на товар в день...</td>\n",
       "      <td>1</td>\n",
       "      <td>9</td>\n",
       "      <td>9</td>\n",
       "      <td>5</td>\n",
       "    </tr>\n",
       "  </tbody>\n",
       "</table>\n",
       "</div>"
      ],
      "text/plain": [
       "                                          Hypothesis  Reach  Impact  \\\n",
       "0  Добавить два новых канала привлечения трафика,...      3      10   \n",
       "1  Запустить собственную службу доставки, что сок...      2       5   \n",
       "2  Добавить блоки рекомендаций товаров на сайт ин...      8       3   \n",
       "3  Изменить структура категорий, что увеличит кон...      8       3   \n",
       "4  Изменить цвет фона главной страницы, чтобы уве...      3       1   \n",
       "5  Добавить страницу отзывов клиентов о магазине,...      3       2   \n",
       "6  Показать на главной странице баннеры с актуаль...      5       3   \n",
       "7  Добавить форму подписки на все основные страни...     10       7   \n",
       "8  Запустить акцию, дающую скидку на товар в день...      1       9   \n",
       "\n",
       "   Confidence  Efforts  \n",
       "0           8        6  \n",
       "1           4       10  \n",
       "2           7        3  \n",
       "3           3        8  \n",
       "4           1        1  \n",
       "5           2        3  \n",
       "6           8        3  \n",
       "7           8        5  \n",
       "8           9        5  "
      ]
     },
     "execution_count": 2,
     "metadata": {},
     "output_type": "execute_result"
    }
   ],
   "source": [
    "data = pd.read_csv('/datasets/hypothesis.csv', sep=',')\n",
    "\n",
    "data"
   ]
  },
  {
   "cell_type": "markdown",
   "metadata": {},
   "source": [
    "**Описание данных.** \n",
    "\n",
    "9 гипотез по увеличению выручки интернет-магазина с указанными параметрами Reach, Impact, Confidence, Effort.\n",
    "\n",
    "    Hypothesis — краткое описание гипотезы;\n",
    "    Reach — охват пользователей по 10-балльной шкале;\n",
    "    Impact — влияние на пользователей по 10-балльной шкале;\n",
    "    Confidence — уверенность в гипотезе по 10-балльной шкале;\n",
    "    Efforts — затраты ресурсов на проверку гипотезы по 10-балльной шкале. Чем больше значение Efforts, тем дороже проверка гипотезы."
   ]
  },
  {
   "cell_type": "markdown",
   "metadata": {},
   "source": [
    "### Задачи\n",
    "\n",
    "* Примените фреймворк ICE для приоритизации гипотез. \n",
    "* Отсортируйте их по убыванию приоритета.\n",
    "* Примените фреймворк RICE для приоритизации гипотез. \n",
    "* Отсортируйте их по убыванию приоритета.\n",
    "* Укажите, как изменилась приоритизация гипотез при применении RICE вместо ICE. \n",
    "* Объясните, почему так произошло."
   ]
  },
  {
   "cell_type": "code",
   "execution_count": 3,
   "metadata": {},
   "outputs": [
    {
     "data": {
      "text/html": [
       "<div>\n",
       "<style scoped>\n",
       "    .dataframe tbody tr th:only-of-type {\n",
       "        vertical-align: middle;\n",
       "    }\n",
       "\n",
       "    .dataframe tbody tr th {\n",
       "        vertical-align: top;\n",
       "    }\n",
       "\n",
       "    .dataframe thead th {\n",
       "        text-align: right;\n",
       "    }\n",
       "</style>\n",
       "<table border=\"1\" class=\"dataframe\">\n",
       "  <thead>\n",
       "    <tr style=\"text-align: right;\">\n",
       "      <th></th>\n",
       "      <th>Hypothesis</th>\n",
       "      <th>ICE</th>\n",
       "    </tr>\n",
       "  </thead>\n",
       "  <tbody>\n",
       "    <tr>\n",
       "      <th>8</th>\n",
       "      <td>Запустить акцию, дающую скидку на товар в день рождения</td>\n",
       "      <td>16.20</td>\n",
       "    </tr>\n",
       "    <tr>\n",
       "      <th>0</th>\n",
       "      <td>Добавить два новых канала привлечения трафика, что позволит привлекать на 30% больше пользователей</td>\n",
       "      <td>13.33</td>\n",
       "    </tr>\n",
       "    <tr>\n",
       "      <th>7</th>\n",
       "      <td>Добавить форму подписки на все основные страницы, чтобы собрать базу клиентов для email-рассылок</td>\n",
       "      <td>11.20</td>\n",
       "    </tr>\n",
       "    <tr>\n",
       "      <th>6</th>\n",
       "      <td>Показать на главной странице баннеры с актуальными акциями и распродажами, чтобы увеличить конве...</td>\n",
       "      <td>8.00</td>\n",
       "    </tr>\n",
       "    <tr>\n",
       "      <th>2</th>\n",
       "      <td>Добавить блоки рекомендаций товаров на сайт интернет магазина, чтобы повысить конверсию и средни...</td>\n",
       "      <td>7.00</td>\n",
       "    </tr>\n",
       "    <tr>\n",
       "      <th>1</th>\n",
       "      <td>Запустить собственную службу доставки, что сократит срок доставки заказов</td>\n",
       "      <td>2.00</td>\n",
       "    </tr>\n",
       "    <tr>\n",
       "      <th>5</th>\n",
       "      <td>Добавить страницу отзывов клиентов о магазине, что позволит увеличить количество заказов</td>\n",
       "      <td>1.33</td>\n",
       "    </tr>\n",
       "    <tr>\n",
       "      <th>3</th>\n",
       "      <td>Изменить структура категорий, что увеличит конверсию, т.к. пользователи быстрее найдут нужный товар</td>\n",
       "      <td>1.12</td>\n",
       "    </tr>\n",
       "    <tr>\n",
       "      <th>4</th>\n",
       "      <td>Изменить цвет фона главной страницы, чтобы увеличить вовлеченность пользователей</td>\n",
       "      <td>1.00</td>\n",
       "    </tr>\n",
       "  </tbody>\n",
       "</table>\n",
       "</div>"
      ],
      "text/plain": [
       "                                                                                            Hypothesis  \\\n",
       "8                                              Запустить акцию, дающую скидку на товар в день рождения   \n",
       "0   Добавить два новых канала привлечения трафика, что позволит привлекать на 30% больше пользователей   \n",
       "7     Добавить форму подписки на все основные страницы, чтобы собрать базу клиентов для email-рассылок   \n",
       "6  Показать на главной странице баннеры с актуальными акциями и распродажами, чтобы увеличить конве...   \n",
       "2  Добавить блоки рекомендаций товаров на сайт интернет магазина, чтобы повысить конверсию и средни...   \n",
       "1                            Запустить собственную службу доставки, что сократит срок доставки заказов   \n",
       "5             Добавить страницу отзывов клиентов о магазине, что позволит увеличить количество заказов   \n",
       "3  Изменить структура категорий, что увеличит конверсию, т.к. пользователи быстрее найдут нужный товар   \n",
       "4                     Изменить цвет фона главной страницы, чтобы увеличить вовлеченность пользователей   \n",
       "\n",
       "     ICE  \n",
       "8  16.20  \n",
       "0  13.33  \n",
       "7  11.20  \n",
       "6   8.00  \n",
       "2   7.00  \n",
       "1   2.00  \n",
       "5   1.33  \n",
       "3   1.12  \n",
       "4   1.00  "
      ]
     },
     "metadata": {},
     "output_type": "display_data"
    }
   ],
   "source": [
    "# Применим фреймворк ICE для приоритизации гипотез.\n",
    "data['ICE'] = data['Impact'] * data['Confidence'] / data['Efforts']\n",
    "\n",
    "pd.options.display.max_colwidth = 100\n",
    "# Выведем результат отсортировав их по убыванию приоритета.\n",
    "display(data[['Hypothesis', 'ICE']].sort_values(by='ICE', ascending=False).round(2))\n"
   ]
  },
  {
   "cell_type": "code",
   "execution_count": 4,
   "metadata": {},
   "outputs": [
    {
     "data": {
      "text/html": [
       "<div>\n",
       "<style scoped>\n",
       "    .dataframe tbody tr th:only-of-type {\n",
       "        vertical-align: middle;\n",
       "    }\n",
       "\n",
       "    .dataframe tbody tr th {\n",
       "        vertical-align: top;\n",
       "    }\n",
       "\n",
       "    .dataframe thead th {\n",
       "        text-align: right;\n",
       "    }\n",
       "</style>\n",
       "<table border=\"1\" class=\"dataframe\">\n",
       "  <thead>\n",
       "    <tr style=\"text-align: right;\">\n",
       "      <th></th>\n",
       "      <th>Hypothesis</th>\n",
       "      <th>RICE</th>\n",
       "    </tr>\n",
       "  </thead>\n",
       "  <tbody>\n",
       "    <tr>\n",
       "      <th>7</th>\n",
       "      <td>Добавить форму подписки на все основные страницы, чтобы собрать базу клиентов для email-рассылок</td>\n",
       "      <td>112.0</td>\n",
       "    </tr>\n",
       "    <tr>\n",
       "      <th>2</th>\n",
       "      <td>Добавить блоки рекомендаций товаров на сайт интернет магазина, чтобы повысить конверсию и средни...</td>\n",
       "      <td>56.0</td>\n",
       "    </tr>\n",
       "    <tr>\n",
       "      <th>0</th>\n",
       "      <td>Добавить два новых канала привлечения трафика, что позволит привлекать на 30% больше пользователей</td>\n",
       "      <td>40.0</td>\n",
       "    </tr>\n",
       "    <tr>\n",
       "      <th>6</th>\n",
       "      <td>Показать на главной странице баннеры с актуальными акциями и распродажами, чтобы увеличить конве...</td>\n",
       "      <td>40.0</td>\n",
       "    </tr>\n",
       "    <tr>\n",
       "      <th>8</th>\n",
       "      <td>Запустить акцию, дающую скидку на товар в день рождения</td>\n",
       "      <td>16.2</td>\n",
       "    </tr>\n",
       "    <tr>\n",
       "      <th>3</th>\n",
       "      <td>Изменить структура категорий, что увеличит конверсию, т.к. пользователи быстрее найдут нужный товар</td>\n",
       "      <td>9.0</td>\n",
       "    </tr>\n",
       "    <tr>\n",
       "      <th>1</th>\n",
       "      <td>Запустить собственную службу доставки, что сократит срок доставки заказов</td>\n",
       "      <td>4.0</td>\n",
       "    </tr>\n",
       "    <tr>\n",
       "      <th>5</th>\n",
       "      <td>Добавить страницу отзывов клиентов о магазине, что позволит увеличить количество заказов</td>\n",
       "      <td>4.0</td>\n",
       "    </tr>\n",
       "    <tr>\n",
       "      <th>4</th>\n",
       "      <td>Изменить цвет фона главной страницы, чтобы увеличить вовлеченность пользователей</td>\n",
       "      <td>3.0</td>\n",
       "    </tr>\n",
       "  </tbody>\n",
       "</table>\n",
       "</div>"
      ],
      "text/plain": [
       "                                                                                            Hypothesis  \\\n",
       "7     Добавить форму подписки на все основные страницы, чтобы собрать базу клиентов для email-рассылок   \n",
       "2  Добавить блоки рекомендаций товаров на сайт интернет магазина, чтобы повысить конверсию и средни...   \n",
       "0   Добавить два новых канала привлечения трафика, что позволит привлекать на 30% больше пользователей   \n",
       "6  Показать на главной странице баннеры с актуальными акциями и распродажами, чтобы увеличить конве...   \n",
       "8                                              Запустить акцию, дающую скидку на товар в день рождения   \n",
       "3  Изменить структура категорий, что увеличит конверсию, т.к. пользователи быстрее найдут нужный товар   \n",
       "1                            Запустить собственную службу доставки, что сократит срок доставки заказов   \n",
       "5             Добавить страницу отзывов клиентов о магазине, что позволит увеличить количество заказов   \n",
       "4                     Изменить цвет фона главной страницы, чтобы увеличить вовлеченность пользователей   \n",
       "\n",
       "    RICE  \n",
       "7  112.0  \n",
       "2   56.0  \n",
       "0   40.0  \n",
       "6   40.0  \n",
       "8   16.2  \n",
       "3    9.0  \n",
       "1    4.0  \n",
       "5    4.0  \n",
       "4    3.0  "
      ]
     },
     "metadata": {},
     "output_type": "display_data"
    }
   ],
   "source": [
    "# Применим фреймворк RICE для приоритизации гипотез.\n",
    "data['RICE'] = data['Reach'] * data['Impact'] * data['Confidence'] / data['Efforts']\n",
    "\n",
    "pd.options.display.max_colwidth = 100\n",
    "# Выведем результат отсортировав их по убыванию приоритета.\n",
    "display(data[['Hypothesis', 'RICE']].sort_values(by='RICE', ascending=False).round(1))\n"
   ]
  },
  {
   "cell_type": "raw",
   "metadata": {},
   "source": [
    "Мы видем, как изменилась приоритизация гипотез при применении фреймворка RICE вместо ICE. Это произошло потому, что мы стали учитывать параметр Reach (охват пользователей по 10-балльной шкале)."
   ]
  },
  {
   "cell_type": "markdown",
   "metadata": {},
   "source": [
    "## Анализ A/B-теста"
   ]
  },
  {
   "cell_type": "markdown",
   "metadata": {},
   "source": [
    "Скачаем данные и посмотрим"
   ]
  },
  {
   "cell_type": "code",
   "execution_count": 5,
   "metadata": {},
   "outputs": [
    {
     "data": {
      "text/html": [
       "<div>\n",
       "<style scoped>\n",
       "    .dataframe tbody tr th:only-of-type {\n",
       "        vertical-align: middle;\n",
       "    }\n",
       "\n",
       "    .dataframe tbody tr th {\n",
       "        vertical-align: top;\n",
       "    }\n",
       "\n",
       "    .dataframe thead th {\n",
       "        text-align: right;\n",
       "    }\n",
       "</style>\n",
       "<table border=\"1\" class=\"dataframe\">\n",
       "  <thead>\n",
       "    <tr style=\"text-align: right;\">\n",
       "      <th></th>\n",
       "      <th>orderId</th>\n",
       "      <th>userId</th>\n",
       "      <th>date</th>\n",
       "      <th>revenue</th>\n",
       "      <th>group</th>\n",
       "    </tr>\n",
       "  </thead>\n",
       "  <tbody>\n",
       "    <tr>\n",
       "      <th>0</th>\n",
       "      <td>3667963787</td>\n",
       "      <td>3312258926</td>\n",
       "      <td>2019-08-15</td>\n",
       "      <td>1650</td>\n",
       "      <td>B</td>\n",
       "    </tr>\n",
       "    <tr>\n",
       "      <th>1</th>\n",
       "      <td>2804400009</td>\n",
       "      <td>3642806036</td>\n",
       "      <td>2019-08-15</td>\n",
       "      <td>730</td>\n",
       "      <td>B</td>\n",
       "    </tr>\n",
       "    <tr>\n",
       "      <th>2</th>\n",
       "      <td>2961555356</td>\n",
       "      <td>4069496402</td>\n",
       "      <td>2019-08-15</td>\n",
       "      <td>400</td>\n",
       "      <td>A</td>\n",
       "    </tr>\n",
       "    <tr>\n",
       "      <th>3</th>\n",
       "      <td>3797467345</td>\n",
       "      <td>1196621759</td>\n",
       "      <td>2019-08-15</td>\n",
       "      <td>9759</td>\n",
       "      <td>B</td>\n",
       "    </tr>\n",
       "    <tr>\n",
       "      <th>4</th>\n",
       "      <td>2282983706</td>\n",
       "      <td>2322279887</td>\n",
       "      <td>2019-08-15</td>\n",
       "      <td>2308</td>\n",
       "      <td>B</td>\n",
       "    </tr>\n",
       "  </tbody>\n",
       "</table>\n",
       "</div>"
      ],
      "text/plain": [
       "      orderId      userId       date  revenue group\n",
       "0  3667963787  3312258926 2019-08-15     1650     B\n",
       "1  2804400009  3642806036 2019-08-15      730     B\n",
       "2  2961555356  4069496402 2019-08-15      400     A\n",
       "3  3797467345  1196621759 2019-08-15     9759     B\n",
       "4  2282983706  2322279887 2019-08-15     2308     B"
      ]
     },
     "execution_count": 5,
     "metadata": {},
     "output_type": "execute_result"
    }
   ],
   "source": [
    "orders = pd.read_csv('/datasets/orders.csv', sep=',')\n",
    "orders['date'] = orders['date'].map(\n",
    "    lambda x: dt.datetime.strptime(x, '%Y-%m-%d'))\n",
    "\n",
    "# переименуем столбцы для удобства\n",
    "orders.rename(columns={'transactionId': 'orderId', 'visitorId': 'userId'}, inplace=True)\n",
    "\n",
    "# посмотрим\n",
    "orders.head()"
   ]
  },
  {
   "cell_type": "markdown",
   "metadata": {},
   "source": [
    "**Описание данных**\n",
    "\n",
    "    orderId — идентификатор заказа;\n",
    "    userId — идентификатор пользователя, совершившего заказ;\n",
    "    date — дата, когда был совершён заказ;\n",
    "    revenue — выручка заказа;\n",
    "    group — группа A/B-теста, в которую попал заказ."
   ]
  },
  {
   "cell_type": "markdown",
   "metadata": {},
   "source": [
    "Проверим данные на наличие дубликатов"
   ]
  },
  {
   "cell_type": "code",
   "execution_count": 6,
   "metadata": {},
   "outputs": [
    {
     "data": {
      "text/plain": [
       "58"
      ]
     },
     "execution_count": 6,
     "metadata": {},
     "output_type": "execute_result"
    }
   ],
   "source": [
    "# проверяем наличие пользователей в обеих группах\n",
    "userId_AB = (orders.query('group==\"A\"')[['userId', 'orderId']]\n",
    "             .merge(orders.query('group==\"B\"')[['userId', 'orderId']],on='userId', how='inner')\n",
    "              )\n",
    "userId_AB = userId_AB['userId'].unique()\n",
    "len(userId_AB)"
   ]
  },
  {
   "cell_type": "markdown",
   "metadata": {},
   "source": [
    "Удалим пользователей которые встречаются в обоих группах  из базы данных."
   ]
  },
  {
   "cell_type": "code",
   "execution_count": 7,
   "metadata": {},
   "outputs": [
    {
     "data": {
      "text/html": [
       "<div>\n",
       "<style scoped>\n",
       "    .dataframe tbody tr th:only-of-type {\n",
       "        vertical-align: middle;\n",
       "    }\n",
       "\n",
       "    .dataframe tbody tr th {\n",
       "        vertical-align: top;\n",
       "    }\n",
       "\n",
       "    .dataframe thead th {\n",
       "        text-align: right;\n",
       "    }\n",
       "</style>\n",
       "<table border=\"1\" class=\"dataframe\">\n",
       "  <thead>\n",
       "    <tr style=\"text-align: right;\">\n",
       "      <th></th>\n",
       "      <th>orderId</th>\n",
       "      <th>userId</th>\n",
       "      <th>date</th>\n",
       "      <th>revenue</th>\n",
       "      <th>group</th>\n",
       "    </tr>\n",
       "  </thead>\n",
       "  <tbody>\n",
       "    <tr>\n",
       "      <th>0</th>\n",
       "      <td>3667963787</td>\n",
       "      <td>3312258926</td>\n",
       "      <td>2019-08-15</td>\n",
       "      <td>1650</td>\n",
       "      <td>B</td>\n",
       "    </tr>\n",
       "    <tr>\n",
       "      <th>1</th>\n",
       "      <td>2804400009</td>\n",
       "      <td>3642806036</td>\n",
       "      <td>2019-08-15</td>\n",
       "      <td>730</td>\n",
       "      <td>B</td>\n",
       "    </tr>\n",
       "    <tr>\n",
       "      <th>2</th>\n",
       "      <td>3797467345</td>\n",
       "      <td>1196621759</td>\n",
       "      <td>2019-08-15</td>\n",
       "      <td>9759</td>\n",
       "      <td>B</td>\n",
       "    </tr>\n",
       "    <tr>\n",
       "      <th>3</th>\n",
       "      <td>2282983706</td>\n",
       "      <td>2322279887</td>\n",
       "      <td>2019-08-15</td>\n",
       "      <td>2308</td>\n",
       "      <td>B</td>\n",
       "    </tr>\n",
       "    <tr>\n",
       "      <th>4</th>\n",
       "      <td>182168103</td>\n",
       "      <td>935554773</td>\n",
       "      <td>2019-08-15</td>\n",
       "      <td>2210</td>\n",
       "      <td>B</td>\n",
       "    </tr>\n",
       "    <tr>\n",
       "      <th>...</th>\n",
       "      <td>...</td>\n",
       "      <td>...</td>\n",
       "      <td>...</td>\n",
       "      <td>...</td>\n",
       "      <td>...</td>\n",
       "    </tr>\n",
       "    <tr>\n",
       "      <th>1011</th>\n",
       "      <td>3592955527</td>\n",
       "      <td>608641596</td>\n",
       "      <td>2019-08-14</td>\n",
       "      <td>16490</td>\n",
       "      <td>B</td>\n",
       "    </tr>\n",
       "    <tr>\n",
       "      <th>1012</th>\n",
       "      <td>2662137336</td>\n",
       "      <td>3733762160</td>\n",
       "      <td>2019-08-14</td>\n",
       "      <td>6490</td>\n",
       "      <td>B</td>\n",
       "    </tr>\n",
       "    <tr>\n",
       "      <th>1013</th>\n",
       "      <td>2203539145</td>\n",
       "      <td>370388673</td>\n",
       "      <td>2019-08-14</td>\n",
       "      <td>3190</td>\n",
       "      <td>A</td>\n",
       "    </tr>\n",
       "    <tr>\n",
       "      <th>1014</th>\n",
       "      <td>1807773912</td>\n",
       "      <td>573423106</td>\n",
       "      <td>2019-08-14</td>\n",
       "      <td>10550</td>\n",
       "      <td>A</td>\n",
       "    </tr>\n",
       "    <tr>\n",
       "      <th>1015</th>\n",
       "      <td>3936777065</td>\n",
       "      <td>2108080724</td>\n",
       "      <td>2019-08-15</td>\n",
       "      <td>202740</td>\n",
       "      <td>B</td>\n",
       "    </tr>\n",
       "  </tbody>\n",
       "</table>\n",
       "<p>1016 rows × 5 columns</p>\n",
       "</div>"
      ],
      "text/plain": [
       "         orderId      userId       date  revenue group\n",
       "0     3667963787  3312258926 2019-08-15     1650     B\n",
       "1     2804400009  3642806036 2019-08-15      730     B\n",
       "2     3797467345  1196621759 2019-08-15     9759     B\n",
       "3     2282983706  2322279887 2019-08-15     2308     B\n",
       "4      182168103   935554773 2019-08-15     2210     B\n",
       "...          ...         ...        ...      ...   ...\n",
       "1011  3592955527   608641596 2019-08-14    16490     B\n",
       "1012  2662137336  3733762160 2019-08-14     6490     B\n",
       "1013  2203539145   370388673 2019-08-14     3190     A\n",
       "1014  1807773912   573423106 2019-08-14    10550     A\n",
       "1015  3936777065  2108080724 2019-08-15   202740     B\n",
       "\n",
       "[1016 rows x 5 columns]"
      ]
     },
     "execution_count": 7,
     "metadata": {},
     "output_type": "execute_result"
    }
   ],
   "source": [
    "orders = orders[~orders['userId'].isin(userId_AB)].reset_index(drop=True)\n",
    "orders"
   ]
  },
  {
   "cell_type": "markdown",
   "metadata": {},
   "source": [
    "Загрузим и посмотрим на другую базу."
   ]
  },
  {
   "cell_type": "code",
   "execution_count": 8,
   "metadata": {},
   "outputs": [
    {
     "data": {
      "text/html": [
       "<div>\n",
       "<style scoped>\n",
       "    .dataframe tbody tr th:only-of-type {\n",
       "        vertical-align: middle;\n",
       "    }\n",
       "\n",
       "    .dataframe tbody tr th {\n",
       "        vertical-align: top;\n",
       "    }\n",
       "\n",
       "    .dataframe thead th {\n",
       "        text-align: right;\n",
       "    }\n",
       "</style>\n",
       "<table border=\"1\" class=\"dataframe\">\n",
       "  <thead>\n",
       "    <tr style=\"text-align: right;\">\n",
       "      <th></th>\n",
       "      <th>date</th>\n",
       "      <th>group</th>\n",
       "      <th>visitors</th>\n",
       "    </tr>\n",
       "  </thead>\n",
       "  <tbody>\n",
       "    <tr>\n",
       "      <th>0</th>\n",
       "      <td>2019-08-01</td>\n",
       "      <td>A</td>\n",
       "      <td>719</td>\n",
       "    </tr>\n",
       "    <tr>\n",
       "      <th>1</th>\n",
       "      <td>2019-08-02</td>\n",
       "      <td>A</td>\n",
       "      <td>619</td>\n",
       "    </tr>\n",
       "    <tr>\n",
       "      <th>2</th>\n",
       "      <td>2019-08-03</td>\n",
       "      <td>A</td>\n",
       "      <td>507</td>\n",
       "    </tr>\n",
       "    <tr>\n",
       "      <th>3</th>\n",
       "      <td>2019-08-04</td>\n",
       "      <td>A</td>\n",
       "      <td>717</td>\n",
       "    </tr>\n",
       "    <tr>\n",
       "      <th>4</th>\n",
       "      <td>2019-08-05</td>\n",
       "      <td>A</td>\n",
       "      <td>756</td>\n",
       "    </tr>\n",
       "  </tbody>\n",
       "</table>\n",
       "</div>"
      ],
      "text/plain": [
       "        date group  visitors\n",
       "0 2019-08-01     A       719\n",
       "1 2019-08-02     A       619\n",
       "2 2019-08-03     A       507\n",
       "3 2019-08-04     A       717\n",
       "4 2019-08-05     A       756"
      ]
     },
     "execution_count": 8,
     "metadata": {},
     "output_type": "execute_result"
    }
   ],
   "source": [
    "visitors = pd.read_csv('/datasets/visitors.csv', sep=',')\n",
    "visitors['date'] = visitors['date'].map(\n",
    "    lambda x: dt.datetime.strptime(x, '%Y-%m-%d'))\n",
    "\n",
    "visitors.head()"
   ]
  },
  {
   "cell_type": "markdown",
   "metadata": {},
   "source": [
    "**Описание данных**\n",
    "\n",
    "    date — дата;\n",
    "    group — группа A/B-теста;\n",
    "    visitors — количество пользователей в указанную дату в указанной группе A/B-теста"
   ]
  },
  {
   "cell_type": "markdown",
   "metadata": {},
   "source": [
    "Проверим датафрейм на дубликаты и пропуски."
   ]
  },
  {
   "cell_type": "code",
   "execution_count": 9,
   "metadata": {},
   "outputs": [
    {
     "name": "stdout",
     "output_type": "stream",
     "text": [
      "<class 'pandas.core.frame.DataFrame'>\n",
      "RangeIndex: 62 entries, 0 to 61\n",
      "Data columns (total 3 columns):\n",
      " #   Column    Non-Null Count  Dtype         \n",
      "---  ------    --------------  -----         \n",
      " 0   date      62 non-null     datetime64[ns]\n",
      " 1   group     62 non-null     object        \n",
      " 2   visitors  62 non-null     int64         \n",
      "dtypes: datetime64[ns](1), int64(1), object(1)\n",
      "memory usage: 1.6+ KB\n"
     ]
    }
   ],
   "source": [
    "visitors.info()"
   ]
  },
  {
   "cell_type": "code",
   "execution_count": 10,
   "metadata": {},
   "outputs": [
    {
     "data": {
      "text/plain": [
       "0"
      ]
     },
     "execution_count": 10,
     "metadata": {},
     "output_type": "execute_result"
    }
   ],
   "source": [
    "visitors.duplicated().sum()"
   ]
  },
  {
   "cell_type": "markdown",
   "metadata": {},
   "source": [
    "# Задачи"
   ]
  },
  {
   "cell_type": "markdown",
   "metadata": {},
   "source": [
    "**Проанализируйте A/B-тест:**"
   ]
  },
  {
   "cell_type": "code",
   "execution_count": 11,
   "metadata": {},
   "outputs": [],
   "source": [
    "# создаем массив уникальных пар значений дат и групп теста\n",
    "datesGroups = orders[['date','group']].drop_duplicates()\n",
    "\n",
    "# получаем агрегированные кумулятивные по дням данные о заказах \n",
    "ordersAggregated = (datesGroups.apply\n",
    "                    (lambda x: orders[np.logical_and(orders['date'] <= x['date'],\n",
    "                                orders['group'] == x['group'])]\n",
    "                                     .agg({'date' : 'max',\n",
    "                                           'group' : 'max',\n",
    "                                           'orderId' : 'nunique',\n",
    "                                           'userId' : 'nunique',\n",
    "                                           'revenue' : 'sum'}), axis=1)\n",
    "                                     .sort_values(by=['date','group']))\n",
    "\n",
    "# получаем агрегированные кумулятивные по дням данные о посетителях интернет-магазина \n",
    "visitorsAggregated = (datesGroups.apply\n",
    "                       (lambda x: visitors[np.logical_and(visitors['date'] <= x['date'], \n",
    "                                  visitors['group'] == x['group'])]\n",
    "                                        .agg({'date' : 'max', \n",
    "                                              'group' : 'max', \n",
    "                                              'visitors' : 'sum'}), axis=1)\n",
    "                                        .sort_values(by=['date','group']))\n",
    "\n",
    "# объединяем кумулятивные данные в одной таблице и присваиваем ее столбцам понятные названия\n",
    "cumulativeData = (ordersAggregated.merge(visitorsAggregated, left_on=['date', 'group'], \n",
    "                                                            right_on=['date', 'group']))\n",
    "cumulativeData.columns = ['date', 'group', 'orders', 'buyers', 'revenue', 'visitors']"
   ]
  },
  {
   "cell_type": "markdown",
   "metadata": {},
   "source": [
    "### Построим график кумулятивной выручки по группам. Сделаем выводы и предположения."
   ]
  },
  {
   "cell_type": "code",
   "execution_count": 12,
   "metadata": {},
   "outputs": [
    {
     "data": {
      "image/png": "[encoded data removed]",
      "text/plain": [
       "<Figure size 432x288 with 1 Axes>"
      ]
     },
     "metadata": {
      "needs_background": "light"
     },
     "output_type": "display_data"
    }
   ],
   "source": [
    "# датафрейм с кумулятивным количеством заказов и кумулятивной выручкой по дням в группе А\n",
    "cumulativeRevenueA = cumulativeData[cumulativeData['group']=='A'][['date','revenue', 'orders']]\n",
    "\n",
    "# датафрейм с кумулятивным количеством заказов и кумулятивной выручкой по дням в группе B\n",
    "cumulativeRevenueB = cumulativeData[cumulativeData['group']=='B'][['date','revenue', 'orders']]\n",
    "\n",
    "# Строим график выручки группы А\n",
    "plt.plot(cumulativeRevenueA['date'], cumulativeRevenueA['revenue'], label='A')\n",
    "\n",
    "# Строим график выручки группы B\n",
    "plt.plot(cumulativeRevenueB['date'], cumulativeRevenueB['revenue'], label='B')\n",
    "\n",
    "plt.title('График кумулятивной выручки по группам')\n",
    "plt.xlabel('Дни')\n",
    "plt.ylabel('Выручка')\n",
    "plt.xticks(rotation=-45)\n",
    "\n",
    "plt.legend();"
   ]
  },
  {
   "cell_type": "markdown",
   "metadata": {},
   "source": [
    "Выручка почти равномерно увеличивается в течение всего теста. На графике выручки группы В есть резкий рост. Это может сигнализировать о всплесках числа заказов, либо о появлении очень дорогих заказов в выборке."
   ]
  },
  {
   "cell_type": "markdown",
   "metadata": {},
   "source": [
    "### Построим график кумулятивного среднего чека по группам. Сделаем выводы и предположения."
   ]
  },
  {
   "cell_type": "code",
   "execution_count": 13,
   "metadata": {},
   "outputs": [
    {
     "data": {
      "image/png": "[encoded data removed]",
      "text/plain": [
       "<Figure size 432x288 with 1 Axes>"
      ]
     },
     "metadata": {
      "needs_background": "light"
     },
     "output_type": "display_data"
    }
   ],
   "source": [
    "plt.plot(cumulativeRevenueA['date'], cumulativeRevenueA['revenue']/cumulativeRevenueA['orders'], label='A')\n",
    "plt.plot(cumulativeRevenueB['date'], cumulativeRevenueB['revenue']/cumulativeRevenueB['orders'], label='B')\n",
    "\n",
    "plt.title('График кумулятивного среднего чека по группам')\n",
    "plt.xlabel('Дни')\n",
    "plt.ylabel('Сумма')\n",
    "plt.xticks(rotation=-45)\n",
    "\n",
    "plt.legend(); "
   ]
  },
  {
   "cell_type": "markdown",
   "metadata": {},
   "source": [
    "Средний чек становится равномерным ближе к концу теста. Видим резкий скачок у группы В. Возможно, в группу B в середине теста попали крупные заказы."
   ]
  },
  {
   "cell_type": "markdown",
   "metadata": {},
   "source": [
    "### Построиме график относительного изменения кумулятивного среднего чека группы B к группе A. Сделаем выводы и предположения."
   ]
  },
  {
   "cell_type": "code",
   "execution_count": 14,
   "metadata": {},
   "outputs": [
    {
     "data": {
      "image/png": "[encoded data removed]",
      "text/plain": [
       "<Figure size 432x288 with 1 Axes>"
      ]
     },
     "metadata": {
      "needs_background": "light"
     },
     "output_type": "display_data"
    }
   ],
   "source": [
    "# собираем данные в одном датафрейме\n",
    "mergedCumulativeRevenue = cumulativeRevenueA.merge(cumulativeRevenueB, left_on='date', right_on='date', how='left', suffixes=['A', 'B'])\n",
    "\n",
    "# cтроим отношение средних чеков\n",
    "plt.plot(mergedCumulativeRevenue['date'], (mergedCumulativeRevenue['revenueB']/mergedCumulativeRevenue['ordersB'])/(mergedCumulativeRevenue['revenueA']/mergedCumulativeRevenue['ordersA'])-1)\n",
    "\n",
    "# добавляем ось X\n",
    "plt.axhline(y=0, color='black', linestyle='--')\n",
    "\n",
    "plt.title('График относительного изменения кумулятивного среднего чека')\n",
    "plt.xlabel('Дни')\n",
    "plt.ylabel('Отношение В к А')\n",
    "plt.xticks(rotation=-45)\n",
    "\n",
    "plt.show();"
   ]
  },
  {
   "cell_type": "markdown",
   "metadata": {},
   "source": [
    "В нескольких точках график различия между сегментами резко «скачет». Это указывает на крупные заказы и выбросы."
   ]
  },
  {
   "cell_type": "markdown",
   "metadata": {},
   "source": [
    "### Построим график кумулятивной конверсии по группам. Сделаем выводы и предположения."
   ]
  },
  {
   "cell_type": "code",
   "execution_count": 15,
   "metadata": {},
   "outputs": [
    {
     "data": {
      "image/png": "[encoded data removed]",
      "text/plain": [
       "<Figure size 432x288 with 1 Axes>"
      ]
     },
     "metadata": {
      "needs_background": "light"
     },
     "output_type": "display_data"
    }
   ],
   "source": [
    "# считаем кумулятивную конверсию\n",
    "cumulativeData['conversion'] = cumulativeData['orders']/cumulativeData['visitors']\n",
    "\n",
    "# отделяем данные по группе A\n",
    "cumulativeDataA = cumulativeData[cumulativeData['group']=='A']\n",
    "\n",
    "# отделяем данные по группе B\n",
    "cumulativeDataB = cumulativeData[cumulativeData['group']=='B']\n",
    "\n",
    "# строим графики\n",
    "plt.plot(cumulativeDataA['date'], cumulativeDataA['conversion'], label='A')\n",
    "plt.plot(cumulativeDataB['date'], cumulativeDataB['conversion'], label='B')\n",
    "plt.legend();\n",
    "\n",
    "plt.title('График кумулятивной конверсии по группам')\n",
    "plt.xlabel('Дни')\n",
    "plt.ylabel('Конверсия')\n",
    "plt.xticks(rotation=-45)\n",
    "\n",
    "plt.show();"
   ]
  },
  {
   "cell_type": "markdown",
   "metadata": {},
   "source": [
    "Конверсия после всплесков вначале, стабилизировались. Конверсия группы В выше, чем группы А."
   ]
  },
  {
   "cell_type": "markdown",
   "metadata": {},
   "source": [
    "### Построим график относительного изменения кумулятивной конверсии группы B к группе A. Сделаем выводы и предположения."
   ]
  },
  {
   "cell_type": "code",
   "execution_count": 16,
   "metadata": {},
   "outputs": [
    {
     "data": {
      "image/png": "[encoded data removed]",
      "text/plain": [
       "<Figure size 432x288 with 1 Axes>"
      ]
     },
     "metadata": {
      "needs_background": "light"
     },
     "output_type": "display_data"
    }
   ],
   "source": [
    "mergedCumulativeConversions = (cumulativeDataA[['date','conversion']]\n",
    "                                 .merge(cumulativeDataB[['date','conversion']], \n",
    "                                        left_on='date', \n",
    "                                        right_on='date', \n",
    "                                        how='left', \n",
    "                                        suffixes=['A', 'B']))\n",
    "\n",
    "plt.plot(mergedCumulativeConversions['date'], \n",
    "         mergedCumulativeConversions['conversionB']/mergedCumulativeConversions['conversionA']-1, \n",
    "         label=\"Относительный прирост конверсии группы B относительно группы A\")\n",
    "\n",
    "\n",
    "\n",
    "plt.axhline(y=0, color='black', linestyle='--')\n",
    "plt.axhline(y=0.12, color='grey', linestyle='--')\n",
    "\n",
    "plt.title('График относительного изменения кумулятивной конверсии группы B к группе A')\n",
    "plt.xlabel('Дни')\n",
    "plt.ylabel('Отношение В к А')\n",
    "plt.xticks(rotation=-45)\n",
    "\n",
    "plt.show;"
   ]
  },
  {
   "cell_type": "markdown",
   "metadata": {},
   "source": [
    "В начале теста группа B проигрывала группе A, затем вырвалась вперёд. В дальнейшим конверсия группы B была выше более чем на 12%.\n",
    "\n",
    "В целом отношение конверсии ещё не установилось, и сейчас делать какие-либо выводы по тесту нельзя. Впрочем, сперва стоит проанализировать аномалии, возможно, они изменят картину."
   ]
  },
  {
   "cell_type": "markdown",
   "metadata": {},
   "source": [
    "### Построим точечный график количества заказов по пользователям. Сделаем выводы и предположения."
   ]
  },
  {
   "cell_type": "code",
   "execution_count": 17,
   "metadata": {},
   "outputs": [
    {
     "data": {
      "image/png": "[encoded data removed]",
      "text/plain": [
       "<Figure size 432x288 with 1 Axes>"
      ]
     },
     "metadata": {
      "needs_background": "light"
     },
     "output_type": "display_data"
    }
   ],
   "source": [
    "ordersByUsers = (\n",
    "    orders.groupby('userId', as_index=False)\n",
    "    .agg({'orderId': 'nunique'})\n",
    ")\n",
    "ordersByUsers.columns = ['userId', 'orders']\n",
    "\n",
    "x_values = pd.Series(range(0,len(ordersByUsers)))\n",
    "\n",
    "plt.scatter(x_values, ordersByUsers['orders'])\n",
    "\n",
    "plt.title('Точечный график количества заказов по пользователям')\n",
    "plt.xlabel('Пользователи')\n",
    "plt.ylabel('Заказы')\n",
    "\n",
    "plt.show;"
   ]
  },
  {
   "cell_type": "markdown",
   "metadata": {},
   "source": [
    "Много пользователей с 2 заказами. Есть пользователи и с 3 заказами. Их точная доля не ясна — непонятно, считать их аномалиями или нет."
   ]
  },
  {
   "cell_type": "markdown",
   "metadata": {},
   "source": [
    "### Посчитаем 95-й и 99-й перцентили количества заказов на пользователя. Выберем границу для определения аномальных пользователей."
   ]
  },
  {
   "cell_type": "code",
   "execution_count": 18,
   "metadata": {},
   "outputs": [
    {
     "name": "stdout",
     "output_type": "stream",
     "text": [
      "[1. 1. 2.]\n"
     ]
    }
   ],
   "source": [
    "print(np.percentile(ordersByUsers['orders'], [90, 95, 99]))"
   ]
  },
  {
   "cell_type": "markdown",
   "metadata": {},
   "source": [
    "Не более 5% пользователей оформляли больше чем 1 заказ. И не  более 1% пользователей оформляли больше чем 2 заказа.\n",
    "\n",
    "Определим, что больше 1 заказа будет как граница для определения аномальных пользователей."
   ]
  },
  {
   "cell_type": "code",
   "execution_count": 19,
   "metadata": {},
   "outputs": [],
   "source": [
    "ordersByUsers_95 = np.percentile(ordersByUsers['orders'], 95)"
   ]
  },
  {
   "cell_type": "markdown",
   "metadata": {},
   "source": [
    "### Построим точечный график стоимостей заказов. Сделаем выводы и предположения."
   ]
  },
  {
   "cell_type": "code",
   "execution_count": 20,
   "metadata": {},
   "outputs": [
    {
     "data": {
      "image/png": "[encoded data removed]",
      "text/plain": [
       "<Figure size 432x288 with 1 Axes>"
      ]
     },
     "metadata": {
      "needs_background": "light"
     },
     "output_type": "display_data"
    }
   ],
   "source": [
    "x_values = pd.Series(range(0,len(orders['revenue'])))\n",
    "plt.scatter(x_values, orders['revenue'])\n",
    "\n",
    "plt.title('Точечный график стоимости заказов')\n",
    "plt.xlabel('Пользователи')\n",
    "plt.ylabel('Стоимость')\n",
    "\n",
    "plt.show;"
   ]
  },
  {
   "cell_type": "markdown",
   "metadata": {},
   "source": [
    "Из-за одного явного выброса все значения слились в одну прямую. Нарисуем еще график ограничив стоимость заказа в 200000. "
   ]
  },
  {
   "cell_type": "code",
   "execution_count": 21,
   "metadata": {},
   "outputs": [
    {
     "data": {
      "image/png": "[encoded data removed]",
      "text/plain": [
       "<Figure size 432x288 with 1 Axes>"
      ]
     },
     "metadata": {
      "needs_background": "light"
     },
     "output_type": "display_data"
    }
   ],
   "source": [
    "x_values = pd.Series(range(0,len(orders['revenue'][orders['revenue'] < 200000])))\n",
    "plt.scatter(x_values, orders['revenue'][orders['revenue'] < 200000])\n",
    "\n",
    "plt.title('Точечный график стоимости заказов')\n",
    "plt.xlabel('Пользователи')\n",
    "plt.ylabel('Стоимость')\n",
    "\n",
    "plt.show;"
   ]
  },
  {
   "cell_type": "markdown",
   "metadata": {},
   "source": [
    "Дорогих заказов не так уж и мало.Их надо отсечь выбрав границу аномальных заказов."
   ]
  },
  {
   "cell_type": "markdown",
   "metadata": {},
   "source": [
    "### Посчитаем 95-й и 99-й перцентили стоимости заказов. Выберем границу для определения аномальных заказов."
   ]
  },
  {
   "cell_type": "code",
   "execution_count": 22,
   "metadata": {},
   "outputs": [
    {
     "name": "stdout",
     "output_type": "stream",
     "text": [
      "[17990. 26785. 53904.]\n"
     ]
    }
   ],
   "source": [
    "print(np.percentile(orders['revenue'], [90, 95, 99]))"
   ]
  },
  {
   "cell_type": "markdown",
   "metadata": {},
   "source": [
    "Не более 5% заказов дороже 26785 рублей и не более 1% дороже 53904 рублей.\n",
    "\n",
    "26785 рублей выберем как границу для определения аномальных заказов."
   ]
  },
  {
   "cell_type": "code",
   "execution_count": 23,
   "metadata": {},
   "outputs": [],
   "source": [
    "orders_95 = np.percentile(orders['revenue'], 95)"
   ]
  },
  {
   "cell_type": "markdown",
   "metadata": {},
   "source": [
    "### Посчитаем статистическую значимость различий в конверсии между группами по «сырым» данным. Сделаем выводы и предположения."
   ]
  },
  {
   "cell_type": "markdown",
   "metadata": {},
   "source": [
    "Подготовим данные"
   ]
  },
  {
   "cell_type": "code",
   "execution_count": 24,
   "metadata": {},
   "outputs": [],
   "source": [
    "visitorsADaily = visitors[visitors['group'] == 'A'][['date', 'visitors']]\n",
    "visitorsADaily.columns = ['date', 'visitorsPerDateA']\n",
    "\n",
    "visitorsACummulative = visitorsADaily.apply(\n",
    "    lambda x: visitorsADaily[visitorsADaily['date'] <= x['date']].agg(\n",
    "        {'date': 'max', 'visitorsPerDateA': 'sum'}\n",
    "    ),\n",
    "    axis=1,\n",
    ")\n",
    "visitorsACummulative.columns = ['date', 'visitorsCummulativeA']\n",
    "\n",
    "visitorsBDaily = visitors[visitors['group'] == 'B'][['date', 'visitors']]\n",
    "visitorsBDaily.columns = ['date', 'visitorsPerDateB']\n",
    "\n",
    "visitorsBCummulative = visitorsBDaily.apply(\n",
    "    lambda x: visitorsBDaily[visitorsBDaily['date'] <= x['date']].agg(\n",
    "        {'date': 'max', 'visitorsPerDateB': 'sum'}\n",
    "    ),\n",
    "    axis=1,\n",
    ")\n",
    "visitorsBCummulative.columns = ['date', 'visitorsCummulativeB']\n",
    "\n",
    "ordersADaily = (\n",
    "    orders[orders['group'] == 'A'][['date', 'orderId', 'userId', 'revenue']]\n",
    "    .groupby('date', as_index=False)\n",
    "    .agg({'orderId': pd.Series.nunique, 'revenue': 'sum'})\n",
    ")\n",
    "ordersADaily.columns = ['date', 'ordersPerDateA', 'revenuePerDateA']\n",
    "\n",
    "ordersACummulative = ordersADaily.apply(\n",
    "    lambda x: ordersADaily[ordersADaily['date'] <= x['date']].agg(\n",
    "        {'date': 'max', 'ordersPerDateA': 'sum', 'revenuePerDateA': 'sum'}\n",
    "    ),\n",
    "    axis=1,\n",
    ").sort_values(by=['date'])\n",
    "ordersACummulative.columns = [\n",
    "    'date',\n",
    "    'ordersCummulativeA',\n",
    "    'revenueCummulativeA',\n",
    "]\n",
    "\n",
    "ordersBDaily = (\n",
    "    orders[orders['group'] == 'B'][['date', 'orderId', 'userId', 'revenue']]\n",
    "    .groupby('date', as_index=False)\n",
    "    .agg({'orderId': pd.Series.nunique, 'revenue': 'sum'})\n",
    ")\n",
    "ordersBDaily.columns = ['date', 'ordersPerDateB', 'revenuePerDateB']\n",
    "\n",
    "ordersBCummulative = ordersBDaily.apply(\n",
    "    lambda x: ordersBDaily[ordersBDaily['date'] <= x['date']].agg(\n",
    "        {'date': 'max', 'ordersPerDateB': 'sum', 'revenuePerDateB': 'sum'}\n",
    "    ),\n",
    "    axis=1,\n",
    ").sort_values(by=['date'])\n",
    "ordersBCummulative.columns = [\n",
    "    'date',\n",
    "    'ordersCummulativeB',\n",
    "    'revenueCummulativeB',\n",
    "]\n",
    "\n",
    "data = (\n",
    "    ordersADaily.merge(\n",
    "        ordersBDaily, left_on='date', right_on='date', how='left'\n",
    "    )\n",
    "    .merge(ordersACummulative, left_on='date', right_on='date', how='left')\n",
    "    .merge(ordersBCummulative, left_on='date', right_on='date', how='left')\n",
    "    .merge(visitorsADaily, left_on='date', right_on='date', how='left')\n",
    "    .merge(visitorsBDaily, left_on='date', right_on='date', how='left')\n",
    "    .merge(visitorsACummulative, left_on='date', right_on='date', how='left')\n",
    "    .merge(visitorsBCummulative, left_on='date', right_on='date', how='left')\n",
    ")\n",
    "\n",
    "#print(data.head(5))"
   ]
  },
  {
   "cell_type": "markdown",
   "metadata": {},
   "source": [
    "Создадим переменные ordersByUsersA и ordersByUsersB со столбцами ['userId', 'orders']. В них для пользователей, которые заказывали хотя бы 1 раз, укажем число совершённых заказов."
   ]
  },
  {
   "cell_type": "code",
   "execution_count": 25,
   "metadata": {},
   "outputs": [],
   "source": [
    "ordersByUsersA = (\n",
    "    orders[orders['group'] == 'A']\n",
    "    .groupby('userId', as_index=False)\n",
    "    .agg({'orderId': pd.Series.nunique})\n",
    ")\n",
    "ordersByUsersA.columns = ['userId', 'orders']\n",
    "\n",
    "ordersByUsersB = (\n",
    "    orders[orders['group'] == 'B']\n",
    "    .groupby('userId', as_index=False)\n",
    "    .agg({'orderId': pd.Series.nunique})\n",
    ")\n",
    "ordersByUsersB.columns = ['userId', 'orders'] "
   ]
  },
  {
   "cell_type": "markdown",
   "metadata": {},
   "source": [
    "Объявим переменные sampleA и sampleB, в которых пользователям из разных групп будет соответствовать количество заказов. Тем, кто ничего не заказал, будут соответствовать нули. Это нужно, чтобы подготовить выборки к проверке критерием Манна-Уитни."
   ]
  },
  {
   "cell_type": "code",
   "execution_count": 26,
   "metadata": {},
   "outputs": [],
   "source": [
    "sampleA = pd.concat([ordersByUsersA['orders'],\n",
    "                    pd.Series(0, index=np.arange(data['visitorsPerDateA'].sum() - \n",
    "                                                 len(ordersByUsersA['orders'])),\n",
    "                                                      name='orders', ), ], axis=0,)\n",
    "\n",
    "sampleB = pd.concat([ordersByUsersB['orders'],\n",
    "                    pd.Series(0, index=np.arange(data['visitorsPerDateB'].sum() - \n",
    "                                                 len(ordersByUsersB['orders'])),\n",
    "                                                      name='orders', ), ], axis=0,)"
   ]
  },
  {
   "cell_type": "markdown",
   "metadata": {},
   "source": [
    "Сформулируем гипотезы.\n",
    "\n",
    "    Нулевая: различий в конверсии между группами нет. \n",
    "    Альтернативная: различия в конверсии между группами есть."
   ]
  },
  {
   "cell_type": "code",
   "execution_count": 27,
   "metadata": {},
   "outputs": [
    {
     "name": "stdout",
     "output_type": "stream",
     "text": [
      "p-value: 0.011\n",
      "0.160\n"
     ]
    }
   ],
   "source": [
    "# p-value\n",
    "print('p-value:',\"{0:.3f}\".format(stats.mannwhitneyu(sampleA, sampleB)[1]))\n",
    "\n",
    "# относительный прирост конверсии группы B\n",
    "print(\"{0:.3f}\".format(sampleB.mean() / sampleA.mean() - 1))"
   ]
  },
  {
   "cell_type": "markdown",
   "metadata": {},
   "source": [
    "Выводы:\n",
    "\n",
    "p-value = 0.011 меньше 5%. Значит, нулевую гипотезу о том, что статистически значимых различий в конверсии между группами нет, отвергаем. Принимаем альтернативную: различия в конверсии между группами есть.\n",
    "\n",
    "Относительный выигрыш группы B равен 16%"
   ]
  },
  {
   "cell_type": "markdown",
   "metadata": {},
   "source": [
    "### Посчитайте статистическую значимость различий в среднем чеке заказа между группами по «сырым» данным."
   ]
  },
  {
   "cell_type": "markdown",
   "metadata": {},
   "source": [
    "Сформируем гипотезы.\n",
    "\n",
    "Нулевая гипотеза: различий в среднем чеке между группами нет. \n",
    "Альтернативная гипотеза: различия в среднем чеке между группами есть."
   ]
  },
  {
   "cell_type": "code",
   "execution_count": 28,
   "metadata": {},
   "outputs": [
    {
     "name": "stdout",
     "output_type": "stream",
     "text": [
      "p-value: 0.829\n",
      "0.287\n"
     ]
    }
   ],
   "source": [
    "print('p-value:', '{0:.3f}'.format(stats.mannwhitneyu(orders[orders['group']=='A']['revenue'], orders[orders['group']=='B']['revenue'])[1]))\n",
    "\n",
    "print('{0:.3f}'.format(orders[orders['group']=='B']['revenue'].mean()/orders[orders['group']=='A']['revenue'].mean()-1)) "
   ]
  },
  {
   "cell_type": "markdown",
   "metadata": {},
   "source": [
    "Вывод\n",
    "\n",
    "P-value значительно больше 0.05. Значит, причин отвергать нулевую гипотезу и считать, что в среднем чеке есть различия, нет.\n",
    "Средний чек группы B значительно выше (на 28.7%) среднего чека группы A."
   ]
  },
  {
   "cell_type": "markdown",
   "metadata": {},
   "source": [
    "**Очистим данные по выставленным ранее границам.**"
   ]
  },
  {
   "cell_type": "code",
   "execution_count": 29,
   "metadata": {},
   "outputs": [
    {
     "name": "stdout",
     "output_type": "stream",
     "text": [
      "Число заказов более: 1.0\n",
      "Сумма заказа более: 26785.0\n"
     ]
    }
   ],
   "source": [
    "print('Число заказов более:', ordersByUsers_95)\n",
    "print('Сумма заказа более:', orders_95)"
   ]
  },
  {
   "cell_type": "code",
   "execution_count": 30,
   "metadata": {},
   "outputs": [
    {
     "name": "stdout",
     "output_type": "stream",
     "text": [
      "86\n"
     ]
    }
   ],
   "source": [
    "usersWithManyOrders = pd.concat(\n",
    "    [\n",
    "        ordersByUsersA[ordersByUsersA['orders'] > ordersByUsers_95]['userId'],\n",
    "        ordersByUsersB[ordersByUsersB['orders'] > ordersByUsers_95]['userId'],\n",
    "    ],\n",
    "    axis=0,\n",
    ")\n",
    "usersWithExpensiveOrders = orders[orders['revenue'] > orders_95]['userId']\n",
    "abnormalUsers = (\n",
    "    pd.concat([usersWithManyOrders, usersWithExpensiveOrders], axis=0)\n",
    "    .drop_duplicates()\n",
    "    .sort_values()\n",
    ")\n",
    "\n",
    "print(abnormalUsers.shape[0]) "
   ]
  },
  {
   "cell_type": "markdown",
   "metadata": {},
   "source": [
    "Аномальных пользователей 86 человек. Удалим их и проведем исследование по очищенным данным."
   ]
  },
  {
   "cell_type": "markdown",
   "metadata": {},
   "source": [
    "### Посчитаем статистическую значимость различий в конверсии между группами по «очищенным» данным. Сделаем выводы и предположения."
   ]
  },
  {
   "cell_type": "markdown",
   "metadata": {},
   "source": [
    "Подготовим данные"
   ]
  },
  {
   "cell_type": "code",
   "execution_count": 31,
   "metadata": {},
   "outputs": [],
   "source": [
    "sampleAFiltered = pd.concat([ordersByUsersA[\n",
    "                            np.logical_not(ordersByUsersA['userId']\n",
    "                              .isin(abnormalUsers))]['orders'],\n",
    "                                    pd.Series(0, index=np.arange(\n",
    "                                        data['visitorsPerDateA'].sum() - \n",
    "                                            len(ordersByUsersA['orders'])),\n",
    "                                                name='orders', ), ], axis=0,)\n",
    "\n",
    "sampleBFiltered = pd.concat([ordersByUsersB[\n",
    "                            np.logical_not(ordersByUsersB['userId']\n",
    "                              .isin(abnormalUsers))]['orders'],\n",
    "                                    pd.Series(0, index=np.arange(\n",
    "                                        data['visitorsPerDateB'].sum() - \n",
    "                                            len(ordersByUsersB['orders'])),\n",
    "                                                name='orders', ), ], axis=0,) "
   ]
  },
  {
   "cell_type": "markdown",
   "metadata": {},
   "source": [
    "Сформулируем гипотезы.\n",
    "\n",
    "    Нулевая: различий в конверсии между группами нет. \n",
    "    Альтернативная: различия в конверсии между группами есть."
   ]
  },
  {
   "cell_type": "markdown",
   "metadata": {},
   "source": [
    "Применим статистический критерий Манна-Уитни к полученным выборкам:"
   ]
  },
  {
   "cell_type": "code",
   "execution_count": 32,
   "metadata": {},
   "outputs": [
    {
     "name": "stdout",
     "output_type": "stream",
     "text": [
      "p-value: 0.016\n",
      "0.174\n"
     ]
    }
   ],
   "source": [
    "# p-value\n",
    "print('p-value: ''{0:.3f}'.format(stats.mannwhitneyu(sampleAFiltered, sampleBFiltered)[1]))\n",
    "\n",
    "# относительный прирост конверсии группы B\n",
    "print('{0:.3f}'.format(sampleBFiltered.mean()/sampleAFiltered.mean()-1))  "
   ]
  },
  {
   "cell_type": "markdown",
   "metadata": {},
   "source": [
    "Вывод\n",
    "\n",
    "p-value = 0.016 меньше 5%. Значит, нулевую гипотезу о том, что статистически значимых различий в конверсии между группами нет, отвергаем. Принимаем альтернативную: различия в конверсии между группами есть.\n",
    "\n",
    "По \"сырым\" данным p-value было 0.011, теперь стало 0.016.\n",
    "Прирост конверсии группы В по \"сырым\" данным было 0.160, а стало 0.174.\n",
    "После \"очищения\" данных прирост конверсии группы В изменился незначительно."
   ]
  },
  {
   "cell_type": "markdown",
   "metadata": {},
   "source": [
    "### Посчитайте статистическую значимость различий в среднем чеке заказа между группами по «очищенным» данным. Сделайте выводы и предположения."
   ]
  },
  {
   "cell_type": "markdown",
   "metadata": {},
   "source": [
    "Сформируем гипотезы.\n",
    "\n",
    "    Нулевая гипотеза: различий в среднем чеке между группами нет. \n",
    "    Альтернативная гипотеза: различия в среднем чеке между группами есть."
   ]
  },
  {
   "cell_type": "code",
   "execution_count": 33,
   "metadata": {},
   "outputs": [
    {
     "name": "stdout",
     "output_type": "stream",
     "text": [
      "p-value: 0.727\n",
      "-0.034\n"
     ]
    }
   ],
   "source": [
    "print('p-value:', \n",
    "      '{0:.3f}'.format(stats.mannwhitneyu(\n",
    "                        orders[np.logical_and(orders['group'] == 'A',\n",
    "                               np.logical_not(orders['userId'].isin(abnormalUsers)),)]['revenue'], orders[np.logical_and(orders['group'] == 'B',\n",
    "                               np.logical_not(orders['userId'].isin(abnormalUsers)),)]['revenue'],\n",
    "                        )\n",
    "            [1])\n",
    ")\n",
    "\n",
    "print(\"{0:.3f}\".format(orders[np.logical_and(orders['group'] == 'B',\n",
    "                              np.logical_not(orders['userId']\n",
    "                                .isin(abnormalUsers)),)]['revenue'].mean()\n",
    "                     / orders[np.logical_and(orders['group'] == 'A',\n",
    "                              np.logical_not(orders['userId']\n",
    "                                .isin(abnormalUsers)),)]['revenue'].mean()\n",
    "        - 1)\n",
    ") "
   ]
  },
  {
   "cell_type": "markdown",
   "metadata": {},
   "source": [
    "Вывод\n",
    "\n",
    "P-value значительно больше 0.05. Значит, причин отвергать нулевую гипотезу и считать, что в среднем чеке есть различия, нет.\n",
    "\n",
    "P-value по \"сырым\" данным был 0.829, а стал 0.727. После очищения разница между сегментами сократилась с 28.7% до - 3.4%."
   ]
  },
  {
   "cell_type": "markdown",
   "metadata": {},
   "source": [
    "### Примим решение по результатам теста и объясним его.\n",
    "\n",
    "    Варианты решений: \n",
    "    1. Остановить тест, зафиксировать победу одной из групп.\n",
    "    2. Остановить тест, зафиксировать отсутствие различий между группами. \n",
    "    3. Продолжить тест."
   ]
  },
  {
   "cell_type": "markdown",
   "metadata": {},
   "source": [
    "По результатам теста принимаем решение остановить тест и объявить победителем группу В. \n",
    "\n",
    "   * Есть устойчивое статистически значимое различие по конверсии между группами как по «сырым», так и по данным после фильтрации аномалий;\n",
    "   * Нет статистически значимого различия по среднему чеку между группами ни по «сырым», ни по данным после фильтрации аномалий, однако после очищения, разница между группами сократилась на 32,1% и составила - 3.4%.\n"
   ]
  }
 ],
 "metadata": {
  "ExecuteTimeLog": [
   {
    "duration": 69,
    "start_time": "2022-05-15T19:58:20.341Z"
   },
   {
    "duration": 1090,
    "start_time": "2022-05-15T19:58:29.728Z"
   },
   {
    "duration": 34,
    "start_time": "2022-05-15T19:58:32.297Z"
   },
   {
    "duration": 19,
    "start_time": "2022-05-15T20:10:52.486Z"
   },
   {
    "duration": 15,
    "start_time": "2022-05-15T20:14:37.156Z"
   },
   {
    "duration": 11,
    "start_time": "2022-05-15T20:16:14.480Z"
   },
   {
    "duration": 12,
    "start_time": "2022-05-15T20:17:03.016Z"
   },
   {
    "duration": 17,
    "start_time": "2022-05-15T20:17:24.457Z"
   },
   {
    "duration": 51,
    "start_time": "2022-05-15T20:30:43.665Z"
   },
   {
    "duration": 44,
    "start_time": "2022-05-15T20:30:56.253Z"
   },
   {
    "duration": 483,
    "start_time": "2022-05-15T20:33:40.818Z"
   },
   {
    "duration": 18,
    "start_time": "2022-05-15T20:34:26.847Z"
   },
   {
    "duration": 20,
    "start_time": "2022-05-15T20:35:26.906Z"
   },
   {
    "duration": 540,
    "start_time": "2022-05-15T20:47:50.558Z"
   },
   {
    "duration": 115,
    "start_time": "2022-05-15T20:55:07.650Z"
   },
   {
    "duration": 56,
    "start_time": "2022-05-15T20:57:24.488Z"
   },
   {
    "duration": 59,
    "start_time": "2022-05-15T21:10:05.079Z"
   },
   {
    "duration": 453,
    "start_time": "2022-05-15T21:10:37.349Z"
   },
   {
    "duration": 382,
    "start_time": "2022-05-15T21:10:43.476Z"
   },
   {
    "duration": 319,
    "start_time": "2022-05-15T21:11:56.740Z"
   },
   {
    "duration": 227,
    "start_time": "2022-05-15T21:12:17.251Z"
   },
   {
    "duration": 260,
    "start_time": "2022-05-15T21:14:14.467Z"
   },
   {
    "duration": 353,
    "start_time": "2022-05-15T21:15:30.238Z"
   },
   {
    "duration": 272,
    "start_time": "2022-05-15T21:24:48.470Z"
   },
   {
    "duration": 331,
    "start_time": "2022-05-15T21:24:59.832Z"
   },
   {
    "duration": 462,
    "start_time": "2022-05-15T21:25:24.671Z"
   },
   {
    "duration": 260,
    "start_time": "2022-05-15T21:26:33.180Z"
   },
   {
    "duration": 269,
    "start_time": "2022-05-15T21:29:27.002Z"
   },
   {
    "duration": 347,
    "start_time": "2022-05-15T21:29:53.949Z"
   },
   {
    "duration": 107,
    "start_time": "2022-05-15T21:30:41.039Z"
   },
   {
    "duration": 267,
    "start_time": "2022-05-15T21:31:11.797Z"
   },
   {
    "duration": 269,
    "start_time": "2022-05-15T21:31:50.631Z"
   },
   {
    "duration": 374,
    "start_time": "2022-05-15T21:32:05.604Z"
   },
   {
    "duration": 269,
    "start_time": "2022-05-15T21:33:33.164Z"
   },
   {
    "duration": 258,
    "start_time": "2022-05-15T21:33:58.311Z"
   },
   {
    "duration": 460,
    "start_time": "2022-05-15T21:35:53.671Z"
   },
   {
    "duration": 261,
    "start_time": "2022-05-15T21:35:56.208Z"
   },
   {
    "duration": 359,
    "start_time": "2022-05-15T21:40:34.469Z"
   },
   {
    "duration": 404,
    "start_time": "2022-05-15T21:45:10.054Z"
   },
   {
    "duration": 288,
    "start_time": "2022-05-15T21:48:59.862Z"
   },
   {
    "duration": 43,
    "start_time": "2022-05-15T21:50:48.548Z"
   },
   {
    "duration": 310,
    "start_time": "2022-05-15T21:52:06.915Z"
   },
   {
    "duration": 300,
    "start_time": "2022-05-15T21:52:28.062Z"
   },
   {
    "duration": 301,
    "start_time": "2022-05-15T21:53:38.870Z"
   },
   {
    "duration": 289,
    "start_time": "2022-05-15T21:56:35.278Z"
   },
   {
    "duration": 46,
    "start_time": "2022-05-15T22:03:02.376Z"
   },
   {
    "duration": 361,
    "start_time": "2022-05-15T22:09:26.578Z"
   },
   {
    "duration": 1551,
    "start_time": "2022-05-15T22:19:54.502Z"
   },
   {
    "duration": 17,
    "start_time": "2022-05-15T22:20:14.204Z"
   },
   {
    "duration": 1496,
    "start_time": "2022-05-15T22:22:32.788Z"
   },
   {
    "duration": 1575,
    "start_time": "2022-05-15T22:24:14.335Z"
   },
   {
    "duration": 16,
    "start_time": "2022-05-15T22:24:39.140Z"
   },
   {
    "duration": 1630,
    "start_time": "2022-05-15T22:26:16.437Z"
   },
   {
    "duration": 1757,
    "start_time": "2022-05-15T22:26:50.565Z"
   },
   {
    "duration": 8,
    "start_time": "2022-05-15T22:27:11.597Z"
   },
   {
    "duration": 110,
    "start_time": "2022-05-15T22:27:39.241Z"
   },
   {
    "duration": 28,
    "start_time": "2022-05-15T22:27:57.117Z"
   },
   {
    "duration": 16,
    "start_time": "2022-05-15T22:28:52.645Z"
   },
   {
    "duration": 24,
    "start_time": "2022-05-15T22:29:02.734Z"
   },
   {
    "duration": 23,
    "start_time": "2022-05-15T22:30:16.482Z"
   },
   {
    "duration": 24,
    "start_time": "2022-05-15T22:30:40.476Z"
   },
   {
    "duration": 11,
    "start_time": "2022-05-15T22:34:11.833Z"
   },
   {
    "duration": 21,
    "start_time": "2022-05-15T22:35:29.336Z"
   },
   {
    "duration": 26,
    "start_time": "2022-05-15T22:35:52.754Z"
   },
   {
    "duration": 25,
    "start_time": "2022-05-15T22:37:46.338Z"
   },
   {
    "duration": 20,
    "start_time": "2022-05-15T22:38:18.915Z"
   },
   {
    "duration": 1904,
    "start_time": "2022-05-16T17:22:26.187Z"
   },
   {
    "duration": 86,
    "start_time": "2022-05-16T17:22:28.094Z"
   },
   {
    "duration": 16,
    "start_time": "2022-05-16T17:22:28.182Z"
   },
   {
    "duration": 13,
    "start_time": "2022-05-16T17:22:28.200Z"
   },
   {
    "duration": 64,
    "start_time": "2022-05-16T17:22:28.216Z"
   },
   {
    "duration": 57,
    "start_time": "2022-05-16T17:22:33.313Z"
   },
   {
    "duration": 6,
    "start_time": "2022-05-16T17:22:34.477Z"
   },
   {
    "duration": 24,
    "start_time": "2022-05-16T17:22:42.082Z"
   },
   {
    "duration": 243,
    "start_time": "2022-05-16T19:22:55.189Z"
   },
   {
    "duration": 2056,
    "start_time": "2022-05-16T19:23:59.954Z"
   },
   {
    "duration": 1512,
    "start_time": "2022-05-16T19:24:52.941Z"
   },
   {
    "duration": 86,
    "start_time": "2022-05-16T19:24:54.456Z"
   },
   {
    "duration": 17,
    "start_time": "2022-05-16T19:24:54.553Z"
   },
   {
    "duration": 20,
    "start_time": "2022-05-16T19:24:54.573Z"
   },
   {
    "duration": 56,
    "start_time": "2022-05-16T19:24:54.595Z"
   },
   {
    "duration": 6,
    "start_time": "2022-05-16T19:24:54.653Z"
   },
   {
    "duration": 1724,
    "start_time": "2022-05-16T19:25:06.310Z"
   },
   {
    "duration": 23,
    "start_time": "2022-05-16T19:25:20.332Z"
   },
   {
    "duration": 26,
    "start_time": "2022-05-16T19:25:52.136Z"
   },
   {
    "duration": 20,
    "start_time": "2022-05-16T19:26:48.661Z"
   },
   {
    "duration": 28,
    "start_time": "2022-05-16T19:27:06.178Z"
   },
   {
    "duration": 27,
    "start_time": "2022-05-16T19:27:33.344Z"
   },
   {
    "duration": 23,
    "start_time": "2022-05-16T19:27:50.776Z"
   },
   {
    "duration": 6,
    "start_time": "2022-05-16T19:28:41.855Z"
   },
   {
    "duration": 29,
    "start_time": "2022-05-16T19:30:27.866Z"
   },
   {
    "duration": 14,
    "start_time": "2022-05-16T19:31:21.571Z"
   },
   {
    "duration": 24,
    "start_time": "2022-05-16T19:31:33.617Z"
   },
   {
    "duration": 6,
    "start_time": "2022-05-16T19:33:44.686Z"
   },
   {
    "duration": 11,
    "start_time": "2022-05-16T19:33:54.978Z"
   },
   {
    "duration": 17,
    "start_time": "2022-05-16T19:34:04.510Z"
   },
   {
    "duration": 17,
    "start_time": "2022-05-16T19:50:16.079Z"
   },
   {
    "duration": 21,
    "start_time": "2022-05-16T19:50:22.079Z"
   },
   {
    "duration": 116,
    "start_time": "2022-05-16T19:50:50.844Z"
   },
   {
    "duration": 152,
    "start_time": "2022-05-16T19:51:00.833Z"
   },
   {
    "duration": 115,
    "start_time": "2022-05-16T19:51:13.160Z"
   },
   {
    "duration": 17,
    "start_time": "2022-05-16T19:51:20.732Z"
   },
   {
    "duration": 4,
    "start_time": "2022-05-16T19:51:56.633Z"
   },
   {
    "duration": 8,
    "start_time": "2022-05-16T19:52:08.674Z"
   },
   {
    "duration": 12,
    "start_time": "2022-05-16T19:55:22.122Z"
   },
   {
    "duration": 43,
    "start_time": "2022-05-16T19:56:29.307Z"
   },
   {
    "duration": 6,
    "start_time": "2022-05-16T19:56:34.212Z"
   },
   {
    "duration": 20,
    "start_time": "2022-05-16T19:56:38.336Z"
   },
   {
    "duration": 37,
    "start_time": "2022-05-16T19:56:42.693Z"
   },
   {
    "duration": 23,
    "start_time": "2022-05-16T19:57:41.383Z"
   },
   {
    "duration": 19,
    "start_time": "2022-05-16T19:57:59.560Z"
   },
   {
    "duration": 8,
    "start_time": "2022-05-16T20:00:15.297Z"
   },
   {
    "duration": 22,
    "start_time": "2022-05-16T20:01:09.452Z"
   },
   {
    "duration": 20,
    "start_time": "2022-05-16T20:01:47.583Z"
   },
   {
    "duration": 17,
    "start_time": "2022-05-16T20:02:41.328Z"
   },
   {
    "duration": 49,
    "start_time": "2022-05-16T20:04:15.107Z"
   },
   {
    "duration": 5,
    "start_time": "2022-05-16T20:04:18.982Z"
   },
   {
    "duration": 30,
    "start_time": "2022-05-16T20:04:44.003Z"
   },
   {
    "duration": 27,
    "start_time": "2022-05-16T20:05:21.053Z"
   },
   {
    "duration": 21,
    "start_time": "2022-05-16T20:06:29.679Z"
   },
   {
    "duration": 21,
    "start_time": "2022-05-16T20:07:28.722Z"
   },
   {
    "duration": 14,
    "start_time": "2022-05-16T20:08:25.561Z"
   },
   {
    "duration": 14,
    "start_time": "2022-05-16T20:09:06.401Z"
   },
   {
    "duration": 14,
    "start_time": "2022-05-16T20:11:46.040Z"
   },
   {
    "duration": 15,
    "start_time": "2022-05-16T20:12:03.440Z"
   },
   {
    "duration": 15,
    "start_time": "2022-05-16T20:17:10.249Z"
   },
   {
    "duration": 11,
    "start_time": "2022-05-16T20:17:47.666Z"
   },
   {
    "duration": 143,
    "start_time": "2022-05-16T20:18:34.176Z"
   },
   {
    "duration": 15,
    "start_time": "2022-05-16T20:19:07.523Z"
   },
   {
    "duration": 127,
    "start_time": "2022-05-16T20:20:53.028Z"
   },
   {
    "duration": 8,
    "start_time": "2022-05-16T20:21:02.545Z"
   },
   {
    "duration": 22,
    "start_time": "2022-05-16T20:32:51.872Z"
   },
   {
    "duration": 13,
    "start_time": "2022-05-16T20:33:39.913Z"
   },
   {
    "duration": 22,
    "start_time": "2022-05-16T20:33:49.309Z"
   },
   {
    "duration": 64,
    "start_time": "2022-05-16T20:40:34.504Z"
   },
   {
    "duration": 6,
    "start_time": "2022-05-16T20:40:37.236Z"
   },
   {
    "duration": 28,
    "start_time": "2022-05-16T20:40:42.006Z"
   },
   {
    "duration": 11,
    "start_time": "2022-05-16T20:40:49.376Z"
   },
   {
    "duration": 19,
    "start_time": "2022-05-16T20:41:21.554Z"
   },
   {
    "duration": 21,
    "start_time": "2022-05-16T20:43:20.856Z"
   },
   {
    "duration": 46,
    "start_time": "2022-05-16T20:43:48.426Z"
   },
   {
    "duration": 21,
    "start_time": "2022-05-16T20:45:46.885Z"
   },
   {
    "duration": 21,
    "start_time": "2022-05-16T20:45:52.722Z"
   },
   {
    "duration": 24,
    "start_time": "2022-05-16T20:49:10.266Z"
   },
   {
    "duration": 33,
    "start_time": "2022-05-16T20:50:31.867Z"
   },
   {
    "duration": 19,
    "start_time": "2022-05-16T20:50:40.151Z"
   },
   {
    "duration": 50,
    "start_time": "2022-05-16T20:55:25.265Z"
   },
   {
    "duration": 6,
    "start_time": "2022-05-16T20:55:26.455Z"
   },
   {
    "duration": 27,
    "start_time": "2022-05-16T20:55:28.213Z"
   },
   {
    "duration": 28,
    "start_time": "2022-05-16T20:55:31.750Z"
   },
   {
    "duration": 14,
    "start_time": "2022-05-16T20:55:41.604Z"
   },
   {
    "duration": 21,
    "start_time": "2022-05-16T20:56:40.312Z"
   },
   {
    "duration": 24,
    "start_time": "2022-05-16T20:57:03.336Z"
   },
   {
    "duration": 20,
    "start_time": "2022-05-16T21:00:58.444Z"
   },
   {
    "duration": 24,
    "start_time": "2022-05-16T21:03:07.303Z"
   },
   {
    "duration": 33,
    "start_time": "2022-05-16T21:03:26.548Z"
   },
   {
    "duration": 17,
    "start_time": "2022-05-16T21:04:15.505Z"
   },
   {
    "duration": 47,
    "start_time": "2022-05-16T21:04:32.867Z"
   },
   {
    "duration": 5,
    "start_time": "2022-05-16T21:04:33.419Z"
   },
   {
    "duration": 19,
    "start_time": "2022-05-16T21:04:35.386Z"
   },
   {
    "duration": 22,
    "start_time": "2022-05-16T21:04:38.574Z"
   },
   {
    "duration": 10,
    "start_time": "2022-05-16T21:06:16.589Z"
   },
   {
    "duration": 11,
    "start_time": "2022-05-16T21:06:25.537Z"
   },
   {
    "duration": 43,
    "start_time": "2022-05-16T21:06:32.094Z"
   },
   {
    "duration": 5,
    "start_time": "2022-05-16T21:06:32.523Z"
   },
   {
    "duration": 24,
    "start_time": "2022-05-16T21:06:33.538Z"
   },
   {
    "duration": 9,
    "start_time": "2022-05-16T21:06:35.795Z"
   },
   {
    "duration": 6,
    "start_time": "2022-05-16T21:07:11.436Z"
   },
   {
    "duration": 51,
    "start_time": "2022-05-16T21:07:59.043Z"
   },
   {
    "duration": 5,
    "start_time": "2022-05-16T21:07:59.396Z"
   },
   {
    "duration": 19,
    "start_time": "2022-05-16T21:08:00.416Z"
   },
   {
    "duration": 21,
    "start_time": "2022-05-16T21:08:02.499Z"
   },
   {
    "duration": 24,
    "start_time": "2022-05-16T21:09:50.298Z"
   },
   {
    "duration": 1358,
    "start_time": "2022-05-16T21:10:32.126Z"
   },
   {
    "duration": 83,
    "start_time": "2022-05-16T21:10:33.487Z"
   },
   {
    "duration": 16,
    "start_time": "2022-05-16T21:10:33.572Z"
   },
   {
    "duration": 12,
    "start_time": "2022-05-16T21:10:33.591Z"
   },
   {
    "duration": 57,
    "start_time": "2022-05-16T21:10:33.605Z"
   },
   {
    "duration": 6,
    "start_time": "2022-05-16T21:10:33.665Z"
   },
   {
    "duration": 34,
    "start_time": "2022-05-16T21:10:33.674Z"
   },
   {
    "duration": 42,
    "start_time": "2022-05-16T21:10:33.711Z"
   },
   {
    "duration": 21,
    "start_time": "2022-05-16T21:10:33.756Z"
   },
   {
    "duration": 477,
    "start_time": "2022-05-16T21:10:33.780Z"
   },
   {
    "duration": 400,
    "start_time": "2022-05-16T21:10:34.259Z"
   },
   {
    "duration": 280,
    "start_time": "2022-05-16T21:10:34.662Z"
   },
   {
    "duration": 368,
    "start_time": "2022-05-16T21:10:34.944Z"
   },
   {
    "duration": 414,
    "start_time": "2022-05-16T21:10:43.287Z"
   },
   {
    "duration": 8,
    "start_time": "2022-05-16T21:14:19.845Z"
   },
   {
    "duration": 7,
    "start_time": "2022-05-16T21:14:23.662Z"
   },
   {
    "duration": 23,
    "start_time": "2022-05-16T21:16:13.442Z"
   },
   {
    "duration": 20,
    "start_time": "2022-05-16T21:17:01.847Z"
   },
   {
    "duration": 289,
    "start_time": "2022-05-16T21:20:50.763Z"
   },
   {
    "duration": 23,
    "start_time": "2022-05-16T21:24:00.943Z"
   },
   {
    "duration": 22,
    "start_time": "2022-05-16T21:25:41.368Z"
   },
   {
    "duration": 315,
    "start_time": "2022-05-16T21:26:37.197Z"
   },
   {
    "duration": 284,
    "start_time": "2022-05-16T21:27:05.890Z"
   },
   {
    "duration": 278,
    "start_time": "2022-05-16T21:28:02.686Z"
   },
   {
    "duration": 7,
    "start_time": "2022-05-16T21:28:23.872Z"
   },
   {
    "duration": 282,
    "start_time": "2022-05-16T21:28:42.972Z"
   },
   {
    "duration": 371,
    "start_time": "2022-05-16T21:29:10.213Z"
   },
   {
    "duration": 282,
    "start_time": "2022-05-16T21:29:33.826Z"
   },
   {
    "duration": 395,
    "start_time": "2022-05-16T21:36:06.264Z"
   },
   {
    "duration": 419,
    "start_time": "2022-05-16T21:37:16.311Z"
   },
   {
    "duration": 416,
    "start_time": "2022-05-16T21:38:34.160Z"
   },
   {
    "duration": 407,
    "start_time": "2022-05-16T21:38:50.445Z"
   },
   {
    "duration": 434,
    "start_time": "2022-05-16T21:42:31.614Z"
   },
   {
    "duration": 13,
    "start_time": "2022-05-16T21:47:52.915Z"
   },
   {
    "duration": 2711,
    "start_time": "2022-05-16T21:50:40.469Z"
   },
   {
    "duration": 221,
    "start_time": "2022-05-16T21:52:01.373Z"
   },
   {
    "duration": 1958,
    "start_time": "2022-05-16T21:55:27.168Z"
   },
   {
    "duration": 213,
    "start_time": "2022-05-16T21:57:12.635Z"
   },
   {
    "duration": 6,
    "start_time": "2022-05-16T22:04:57.179Z"
   },
   {
    "duration": 6,
    "start_time": "2022-05-16T22:13:15.419Z"
   },
   {
    "duration": 15,
    "start_time": "2022-05-16T22:19:32.341Z"
   },
   {
    "duration": 2337,
    "start_time": "2022-05-16T22:20:51.542Z"
   },
   {
    "duration": 62,
    "start_time": "2022-05-17T19:41:05.235Z"
   },
   {
    "duration": 1362,
    "start_time": "2022-05-17T19:41:16.935Z"
   },
   {
    "duration": 48,
    "start_time": "2022-05-17T19:41:18.299Z"
   },
   {
    "duration": 11,
    "start_time": "2022-05-17T19:41:18.348Z"
   },
   {
    "duration": 9,
    "start_time": "2022-05-17T19:41:18.361Z"
   },
   {
    "duration": 62,
    "start_time": "2022-05-17T19:41:18.371Z"
   },
   {
    "duration": 13,
    "start_time": "2022-05-17T19:41:18.435Z"
   },
   {
    "duration": 15,
    "start_time": "2022-05-17T19:41:18.450Z"
   },
   {
    "duration": 49,
    "start_time": "2022-05-17T19:41:18.466Z"
   },
   {
    "duration": 285,
    "start_time": "2022-05-17T19:41:18.516Z"
   },
   {
    "duration": 369,
    "start_time": "2022-05-17T19:41:18.804Z"
   },
   {
    "duration": 259,
    "start_time": "2022-05-17T19:41:19.175Z"
   },
   {
    "duration": 342,
    "start_time": "2022-05-17T19:41:19.436Z"
   },
   {
    "duration": 193,
    "start_time": "2022-05-17T19:41:19.780Z"
   },
   {
    "duration": 292,
    "start_time": "2022-05-17T19:41:19.974Z"
   },
   {
    "duration": 142,
    "start_time": "2022-05-17T19:41:20.268Z"
   },
   {
    "duration": 4,
    "start_time": "2022-05-17T19:41:20.412Z"
   },
   {
    "duration": 139,
    "start_time": "2022-05-17T19:41:20.418Z"
   },
   {
    "duration": 4,
    "start_time": "2022-05-17T19:41:20.565Z"
   },
   {
    "duration": 212,
    "start_time": "2022-05-17T19:41:26.051Z"
   },
   {
    "duration": 1056,
    "start_time": "2022-05-17T19:44:00.281Z"
   },
   {
    "duration": 31,
    "start_time": "2022-05-17T19:44:01.339Z"
   },
   {
    "duration": 12,
    "start_time": "2022-05-17T19:44:01.372Z"
   },
   {
    "duration": 13,
    "start_time": "2022-05-17T19:44:01.385Z"
   },
   {
    "duration": 51,
    "start_time": "2022-05-17T19:44:01.401Z"
   },
   {
    "duration": 21,
    "start_time": "2022-05-17T19:44:01.453Z"
   },
   {
    "duration": 27,
    "start_time": "2022-05-17T19:44:01.476Z"
   },
   {
    "duration": 37,
    "start_time": "2022-05-17T19:44:01.505Z"
   },
   {
    "duration": 300,
    "start_time": "2022-05-17T19:44:01.544Z"
   },
   {
    "duration": 343,
    "start_time": "2022-05-17T19:44:01.846Z"
   },
   {
    "duration": 263,
    "start_time": "2022-05-17T19:44:02.191Z"
   },
   {
    "duration": 286,
    "start_time": "2022-05-17T19:44:02.455Z"
   },
   {
    "duration": 202,
    "start_time": "2022-05-17T19:44:02.742Z"
   },
   {
    "duration": 331,
    "start_time": "2022-05-17T19:44:02.947Z"
   },
   {
    "duration": 154,
    "start_time": "2022-05-17T19:44:03.280Z"
   },
   {
    "duration": 4,
    "start_time": "2022-05-17T19:44:03.436Z"
   },
   {
    "duration": 146,
    "start_time": "2022-05-17T19:44:03.442Z"
   },
   {
    "duration": 5,
    "start_time": "2022-05-17T19:44:03.590Z"
   },
   {
    "duration": 240,
    "start_time": "2022-05-17T19:44:06.585Z"
   },
   {
    "duration": 13,
    "start_time": "2022-05-17T19:46:22.542Z"
   },
   {
    "duration": 17,
    "start_time": "2022-05-17T19:48:09.147Z"
   },
   {
    "duration": 16,
    "start_time": "2022-05-17T19:49:26.988Z"
   },
   {
    "duration": 474,
    "start_time": "2022-05-17T19:51:38.351Z"
   },
   {
    "duration": 447,
    "start_time": "2022-05-17T19:53:43.055Z"
   },
   {
    "duration": 509,
    "start_time": "2022-05-17T19:54:47.006Z"
   },
   {
    "duration": 255,
    "start_time": "2022-05-17T20:18:03.338Z"
   },
   {
    "duration": 318,
    "start_time": "2022-05-17T20:24:30.827Z"
   },
   {
    "duration": 319,
    "start_time": "2022-05-17T20:32:42.949Z"
   },
   {
    "duration": 140,
    "start_time": "2022-05-17T20:35:02.833Z"
   },
   {
    "duration": 41,
    "start_time": "2022-05-17T20:35:06.005Z"
   },
   {
    "duration": 6,
    "start_time": "2022-05-17T20:42:00.977Z"
   },
   {
    "duration": 35,
    "start_time": "2022-05-17T20:42:04.771Z"
   },
   {
    "duration": 35,
    "start_time": "2022-05-17T20:46:48.496Z"
   },
   {
    "duration": 33,
    "start_time": "2022-05-17T20:47:05.617Z"
   },
   {
    "duration": 36,
    "start_time": "2022-05-17T20:47:10.659Z"
   },
   {
    "duration": 34,
    "start_time": "2022-05-17T20:47:23.301Z"
   },
   {
    "duration": 9,
    "start_time": "2022-05-17T20:55:02.318Z"
   },
   {
    "duration": 10,
    "start_time": "2022-05-17T21:07:45.387Z"
   },
   {
    "duration": 8,
    "start_time": "2022-05-17T21:08:09.623Z"
   },
   {
    "duration": 11,
    "start_time": "2022-05-17T21:12:39.156Z"
   },
   {
    "duration": 41,
    "start_time": "2022-05-17T21:14:08.960Z"
   },
   {
    "duration": 14,
    "start_time": "2022-05-17T21:16:29.062Z"
   },
   {
    "duration": 1067,
    "start_time": "2022-05-17T21:32:06.765Z"
   },
   {
    "duration": 23,
    "start_time": "2022-05-17T21:32:07.834Z"
   },
   {
    "duration": 11,
    "start_time": "2022-05-17T21:32:07.858Z"
   },
   {
    "duration": 9,
    "start_time": "2022-05-17T21:32:07.871Z"
   },
   {
    "duration": 36,
    "start_time": "2022-05-17T21:32:07.881Z"
   },
   {
    "duration": 14,
    "start_time": "2022-05-17T21:32:07.919Z"
   },
   {
    "duration": 13,
    "start_time": "2022-05-17T21:32:07.935Z"
   },
   {
    "duration": 17,
    "start_time": "2022-05-17T21:32:07.965Z"
   },
   {
    "duration": 335,
    "start_time": "2022-05-17T21:32:07.984Z"
   },
   {
    "duration": 316,
    "start_time": "2022-05-17T21:32:08.322Z"
   },
   {
    "duration": 280,
    "start_time": "2022-05-17T21:32:08.640Z"
   },
   {
    "duration": 319,
    "start_time": "2022-05-17T21:32:08.922Z"
   },
   {
    "duration": 200,
    "start_time": "2022-05-17T21:32:09.242Z"
   },
   {
    "duration": 313,
    "start_time": "2022-05-17T21:32:09.444Z"
   },
   {
    "duration": 147,
    "start_time": "2022-05-17T21:32:09.765Z"
   },
   {
    "duration": 6,
    "start_time": "2022-05-17T21:32:09.914Z"
   },
   {
    "duration": 155,
    "start_time": "2022-05-17T21:32:09.922Z"
   },
   {
    "duration": 4,
    "start_time": "2022-05-17T21:32:10.079Z"
   },
   {
    "duration": 243,
    "start_time": "2022-05-17T21:32:10.085Z"
   },
   {
    "duration": 130,
    "start_time": "2022-05-17T21:32:10.329Z"
   },
   {
    "duration": 7,
    "start_time": "2022-05-17T21:32:10.461Z"
   },
   {
    "duration": 30,
    "start_time": "2022-05-17T21:32:10.470Z"
   },
   {
    "duration": 8,
    "start_time": "2022-05-17T21:32:10.501Z"
   },
   {
    "duration": 8,
    "start_time": "2022-05-17T21:32:10.511Z"
   },
   {
    "duration": 12,
    "start_time": "2022-05-17T21:32:10.520Z"
   },
   {
    "duration": 58,
    "start_time": "2022-05-17T21:32:10.533Z"
   },
   {
    "duration": 12,
    "start_time": "2022-05-17T21:32:10.592Z"
   },
   {
    "duration": 1093,
    "start_time": "2022-05-17T22:17:30.554Z"
   },
   {
    "duration": 24,
    "start_time": "2022-05-17T22:17:31.648Z"
   },
   {
    "duration": 10,
    "start_time": "2022-05-17T22:17:31.674Z"
   },
   {
    "duration": 19,
    "start_time": "2022-05-17T22:17:31.687Z"
   },
   {
    "duration": 55,
    "start_time": "2022-05-17T22:17:31.708Z"
   },
   {
    "duration": 13,
    "start_time": "2022-05-17T22:17:31.765Z"
   },
   {
    "duration": 27,
    "start_time": "2022-05-17T22:17:31.779Z"
   },
   {
    "duration": 22,
    "start_time": "2022-05-17T22:17:31.808Z"
   },
   {
    "duration": 303,
    "start_time": "2022-05-17T22:17:31.833Z"
   },
   {
    "duration": 309,
    "start_time": "2022-05-17T22:17:32.138Z"
   },
   {
    "duration": 265,
    "start_time": "2022-05-17T22:17:32.449Z"
   },
   {
    "duration": 267,
    "start_time": "2022-05-17T22:17:32.715Z"
   },
   {
    "duration": 207,
    "start_time": "2022-05-17T22:17:32.983Z"
   },
   {
    "duration": 293,
    "start_time": "2022-05-17T22:17:33.192Z"
   },
   {
    "duration": 149,
    "start_time": "2022-05-17T22:17:33.487Z"
   },
   {
    "duration": 4,
    "start_time": "2022-05-17T22:17:33.638Z"
   },
   {
    "duration": 146,
    "start_time": "2022-05-17T22:17:33.643Z"
   },
   {
    "duration": 5,
    "start_time": "2022-05-17T22:17:33.790Z"
   },
   {
    "duration": 238,
    "start_time": "2022-05-17T22:17:33.797Z"
   },
   {
    "duration": 149,
    "start_time": "2022-05-17T22:17:34.037Z"
   },
   {
    "duration": 8,
    "start_time": "2022-05-17T22:17:34.188Z"
   },
   {
    "duration": 32,
    "start_time": "2022-05-17T22:17:34.197Z"
   },
   {
    "duration": 9,
    "start_time": "2022-05-17T22:17:34.231Z"
   },
   {
    "duration": 29,
    "start_time": "2022-05-17T22:17:34.242Z"
   },
   {
    "duration": 14,
    "start_time": "2022-05-17T22:17:34.273Z"
   },
   {
    "duration": 29,
    "start_time": "2022-05-17T22:17:34.288Z"
   },
   {
    "duration": 11,
    "start_time": "2022-05-17T22:17:34.319Z"
   },
   {
    "duration": 1013,
    "start_time": "2022-05-19T06:39:52.482Z"
   },
   {
    "duration": 23,
    "start_time": "2022-05-19T06:39:53.497Z"
   },
   {
    "duration": 10,
    "start_time": "2022-05-19T06:39:53.521Z"
   },
   {
    "duration": 13,
    "start_time": "2022-05-19T06:39:53.532Z"
   },
   {
    "duration": 35,
    "start_time": "2022-05-19T06:39:53.547Z"
   },
   {
    "duration": 11,
    "start_time": "2022-05-19T06:39:53.583Z"
   },
   {
    "duration": 11,
    "start_time": "2022-05-19T06:39:53.595Z"
   },
   {
    "duration": 16,
    "start_time": "2022-05-19T06:39:53.608Z"
   },
   {
    "duration": 269,
    "start_time": "2022-05-19T06:39:53.626Z"
   },
   {
    "duration": 267,
    "start_time": "2022-05-19T06:39:53.898Z"
   },
   {
    "duration": 215,
    "start_time": "2022-05-19T06:39:54.167Z"
   },
   {
    "duration": 249,
    "start_time": "2022-05-19T06:39:54.384Z"
   },
   {
    "duration": 165,
    "start_time": "2022-05-19T06:39:54.635Z"
   },
   {
    "duration": 268,
    "start_time": "2022-05-19T06:39:54.801Z"
   },
   {
    "duration": 116,
    "start_time": "2022-05-19T06:39:55.070Z"
   },
   {
    "duration": 5,
    "start_time": "2022-05-19T06:39:55.193Z"
   },
   {
    "duration": 117,
    "start_time": "2022-05-19T06:39:55.199Z"
   },
   {
    "duration": 4,
    "start_time": "2022-05-19T06:39:55.317Z"
   },
   {
    "duration": 201,
    "start_time": "2022-05-19T06:39:55.323Z"
   },
   {
    "duration": 119,
    "start_time": "2022-05-19T06:39:55.525Z"
   },
   {
    "duration": 6,
    "start_time": "2022-05-19T06:39:55.645Z"
   },
   {
    "duration": 26,
    "start_time": "2022-05-19T06:39:55.652Z"
   },
   {
    "duration": 7,
    "start_time": "2022-05-19T06:39:55.694Z"
   },
   {
    "duration": 8,
    "start_time": "2022-05-19T06:39:55.702Z"
   },
   {
    "duration": 12,
    "start_time": "2022-05-19T06:39:55.712Z"
   },
   {
    "duration": 25,
    "start_time": "2022-05-19T06:39:55.725Z"
   },
   {
    "duration": 9,
    "start_time": "2022-05-19T06:39:55.751Z"
   },
   {
    "duration": 67,
    "start_time": "2022-05-19T19:38:50.893Z"
   },
   {
    "duration": 1363,
    "start_time": "2022-05-19T19:39:19.697Z"
   },
   {
    "duration": 95,
    "start_time": "2022-05-19T19:39:21.062Z"
   },
   {
    "duration": 14,
    "start_time": "2022-05-19T19:39:27.288Z"
   },
   {
    "duration": 10,
    "start_time": "2022-05-19T19:39:50.456Z"
   },
   {
    "duration": 13,
    "start_time": "2022-05-19T19:40:14.649Z"
   },
   {
    "duration": 11,
    "start_time": "2022-05-19T19:40:20.366Z"
   },
   {
    "duration": 11,
    "start_time": "2022-05-19T19:40:25.879Z"
   },
   {
    "duration": 9,
    "start_time": "2022-05-19T19:40:34.297Z"
   },
   {
    "duration": 9,
    "start_time": "2022-05-19T19:40:39.366Z"
   },
   {
    "duration": 11,
    "start_time": "2022-05-19T19:40:43.258Z"
   },
   {
    "duration": 9,
    "start_time": "2022-05-19T19:40:48.509Z"
   },
   {
    "duration": 15,
    "start_time": "2022-05-19T19:41:20.798Z"
   },
   {
    "duration": 979,
    "start_time": "2022-05-19T19:45:36.027Z"
   },
   {
    "duration": 33,
    "start_time": "2022-05-19T19:45:37.008Z"
   },
   {
    "duration": 11,
    "start_time": "2022-05-19T19:45:37.043Z"
   },
   {
    "duration": 10,
    "start_time": "2022-05-19T19:45:37.056Z"
   },
   {
    "duration": 104,
    "start_time": "2022-05-19T19:45:37.067Z"
   },
   {
    "duration": 12,
    "start_time": "2022-05-19T19:45:37.172Z"
   },
   {
    "duration": 12,
    "start_time": "2022-05-19T19:45:37.185Z"
   },
   {
    "duration": 78,
    "start_time": "2022-05-19T19:45:37.198Z"
   },
   {
    "duration": 276,
    "start_time": "2022-05-19T19:45:37.278Z"
   },
   {
    "duration": 287,
    "start_time": "2022-05-19T19:45:43.658Z"
   },
   {
    "duration": 219,
    "start_time": "2022-05-19T19:46:28.729Z"
   },
   {
    "duration": 166,
    "start_time": "2022-05-19T19:47:26.946Z"
   },
   {
    "duration": 271,
    "start_time": "2022-05-19T19:47:50.411Z"
   },
   {
    "duration": 117,
    "start_time": "2022-05-19T19:49:35.056Z"
   },
   {
    "duration": 6,
    "start_time": "2022-05-19T19:50:25.360Z"
   },
   {
    "duration": 141,
    "start_time": "2022-05-19T19:50:37.470Z"
   },
   {
    "duration": 5,
    "start_time": "2022-05-19T19:56:11.076Z"
   },
   {
    "duration": 215,
    "start_time": "2022-05-19T19:56:41.074Z"
   },
   {
    "duration": 119,
    "start_time": "2022-05-19T19:56:52.588Z"
   },
   {
    "duration": 7,
    "start_time": "2022-05-19T19:56:53.793Z"
   },
   {
    "duration": 1322,
    "start_time": "2022-05-28T17:43:17.098Z"
   },
   {
    "duration": 41,
    "start_time": "2022-05-28T17:43:18.422Z"
   },
   {
    "duration": 14,
    "start_time": "2022-05-28T17:43:18.464Z"
   },
   {
    "duration": 13,
    "start_time": "2022-05-28T17:43:18.480Z"
   },
   {
    "duration": 64,
    "start_time": "2022-05-28T17:43:18.494Z"
   },
   {
    "duration": 14,
    "start_time": "2022-05-28T17:43:18.559Z"
   },
   {
    "duration": 15,
    "start_time": "2022-05-28T17:43:18.575Z"
   },
   {
    "duration": 21,
    "start_time": "2022-05-28T17:43:18.591Z"
   },
   {
    "duration": 320,
    "start_time": "2022-05-28T17:43:18.614Z"
   },
   {
    "duration": 308,
    "start_time": "2022-05-28T17:43:28.609Z"
   },
   {
    "duration": 265,
    "start_time": "2022-05-28T17:43:47.364Z"
   },
   {
    "duration": 249,
    "start_time": "2022-05-28T17:48:59.455Z"
   },
   {
    "duration": 211,
    "start_time": "2022-05-28T17:49:20.469Z"
   },
   {
    "duration": 122,
    "start_time": "2022-05-28T17:56:44.205Z"
   },
   {
    "duration": 41,
    "start_time": "2022-05-28T17:57:15.062Z"
   },
   {
    "duration": 153,
    "start_time": "2022-05-28T17:57:20.435Z"
   },
   {
    "duration": 191,
    "start_time": "2022-05-28T17:57:36.102Z"
   },
   {
    "duration": 13,
    "start_time": "2022-05-28T17:58:14.848Z"
   },
   {
    "duration": 30,
    "start_time": "2022-05-28T17:58:19.510Z"
   },
   {
    "duration": 199,
    "start_time": "2022-05-28T17:58:24.829Z"
   },
   {
    "duration": 191,
    "start_time": "2022-05-28T17:59:10.606Z"
   },
   {
    "duration": 201,
    "start_time": "2022-05-28T17:59:20.602Z"
   },
   {
    "duration": 195,
    "start_time": "2022-05-28T17:59:28.430Z"
   },
   {
    "duration": 212,
    "start_time": "2022-05-28T18:00:12.942Z"
   },
   {
    "duration": 190,
    "start_time": "2022-05-28T18:02:16.603Z"
   },
   {
    "duration": 396,
    "start_time": "2022-05-28T18:05:28.712Z"
   },
   {
    "duration": 394,
    "start_time": "2022-05-28T18:07:58.009Z"
   },
   {
    "duration": 304,
    "start_time": "2022-05-28T18:09:39.768Z"
   },
   {
    "duration": 347,
    "start_time": "2022-05-28T18:13:59.236Z"
   },
   {
    "duration": 335,
    "start_time": "2022-05-28T18:14:24.706Z"
   },
   {
    "duration": 360,
    "start_time": "2022-05-28T18:14:45.340Z"
   },
   {
    "duration": 250,
    "start_time": "2022-05-28T18:18:43.528Z"
   },
   {
    "duration": 166,
    "start_time": "2022-05-28T18:20:25.872Z"
   },
   {
    "duration": 139,
    "start_time": "2022-05-28T18:23:58.808Z"
   },
   {
    "duration": 135,
    "start_time": "2022-05-28T18:24:24.169Z"
   },
   {
    "duration": 7,
    "start_time": "2022-05-28T18:25:50.528Z"
   },
   {
    "duration": 5,
    "start_time": "2022-05-28T18:26:06.545Z"
   },
   {
    "duration": 4,
    "start_time": "2022-05-28T18:26:46.570Z"
   },
   {
    "duration": 11,
    "start_time": "2022-05-28T18:27:35.481Z"
   },
   {
    "duration": 5,
    "start_time": "2022-05-28T18:28:08.629Z"
   },
   {
    "duration": 13,
    "start_time": "2022-05-28T18:29:30.591Z"
   },
   {
    "duration": 18,
    "start_time": "2022-05-28T18:29:37.946Z"
   },
   {
    "duration": 8,
    "start_time": "2022-05-28T18:30:26.656Z"
   },
   {
    "duration": 6,
    "start_time": "2022-05-28T18:30:51.834Z"
   },
   {
    "duration": 6,
    "start_time": "2022-05-28T18:30:58.530Z"
   },
   {
    "duration": 6,
    "start_time": "2022-05-28T18:31:10.983Z"
   },
   {
    "duration": 132,
    "start_time": "2022-05-28T18:32:06.624Z"
   },
   {
    "duration": 5,
    "start_time": "2022-05-28T18:32:31.612Z"
   },
   {
    "duration": 6,
    "start_time": "2022-05-28T18:32:54.417Z"
   },
   {
    "duration": 160,
    "start_time": "2022-05-28T18:33:42.319Z"
   },
   {
    "duration": 165,
    "start_time": "2022-05-28T18:34:11.121Z"
   },
   {
    "duration": 245,
    "start_time": "2022-05-28T18:34:22.037Z"
   },
   {
    "duration": 4,
    "start_time": "2022-05-28T20:07:12.758Z"
   },
   {
    "duration": 38,
    "start_time": "2022-05-28T20:07:12.764Z"
   },
   {
    "duration": 18,
    "start_time": "2022-05-28T20:07:12.805Z"
   },
   {
    "duration": 19,
    "start_time": "2022-05-28T20:07:12.825Z"
   },
   {
    "duration": 72,
    "start_time": "2022-05-28T20:07:12.848Z"
   },
   {
    "duration": 13,
    "start_time": "2022-05-28T20:07:12.922Z"
   },
   {
    "duration": 23,
    "start_time": "2022-05-28T20:07:12.937Z"
   },
   {
    "duration": 31,
    "start_time": "2022-05-28T20:07:12.962Z"
   },
   {
    "duration": 393,
    "start_time": "2022-05-28T20:07:12.995Z"
   },
   {
    "duration": 238,
    "start_time": "2022-05-28T20:07:13.390Z"
   },
   {
    "duration": 259,
    "start_time": "2022-05-28T20:07:13.630Z"
   },
   {
    "duration": 304,
    "start_time": "2022-05-28T20:07:13.891Z"
   },
   {
    "duration": 242,
    "start_time": "2022-05-28T20:07:14.197Z"
   },
   {
    "duration": 352,
    "start_time": "2022-05-28T20:07:14.441Z"
   },
   {
    "duration": 189,
    "start_time": "2022-05-28T20:07:14.795Z"
   },
   {
    "duration": 5,
    "start_time": "2022-05-28T20:07:14.987Z"
   },
   {
    "duration": 186,
    "start_time": "2022-05-28T20:07:14.993Z"
   },
   {
    "duration": 158,
    "start_time": "2022-05-28T20:07:15.181Z"
   },
   {
    "duration": 6,
    "start_time": "2022-05-28T20:07:15.341Z"
   },
   {
    "duration": 262,
    "start_time": "2022-05-28T20:07:15.351Z"
   },
   {
    "duration": 166,
    "start_time": "2022-05-28T20:07:15.615Z"
   },
   {
    "duration": 8,
    "start_time": "2022-05-28T20:07:15.782Z"
   },
   {
    "duration": 31,
    "start_time": "2022-05-28T20:07:21.063Z"
   },
   {
    "duration": 10,
    "start_time": "2022-05-28T20:11:21.888Z"
   },
   {
    "duration": 4,
    "start_time": "2022-05-28T20:16:59.749Z"
   },
   {
    "duration": 5,
    "start_time": "2022-05-28T20:18:57.295Z"
   },
   {
    "duration": 5,
    "start_time": "2022-05-28T20:18:58.453Z"
   },
   {
    "duration": 3,
    "start_time": "2022-05-28T20:23:20.897Z"
   },
   {
    "duration": 3,
    "start_time": "2022-05-28T20:25:24.589Z"
   },
   {
    "duration": 3,
    "start_time": "2022-05-28T20:26:36.779Z"
   },
   {
    "duration": 12,
    "start_time": "2022-05-28T20:27:09.152Z"
   },
   {
    "duration": 3,
    "start_time": "2022-05-28T20:31:53.933Z"
   },
   {
    "duration": 9,
    "start_time": "2022-05-28T20:32:07.910Z"
   },
   {
    "duration": 11,
    "start_time": "2022-05-28T20:37:51.267Z"
   },
   {
    "duration": 11,
    "start_time": "2022-05-28T20:38:50.025Z"
   },
   {
    "duration": 1636,
    "start_time": "2022-05-28T20:39:18.762Z"
   },
   {
    "duration": 35,
    "start_time": "2022-05-28T20:39:20.400Z"
   },
   {
    "duration": 24,
    "start_time": "2022-05-28T20:39:20.437Z"
   },
   {
    "duration": 20,
    "start_time": "2022-05-28T20:39:20.463Z"
   },
   {
    "duration": 63,
    "start_time": "2022-05-28T20:39:20.486Z"
   },
   {
    "duration": 14,
    "start_time": "2022-05-28T20:39:20.553Z"
   },
   {
    "duration": 23,
    "start_time": "2022-05-28T20:39:20.570Z"
   },
   {
    "duration": 30,
    "start_time": "2022-05-28T20:39:20.595Z"
   },
   {
    "duration": 303,
    "start_time": "2022-05-28T20:39:20.628Z"
   },
   {
    "duration": 397,
    "start_time": "2022-05-28T20:39:20.933Z"
   },
   {
    "duration": 284,
    "start_time": "2022-05-28T20:39:21.332Z"
   },
   {
    "duration": 369,
    "start_time": "2022-05-28T20:39:21.618Z"
   },
   {
    "duration": 212,
    "start_time": "2022-05-28T20:39:21.989Z"
   },
   {
    "duration": 362,
    "start_time": "2022-05-28T20:39:22.204Z"
   },
   {
    "duration": 158,
    "start_time": "2022-05-28T20:39:22.568Z"
   },
   {
    "duration": 13,
    "start_time": "2022-05-28T20:39:22.728Z"
   },
   {
    "duration": 7,
    "start_time": "2022-05-28T20:39:22.743Z"
   },
   {
    "duration": 149,
    "start_time": "2022-05-28T20:39:22.760Z"
   },
   {
    "duration": 165,
    "start_time": "2022-05-28T20:39:22.911Z"
   },
   {
    "duration": 5,
    "start_time": "2022-05-28T20:39:23.077Z"
   },
   {
    "duration": 5,
    "start_time": "2022-05-28T20:39:23.084Z"
   },
   {
    "duration": 248,
    "start_time": "2022-05-28T20:39:23.091Z"
   },
   {
    "duration": 141,
    "start_time": "2022-05-28T20:39:23.341Z"
   },
   {
    "duration": 7,
    "start_time": "2022-05-28T20:39:23.484Z"
   },
   {
    "duration": 30,
    "start_time": "2022-05-28T20:39:23.493Z"
   },
   {
    "duration": 30,
    "start_time": "2022-05-28T20:39:23.525Z"
   },
   {
    "duration": 5,
    "start_time": "2022-05-28T20:39:23.557Z"
   },
   {
    "duration": 12,
    "start_time": "2022-05-28T20:39:23.564Z"
   },
   {
    "duration": 10,
    "start_time": "2022-05-28T20:39:23.578Z"
   },
   {
    "duration": 31,
    "start_time": "2022-05-28T20:39:24.963Z"
   },
   {
    "duration": 16,
    "start_time": "2022-05-28T20:55:38.084Z"
   },
   {
    "duration": 5,
    "start_time": "2022-05-28T21:13:17.323Z"
   },
   {
    "duration": 28,
    "start_time": "2022-05-28T21:13:50.662Z"
   },
   {
    "duration": 210,
    "start_time": "2022-05-28T21:37:02.260Z"
   },
   {
    "duration": 18,
    "start_time": "2022-05-28T21:51:43.197Z"
   },
   {
    "duration": 1225,
    "start_time": "2022-05-28T22:01:00.641Z"
   },
   {
    "duration": 39,
    "start_time": "2022-05-28T22:01:01.872Z"
   },
   {
    "duration": 24,
    "start_time": "2022-05-28T22:01:01.913Z"
   },
   {
    "duration": 23,
    "start_time": "2022-05-28T22:01:01.940Z"
   },
   {
    "duration": 86,
    "start_time": "2022-05-28T22:01:01.966Z"
   },
   {
    "duration": 19,
    "start_time": "2022-05-28T22:01:02.059Z"
   },
   {
    "duration": 14,
    "start_time": "2022-05-28T22:01:02.080Z"
   },
   {
    "duration": 26,
    "start_time": "2022-05-28T22:01:02.096Z"
   },
   {
    "duration": 294,
    "start_time": "2022-05-28T22:01:02.124Z"
   },
   {
    "duration": 336,
    "start_time": "2022-05-28T22:01:02.421Z"
   },
   {
    "duration": 299,
    "start_time": "2022-05-28T22:01:02.759Z"
   },
   {
    "duration": 298,
    "start_time": "2022-05-28T22:01:03.060Z"
   },
   {
    "duration": 211,
    "start_time": "2022-05-28T22:01:03.360Z"
   },
   {
    "duration": 303,
    "start_time": "2022-05-28T22:01:03.573Z"
   },
   {
    "duration": 181,
    "start_time": "2022-05-28T22:01:03.877Z"
   },
   {
    "duration": 5,
    "start_time": "2022-05-28T22:01:04.060Z"
   },
   {
    "duration": 7,
    "start_time": "2022-05-28T22:01:04.066Z"
   },
   {
    "duration": 145,
    "start_time": "2022-05-28T22:01:04.075Z"
   },
   {
    "duration": 154,
    "start_time": "2022-05-28T22:01:04.222Z"
   },
   {
    "duration": 5,
    "start_time": "2022-05-28T22:01:04.377Z"
   },
   {
    "duration": 6,
    "start_time": "2022-05-28T22:01:04.383Z"
   },
   {
    "duration": 236,
    "start_time": "2022-05-28T22:01:04.391Z"
   },
   {
    "duration": 129,
    "start_time": "2022-05-28T22:01:04.629Z"
   },
   {
    "duration": 6,
    "start_time": "2022-05-28T22:01:04.760Z"
   },
   {
    "duration": 30,
    "start_time": "2022-05-28T22:01:04.768Z"
   },
   {
    "duration": 10,
    "start_time": "2022-05-28T22:01:04.800Z"
   },
   {
    "duration": 4,
    "start_time": "2022-05-28T22:01:04.811Z"
   },
   {
    "duration": 16,
    "start_time": "2022-05-28T22:01:04.846Z"
   },
   {
    "duration": 8,
    "start_time": "2022-05-28T22:01:04.864Z"
   },
   {
    "duration": 30,
    "start_time": "2022-05-28T22:01:04.873Z"
   },
   {
    "duration": 40,
    "start_time": "2022-05-28T22:01:04.905Z"
   },
   {
    "duration": 7,
    "start_time": "2022-05-28T22:49:43.154Z"
   },
   {
    "duration": 12,
    "start_time": "2022-05-28T22:50:15.905Z"
   },
   {
    "duration": 1099,
    "start_time": "2022-05-28T22:53:14.368Z"
   },
   {
    "duration": 36,
    "start_time": "2022-05-28T22:53:15.469Z"
   },
   {
    "duration": 16,
    "start_time": "2022-05-28T22:53:15.506Z"
   },
   {
    "duration": 12,
    "start_time": "2022-05-28T22:53:15.525Z"
   },
   {
    "duration": 70,
    "start_time": "2022-05-28T22:53:15.539Z"
   },
   {
    "duration": 14,
    "start_time": "2022-05-28T22:53:15.611Z"
   },
   {
    "duration": 13,
    "start_time": "2022-05-28T22:53:15.627Z"
   },
   {
    "duration": 25,
    "start_time": "2022-05-28T22:53:15.643Z"
   },
   {
    "duration": 11,
    "start_time": "2022-05-28T22:53:15.670Z"
   },
   {
    "duration": 5,
    "start_time": "2022-05-28T22:53:15.683Z"
   },
   {
    "duration": 298,
    "start_time": "2022-05-28T22:53:15.690Z"
   },
   {
    "duration": 325,
    "start_time": "2022-05-28T22:53:15.990Z"
   },
   {
    "duration": 289,
    "start_time": "2022-05-28T22:53:16.317Z"
   },
   {
    "duration": 398,
    "start_time": "2022-05-28T22:53:16.608Z"
   },
   {
    "duration": 273,
    "start_time": "2022-05-28T22:53:17.009Z"
   },
   {
    "duration": 287,
    "start_time": "2022-05-28T22:53:17.284Z"
   },
   {
    "duration": 162,
    "start_time": "2022-05-28T22:53:17.573Z"
   },
   {
    "duration": 19,
    "start_time": "2022-05-28T22:53:17.737Z"
   },
   {
    "duration": 4,
    "start_time": "2022-05-28T22:53:17.759Z"
   },
   {
    "duration": 144,
    "start_time": "2022-05-28T22:53:17.765Z"
   },
   {
    "duration": 147,
    "start_time": "2022-05-28T22:53:17.911Z"
   },
   {
    "duration": 5,
    "start_time": "2022-05-28T22:53:18.060Z"
   },
   {
    "duration": 5,
    "start_time": "2022-05-28T22:53:18.067Z"
   },
   {
    "duration": 219,
    "start_time": "2022-05-28T22:53:18.074Z"
   },
   {
    "duration": 134,
    "start_time": "2022-05-28T22:53:18.295Z"
   },
   {
    "duration": 19,
    "start_time": "2022-05-28T22:53:18.431Z"
   },
   {
    "duration": 29,
    "start_time": "2022-05-28T22:53:18.455Z"
   },
   {
    "duration": 13,
    "start_time": "2022-05-28T22:53:18.489Z"
   },
   {
    "duration": 5,
    "start_time": "2022-05-28T22:53:18.504Z"
   },
   {
    "duration": 38,
    "start_time": "2022-05-28T22:53:18.511Z"
   },
   {
    "duration": 10,
    "start_time": "2022-05-28T22:53:18.556Z"
   },
   {
    "duration": 33,
    "start_time": "2022-05-28T22:53:18.567Z"
   },
   {
    "duration": 15,
    "start_time": "2022-05-28T22:53:18.602Z"
   },
   {
    "duration": 1321,
    "start_time": "2022-05-29T13:09:51.397Z"
   },
   {
    "duration": 80,
    "start_time": "2022-05-29T13:09:52.721Z"
   },
   {
    "duration": 15,
    "start_time": "2022-05-29T13:09:52.803Z"
   },
   {
    "duration": 12,
    "start_time": "2022-05-29T13:09:52.820Z"
   },
   {
    "duration": 120,
    "start_time": "2022-05-29T13:09:52.834Z"
   },
   {
    "duration": 17,
    "start_time": "2022-05-29T13:09:52.956Z"
   },
   {
    "duration": 15,
    "start_time": "2022-05-29T13:09:52.975Z"
   },
   {
    "duration": 62,
    "start_time": "2022-05-29T13:09:52.992Z"
   },
   {
    "duration": 12,
    "start_time": "2022-05-29T13:09:53.055Z"
   },
   {
    "duration": 8,
    "start_time": "2022-05-29T13:09:53.069Z"
   },
   {
    "duration": 291,
    "start_time": "2022-05-29T13:09:53.078Z"
   },
   {
    "duration": 322,
    "start_time": "2022-05-29T13:09:53.371Z"
   },
   {
    "duration": 310,
    "start_time": "2022-05-29T13:09:53.696Z"
   },
   {
    "duration": 351,
    "start_time": "2022-05-29T13:09:54.007Z"
   },
   {
    "duration": 214,
    "start_time": "2022-05-29T13:09:54.360Z"
   },
   {
    "duration": 308,
    "start_time": "2022-05-29T13:09:54.576Z"
   },
   {
    "duration": 157,
    "start_time": "2022-05-29T13:09:54.885Z"
   },
   {
    "duration": 5,
    "start_time": "2022-05-29T13:09:55.044Z"
   },
   {
    "duration": 7,
    "start_time": "2022-05-29T13:09:55.050Z"
   },
   {
    "duration": 165,
    "start_time": "2022-05-29T13:09:55.059Z"
   },
   {
    "duration": 141,
    "start_time": "2022-05-29T13:09:55.226Z"
   },
   {
    "duration": 5,
    "start_time": "2022-05-29T13:09:55.369Z"
   },
   {
    "duration": 4,
    "start_time": "2022-05-29T13:09:55.384Z"
   },
   {
    "duration": 242,
    "start_time": "2022-05-29T13:09:55.389Z"
   },
   {
    "duration": 124,
    "start_time": "2022-05-29T13:09:55.633Z"
   },
   {
    "duration": 8,
    "start_time": "2022-05-29T13:09:55.759Z"
   },
   {
    "duration": 43,
    "start_time": "2022-05-29T13:09:55.768Z"
   },
   {
    "duration": 10,
    "start_time": "2022-05-29T13:09:55.815Z"
   },
   {
    "duration": 7,
    "start_time": "2022-05-29T13:09:55.826Z"
   },
   {
    "duration": 13,
    "start_time": "2022-05-29T13:09:55.834Z"
   },
   {
    "duration": 10,
    "start_time": "2022-05-29T13:09:55.848Z"
   },
   {
    "duration": 47,
    "start_time": "2022-05-29T13:09:55.883Z"
   },
   {
    "duration": 14,
    "start_time": "2022-05-29T13:09:55.932Z"
   },
   {
    "duration": 1370,
    "start_time": "2022-05-30T12:29:26.202Z"
   },
   {
    "duration": 80,
    "start_time": "2022-05-30T12:29:27.575Z"
   },
   {
    "duration": 19,
    "start_time": "2022-05-30T12:29:27.657Z"
   },
   {
    "duration": 13,
    "start_time": "2022-05-30T12:29:27.679Z"
   },
   {
    "duration": 121,
    "start_time": "2022-05-30T12:29:27.694Z"
   },
   {
    "duration": 14,
    "start_time": "2022-05-30T12:29:27.817Z"
   },
   {
    "duration": 29,
    "start_time": "2022-05-30T12:29:27.833Z"
   },
   {
    "duration": 69,
    "start_time": "2022-05-30T12:29:27.864Z"
   },
   {
    "duration": 11,
    "start_time": "2022-05-30T12:29:27.935Z"
   },
   {
    "duration": 16,
    "start_time": "2022-05-30T12:29:27.950Z"
   },
   {
    "duration": 302,
    "start_time": "2022-05-30T12:29:27.968Z"
   },
   {
    "duration": 327,
    "start_time": "2022-05-30T12:29:28.273Z"
   },
   {
    "duration": 294,
    "start_time": "2022-05-30T12:29:28.602Z"
   },
   {
    "duration": 407,
    "start_time": "2022-05-30T12:29:28.898Z"
   },
   {
    "duration": 220,
    "start_time": "2022-05-30T12:29:29.307Z"
   },
   {
    "duration": 337,
    "start_time": "2022-05-30T12:29:29.529Z"
   },
   {
    "duration": 160,
    "start_time": "2022-05-30T12:29:29.867Z"
   },
   {
    "duration": 4,
    "start_time": "2022-05-30T12:29:30.029Z"
   },
   {
    "duration": 29,
    "start_time": "2022-05-30T12:29:30.035Z"
   },
   {
    "duration": 156,
    "start_time": "2022-05-30T12:29:30.066Z"
   },
   {
    "duration": 144,
    "start_time": "2022-05-30T12:29:30.223Z"
   },
   {
    "duration": 4,
    "start_time": "2022-05-30T12:29:30.369Z"
   },
   {
    "duration": 31,
    "start_time": "2022-05-30T12:29:30.374Z"
   },
   {
    "duration": 256,
    "start_time": "2022-05-30T12:29:30.407Z"
   },
   {
    "duration": 163,
    "start_time": "2022-05-30T12:29:30.665Z"
   },
   {
    "duration": 8,
    "start_time": "2022-05-30T12:29:30.830Z"
   },
   {
    "duration": 65,
    "start_time": "2022-05-30T12:29:30.840Z"
   },
   {
    "duration": 19,
    "start_time": "2022-05-30T12:29:30.909Z"
   },
   {
    "duration": 35,
    "start_time": "2022-05-30T12:29:30.930Z"
   },
   {
    "duration": 42,
    "start_time": "2022-05-30T12:29:30.966Z"
   },
   {
    "duration": 39,
    "start_time": "2022-05-30T12:29:31.010Z"
   },
   {
    "duration": 96,
    "start_time": "2022-05-30T12:29:31.051Z"
   },
   {
    "duration": 27,
    "start_time": "2022-05-30T12:29:31.149Z"
   }
  ],
  "kernelspec": {
   "display_name": "Python 3 (ipykernel)",
   "language": "python",
   "name": "python3"
  },
  "language_info": {
   "codemirror_mode": {
    "name": "ipython",
    "version": 3
   },
   "file_extension": ".py",
   "mimetype": "text/x-python",
   "name": "python",
   "nbconvert_exporter": "python",
   "pygments_lexer": "ipython3",
   "version": "3.9.5"
  },
  "toc": {
   "base_numbering": 1,
   "nav_menu": {},
   "number_sections": false,
   "sideBar": true,
   "skip_h1_title": false,
   "title_cell": "Table of Contents",
   "title_sidebar": "Contents",
   "toc_cell": false,
   "toc_position": {},
   "toc_section_display": true,
   "toc_window_display": true
  }
 },
 "nbformat": 4,
 "nbformat_minor": 2
}
