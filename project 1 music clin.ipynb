{
 "cells": [
  {
   "cell_type": "markdown",
   "metadata": {
    "id": "E0vqbgi9ay0H"
   },
   "source": [
    "# Яндекс.Музыка"
   ]
  },
  {
   "cell_type": "markdown",
   "metadata": {
    "id": "VUC88oWjTJw2"
   },
   "source": [
    "Сравнение Москвы и Петербурга окружено мифами. Например:\n",
    " * Москва — мегаполис, подчинённый жёсткому ритму рабочей недели;\n",
    " * Петербург — культурная столица, со своими вкусами.\n",
    "\n",
    "На данных Яндекс.Музыки вы сравните поведение пользователей двух столиц.\n",
    "\n",
    "**Цель исследования** — проверьте три гипотезы:\n",
    "1. Активность пользователей зависит от дня недели. Причём в Москве и Петербурге это проявляется по-разному.\n",
    "2. В понедельник утром в Москве преобладают одни жанры, а в Петербурге — другие. Так же и вечером пятницы преобладают разные жанры — в зависимости от города. \n",
    "3. Москва и Петербург предпочитают разные жанры музыки. В Москве чаще слушают поп-музыку, в Петербурге — русский рэп.\n",
    "\n",
    "**Ход исследования**\n",
    "\n",
    "Данные о поведении пользователей вы получите из файла `yandex_music_project.csv`. О качестве данных ничего не известно. Поэтому перед проверкой гипотез понадобится обзор данных. \n",
    "\n",
    "Вы проверите данные на ошибки и оцените их влияние на исследование. Затем, на этапе предобработки вы поищете возможность исправить самые критичные ошибки данных.\n",
    " \n",
    "Таким образом, исследование пройдёт в три этапа:\n",
    " 1. Обзор данных.\n",
    " 2. Предобработка данных.\n",
    " 3. Проверка гипотез.\n",
    "\n"
   ]
  },
  {
   "cell_type": "markdown",
   "metadata": {
    "id": "Ml1hmfXC_Zcs"
   },
   "source": [
    "## Обзор данных\n",
    "\n",
    "Составьте первое представление о данных Яндекс.Музыки.\n",
    "\n",
    "\n"
   ]
  },
  {
   "cell_type": "markdown",
   "metadata": {
    "id": "57eAOGIz_Zcs"
   },
   "source": [
    "Основной инструмент аналитика — `pandas`. Импортируйте эту библиотеку."
   ]
  },
  {
   "cell_type": "code",
   "execution_count": 93,
   "metadata": {
    "id": "AXN7PHPN_Zcs"
   },
   "outputs": [],
   "source": [
    "# импорт библиотеки pandas\n",
    "import pandas as pd"
   ]
  },
  {
   "cell_type": "markdown",
   "metadata": {
    "id": "SG23P8tt_Zcs"
   },
   "source": [
    "Прочитайте файл `yandex_music_project.csv` из папки `/datasets` и сохраните его в переменной `df`:"
   ]
  },
  {
   "cell_type": "code",
   "execution_count": 94,
   "metadata": {
    "id": "fFVu7vqh_Zct"
   },
   "outputs": [],
   "source": [
    "# чтение файла с данными и сохранение в df\n",
    "df = pd.read_csv('/datasets/yandex_music_project.csv')"
   ]
  },
  {
   "cell_type": "markdown",
   "metadata": {
    "id": "rDoOMd3uTqnZ"
   },
   "source": [
    "Выведите на экран первые десять строк таблицы:"
   ]
  },
  {
   "cell_type": "code",
   "execution_count": 95,
   "metadata": {
    "id": "oWTVX3gW_Zct"
   },
   "outputs": [
    {
     "data": {
      "text/html": [
       "<div>\n",
       "<style scoped>\n",
       "    .dataframe tbody tr th:only-of-type {\n",
       "        vertical-align: middle;\n",
       "    }\n",
       "\n",
       "    .dataframe tbody tr th {\n",
       "        vertical-align: top;\n",
       "    }\n",
       "\n",
       "    .dataframe thead th {\n",
       "        text-align: right;\n",
       "    }\n",
       "</style>\n",
       "<table border=\"1\" class=\"dataframe\">\n",
       "  <thead>\n",
       "    <tr style=\"text-align: right;\">\n",
       "      <th></th>\n",
       "      <th>userID</th>\n",
       "      <th>Track</th>\n",
       "      <th>artist</th>\n",
       "      <th>genre</th>\n",
       "      <th>City</th>\n",
       "      <th>time</th>\n",
       "      <th>Day</th>\n",
       "    </tr>\n",
       "  </thead>\n",
       "  <tbody>\n",
       "    <tr>\n",
       "      <td>0</td>\n",
       "      <td>FFB692EC</td>\n",
       "      <td>Kamigata To Boots</td>\n",
       "      <td>The Mass Missile</td>\n",
       "      <td>rock</td>\n",
       "      <td>Saint-Petersburg</td>\n",
       "      <td>20:28:33</td>\n",
       "      <td>Wednesday</td>\n",
       "    </tr>\n",
       "    <tr>\n",
       "      <td>1</td>\n",
       "      <td>55204538</td>\n",
       "      <td>Delayed Because of Accident</td>\n",
       "      <td>Andreas Rönnberg</td>\n",
       "      <td>rock</td>\n",
       "      <td>Moscow</td>\n",
       "      <td>14:07:09</td>\n",
       "      <td>Friday</td>\n",
       "    </tr>\n",
       "    <tr>\n",
       "      <td>2</td>\n",
       "      <td>20EC38</td>\n",
       "      <td>Funiculì funiculà</td>\n",
       "      <td>Mario Lanza</td>\n",
       "      <td>pop</td>\n",
       "      <td>Saint-Petersburg</td>\n",
       "      <td>20:58:07</td>\n",
       "      <td>Wednesday</td>\n",
       "    </tr>\n",
       "    <tr>\n",
       "      <td>3</td>\n",
       "      <td>A3DD03C9</td>\n",
       "      <td>Dragons in the Sunset</td>\n",
       "      <td>Fire + Ice</td>\n",
       "      <td>folk</td>\n",
       "      <td>Saint-Petersburg</td>\n",
       "      <td>08:37:09</td>\n",
       "      <td>Monday</td>\n",
       "    </tr>\n",
       "    <tr>\n",
       "      <td>4</td>\n",
       "      <td>E2DC1FAE</td>\n",
       "      <td>Soul People</td>\n",
       "      <td>Space Echo</td>\n",
       "      <td>dance</td>\n",
       "      <td>Moscow</td>\n",
       "      <td>08:34:34</td>\n",
       "      <td>Monday</td>\n",
       "    </tr>\n",
       "    <tr>\n",
       "      <td>5</td>\n",
       "      <td>842029A1</td>\n",
       "      <td>Преданная</td>\n",
       "      <td>IMPERVTOR</td>\n",
       "      <td>rusrap</td>\n",
       "      <td>Saint-Petersburg</td>\n",
       "      <td>13:09:41</td>\n",
       "      <td>Friday</td>\n",
       "    </tr>\n",
       "    <tr>\n",
       "      <td>6</td>\n",
       "      <td>4CB90AA5</td>\n",
       "      <td>True</td>\n",
       "      <td>Roman Messer</td>\n",
       "      <td>dance</td>\n",
       "      <td>Moscow</td>\n",
       "      <td>13:00:07</td>\n",
       "      <td>Wednesday</td>\n",
       "    </tr>\n",
       "    <tr>\n",
       "      <td>7</td>\n",
       "      <td>F03E1C1F</td>\n",
       "      <td>Feeling This Way</td>\n",
       "      <td>Polina Griffith</td>\n",
       "      <td>dance</td>\n",
       "      <td>Moscow</td>\n",
       "      <td>20:47:49</td>\n",
       "      <td>Wednesday</td>\n",
       "    </tr>\n",
       "    <tr>\n",
       "      <td>8</td>\n",
       "      <td>8FA1D3BE</td>\n",
       "      <td>И вновь продолжается бой</td>\n",
       "      <td>NaN</td>\n",
       "      <td>ruspop</td>\n",
       "      <td>Moscow</td>\n",
       "      <td>09:17:40</td>\n",
       "      <td>Friday</td>\n",
       "    </tr>\n",
       "    <tr>\n",
       "      <td>9</td>\n",
       "      <td>E772D5C0</td>\n",
       "      <td>Pessimist</td>\n",
       "      <td>NaN</td>\n",
       "      <td>dance</td>\n",
       "      <td>Saint-Petersburg</td>\n",
       "      <td>21:20:49</td>\n",
       "      <td>Wednesday</td>\n",
       "    </tr>\n",
       "  </tbody>\n",
       "</table>\n",
       "</div>"
      ],
      "text/plain": [
       "     userID                        Track            artist   genre  \\\n",
       "0  FFB692EC            Kamigata To Boots  The Mass Missile    rock   \n",
       "1  55204538  Delayed Because of Accident  Andreas Rönnberg    rock   \n",
       "2    20EC38            Funiculì funiculà       Mario Lanza     pop   \n",
       "3  A3DD03C9        Dragons in the Sunset        Fire + Ice    folk   \n",
       "4  E2DC1FAE                  Soul People        Space Echo   dance   \n",
       "5  842029A1                    Преданная         IMPERVTOR  rusrap   \n",
       "6  4CB90AA5                         True      Roman Messer   dance   \n",
       "7  F03E1C1F             Feeling This Way   Polina Griffith   dance   \n",
       "8  8FA1D3BE     И вновь продолжается бой               NaN  ruspop   \n",
       "9  E772D5C0                    Pessimist               NaN   dance   \n",
       "\n",
       "             City        time        Day  \n",
       "0  Saint-Petersburg  20:28:33  Wednesday  \n",
       "1            Moscow  14:07:09     Friday  \n",
       "2  Saint-Petersburg  20:58:07  Wednesday  \n",
       "3  Saint-Petersburg  08:37:09     Monday  \n",
       "4            Moscow  08:34:34     Monday  \n",
       "5  Saint-Petersburg  13:09:41     Friday  \n",
       "6            Moscow  13:00:07  Wednesday  \n",
       "7            Moscow  20:47:49  Wednesday  \n",
       "8            Moscow  09:17:40     Friday  \n",
       "9  Saint-Petersburg  21:20:49  Wednesday  "
      ]
     },
     "metadata": {},
     "output_type": "display_data"
    }
   ],
   "source": [
    "# получение первых 10 строк таблицы df\n",
    "display(df.head(10))"
   ]
  },
  {
   "cell_type": "markdown",
   "metadata": {
    "id": "EO73Kwic_Zct"
   },
   "source": [
    "Одной командой получить общую информацию о таблице:"
   ]
  },
  {
   "cell_type": "code",
   "execution_count": 96,
   "metadata": {
    "id": "DSf2kIb-_Zct"
   },
   "outputs": [
    {
     "name": "stdout",
     "output_type": "stream",
     "text": [
      "<class 'pandas.core.frame.DataFrame'>\n",
      "RangeIndex: 65079 entries, 0 to 65078\n",
      "Data columns (total 7 columns):\n",
      "  userID    65079 non-null object\n",
      "Track       63848 non-null object\n",
      "artist      57876 non-null object\n",
      "genre       63881 non-null object\n",
      "  City      65079 non-null object\n",
      "time        65079 non-null object\n",
      "Day         65079 non-null object\n",
      "dtypes: object(7)\n",
      "memory usage: 3.5+ MB\n"
     ]
    }
   ],
   "source": [
    "# получение общей информации о данных в таблице df\n",
    "df.info()"
   ]
  },
  {
   "cell_type": "markdown",
   "metadata": {
    "id": "TaQ2Iwbr_Zct"
   },
   "source": [
    "Итак, в таблице семь столбцов. Тип данных во всех столбцах — `object`.\n",
    "\n",
    "Согласно документации к данным:\n",
    "* `userID` — идентификатор пользователя;\n",
    "* `Track` — название трека;  \n",
    "* `artist` — имя исполнителя;\n",
    "* `genre` — название жанра;\n",
    "* `City` — город пользователя;\n",
    "* `time` — время начала прослушивания;\n",
    "* `Day` — день недели.\n",
    "\n",
    "В названиях колонок видны три нарушения стиля:\n",
    "1. Строчные буквы сочетаются с прописными.\n",
    "2. Встречаются пробелы.\n",
    "3. Стилистически лучше использовать змеиный, а не верблюжий регистр.\n",
    "\n",
    "\n",
    "Количество значений в столбцах различается. Значит, в данных есть пропущенные значения.\n"
   ]
  },
  {
   "cell_type": "markdown",
   "metadata": {
    "id": "MCB6-dXG_Zct"
   },
   "source": [
    "**Выводы**\n",
    "\n",
    "В каждой строке таблицы — данные о прослушанном треке. Часть колонок описывает саму композицию: название, исполнителя и жанр. Остальные данные рассказывают о пользователе: из какого он города, когда он слушал музыку. \n",
    "\n",
    "Предварительно можно утверждать, что, данных достаточно для проверки гипотез. Но встречаются пропуски в данных, а в названиях колонок — расхождения с хорошим стилем.\n",
    "\n",
    "Чтобы двигаться дальше, нужно устранить проблемы в данных."
   ]
  },
  {
   "cell_type": "markdown",
   "metadata": {
    "id": "SjYF6Ub9_Zct"
   },
   "source": [
    "## Предобработка данных\n",
    "Исправьте стиль в заголовках столбцов, исключите пропуски. Затем проверьте данные на дубликаты."
   ]
  },
  {
   "cell_type": "markdown",
   "metadata": {
    "id": "dIaKXr29_Zct"
   },
   "source": [
    "### Стиль заголовков\n",
    "Выведите на экран названия столбцов:"
   ]
  },
  {
   "cell_type": "code",
   "execution_count": 97,
   "metadata": {
    "id": "oKOTdF_Q_Zct"
   },
   "outputs": [
    {
     "data": {
      "text/plain": [
       "Index(['  userID', 'Track', 'artist', 'genre', '  City  ', 'time', 'Day'], dtype='object')"
      ]
     },
     "metadata": {},
     "output_type": "display_data"
    }
   ],
   "source": [
    "# перечень названий столбцов таблицы df\n",
    "display(df.columns)"
   ]
  },
  {
   "cell_type": "markdown",
   "metadata": {
    "id": "zj5534cv_Zct"
   },
   "source": [
    "Приведите названия в соответствие с хорошим стилем:\n",
    "* несколько слов в названии запишите в «змеином_регистре»,\n",
    "* все символы сделайте строчными,\n",
    "* устраните пробелы.\n",
    "\n",
    "Для этого переименуйте колонки так:\n",
    "* `'  userID'` → `'user_id'`;\n",
    "* `'Track'` → `'track'`;\n",
    "* `'  City  '` → `'city'`;\n",
    "* `'Day'` → `'day'`."
   ]
  },
  {
   "cell_type": "code",
   "execution_count": 98,
   "metadata": {
    "id": "ISlFqs5y_Zct"
   },
   "outputs": [],
   "source": [
    "# переименование столбцов\n",
    "df = df.rename(columns = {'  userID':'user_id', \n",
    "                        'Track':'track',\n",
    "                        '  City  ':'city',\n",
    "                        'Day':'day'})"
   ]
  },
  {
   "cell_type": "markdown",
   "metadata": {
    "id": "1dqbh00J_Zct"
   },
   "source": [
    "Проверьте результат. Для этого ещё раз выведите на экран названия столбцов:"
   ]
  },
  {
   "cell_type": "code",
   "execution_count": 99,
   "metadata": {
    "id": "d4NOAmTW_Zct"
   },
   "outputs": [
    {
     "data": {
      "text/plain": [
       "Index(['user_id', 'track', 'artist', 'genre', 'city', 'time', 'day'], dtype='object')"
      ]
     },
     "metadata": {},
     "output_type": "display_data"
    }
   ],
   "source": [
    "# проверка результатов - перечень названий столбцов\n",
    "display(df.columns)"
   ]
  },
  {
   "cell_type": "markdown",
   "metadata": {
    "id": "5ISfbcfY_Zct"
   },
   "source": [
    "### Пропуски значений\n",
    "Сначала посчитайте, сколько в таблице пропущенных значений. Для этого достаточно двух методов `pandas`:"
   ]
  },
  {
   "cell_type": "code",
   "execution_count": 100,
   "metadata": {
    "id": "RskX29qr_Zct"
   },
   "outputs": [
    {
     "data": {
      "text/plain": [
       "user_id       0\n",
       "track      1231\n",
       "artist     7203\n",
       "genre      1198\n",
       "city          0\n",
       "time          0\n",
       "day           0\n",
       "dtype: int64"
      ]
     },
     "metadata": {},
     "output_type": "display_data"
    }
   ],
   "source": [
    "# подсчёт пропусков\n",
    "display(df.isna().sum())"
   ]
  },
  {
   "cell_type": "markdown",
   "metadata": {
    "id": "qubhgnlO_Zct"
   },
   "source": [
    "Не все пропущенные значения влияют на исследование. Так в `track` и `artist` пропуски не важны для вашей работы. Достаточно заменить их явными обозначениями.\n",
    "\n",
    "Но пропуски в `genre` могут помешать сравнению музыкальных вкусов в Москве и Санкт-Петербурге. На практике было бы правильно установить причину пропусков и восстановить данные. Такой возможности нет в учебном проекте. Придётся:\n",
    "* заполнить и эти пропуски явными обозначениями,\n",
    "* оценить, насколько они повредят расчётам. "
   ]
  },
  {
   "cell_type": "markdown",
   "metadata": {
    "id": "fSv2laPA_Zct"
   },
   "source": [
    "Замените пропущенные значения в столбцах `track`, `artist` и `genre` на строку `'unknown'`. Для этого создайте список `columns_to_replace`, переберите его элементы циклом `for` и для каждого столбца выполните замену пропущенных значений:"
   ]
  },
  {
   "cell_type": "code",
   "execution_count": 101,
   "metadata": {
    "id": "KplB5qWs_Zct"
   },
   "outputs": [],
   "source": [
    "# перебор названий столбцов в цикле и замена пропущенных значений на 'unknown'\n",
    "columns_to_replace = ['track', 'artist', 'genre']\n",
    "for column in columns_to_replace:\n",
    "    df[column] = df[column].fillna('unknown')"
   ]
  },
  {
   "cell_type": "markdown",
   "metadata": {
    "id": "Ilsm-MZo_Zct"
   },
   "source": [
    "Убедитесь, что в таблице не осталось пропусков. Для этого ещё раз посчитайте пропущенные значения."
   ]
  },
  {
   "cell_type": "code",
   "execution_count": 102,
   "metadata": {
    "id": "Tq4nYRX4_Zct"
   },
   "outputs": [
    {
     "data": {
      "text/plain": [
       "user_id    0\n",
       "track      0\n",
       "artist     0\n",
       "genre      0\n",
       "city       0\n",
       "time       0\n",
       "day        0\n",
       "dtype: int64"
      ]
     },
     "metadata": {},
     "output_type": "display_data"
    }
   ],
   "source": [
    "# подсчёт пропусков\n",
    "display(df.isna().sum())"
   ]
  },
  {
   "cell_type": "markdown",
   "metadata": {
    "id": "BWKRtBJ3_Zct"
   },
   "source": [
    "### Дубликаты\n",
    "Посчитайте явные дубликаты в таблице одной командой:"
   ]
  },
  {
   "cell_type": "code",
   "execution_count": 103,
   "metadata": {
    "id": "36eES_S0_Zct"
   },
   "outputs": [
    {
     "name": "stdout",
     "output_type": "stream",
     "text": [
      "3826\n"
     ]
    }
   ],
   "source": [
    "# подсчёт явных дубликатов\n",
    "print(df.duplicated().sum())"
   ]
  },
  {
   "cell_type": "markdown",
   "metadata": {
    "id": "Ot25h6XR_Zct"
   },
   "source": [
    "Вызовите специальный метод `pandas`, чтобы удалить явные дубликаты:"
   ]
  },
  {
   "cell_type": "code",
   "execution_count": 104,
   "metadata": {
    "id": "exFHq6tt_Zct"
   },
   "outputs": [],
   "source": [
    "# удаление явных дубликатов (с удалением старых индексов и формированием новых)\n",
    "df = df.drop_duplicates().reset_index(drop=True)"
   ]
  },
  {
   "cell_type": "markdown",
   "metadata": {
    "id": "Im2YwBEG_Zct"
   },
   "source": [
    "Ещё раз посчитайте явные дубликаты в таблице — убедитесь, что полностью от них избавились:"
   ]
  },
  {
   "cell_type": "code",
   "execution_count": 105,
   "metadata": {
    "id": "-8PuNWQ0_Zct"
   },
   "outputs": [
    {
     "name": "stdout",
     "output_type": "stream",
     "text": [
      "0\n"
     ]
    }
   ],
   "source": [
    "# проверка на отсутствие дубликатов\n",
    "print(df.duplicated().sum())"
   ]
  },
  {
   "cell_type": "markdown",
   "metadata": {
    "id": "QlFBsxAr_Zct"
   },
   "source": [
    "Теперь избавьтесь от неявных дубликатов в колонке `genre`. Например, название одного и того же жанра может быть записано немного по-разному. Такие ошибки тоже повлияют на результат исследования."
   ]
  },
  {
   "cell_type": "markdown",
   "metadata": {
    "id": "eSjWwsOh_Zct"
   },
   "source": [
    "Выведите на экран список уникальных названий жанров, отсортированный в алфавитном порядке. Для этого:\n",
    "* извлеките нужный столбец датафрейма, \n",
    "* примените к нему метод сортировки,\n",
    "* для отсортированного столбца вызовите метод, который вернёт уникальные значения из столбца."
   ]
  },
  {
   "cell_type": "code",
   "execution_count": 106,
   "metadata": {
    "id": "JIUcqzZN_Zct"
   },
   "outputs": [
    {
     "data": {
      "text/plain": [
       "array(['acid', 'acoustic', 'action', 'adult', 'africa', 'afrikaans',\n",
       "       'alternative', 'alternativepunk', 'ambient', 'americana',\n",
       "       'animated', 'anime', 'arabesk', 'arabic', 'arena',\n",
       "       'argentinetango', 'art', 'audiobook', 'author', 'avantgarde',\n",
       "       'axé', 'baile', 'balkan', 'beats', 'bigroom', 'black', 'bluegrass',\n",
       "       'blues', 'bollywood', 'bossa', 'brazilian', 'breakbeat', 'breaks',\n",
       "       'broadway', 'cantautori', 'cantopop', 'canzone', 'caribbean',\n",
       "       'caucasian', 'celtic', 'chamber', 'chanson', 'children', 'chill',\n",
       "       'chinese', 'choral', 'christian', 'christmas', 'classical',\n",
       "       'classicmetal', 'club', 'colombian', 'comedy', 'conjazz',\n",
       "       'contemporary', 'country', 'cuban', 'dance', 'dancehall',\n",
       "       'dancepop', 'dark', 'death', 'deep', 'deutschrock', 'deutschspr',\n",
       "       'dirty', 'disco', 'dnb', 'documentary', 'downbeat', 'downtempo',\n",
       "       'drum', 'dub', 'dubstep', 'eastern', 'easy', 'electronic',\n",
       "       'electropop', 'emo', 'entehno', 'epicmetal', 'estrada', 'ethnic',\n",
       "       'eurofolk', 'european', 'experimental', 'extrememetal', 'fado',\n",
       "       'fairytail', 'film', 'fitness', 'flamenco', 'folk', 'folklore',\n",
       "       'folkmetal', 'folkrock', 'folktronica', 'forró', 'frankreich',\n",
       "       'französisch', 'french', 'funk', 'future', 'gangsta', 'garage',\n",
       "       'german', 'ghazal', 'gitarre', 'glitch', 'gospel', 'gothic',\n",
       "       'grime', 'grunge', 'gypsy', 'handsup', \"hard'n'heavy\", 'hardcore',\n",
       "       'hardstyle', 'hardtechno', 'hip', 'hip-hop', 'hiphop',\n",
       "       'historisch', 'holiday', 'hop', 'horror', 'house', 'hymn', 'idm',\n",
       "       'independent', 'indian', 'indie', 'indipop', 'industrial',\n",
       "       'inspirational', 'instrumental', 'international', 'irish', 'jam',\n",
       "       'japanese', 'jazz', 'jewish', 'jpop', 'jungle', 'k-pop',\n",
       "       'karadeniz', 'karaoke', 'kayokyoku', 'korean', 'laiko', 'latin',\n",
       "       'latino', 'leftfield', 'local', 'lounge', 'loungeelectronic',\n",
       "       'lovers', 'malaysian', 'mandopop', 'marschmusik', 'meditative',\n",
       "       'mediterranean', 'melodic', 'metal', 'metalcore', 'mexican',\n",
       "       'middle', 'minimal', 'miscellaneous', 'modern', 'mood', 'mpb',\n",
       "       'muslim', 'native', 'neoklassik', 'neue', 'new', 'newage',\n",
       "       'newwave', 'nu', 'nujazz', 'numetal', 'oceania', 'old', 'opera',\n",
       "       'orchestral', 'other', 'piano', 'podcasts', 'pop', 'popdance',\n",
       "       'popelectronic', 'popeurodance', 'poprussian', 'post',\n",
       "       'posthardcore', 'postrock', 'power', 'progmetal', 'progressive',\n",
       "       'psychedelic', 'punjabi', 'punk', 'quebecois', 'ragga', 'ram',\n",
       "       'rancheras', 'rap', 'rave', 'reggae', 'reggaeton', 'regional',\n",
       "       'relax', 'religious', 'retro', 'rhythm', 'rnb', 'rnr', 'rock',\n",
       "       'rockabilly', 'rockalternative', 'rockindie', 'rockother',\n",
       "       'romance', 'roots', 'ruspop', 'rusrap', 'rusrock', 'russian',\n",
       "       'salsa', 'samba', 'scenic', 'schlager', 'self', 'sertanejo',\n",
       "       'shanson', 'shoegazing', 'showtunes', 'singer', 'ska', 'skarock',\n",
       "       'slow', 'smooth', 'soft', 'soul', 'soulful', 'sound', 'soundtrack',\n",
       "       'southern', 'specialty', 'speech', 'spiritual', 'sport',\n",
       "       'stonerrock', 'surf', 'swing', 'synthpop', 'synthrock',\n",
       "       'sängerportrait', 'tango', 'tanzorchester', 'taraftar', 'tatar',\n",
       "       'tech', 'techno', 'teen', 'thrash', 'top', 'traditional',\n",
       "       'tradjazz', 'trance', 'tribal', 'trip', 'triphop', 'tropical',\n",
       "       'türk', 'türkçe', 'ukrrock', 'unknown', 'urban', 'uzbek',\n",
       "       'variété', 'vi', 'videogame', 'vocal', 'western', 'world',\n",
       "       'worldbeat', 'ïîï', 'электроника'], dtype=object)"
      ]
     },
     "metadata": {},
     "output_type": "display_data"
    }
   ],
   "source": [
    "# Просмотр уникальных названий жанров\n",
    "display(df['genre'].sort_values().unique())"
   ]
  },
  {
   "cell_type": "markdown",
   "metadata": {},
   "source": [
    "В конце таблицы видем жанр `ïîï` который не позволяет себя индентифицировать. Его так же переименовываем в `unknown`.\n"
   ]
  },
  {
   "cell_type": "code",
   "execution_count": 107,
   "metadata": {},
   "outputs": [],
   "source": [
    "# Переименовываем жанр 'ïîï' в 'unknown'\n",
    "df['genre'] = df['genre'].replace('ïîï', 'unknown')"
   ]
  },
  {
   "cell_type": "markdown",
   "metadata": {
    "id": "qej-Qmuo_Zct"
   },
   "source": [
    "Просмотрите список и найдите неявные дубликаты названия `hiphop`. Это могут быть названия с ошибками или альтернативные названия того же жанра.\n",
    "\n",
    "Вы увидите следующие неявные дубликаты:\n",
    "* *hip*,\n",
    "* *hop*,\n",
    "* *hip-hop*.\n",
    "\n",
    "Чтобы очистить от них таблицу, напишите функцию `replace_wrong_genres()` с двумя параметрами: \n",
    "* `wrong_genres` — список дубликатов,\n",
    "* `correct_genre` — строка с правильным значением.\n",
    "\n",
    "Функция должна исправить колонку `genre` в таблице `df`: заменить каждое значение из списка `wrong_genres` на значение из `correct_genre`."
   ]
  },
  {
   "cell_type": "code",
   "execution_count": 108,
   "metadata": {
    "id": "ErNDkmns_Zct"
   },
   "outputs": [],
   "source": [
    "# Функция для замены неявных дубликатов\n",
    "def replace_wrong_genres(wrong_genres, correct_genre):\n",
    "    for each in wrong_genres:\n",
    "        df['genre'] = df['genre'].replace(each, correct_genre)\n",
    "    return"
   ]
  },
  {
   "cell_type": "markdown",
   "metadata": {
    "id": "aDoBJxbA_Zct"
   },
   "source": [
    "Вызовите `replace_wrong_genres()` и передайте ей такие аргументы, чтобы она устранила неявные дубликаты: вместо `hip`, `hop` и `hip-hop` в таблице должно быть значение `hiphop`:"
   ]
  },
  {
   "cell_type": "code",
   "execution_count": 109,
   "metadata": {
    "id": "YN5i2hpmSo09"
   },
   "outputs": [],
   "source": [
    "# Устранение неявных дубликатов\n",
    "wrong_genres = ['hip', 'hop', 'hip-hop']\n",
    "correct_genre = 'hiphop'\n",
    "replace_wrong_genres(wrong_genres, correct_genre)"
   ]
  },
  {
   "cell_type": "markdown",
   "metadata": {},
   "source": [
    "В таблице также нужно устранить неявный дубликат `электроника`. Заменим его на `electronic`."
   ]
  },
  {
   "cell_type": "code",
   "execution_count": 110,
   "metadata": {},
   "outputs": [],
   "source": [
    "# Устраняем неявный дубликат 'электроника'\n",
    "wrong_genres = ['электроника']\n",
    "correct_genre = 'electronic'\n",
    "replace_wrong_genres(wrong_genres, correct_genre)"
   ]
  },
  {
   "cell_type": "markdown",
   "metadata": {
    "id": "zQKF16_RG15m"
   },
   "source": [
    "Проверьте, что заменили неправильные названия:\n",
    "\n",
    "*   hip\n",
    "*   hop\n",
    "*   hip-hop\n",
    "*   электроника\n",
    "\n",
    "Выведите отсортированный список уникальных значений столбца `genre`:"
   ]
  },
  {
   "cell_type": "code",
   "execution_count": 111,
   "metadata": {
    "id": "wvixALnFG15m"
   },
   "outputs": [
    {
     "data": {
      "text/plain": [
       "array(['acid', 'acoustic', 'action', 'adult', 'africa', 'afrikaans',\n",
       "       'alternative', 'alternativepunk', 'ambient', 'americana',\n",
       "       'animated', 'anime', 'arabesk', 'arabic', 'arena',\n",
       "       'argentinetango', 'art', 'audiobook', 'author', 'avantgarde',\n",
       "       'axé', 'baile', 'balkan', 'beats', 'bigroom', 'black', 'bluegrass',\n",
       "       'blues', 'bollywood', 'bossa', 'brazilian', 'breakbeat', 'breaks',\n",
       "       'broadway', 'cantautori', 'cantopop', 'canzone', 'caribbean',\n",
       "       'caucasian', 'celtic', 'chamber', 'chanson', 'children', 'chill',\n",
       "       'chinese', 'choral', 'christian', 'christmas', 'classical',\n",
       "       'classicmetal', 'club', 'colombian', 'comedy', 'conjazz',\n",
       "       'contemporary', 'country', 'cuban', 'dance', 'dancehall',\n",
       "       'dancepop', 'dark', 'death', 'deep', 'deutschrock', 'deutschspr',\n",
       "       'dirty', 'disco', 'dnb', 'documentary', 'downbeat', 'downtempo',\n",
       "       'drum', 'dub', 'dubstep', 'eastern', 'easy', 'electronic',\n",
       "       'electropop', 'emo', 'entehno', 'epicmetal', 'estrada', 'ethnic',\n",
       "       'eurofolk', 'european', 'experimental', 'extrememetal', 'fado',\n",
       "       'fairytail', 'film', 'fitness', 'flamenco', 'folk', 'folklore',\n",
       "       'folkmetal', 'folkrock', 'folktronica', 'forró', 'frankreich',\n",
       "       'französisch', 'french', 'funk', 'future', 'gangsta', 'garage',\n",
       "       'german', 'ghazal', 'gitarre', 'glitch', 'gospel', 'gothic',\n",
       "       'grime', 'grunge', 'gypsy', 'handsup', \"hard'n'heavy\", 'hardcore',\n",
       "       'hardstyle', 'hardtechno', 'hiphop', 'historisch', 'holiday',\n",
       "       'horror', 'house', 'hymn', 'idm', 'independent', 'indian', 'indie',\n",
       "       'indipop', 'industrial', 'inspirational', 'instrumental',\n",
       "       'international', 'irish', 'jam', 'japanese', 'jazz', 'jewish',\n",
       "       'jpop', 'jungle', 'k-pop', 'karadeniz', 'karaoke', 'kayokyoku',\n",
       "       'korean', 'laiko', 'latin', 'latino', 'leftfield', 'local',\n",
       "       'lounge', 'loungeelectronic', 'lovers', 'malaysian', 'mandopop',\n",
       "       'marschmusik', 'meditative', 'mediterranean', 'melodic', 'metal',\n",
       "       'metalcore', 'mexican', 'middle', 'minimal', 'miscellaneous',\n",
       "       'modern', 'mood', 'mpb', 'muslim', 'native', 'neoklassik', 'neue',\n",
       "       'new', 'newage', 'newwave', 'nu', 'nujazz', 'numetal', 'oceania',\n",
       "       'old', 'opera', 'orchestral', 'other', 'piano', 'podcasts', 'pop',\n",
       "       'popdance', 'popelectronic', 'popeurodance', 'poprussian', 'post',\n",
       "       'posthardcore', 'postrock', 'power', 'progmetal', 'progressive',\n",
       "       'psychedelic', 'punjabi', 'punk', 'quebecois', 'ragga', 'ram',\n",
       "       'rancheras', 'rap', 'rave', 'reggae', 'reggaeton', 'regional',\n",
       "       'relax', 'religious', 'retro', 'rhythm', 'rnb', 'rnr', 'rock',\n",
       "       'rockabilly', 'rockalternative', 'rockindie', 'rockother',\n",
       "       'romance', 'roots', 'ruspop', 'rusrap', 'rusrock', 'russian',\n",
       "       'salsa', 'samba', 'scenic', 'schlager', 'self', 'sertanejo',\n",
       "       'shanson', 'shoegazing', 'showtunes', 'singer', 'ska', 'skarock',\n",
       "       'slow', 'smooth', 'soft', 'soul', 'soulful', 'sound', 'soundtrack',\n",
       "       'southern', 'specialty', 'speech', 'spiritual', 'sport',\n",
       "       'stonerrock', 'surf', 'swing', 'synthpop', 'synthrock',\n",
       "       'sängerportrait', 'tango', 'tanzorchester', 'taraftar', 'tatar',\n",
       "       'tech', 'techno', 'teen', 'thrash', 'top', 'traditional',\n",
       "       'tradjazz', 'trance', 'tribal', 'trip', 'triphop', 'tropical',\n",
       "       'türk', 'türkçe', 'ukrrock', 'unknown', 'urban', 'uzbek',\n",
       "       'variété', 'vi', 'videogame', 'vocal', 'western', 'world',\n",
       "       'worldbeat'], dtype=object)"
      ]
     },
     "metadata": {},
     "output_type": "display_data"
    }
   ],
   "source": [
    "# Проверка на неявные дубликаты\n",
    "#display(sorted(df['genre'].unique()))\n",
    "display(df['genre'].sort_values().unique())"
   ]
  },
  {
   "cell_type": "markdown",
   "metadata": {
    "id": "jz6a9-7HQUDd"
   },
   "source": [
    "**Выводы**\n",
    "\n",
    "Предобработка обнаружила три проблемы в данных:\n",
    "\n",
    "- нарушения в стиле заголовков,\n",
    "- пропущенные значения,\n",
    "- дубликаты — явные и неявные.\n",
    "\n",
    "Вы исправили заголовки, чтобы упростить работу с таблицей. Без дубликатов исследование станет более точным.\n",
    "\n",
    "Пропущенные значения вы заменили на `'unknown'`. Ещё предстоит увидеть, не повредят ли исследованию пропуски в колонке `genre`.\n",
    "\n",
    "Теперь можно перейти к проверке гипотез. "
   ]
  },
  {
   "cell_type": "markdown",
   "metadata": {
    "id": "WttZHXH0SqKk"
   },
   "source": [
    "## Проверка гипотез"
   ]
  },
  {
   "cell_type": "markdown",
   "metadata": {
    "id": "Im936VVi_Zcu"
   },
   "source": [
    "### Сравнение поведения пользователей двух столиц"
   ]
  },
  {
   "cell_type": "markdown",
   "metadata": {
    "id": "nwt_MuaL_Zcu"
   },
   "source": [
    "Первая гипотеза утверждает, что пользователи по-разному слушают музыку в Москве и Санкт-Петербурге. Проверьте это предположение по данным о трёх днях недели — понедельнике, среде и пятнице. Для этого:\n",
    "\n",
    "* Разделите пользователей Москвы и Санкт-Петербурга\n",
    "* Сравните, сколько треков послушала каждая группа пользователей в понедельник, среду и пятницу.\n"
   ]
  },
  {
   "cell_type": "markdown",
   "metadata": {
    "id": "8Dw_YMmT_Zcu"
   },
   "source": [
    "Для тренировки сначала выполните каждый из расчётов по отдельности. \n",
    "\n",
    "Оцените активность пользователей в каждом городе. Сгруппируйте данные по городу и посчитайте прослушивания в каждой группе.\n",
    "\n"
   ]
  },
  {
   "cell_type": "code",
   "execution_count": 112,
   "metadata": {
    "id": "0_Qs96oh_Zcu"
   },
   "outputs": [
    {
     "name": "stdout",
     "output_type": "stream",
     "text": [
      "city\n",
      "Moscow              42741\n",
      "Saint-Petersburg    18512\n",
      "Name: user_id, dtype: int64\n"
     ]
    }
   ],
   "source": [
    "# Подсчёт прослушиваний в каждом городе\n",
    "print(df.groupby('city')['user_id'].count())"
   ]
  },
  {
   "cell_type": "markdown",
   "metadata": {
    "id": "dzli3w8o_Zcu"
   },
   "source": [
    "В Москве прослушиваний больше, чем в Петербурге. Из этого не следует, что московские пользователи чаще слушают музыку. Просто самих пользователей в Москве больше.\n",
    "\n",
    "Теперь сгруппируйте данные по дню недели и подсчитайте прослушивания в понедельник, среду и пятницу. Учтите, что в данных есть информация только о прослушиваниях только за эти дни.\n"
   ]
  },
  {
   "cell_type": "code",
   "execution_count": 113,
   "metadata": {
    "id": "uZMKjiJz_Zcu"
   },
   "outputs": [
    {
     "data": {
      "text/plain": [
       "day\n",
       "Friday       21840\n",
       "Monday       21354\n",
       "Wednesday    18059\n",
       "Name: user_id, dtype: int64"
      ]
     },
     "metadata": {},
     "output_type": "display_data"
    }
   ],
   "source": [
    "# Подсчёт прослушиваний в каждый из трёх дней\n",
    "display(df.groupby('day')['user_id'].count())"
   ]
  },
  {
   "cell_type": "markdown",
   "metadata": {
    "id": "cC2tNrlL_Zcu"
   },
   "source": [
    "В среднем пользователи из двух городов менее активны по средам. Но картина может измениться, если рассмотреть каждый город в отдельности."
   ]
  },
  {
   "cell_type": "markdown",
   "metadata": {
    "id": "POzs8bGa_Zcu"
   },
   "source": [
    "Вы видели, как работает группировка по городу и по дням недели. Теперь напишите функцию, которая объединит два эти расчёта.\n",
    "\n",
    "Создайте функцию `number_tracks()`, которая посчитает прослушивания для заданного дня и города. Ей понадобятся два параметра:\n",
    "* день недели,\n",
    "* название города.\n",
    "\n",
    "В функции сохраните в переменную строки исходной таблицы, у которых значение:\n",
    "  * в колонке `day` равно параметру `day`,\n",
    "  * в колонке `city` равно параметру `city`.\n",
    "\n",
    "Для этого примените последовательную фильтрацию с логической индексацией.\n",
    "\n",
    "Затем посчитайте значения в столбце `user_id` получившейся таблицы. Результат сохраните в новую переменную. Верните эту переменную из функции."
   ]
  },
  {
   "cell_type": "code",
   "execution_count": 114,
   "metadata": {
    "id": "Nz3GdQB1_Zcu"
   },
   "outputs": [],
   "source": [
    "# <создание функции number_tracks()>\n",
    "# Объявляется функция с двумя параметрами: day, city.\n",
    "def number_tracks(day, city):\n",
    "    \n",
    "# В переменной track_list сохраняются те строки таблицы df, для которых \n",
    "# значение в столбце 'day' равно параметру day и одновременно значение\n",
    "    track_list = df[df['day'] == day]\n",
    "    \n",
    "# в столбце 'city' равно параметру city (используйте последовательную фильтрацию\n",
    "# с помощью логической индексации).\n",
    "    track_list = track_list[track_list['city'] == city]\n",
    "    \n",
    "# В переменной track_list_count сохраняется число значений столбца 'user_id',\n",
    "# рассчитанное методом count() для таблицы track_list.\n",
    "    track_list_count = track_list['user_id'].count()\n",
    "    \n",
    "# Функция возвращает число - значение track_list_count.\n",
    "    return track_list_count\n",
    "\n",
    "# Функция для подсчёта прослушиваний для конкретного города и дня.\n",
    "# С помощью последовательной фильтрации с логической индексацией она \n",
    "# сначала получит из исходной таблицы строки с нужным днём,\n",
    "# затем из результата отфильтрует строки с нужным городом,\n",
    "# методом count() посчитает количество значений в колонке user_id. \n",
    "# Это количество функция вернёт в качестве результата"
   ]
  },
  {
   "cell_type": "markdown",
   "metadata": {
    "id": "ytf7xFrFJQ2r"
   },
   "source": [
    "Вызовите `number_tracks()` шесть раз, меняя значение параметров — так, чтобы получить данные для каждого города в каждый из трёх дней."
   ]
  },
  {
   "cell_type": "code",
   "execution_count": 115,
   "metadata": {
    "id": "rJcRATNQ_Zcu"
   },
   "outputs": [
    {
     "name": "stdout",
     "output_type": "stream",
     "text": [
      "15740\n"
     ]
    }
   ],
   "source": [
    "# количество прослушиваний в Москве по понедельникам\n",
    "print(number_tracks('Monday','Moscow'))"
   ]
  },
  {
   "cell_type": "code",
   "execution_count": 116,
   "metadata": {
    "id": "hq_ncZ5T_Zcu"
   },
   "outputs": [
    {
     "name": "stdout",
     "output_type": "stream",
     "text": [
      "5614\n"
     ]
    }
   ],
   "source": [
    "# количество прослушиваний в Санкт-Петербурге по понедельникам\n",
    "print(number_tracks('Monday','Saint-Petersburg'))"
   ]
  },
  {
   "cell_type": "code",
   "execution_count": 117,
   "metadata": {
    "id": "_NTy2VPU_Zcu"
   },
   "outputs": [
    {
     "name": "stdout",
     "output_type": "stream",
     "text": [
      "11056\n"
     ]
    }
   ],
   "source": [
    "# количество прослушиваний в Москве по средам\n",
    "print(number_tracks('Wednesday','Moscow'))"
   ]
  },
  {
   "cell_type": "code",
   "execution_count": 118,
   "metadata": {
    "id": "j2y3TAwo_Zcu"
   },
   "outputs": [
    {
     "name": "stdout",
     "output_type": "stream",
     "text": [
      "7003\n"
     ]
    }
   ],
   "source": [
    "# количество прослушиваний в Санкт-Петербурге по средам\n",
    "print(number_tracks('Wednesday','Saint-Petersburg'))"
   ]
  },
  {
   "cell_type": "code",
   "execution_count": 119,
   "metadata": {
    "id": "vYDw5u_K_Zcu"
   },
   "outputs": [
    {
     "name": "stdout",
     "output_type": "stream",
     "text": [
      "15945\n"
     ]
    }
   ],
   "source": [
    "# количество прослушиваний в Москве по пятницам\n",
    "print(number_tracks('Friday','Moscow'))"
   ]
  },
  {
   "cell_type": "code",
   "execution_count": 120,
   "metadata": {
    "id": "8_yzFtW3_Zcu"
   },
   "outputs": [
    {
     "name": "stdout",
     "output_type": "stream",
     "text": [
      "5895\n"
     ]
    }
   ],
   "source": [
    "# количество прослушиваний в Санкт-Петербурге по пятницам\n",
    "print(number_tracks('Friday','Saint-Petersburg'))"
   ]
  },
  {
   "cell_type": "markdown",
   "metadata": {
    "id": "7QXffbO-_Zcu"
   },
   "source": [
    "Создайте c помощью конструктора `pd.DataFrame` таблицу, где\n",
    "* названия колонок — `['city', 'monday', 'wednesday', 'friday']`;\n",
    "* данные — результаты, которые вы получили с помощью `number_tracks`."
   ]
  },
  {
   "cell_type": "code",
   "execution_count": 121,
   "metadata": {
    "id": "APAcLpOr_Zcu"
   },
   "outputs": [
    {
     "data": {
      "text/html": [
       "<div>\n",
       "<style scoped>\n",
       "    .dataframe tbody tr th:only-of-type {\n",
       "        vertical-align: middle;\n",
       "    }\n",
       "\n",
       "    .dataframe tbody tr th {\n",
       "        vertical-align: top;\n",
       "    }\n",
       "\n",
       "    .dataframe thead th {\n",
       "        text-align: right;\n",
       "    }\n",
       "</style>\n",
       "<table border=\"1\" class=\"dataframe\">\n",
       "  <thead>\n",
       "    <tr style=\"text-align: right;\">\n",
       "      <th></th>\n",
       "      <th>city</th>\n",
       "      <th>monday</th>\n",
       "      <th>wednesday</th>\n",
       "      <th>friday</th>\n",
       "    </tr>\n",
       "  </thead>\n",
       "  <tbody>\n",
       "    <tr>\n",
       "      <td>0</td>\n",
       "      <td>Moscow</td>\n",
       "      <td>15740</td>\n",
       "      <td>11056</td>\n",
       "      <td>15945</td>\n",
       "    </tr>\n",
       "    <tr>\n",
       "      <td>1</td>\n",
       "      <td>Saint-Petersburg</td>\n",
       "      <td>5614</td>\n",
       "      <td>7003</td>\n",
       "      <td>5895</td>\n",
       "    </tr>\n",
       "  </tbody>\n",
       "</table>\n",
       "</div>"
      ],
      "text/plain": [
       "               city  monday  wednesday  friday\n",
       "0            Moscow   15740      11056   15945\n",
       "1  Saint-Petersburg    5614       7003    5895"
      ]
     },
     "metadata": {},
     "output_type": "display_data"
    }
   ],
   "source": [
    "# Таблица с результатами\n",
    "columns = ['city', 'monday', 'wednesday', 'friday']\n",
    "data = [['Moscow', 15740, 11056, 15945],\n",
    "        ['Saint-Petersburg', 5614, 7003, 5895]]\n",
    "display(pd.DataFrame(data = data, columns = columns))"
   ]
  },
  {
   "cell_type": "markdown",
   "metadata": {
    "id": "-EgPIHYu_Zcu"
   },
   "source": [
    "**Выводы**\n",
    "\n",
    "Данные показывают разницу поведения пользователей:\n",
    "\n",
    "- В Москве пик прослушиваний приходится на понедельник и пятницу, а в среду заметен спад.\n",
    "- В Петербурге, наоборот, больше слушают музыку по средам. Активность в понедельник и пятницу здесь почти в равной мере уступает среде.\n",
    "\n",
    "Значит, данные говорят в пользу первой гипотезы."
   ]
  },
  {
   "cell_type": "markdown",
   "metadata": {
    "id": "atZAxtq4_Zcu"
   },
   "source": [
    "### Музыка в начале и в конце недели"
   ]
  },
  {
   "cell_type": "markdown",
   "metadata": {
    "id": "eXrQqXFH_Zcu"
   },
   "source": [
    "Согласно второй гипотезе, утром в понедельник в Москве преобладают одни жанры, а в Петербурге — другие. Так же и вечером пятницы преобладают разные жанры — в зависимости от города."
   ]
  },
  {
   "cell_type": "markdown",
   "metadata": {
    "id": "S8UcW6Hw_Zcu"
   },
   "source": [
    "Сохраните таблицы с данными в две переменные:\n",
    "* по Москве — в `moscow_general`;\n",
    "* по Санкт-Петербургу — в `spb_general`."
   ]
  },
  {
   "cell_type": "code",
   "execution_count": 122,
   "metadata": {
    "id": "qeaFfM_P_Zcu"
   },
   "outputs": [],
   "source": [
    "# получение таблицы moscow_general из тех строк таблицы df, \n",
    "# для которых значение в столбце 'city' равно 'Moscow'\n",
    "moscow_general = df[df['city'] == 'Moscow']"
   ]
  },
  {
   "cell_type": "code",
   "execution_count": 123,
   "metadata": {
    "id": "ORaVRKto_Zcu"
   },
   "outputs": [],
   "source": [
    "# получение таблицы spb_general из тех строк таблицы df,\n",
    "# для которых значение в столбце 'city' равно 'Saint-Petersburg'\n",
    "spb_general = df[df['city'] == 'Saint-Petersburg']"
   ]
  },
  {
   "cell_type": "markdown",
   "metadata": {
    "id": "MEJV-CX2_Zcu"
   },
   "source": [
    "Создайте функцию `genre_weekday()` с четырьмя параметрами:\n",
    "* таблица (датафрейм) с данными,\n",
    "* день недели,\n",
    "* начальная временная метка в формате 'hh:mm', \n",
    "* последняя временная метка в формате 'hh:mm'.\n",
    "\n",
    "Функция должна вернуть информацию о топ-10 жанров тех треков, которые прослушивали в указанный день, в промежутке между двумя отметками времени."
   ]
  },
  {
   "cell_type": "code",
   "execution_count": 124,
   "metadata": {
    "id": "laJT9BYl_Zcu"
   },
   "outputs": [],
   "source": [
    "# Объявление функции genre_weekday() с параметрами table, day, time1, time2,\n",
    "# которая возвращает информацию о самых популярных жанрах в указанный день в\n",
    "# заданное время:\n",
    "def genre_weekday(table, day, time1, time2):\n",
    "    \n",
    "# 1) в переменную genre_df сохраняются те строки переданного датафрейма table, для\n",
    "#    которых одновременно:\n",
    "#    - значение в столбце day равно значению аргумента day\n",
    "    genre_df = table[table['day'] == day]\n",
    "    \n",
    "#    - значение в столбце time больше значения аргумента time1\n",
    "    genre_df = genre_df[genre_df['time'] > time1]\n",
    "    \n",
    "#    - значение в столбце time меньше значения аргумента time2\n",
    "    genre_df = genre_df[genre_df['time'] < time2]\n",
    "    \n",
    "#    Используйте последовательную фильтрацию с помощью логической индексации.\n",
    " \n",
    "    \n",
    "# 2) сгруппировать датафрейм genre_df по столбцу genre, взять один из его\n",
    "#    столбцов и посчитать методом count() количество записей для каждого из\n",
    "#    присутствующих жанров, получившийся Series записать в переменную\n",
    "#    genre_df_count\n",
    "    genre_df_count = genre_df.groupby('genre')['user_id'].count()\n",
    "    \n",
    "# 3) отсортировать genre_df_count по убыванию встречаемости и сохранить\n",
    "#    в переменную genre_df_sorted\n",
    "    genre_df_sorted = genre_df_count.sort_values(ascending=False)\n",
    "    \n",
    "# 4) вернуть Series из 10 первых значений genre_df_sorted, это будут топ-10\n",
    "#    популярных жанров (в указанный день, в заданное время)\n",
    "    \n",
    "    return genre_df_sorted[:10]"
   ]
  },
  {
   "cell_type": "markdown",
   "metadata": {
    "id": "la2s2_PF_Zcu"
   },
   "source": [
    "Cравните результаты функции `genre_weekday()` для Москвы и Санкт-Петербурга в понедельник утром (с 7:00 до 11:00) и в пятницу вечером (с 17:00 до 23:00):"
   ]
  },
  {
   "cell_type": "code",
   "execution_count": 125,
   "metadata": {
    "id": "yz7itPUQ_Zcu"
   },
   "outputs": [
    {
     "data": {
      "text/plain": [
       "genre\n",
       "pop            781\n",
       "dance          549\n",
       "electronic     480\n",
       "rock           474\n",
       "hiphop         286\n",
       "ruspop         186\n",
       "world          181\n",
       "rusrap         175\n",
       "alternative    164\n",
       "unknown        161\n",
       "Name: user_id, dtype: int64"
      ]
     },
     "execution_count": 125,
     "metadata": {},
     "output_type": "execute_result"
    }
   ],
   "source": [
    "# вызов функции для утра понедельника в Москве (вместо df — таблица moscow_general)\n",
    "# объекты, хранящие время, являются строками и сравниваются как строки\n",
    "# пример вызова: genre_weekday(moscow_general, 'Monday', '07:00', '11:00')\n",
    "genre_weekday(moscow_general, 'Monday', '07:00', '11:00')"
   ]
  },
  {
   "cell_type": "code",
   "execution_count": 126,
   "metadata": {
    "id": "kwUcHPdy_Zcu"
   },
   "outputs": [
    {
     "data": {
      "text/plain": [
       "genre\n",
       "pop            218\n",
       "dance          182\n",
       "rock           162\n",
       "electronic     147\n",
       "hiphop          80\n",
       "ruspop          64\n",
       "alternative     58\n",
       "rusrap          55\n",
       "jazz            44\n",
       "classical       40\n",
       "Name: user_id, dtype: int64"
      ]
     },
     "execution_count": 126,
     "metadata": {},
     "output_type": "execute_result"
    }
   ],
   "source": [
    "# вызов функции для утра понедельника в Петербурге (вместо df — таблица spb_general)\n",
    "genre_weekday(spb_general, 'Monday', '07:00', '11:00')"
   ]
  },
  {
   "cell_type": "code",
   "execution_count": 127,
   "metadata": {
    "id": "EzXVRE1o_Zcu"
   },
   "outputs": [
    {
     "data": {
      "text/plain": [
       "genre\n",
       "pop            713\n",
       "rock           517\n",
       "dance          495\n",
       "electronic     482\n",
       "hiphop         273\n",
       "world          208\n",
       "ruspop         170\n",
       "alternative    163\n",
       "classical      163\n",
       "rusrap         142\n",
       "Name: user_id, dtype: int64"
      ]
     },
     "execution_count": 127,
     "metadata": {},
     "output_type": "execute_result"
    }
   ],
   "source": [
    "# вызов функции для вечера пятницы в Москве\n",
    "genre_weekday(moscow_general, 'Friday', '17:00', '23:00')"
   ]
  },
  {
   "cell_type": "code",
   "execution_count": 128,
   "metadata": {
    "id": "JZaEKu5v_Zcu"
   },
   "outputs": [
    {
     "data": {
      "text/plain": [
       "genre\n",
       "pop            256\n",
       "rock           216\n",
       "electronic     216\n",
       "dance          210\n",
       "hiphop          97\n",
       "alternative     63\n",
       "jazz            61\n",
       "classical       60\n",
       "rusrap          59\n",
       "world           54\n",
       "Name: user_id, dtype: int64"
      ]
     },
     "execution_count": 128,
     "metadata": {},
     "output_type": "execute_result"
    }
   ],
   "source": [
    "# вызов функции для вечера пятницы в Петербурге\n",
    "genre_weekday(spb_general, 'Friday', '17:00', '23:00')"
   ]
  },
  {
   "cell_type": "markdown",
   "metadata": {
    "id": "wrCe4MNX_Zcu"
   },
   "source": [
    "**Выводы**\n",
    "\n",
    "Если сравнить топ-10 жанров в понедельник утром, можно сделать такие выводы:\n",
    "\n",
    "1. В Москве и Петербурге слушают похожую музыку. Единственное отличие — в московский рейтинг вошёл жанр “world”, а в петербургский — джаз и классика.\n",
    "\n",
    "2. В Москве пропущенных значений оказалось так много, что значение `'unknown'` заняло десятое место среди самых популярных жанров. Значит, пропущенные значения занимают существенную долю в данных и угрожают достоверности исследования.\n",
    "\n",
    "Вечер пятницы не меняет эту картину. Некоторые жанры поднимаются немного выше, другие спускаются, но в целом топ-10 остаётся тем же самым.\n",
    "\n",
    "Таким образом, вторая гипотеза подтвердилась лишь частично:\n",
    "* Пользователи слушают похожую музыку в начале недели и в конце.\n",
    "* Разница между Москвой и Петербургом не слишком выражена. В Москве чаще слушают русскую популярную музыку, в Петербурге — джаз.\n",
    "\n",
    "Однако пропуски в данных ставят под сомнение этот результат. В Москве их так много, что рейтинг топ-10 мог бы выглядеть иначе, если бы не утерянные  данные о жанрах."
   ]
  },
  {
   "cell_type": "markdown",
   "metadata": {
    "id": "JolODAqr_Zcu"
   },
   "source": [
    "### Жанровые предпочтения в Москве и Петербурге\n",
    "\n",
    "Гипотеза: Петербург — столица рэпа, музыку этого жанра там слушают чаще, чем в Москве.  А Москва — город контрастов, в котором, тем не менее, преобладает поп-музыка."
   ]
  },
  {
   "cell_type": "markdown",
   "metadata": {
    "id": "DlegSvaT_Zcu"
   },
   "source": [
    "Сгруппируйте таблицу `moscow_general` по жанру и посчитайте прослушивания треков каждого жанра методом `count()`. Затем отсортируйте результат в порядке убывания и сохраните его в таблице `moscow_genres`."
   ]
  },
  {
   "cell_type": "code",
   "execution_count": 129,
   "metadata": {
    "id": "r19lIPke_Zcu"
   },
   "outputs": [],
   "source": [
    "# одной строкой: группировка таблицы moscow_general по столбцу 'genre', \n",
    "# подсчёт числа значений 'genre' в этой группировке методом count() \n",
    "moscow_genres = moscow_general.groupby('genre')['user_id'].count()\n",
    "\n",
    "# сортировка получившегося Series в порядке убывания и сохранение в moscow_genres\n",
    "moscow_genres = moscow_genres.sort_values(ascending=False)"
   ]
  },
  {
   "cell_type": "markdown",
   "metadata": {
    "id": "6kMuomxTiIr8"
   },
   "source": [
    "Выведите на экран первые десять строк `moscow_genres`:"
   ]
  },
  {
   "cell_type": "code",
   "execution_count": 130,
   "metadata": {
    "id": "WhCSooF8_Zcv"
   },
   "outputs": [
    {
     "data": {
      "text/plain": [
       "genre\n",
       "pop            5892\n",
       "dance          4435\n",
       "rock           3965\n",
       "electronic     3786\n",
       "hiphop         2096\n",
       "classical      1616\n",
       "world          1432\n",
       "alternative    1379\n",
       "ruspop         1372\n",
       "rusrap         1161\n",
       "Name: user_id, dtype: int64"
      ]
     },
     "metadata": {},
     "output_type": "display_data"
    }
   ],
   "source": [
    "# просмотр первых 10 строк moscow_genres\n",
    "display(moscow_genres.head(10))"
   ]
  },
  {
   "cell_type": "markdown",
   "metadata": {
    "id": "cnPG2vnN_Zcv"
   },
   "source": [
    "Теперь повторите то же и для Петербурга.\n",
    "\n",
    "Сгруппируйте таблицу `spb_general` по жанру. Посчитайте прослушивания треков каждого жанра. Результат отсортируйте в порядке убывания и сохраните в таблице `spb_genres`:\n"
   ]
  },
  {
   "cell_type": "code",
   "execution_count": 131,
   "metadata": {
    "id": "gluLIpE7_Zcv"
   },
   "outputs": [],
   "source": [
    "# одной строкой: группировка таблицы spb_general по столбцу 'genre', \n",
    "# подсчёт числа значений 'genre' в этой группировке методом count()\n",
    "spb_genres = spb_general.groupby('genre')['user_id'].count()\n",
    "\n",
    "# сортировка получившегося Series в порядке убывания и сохранение в spb_genres\n",
    "spb_genres = spb_genres.sort_values(ascending=False)"
   ]
  },
  {
   "cell_type": "markdown",
   "metadata": {
    "id": "5Doha_ODgyQ8"
   },
   "source": [
    "Выведите на экран первые десять строк `spb_genres`:"
   ]
  },
  {
   "cell_type": "code",
   "execution_count": 132,
   "metadata": {
    "id": "uaGJHjVU_Zcv"
   },
   "outputs": [
    {
     "data": {
      "text/plain": [
       "genre\n",
       "pop            2431\n",
       "dance          1932\n",
       "rock           1879\n",
       "electronic     1737\n",
       "hiphop          960\n",
       "alternative     649\n",
       "classical       646\n",
       "rusrap          564\n",
       "ruspop          538\n",
       "world           515\n",
       "Name: user_id, dtype: int64"
      ]
     },
     "metadata": {},
     "output_type": "display_data"
    }
   ],
   "source": [
    "# просмотр первых 10 строк spb_genres\n",
    "display(spb_genres.head(10))"
   ]
  },
  {
   "cell_type": "markdown",
   "metadata": {
    "id": "RY51YJYu_Zcv"
   },
   "source": [
    "**Выводы**"
   ]
  },
  {
   "cell_type": "markdown",
   "metadata": {
    "id": "nVhnJEm__Zcv"
   },
   "source": [
    "Гипотеза частично подтвердилась:\n",
    "* Поп-музыка — самый популярный жанр в Москве, как и предполагала гипотеза. Более того, в топ-10 жанров встречается близкий жанр — русская популярная музыка.\n",
    "* Вопреки ожиданиям, рэп одинаково популярен в Москве и Петербурге. \n"
   ]
  },
  {
   "cell_type": "markdown",
   "metadata": {
    "id": "ykKQ0N65_Zcv"
   },
   "source": [
    "## Итоги исследования"
   ]
  },
  {
   "cell_type": "markdown",
   "metadata": {
    "id": "tjUwbHb3_Zcv"
   },
   "source": [
    "Вы проверили три гипотезы и установили:\n",
    "\n",
    "1. День недели по-разному влияет на активность пользователей в Москве и Петербурге. \n",
    "\n",
    "Первая гипотеза полностью подтвердилась.\n",
    "\n",
    "2. Музыкальные предпочтения не сильно меняются в течение недели — будь то Москва или Петербург. Небольшие различия заметны в начале недели, по понедельникам:\n",
    "* в Москве слушают музыку жанра “world”,\n",
    "* в Петербурге — джаз и классику.\n",
    "\n",
    "Таким образом, вторая гипотеза подтвердилась лишь отчасти. Этот результат мог оказаться иным, если бы не пропуски в данных.\n",
    "\n",
    "3. Во вкусах пользователей Москвы и Петербурга больше общего чем различий. Вопреки ожиданиям, предпочтения жанров в Петербурге напоминают московские.\n",
    "\n",
    "Третья гипотеза не подтвердилась. Если различия в предпочтениях и существуют, на основной массе пользователей они незаметны.\n",
    "\n",
    "**На практике исследования содержат проверки статистических гипотез.**\n",
    "Из данных одного сервиса не всегда можно сделать вывод о всех жителях города.\n",
    "Проверки статистических гипотез покажут, насколько они достоверны, исходя из имеющихся данных. \n",
    "С методами проверок гипотез вы ещё познакомитесь в следующих темах."
   ]
  }
 ],
 "metadata": {
  "ExecuteTimeLog": [
   {
    "duration": 754,
    "start_time": "2022-01-27T21:37:27.409Z"
   },
   {
    "duration": 200,
    "start_time": "2022-01-27T21:37:30.434Z"
   },
   {
    "duration": 10,
    "start_time": "2022-01-27T21:38:28.878Z"
   },
   {
    "duration": 369,
    "start_time": "2022-01-27T21:39:46.571Z"
   },
   {
    "duration": 32,
    "start_time": "2022-01-27T21:39:59.040Z"
   },
   {
    "duration": 298,
    "start_time": "2022-01-29T14:27:10.194Z"
   },
   {
    "duration": 739,
    "start_time": "2022-01-29T14:27:38.016Z"
   },
   {
    "duration": 561,
    "start_time": "2022-01-29T14:27:48.635Z"
   },
   {
    "duration": 115,
    "start_time": "2022-01-29T14:27:52.098Z"
   },
   {
    "duration": 7,
    "start_time": "2022-01-29T14:27:55.255Z"
   },
   {
    "duration": 23,
    "start_time": "2022-01-29T14:27:58.170Z"
   },
   {
    "duration": 295,
    "start_time": "2022-01-29T14:28:04.185Z"
   },
   {
    "duration": 3843,
    "start_time": "2022-01-29T14:35:25.068Z"
   },
   {
    "duration": 3,
    "start_time": "2022-01-29T14:35:59.229Z"
   },
   {
    "duration": 311,
    "start_time": "2022-01-29T14:36:16.972Z"
   },
   {
    "duration": 17,
    "start_time": "2022-01-29T14:36:33.609Z"
   },
   {
    "duration": 18,
    "start_time": "2022-01-29T14:36:38.982Z"
   },
   {
    "duration": 3,
    "start_time": "2022-01-29T14:37:05.074Z"
   },
   {
    "duration": 20,
    "start_time": "2022-01-29T14:39:36.230Z"
   },
   {
    "duration": 266,
    "start_time": "2022-01-29T14:46:46.962Z"
   },
   {
    "duration": 16,
    "start_time": "2022-01-29T14:47:08.886Z"
   },
   {
    "duration": 20,
    "start_time": "2022-01-29T14:48:27.433Z"
   },
   {
    "duration": 71,
    "start_time": "2022-01-29T14:50:03.395Z"
   },
   {
    "duration": 55,
    "start_time": "2022-01-29T14:53:18.779Z"
   },
   {
    "duration": 43,
    "start_time": "2022-01-29T14:54:33.130Z"
   },
   {
    "duration": 44,
    "start_time": "2022-01-29T14:55:17.865Z"
   },
   {
    "duration": 6,
    "start_time": "2022-01-29T15:02:01.838Z"
   },
   {
    "duration": 5,
    "start_time": "2022-01-29T15:05:33.839Z"
   },
   {
    "duration": 203,
    "start_time": "2022-01-29T15:31:40.438Z"
   },
   {
    "duration": 3,
    "start_time": "2022-01-29T15:32:12.262Z"
   },
   {
    "duration": 3,
    "start_time": "2022-01-29T16:07:34.576Z"
   },
   {
    "duration": 15,
    "start_time": "2022-01-29T16:07:47.516Z"
   },
   {
    "duration": 6,
    "start_time": "2022-01-29T16:10:46.750Z"
   },
   {
    "duration": 447,
    "start_time": "2022-01-29T16:11:29.298Z"
   },
   {
    "duration": 2,
    "start_time": "2022-01-29T16:12:40.535Z"
   },
   {
    "duration": 9,
    "start_time": "2022-01-29T16:12:46.908Z"
   },
   {
    "duration": 5,
    "start_time": "2022-01-29T16:12:52.448Z"
   },
   {
    "duration": 276,
    "start_time": "2022-01-29T16:14:55.782Z"
   },
   {
    "duration": 1344,
    "start_time": "2022-01-29T16:15:36.568Z"
   },
   {
    "duration": 266,
    "start_time": "2022-01-29T16:16:36.387Z"
   },
   {
    "duration": 10,
    "start_time": "2022-01-29T16:20:02.995Z"
   },
   {
    "duration": 6,
    "start_time": "2022-01-29T16:20:49.600Z"
   },
   {
    "duration": 3,
    "start_time": "2022-01-29T16:21:24.565Z"
   },
   {
    "duration": 9,
    "start_time": "2022-01-29T16:21:32.948Z"
   },
   {
    "duration": 6,
    "start_time": "2022-01-29T16:21:38.141Z"
   },
   {
    "duration": 3,
    "start_time": "2022-01-29T16:24:44.131Z"
   },
   {
    "duration": 259,
    "start_time": "2022-01-29T16:24:47.604Z"
   },
   {
    "duration": 3,
    "start_time": "2022-01-29T16:25:55.829Z"
   },
   {
    "duration": 10,
    "start_time": "2022-01-29T16:26:00.203Z"
   },
   {
    "duration": 6,
    "start_time": "2022-01-29T16:26:08.189Z"
   },
   {
    "duration": 28,
    "start_time": "2022-01-29T16:32:51.356Z"
   },
   {
    "duration": 10,
    "start_time": "2022-01-29T16:33:31.430Z"
   },
   {
    "duration": 25,
    "start_time": "2022-01-29T16:36:47.207Z"
   },
   {
    "duration": 89,
    "start_time": "2022-01-29T16:37:15.713Z"
   },
   {
    "duration": 9,
    "start_time": "2022-01-29T16:37:32.038Z"
   },
   {
    "duration": 3,
    "start_time": "2022-01-29T16:56:09.486Z"
   },
   {
    "duration": 6951,
    "start_time": "2022-01-29T16:56:13.680Z"
   },
   {
    "duration": 3,
    "start_time": "2022-01-29T16:56:48.424Z"
   },
   {
    "duration": 14,
    "start_time": "2022-01-29T16:56:52.215Z"
   },
   {
    "duration": 13,
    "start_time": "2022-01-29T16:57:43.096Z"
   },
   {
    "duration": 14,
    "start_time": "2022-01-29T16:58:34.875Z"
   },
   {
    "duration": 13,
    "start_time": "2022-01-29T16:59:43.207Z"
   },
   {
    "duration": 16,
    "start_time": "2022-01-29T17:00:10.506Z"
   },
   {
    "duration": 13,
    "start_time": "2022-01-29T17:00:13.564Z"
   },
   {
    "duration": 275,
    "start_time": "2022-01-29T17:15:04.730Z"
   },
   {
    "duration": 6,
    "start_time": "2022-01-29T17:16:03.172Z"
   },
   {
    "duration": 10,
    "start_time": "2022-01-29T18:40:12.890Z"
   },
   {
    "duration": 6,
    "start_time": "2022-01-29T18:40:18.623Z"
   },
   {
    "duration": 4,
    "start_time": "2022-01-29T19:06:43.838Z"
   },
   {
    "duration": 16,
    "start_time": "2022-01-29T19:06:49.835Z"
   },
   {
    "duration": 6,
    "start_time": "2022-01-29T19:08:42.931Z"
   },
   {
    "duration": 9,
    "start_time": "2022-01-29T19:10:05.311Z"
   },
   {
    "duration": 5,
    "start_time": "2022-01-29T19:10:10.462Z"
   },
   {
    "duration": 17,
    "start_time": "2022-01-29T19:10:15.253Z"
   },
   {
    "duration": 12,
    "start_time": "2022-01-29T19:10:18.823Z"
   },
   {
    "duration": 15,
    "start_time": "2022-01-29T19:13:33.656Z"
   },
   {
    "duration": 12,
    "start_time": "2022-01-29T19:14:24.447Z"
   },
   {
    "duration": 9,
    "start_time": "2022-01-29T19:27:43.692Z"
   },
   {
    "duration": 255,
    "start_time": "2022-01-29T19:27:46.995Z"
   },
   {
    "duration": 9,
    "start_time": "2022-01-29T19:29:47.342Z"
   },
   {
    "duration": 3,
    "start_time": "2022-01-29T19:29:51.285Z"
   },
   {
    "duration": 8,
    "start_time": "2022-01-29T19:33:24.547Z"
   },
   {
    "duration": 3,
    "start_time": "2022-01-29T19:33:27.547Z"
   },
   {
    "duration": 7,
    "start_time": "2022-01-29T19:37:42.679Z"
   },
   {
    "duration": 4,
    "start_time": "2022-01-29T19:37:46.573Z"
   },
   {
    "duration": 512,
    "start_time": "2022-01-29T20:15:18.907Z"
   },
   {
    "duration": 127,
    "start_time": "2022-01-29T20:15:22.632Z"
   },
   {
    "duration": 7,
    "start_time": "2022-01-29T20:15:26.070Z"
   },
   {
    "duration": 22,
    "start_time": "2022-01-29T20:15:39.962Z"
   },
   {
    "duration": 3,
    "start_time": "2022-01-29T20:16:35.433Z"
   },
   {
    "duration": 19,
    "start_time": "2022-01-29T20:16:49.450Z"
   },
   {
    "duration": 3,
    "start_time": "2022-01-29T20:16:55.495Z"
   },
   {
    "duration": 22,
    "start_time": "2022-01-29T20:17:19.574Z"
   },
   {
    "duration": 16,
    "start_time": "2022-01-29T20:17:32.248Z"
   },
   {
    "duration": 20,
    "start_time": "2022-01-29T20:17:36.145Z"
   },
   {
    "duration": 50,
    "start_time": "2022-01-29T20:17:42.116Z"
   },
   {
    "duration": 52,
    "start_time": "2022-01-29T20:17:47.354Z"
   },
   {
    "duration": 44,
    "start_time": "2022-01-29T20:17:51.080Z"
   },
   {
    "duration": 6,
    "start_time": "2022-01-29T20:17:58.382Z"
   },
   {
    "duration": 3,
    "start_time": "2022-01-29T20:19:49.687Z"
   },
   {
    "duration": 306,
    "start_time": "2022-01-29T20:19:55.719Z"
   },
   {
    "duration": 10,
    "start_time": "2022-01-29T20:34:32.340Z"
   },
   {
    "duration": 12,
    "start_time": "2022-01-29T20:37:36.361Z"
   },
   {
    "duration": 5,
    "start_time": "2022-01-29T20:38:38.143Z"
   },
   {
    "duration": 9,
    "start_time": "2022-01-29T20:39:14.855Z"
   },
   {
    "duration": 6,
    "start_time": "2022-01-29T20:39:22.832Z"
   },
   {
    "duration": 10,
    "start_time": "2022-01-29T20:39:42.223Z"
   },
   {
    "duration": 9,
    "start_time": "2022-01-29T20:39:47.501Z"
   },
   {
    "duration": 3,
    "start_time": "2022-01-29T20:44:50.959Z"
   },
   {
    "duration": 14,
    "start_time": "2022-01-29T20:44:57.039Z"
   },
   {
    "duration": 14,
    "start_time": "2022-01-29T20:45:00.433Z"
   },
   {
    "duration": 19,
    "start_time": "2022-01-29T20:45:05.289Z"
   },
   {
    "duration": 14,
    "start_time": "2022-01-29T20:45:08.603Z"
   },
   {
    "duration": 14,
    "start_time": "2022-01-29T20:45:17.317Z"
   },
   {
    "duration": 6,
    "start_time": "2022-01-29T20:45:32.938Z"
   },
   {
    "duration": 10,
    "start_time": "2022-01-29T20:45:40.801Z"
   },
   {
    "duration": 9,
    "start_time": "2022-01-29T20:45:43.819Z"
   },
   {
    "duration": 5,
    "start_time": "2022-01-29T20:47:12.223Z"
   },
   {
    "duration": 26,
    "start_time": "2022-01-29T20:47:19.735Z"
   },
   {
    "duration": 17,
    "start_time": "2022-01-29T20:47:24.740Z"
   },
   {
    "duration": 22,
    "start_time": "2022-01-29T20:47:28.478Z"
   },
   {
    "duration": 16,
    "start_time": "2022-01-29T20:47:32.018Z"
   },
   {
    "duration": 9,
    "start_time": "2022-01-29T20:47:42.798Z"
   },
   {
    "duration": 3,
    "start_time": "2022-01-29T20:47:47.188Z"
   },
   {
    "duration": 7,
    "start_time": "2022-01-29T20:47:56.315Z"
   },
   {
    "duration": 4,
    "start_time": "2022-01-29T20:47:59.631Z"
   },
   {
    "duration": 512,
    "start_time": "2022-01-29T20:49:05.916Z"
   },
   {
    "duration": 117,
    "start_time": "2022-01-29T20:49:09.188Z"
   },
   {
    "duration": 7,
    "start_time": "2022-01-29T20:49:12.366Z"
   },
   {
    "duration": 22,
    "start_time": "2022-01-29T20:49:18.994Z"
   },
   {
    "duration": 4,
    "start_time": "2022-01-29T20:49:26.092Z"
   },
   {
    "duration": 19,
    "start_time": "2022-01-29T20:50:07.047Z"
   },
   {
    "duration": 3,
    "start_time": "2022-01-29T20:50:11.854Z"
   },
   {
    "duration": 20,
    "start_time": "2022-01-29T20:50:16.511Z"
   },
   {
    "duration": 19,
    "start_time": "2022-01-29T20:50:26.696Z"
   },
   {
    "duration": 21,
    "start_time": "2022-01-29T20:50:30.738Z"
   },
   {
    "duration": 65,
    "start_time": "2022-01-29T20:50:35.658Z"
   },
   {
    "duration": 66,
    "start_time": "2022-01-29T20:50:39.039Z"
   },
   {
    "duration": 47,
    "start_time": "2022-01-29T20:50:42.496Z"
   },
   {
    "duration": 5,
    "start_time": "2022-01-29T20:50:47.752Z"
   },
   {
    "duration": 3,
    "start_time": "2022-01-29T20:50:55.636Z"
   },
   {
    "duration": 9,
    "start_time": "2022-01-29T20:51:00.503Z"
   },
   {
    "duration": 6,
    "start_time": "2022-01-29T20:51:05.741Z"
   },
   {
    "duration": 10,
    "start_time": "2022-01-29T20:51:11.913Z"
   },
   {
    "duration": 10,
    "start_time": "2022-01-29T20:51:16.535Z"
   },
   {
    "duration": 3,
    "start_time": "2022-01-29T20:51:23.849Z"
   },
   {
    "duration": 16,
    "start_time": "2022-01-29T20:51:28.238Z"
   },
   {
    "duration": 14,
    "start_time": "2022-01-29T20:51:31.699Z"
   },
   {
    "duration": 14,
    "start_time": "2022-01-29T20:51:35.347Z"
   },
   {
    "duration": 13,
    "start_time": "2022-01-29T20:51:38.423Z"
   },
   {
    "duration": 23,
    "start_time": "2022-01-29T20:51:42.180Z"
   },
   {
    "duration": 21,
    "start_time": "2022-01-29T20:51:45.472Z"
   },
   {
    "duration": 17,
    "start_time": "2022-01-29T20:51:50.973Z"
   },
   {
    "duration": 11,
    "start_time": "2022-01-29T20:51:55.232Z"
   },
   {
    "duration": 9,
    "start_time": "2022-01-29T20:51:57.911Z"
   },
   {
    "duration": 4,
    "start_time": "2022-01-29T20:52:26.950Z"
   },
   {
    "duration": 26,
    "start_time": "2022-01-29T20:52:31.000Z"
   },
   {
    "duration": 13,
    "start_time": "2022-01-29T20:52:35.039Z"
   },
   {
    "duration": 15,
    "start_time": "2022-01-29T20:52:38.810Z"
   },
   {
    "duration": 11,
    "start_time": "2022-01-29T20:52:43.433Z"
   },
   {
    "duration": 14,
    "start_time": "2022-01-29T20:52:48.886Z"
   },
   {
    "duration": 4,
    "start_time": "2022-01-29T20:52:52.457Z"
   },
   {
    "duration": 7,
    "start_time": "2022-01-29T20:52:56.625Z"
   },
   {
    "duration": 5,
    "start_time": "2022-01-29T20:53:01.169Z"
   },
   {
    "duration": 549,
    "start_time": "2022-01-30T14:00:32.551Z"
   },
   {
    "duration": 797,
    "start_time": "2022-01-30T14:00:35.954Z"
   },
   {
    "duration": 19,
    "start_time": "2022-01-30T14:04:47.134Z"
   },
   {
    "duration": 3,
    "start_time": "2022-01-30T14:20:59.930Z"
   },
   {
    "duration": 153,
    "start_time": "2022-01-30T14:20:59.934Z"
   },
   {
    "duration": 12,
    "start_time": "2022-01-30T14:21:00.089Z"
   },
   {
    "duration": 29,
    "start_time": "2022-01-30T14:21:00.103Z"
   },
   {
    "duration": 6,
    "start_time": "2022-01-30T14:21:00.133Z"
   },
   {
    "duration": 26,
    "start_time": "2022-01-30T14:21:00.140Z"
   },
   {
    "duration": 3,
    "start_time": "2022-01-30T14:21:00.169Z"
   },
   {
    "duration": 24,
    "start_time": "2022-01-30T14:21:00.198Z"
   },
   {
    "duration": 29,
    "start_time": "2022-01-30T14:21:00.223Z"
   },
   {
    "duration": 26,
    "start_time": "2022-01-30T14:21:00.254Z"
   },
   {
    "duration": 69,
    "start_time": "2022-01-30T14:21:00.282Z"
   },
   {
    "duration": 72,
    "start_time": "2022-01-30T14:21:00.353Z"
   },
   {
    "duration": 54,
    "start_time": "2022-01-30T14:21:00.427Z"
   },
   {
    "duration": 20,
    "start_time": "2022-01-30T14:21:00.483Z"
   },
   {
    "duration": 5,
    "start_time": "2022-01-30T14:21:00.505Z"
   },
   {
    "duration": 14,
    "start_time": "2022-01-30T14:21:00.512Z"
   },
   {
    "duration": 7,
    "start_time": "2022-01-30T14:21:11.411Z"
   },
   {
    "duration": 6,
    "start_time": "2022-01-30T14:21:56.123Z"
   },
   {
    "duration": 3,
    "start_time": "2022-01-30T14:24:55.051Z"
   },
   {
    "duration": 16,
    "start_time": "2022-01-30T14:25:00.103Z"
   },
   {
    "duration": 7,
    "start_time": "2022-01-30T14:26:52.669Z"
   },
   {
    "duration": 269,
    "start_time": "2022-01-30T14:27:13.297Z"
   },
   {
    "duration": 10,
    "start_time": "2022-01-30T14:27:29.104Z"
   },
   {
    "duration": 599,
    "start_time": "2022-01-30T14:30:27.023Z"
   },
   {
    "duration": 154,
    "start_time": "2022-01-30T14:30:27.624Z"
   },
   {
    "duration": 18,
    "start_time": "2022-01-30T14:30:32.226Z"
   },
   {
    "duration": 24,
    "start_time": "2022-01-30T14:30:37.369Z"
   },
   {
    "duration": 27,
    "start_time": "2022-01-30T14:30:57.167Z"
   },
   {
    "duration": 29,
    "start_time": "2022-01-30T14:31:03.482Z"
   },
   {
    "duration": 32,
    "start_time": "2022-01-30T14:31:12.430Z"
   },
   {
    "duration": 4,
    "start_time": "2022-01-30T14:31:21.042Z"
   },
   {
    "duration": 4,
    "start_time": "2022-01-30T14:31:24.711Z"
   },
   {
    "duration": 23,
    "start_time": "2022-01-30T14:31:31.472Z"
   },
   {
    "duration": 4,
    "start_time": "2022-01-30T14:31:34.762Z"
   },
   {
    "duration": 23,
    "start_time": "2022-01-30T14:31:40.292Z"
   },
   {
    "duration": 18,
    "start_time": "2022-01-30T14:31:47.594Z"
   },
   {
    "duration": 23,
    "start_time": "2022-01-30T14:31:52.762Z"
   },
   {
    "duration": 64,
    "start_time": "2022-01-30T14:32:00.214Z"
   },
   {
    "duration": 77,
    "start_time": "2022-01-30T14:32:04.243Z"
   },
   {
    "duration": 53,
    "start_time": "2022-01-30T14:32:08.493Z"
   },
   {
    "duration": 10,
    "start_time": "2022-01-30T14:32:13.881Z"
   },
   {
    "duration": 3,
    "start_time": "2022-01-30T14:32:52.923Z"
   },
   {
    "duration": 11,
    "start_time": "2022-01-30T14:33:03.095Z"
   },
   {
    "duration": 6,
    "start_time": "2022-01-30T14:33:14.758Z"
   },
   {
    "duration": 11,
    "start_time": "2022-01-30T14:33:21.161Z"
   },
   {
    "duration": 7,
    "start_time": "2022-01-30T14:43:14.374Z"
   },
   {
    "duration": 4,
    "start_time": "2022-01-30T14:43:21.572Z"
   },
   {
    "duration": 11,
    "start_time": "2022-01-30T14:43:25.173Z"
   },
   {
    "duration": 5,
    "start_time": "2022-01-30T14:43:29.134Z"
   },
   {
    "duration": 11,
    "start_time": "2022-01-30T14:43:33.639Z"
   },
   {
    "duration": 644,
    "start_time": "2022-01-30T14:44:38.282Z"
   },
   {
    "duration": 157,
    "start_time": "2022-01-30T14:44:38.928Z"
   },
   {
    "duration": 24,
    "start_time": "2022-01-30T14:44:39.087Z"
   },
   {
    "duration": 34,
    "start_time": "2022-01-30T14:44:39.114Z"
   },
   {
    "duration": 9,
    "start_time": "2022-01-30T14:44:39.150Z"
   },
   {
    "duration": 44,
    "start_time": "2022-01-30T14:44:39.160Z"
   },
   {
    "duration": 4,
    "start_time": "2022-01-30T14:44:39.206Z"
   },
   {
    "duration": 27,
    "start_time": "2022-01-30T14:44:39.212Z"
   },
   {
    "duration": 21,
    "start_time": "2022-01-30T14:44:39.241Z"
   },
   {
    "duration": 42,
    "start_time": "2022-01-30T14:44:39.264Z"
   },
   {
    "duration": 70,
    "start_time": "2022-01-30T14:44:39.307Z"
   },
   {
    "duration": 91,
    "start_time": "2022-01-30T14:44:39.379Z"
   },
   {
    "duration": 60,
    "start_time": "2022-01-30T14:44:39.471Z"
   },
   {
    "duration": 10,
    "start_time": "2022-01-30T14:44:39.532Z"
   },
   {
    "duration": 7,
    "start_time": "2022-01-30T14:44:39.543Z"
   },
   {
    "duration": 8,
    "start_time": "2022-01-30T14:44:39.552Z"
   },
   {
    "duration": 16,
    "start_time": "2022-01-30T14:44:39.562Z"
   },
   {
    "duration": 22,
    "start_time": "2022-01-30T14:44:39.579Z"
   },
   {
    "duration": 26,
    "start_time": "2022-01-30T14:44:39.602Z"
   },
   {
    "duration": 11,
    "start_time": "2022-01-30T14:44:43.826Z"
   },
   {
    "duration": 13,
    "start_time": "2022-01-30T15:48:35.601Z"
   },
   {
    "duration": 5,
    "start_time": "2022-01-30T15:49:44.198Z"
   },
   {
    "duration": 19,
    "start_time": "2022-01-30T15:49:54.679Z"
   },
   {
    "duration": 15,
    "start_time": "2022-01-30T15:49:59.996Z"
   },
   {
    "duration": 15,
    "start_time": "2022-01-30T15:50:01.004Z"
   },
   {
    "duration": 16,
    "start_time": "2022-01-30T15:50:02.439Z"
   },
   {
    "duration": 17,
    "start_time": "2022-01-30T15:50:05.381Z"
   },
   {
    "duration": 16,
    "start_time": "2022-01-30T15:50:06.626Z"
   },
   {
    "duration": 9,
    "start_time": "2022-01-30T15:50:22.866Z"
   },
   {
    "duration": 14,
    "start_time": "2022-01-30T15:51:00.664Z"
   },
   {
    "duration": 9,
    "start_time": "2022-01-30T15:51:01.537Z"
   },
   {
    "duration": 4,
    "start_time": "2022-01-30T15:51:31.279Z"
   },
   {
    "duration": 21,
    "start_time": "2022-01-30T15:51:37.652Z"
   },
   {
    "duration": 15,
    "start_time": "2022-01-30T15:51:59.433Z"
   },
   {
    "duration": 17,
    "start_time": "2022-01-30T15:52:11.377Z"
   },
   {
    "duration": 15,
    "start_time": "2022-01-30T15:52:20.114Z"
   },
   {
    "duration": 10,
    "start_time": "2022-01-30T15:53:27.862Z"
   },
   {
    "duration": 6,
    "start_time": "2022-01-30T15:53:43.676Z"
   },
   {
    "duration": 7,
    "start_time": "2022-01-30T15:54:05.305Z"
   },
   {
    "duration": 5,
    "start_time": "2022-01-30T15:54:22.090Z"
   },
   {
    "duration": 604,
    "start_time": "2022-01-30T15:55:24.113Z"
   },
   {
    "duration": 147,
    "start_time": "2022-01-30T15:55:24.719Z"
   },
   {
    "duration": 17,
    "start_time": "2022-01-30T15:55:24.868Z"
   },
   {
    "duration": 48,
    "start_time": "2022-01-30T15:55:24.887Z"
   },
   {
    "duration": 16,
    "start_time": "2022-01-30T15:55:24.937Z"
   },
   {
    "duration": 50,
    "start_time": "2022-01-30T15:55:24.955Z"
   },
   {
    "duration": 17,
    "start_time": "2022-01-30T15:55:25.007Z"
   },
   {
    "duration": 46,
    "start_time": "2022-01-30T15:55:25.027Z"
   },
   {
    "duration": 24,
    "start_time": "2022-01-30T15:55:25.075Z"
   },
   {
    "duration": 34,
    "start_time": "2022-01-30T15:55:25.101Z"
   },
   {
    "duration": 82,
    "start_time": "2022-01-30T15:55:25.137Z"
   },
   {
    "duration": 80,
    "start_time": "2022-01-30T15:55:25.221Z"
   },
   {
    "duration": 55,
    "start_time": "2022-01-30T15:55:25.303Z"
   },
   {
    "duration": 11,
    "start_time": "2022-01-30T15:55:25.361Z"
   },
   {
    "duration": 25,
    "start_time": "2022-01-30T15:55:25.374Z"
   },
   {
    "duration": 20,
    "start_time": "2022-01-30T15:55:25.401Z"
   },
   {
    "duration": 26,
    "start_time": "2022-01-30T15:55:25.423Z"
   },
   {
    "duration": 15,
    "start_time": "2022-01-30T15:55:25.450Z"
   },
   {
    "duration": 26,
    "start_time": "2022-01-30T15:55:25.467Z"
   },
   {
    "duration": 20,
    "start_time": "2022-01-30T15:55:25.495Z"
   },
   {
    "duration": 15,
    "start_time": "2022-01-30T15:55:25.517Z"
   },
   {
    "duration": 9,
    "start_time": "2022-01-30T15:55:25.534Z"
   },
   {
    "duration": 41,
    "start_time": "2022-01-30T15:55:25.544Z"
   },
   {
    "duration": 25,
    "start_time": "2022-01-30T15:55:25.587Z"
   },
   {
    "duration": 28,
    "start_time": "2022-01-30T15:55:25.614Z"
   },
   {
    "duration": 20,
    "start_time": "2022-01-30T15:55:25.644Z"
   },
   {
    "duration": 29,
    "start_time": "2022-01-30T15:55:25.668Z"
   },
   {
    "duration": 16,
    "start_time": "2022-01-30T15:55:25.699Z"
   },
   {
    "duration": 16,
    "start_time": "2022-01-30T15:55:25.717Z"
   },
   {
    "duration": 33,
    "start_time": "2022-01-30T15:55:25.734Z"
   },
   {
    "duration": 18,
    "start_time": "2022-01-30T15:55:25.768Z"
   },
   {
    "duration": 22,
    "start_time": "2022-01-30T15:55:25.788Z"
   },
   {
    "duration": 38,
    "start_time": "2022-01-30T15:55:25.812Z"
   },
   {
    "duration": 17,
    "start_time": "2022-01-30T15:55:25.852Z"
   },
   {
    "duration": 29,
    "start_time": "2022-01-30T15:55:25.871Z"
   },
   {
    "duration": 22,
    "start_time": "2022-01-30T15:55:25.902Z"
   },
   {
    "duration": 18,
    "start_time": "2022-01-30T15:55:25.926Z"
   },
   {
    "duration": 20,
    "start_time": "2022-01-30T15:55:25.946Z"
   },
   {
    "duration": 16,
    "start_time": "2022-01-30T15:55:25.968Z"
   },
   {
    "duration": 12,
    "start_time": "2022-01-30T15:55:25.985Z"
   },
   {
    "duration": 3,
    "start_time": "2022-01-30T16:17:07.914Z"
   },
   {
    "duration": 187,
    "start_time": "2022-01-30T16:17:07.920Z"
   },
   {
    "duration": 11,
    "start_time": "2022-01-30T16:17:08.109Z"
   },
   {
    "duration": 40,
    "start_time": "2022-01-30T16:17:08.122Z"
   },
   {
    "duration": 21,
    "start_time": "2022-01-30T16:17:08.164Z"
   },
   {
    "duration": 31,
    "start_time": "2022-01-30T16:17:08.188Z"
   },
   {
    "duration": 5,
    "start_time": "2022-01-30T16:17:08.223Z"
   },
   {
    "duration": 68,
    "start_time": "2022-01-30T16:17:08.231Z"
   },
   {
    "duration": 21,
    "start_time": "2022-01-30T16:17:08.301Z"
   },
   {
    "duration": 33,
    "start_time": "2022-01-30T16:17:08.325Z"
   },
   {
    "duration": 91,
    "start_time": "2022-01-30T16:17:08.361Z"
   },
   {
    "duration": 85,
    "start_time": "2022-01-30T16:17:08.455Z"
   },
   {
    "duration": 72,
    "start_time": "2022-01-30T16:17:08.542Z"
   },
   {
    "duration": 13,
    "start_time": "2022-01-30T16:17:08.616Z"
   },
   {
    "duration": 6,
    "start_time": "2022-01-30T16:17:08.632Z"
   },
   {
    "duration": 12,
    "start_time": "2022-01-30T16:17:08.641Z"
   },
   {
    "duration": 45,
    "start_time": "2022-01-30T16:17:08.654Z"
   },
   {
    "duration": 6,
    "start_time": "2022-01-30T16:17:08.701Z"
   },
   {
    "duration": 12,
    "start_time": "2022-01-30T16:17:08.711Z"
   },
   {
    "duration": 17,
    "start_time": "2022-01-30T16:17:08.726Z"
   },
   {
    "duration": 15,
    "start_time": "2022-01-30T16:17:08.745Z"
   },
   {
    "duration": 38,
    "start_time": "2022-01-30T16:17:08.763Z"
   },
   {
    "duration": 26,
    "start_time": "2022-01-30T16:17:08.804Z"
   },
   {
    "duration": 16,
    "start_time": "2022-01-30T16:17:08.832Z"
   },
   {
    "duration": 16,
    "start_time": "2022-01-30T16:17:08.850Z"
   },
   {
    "duration": 15,
    "start_time": "2022-01-30T16:17:08.899Z"
   },
   {
    "duration": 18,
    "start_time": "2022-01-30T16:17:08.916Z"
   },
   {
    "duration": 16,
    "start_time": "2022-01-30T16:17:08.936Z"
   },
   {
    "duration": 47,
    "start_time": "2022-01-30T16:17:08.954Z"
   },
   {
    "duration": 34,
    "start_time": "2022-01-30T16:17:09.003Z"
   },
   {
    "duration": 16,
    "start_time": "2022-01-30T16:17:09.039Z"
   },
   {
    "duration": 12,
    "start_time": "2022-01-30T16:17:09.057Z"
   },
   {
    "duration": 42,
    "start_time": "2022-01-30T16:17:09.071Z"
   },
   {
    "duration": 23,
    "start_time": "2022-01-30T16:17:09.115Z"
   },
   {
    "duration": 28,
    "start_time": "2022-01-30T16:17:09.141Z"
   },
   {
    "duration": 27,
    "start_time": "2022-01-30T16:17:09.171Z"
   },
   {
    "duration": 12,
    "start_time": "2022-01-30T16:17:09.200Z"
   },
   {
    "duration": 7,
    "start_time": "2022-01-30T16:17:09.214Z"
   },
   {
    "duration": 10,
    "start_time": "2022-01-30T16:17:09.223Z"
   },
   {
    "duration": 15,
    "start_time": "2022-01-30T16:17:09.235Z"
   },
   {
    "duration": 325,
    "start_time": "2022-02-08T09:11:28.555Z"
   },
   {
    "duration": 753,
    "start_time": "2022-02-08T09:11:31.648Z"
   },
   {
    "duration": 176,
    "start_time": "2022-02-08T09:11:32.404Z"
   },
   {
    "duration": 26,
    "start_time": "2022-02-08T09:11:32.583Z"
   },
   {
    "duration": 51,
    "start_time": "2022-02-08T09:11:32.612Z"
   },
   {
    "duration": 5,
    "start_time": "2022-02-08T09:11:32.666Z"
   },
   {
    "duration": 28,
    "start_time": "2022-02-08T09:11:32.674Z"
   },
   {
    "duration": 6,
    "start_time": "2022-02-08T09:11:32.704Z"
   },
   {
    "duration": 62,
    "start_time": "2022-02-08T09:11:32.713Z"
   },
   {
    "duration": 22,
    "start_time": "2022-02-08T09:11:32.777Z"
   },
   {
    "duration": 26,
    "start_time": "2022-02-08T09:11:32.801Z"
   },
   {
    "duration": 103,
    "start_time": "2022-02-08T09:11:32.829Z"
   },
   {
    "duration": 109,
    "start_time": "2022-02-08T09:11:32.934Z"
   },
   {
    "duration": 74,
    "start_time": "2022-02-08T09:11:33.045Z"
   },
   {
    "duration": 14,
    "start_time": "2022-02-08T09:11:33.772Z"
   },
   {
    "duration": 14,
    "start_time": "2022-02-08T09:11:38.247Z"
   },
   {
    "duration": 643,
    "start_time": "2022-02-08T18:53:39.991Z"
   },
   {
    "duration": 150,
    "start_time": "2022-02-08T18:53:40.636Z"
   },
   {
    "duration": 25,
    "start_time": "2022-02-08T18:53:40.788Z"
   },
   {
    "duration": 27,
    "start_time": "2022-02-08T18:53:40.815Z"
   },
   {
    "duration": 7,
    "start_time": "2022-02-08T18:53:40.844Z"
   },
   {
    "duration": 36,
    "start_time": "2022-02-08T18:53:40.853Z"
   },
   {
    "duration": 19,
    "start_time": "2022-02-08T18:53:40.892Z"
   },
   {
    "duration": 29,
    "start_time": "2022-02-08T18:53:40.914Z"
   },
   {
    "duration": 22,
    "start_time": "2022-02-08T18:53:40.945Z"
   },
   {
    "duration": 42,
    "start_time": "2022-02-08T18:53:40.969Z"
   },
   {
    "duration": 68,
    "start_time": "2022-02-08T18:53:41.013Z"
   },
   {
    "duration": 92,
    "start_time": "2022-02-08T18:53:41.083Z"
   },
   {
    "duration": 63,
    "start_time": "2022-02-08T18:53:41.177Z"
   },
   {
    "duration": 269,
    "start_time": "2022-02-08T18:53:45.711Z"
   },
   {
    "duration": 42,
    "start_time": "2022-02-08T18:54:37.511Z"
   },
   {
    "duration": 203,
    "start_time": "2022-02-08T18:55:37.122Z"
   },
   {
    "duration": 8,
    "start_time": "2022-02-08T18:55:50.338Z"
   },
   {
    "duration": 47,
    "start_time": "2022-02-08T18:59:34.513Z"
   },
   {
    "duration": 3,
    "start_time": "2022-02-08T19:12:29.375Z"
   },
   {
    "duration": 158,
    "start_time": "2022-02-08T19:12:29.380Z"
   },
   {
    "duration": 11,
    "start_time": "2022-02-08T19:12:29.540Z"
   },
   {
    "duration": 29,
    "start_time": "2022-02-08T19:12:29.553Z"
   },
   {
    "duration": 4,
    "start_time": "2022-02-08T19:12:29.584Z"
   },
   {
    "duration": 13,
    "start_time": "2022-02-08T19:12:29.608Z"
   },
   {
    "duration": 4,
    "start_time": "2022-02-08T19:12:29.624Z"
   },
   {
    "duration": 31,
    "start_time": "2022-02-08T19:12:29.630Z"
   },
   {
    "duration": 18,
    "start_time": "2022-02-08T19:12:29.663Z"
   },
   {
    "duration": 44,
    "start_time": "2022-02-08T19:12:29.683Z"
   },
   {
    "duration": 64,
    "start_time": "2022-02-08T19:12:29.729Z"
   },
   {
    "duration": 68,
    "start_time": "2022-02-08T19:12:29.807Z"
   },
   {
    "duration": 72,
    "start_time": "2022-02-08T19:12:29.877Z"
   },
   {
    "duration": 46,
    "start_time": "2022-02-08T19:12:29.951Z"
   },
   {
    "duration": 11,
    "start_time": "2022-02-08T19:12:29.999Z"
   },
   {
    "duration": 13,
    "start_time": "2022-02-08T19:12:30.012Z"
   },
   {
    "duration": 17,
    "start_time": "2022-02-08T19:12:30.027Z"
   },
   {
    "duration": 23,
    "start_time": "2022-02-08T19:12:30.046Z"
   },
   {
    "duration": 278,
    "start_time": "2022-02-08T19:12:35.804Z"
   },
   {
    "duration": 208,
    "start_time": "2022-02-08T19:12:48.855Z"
   },
   {
    "duration": 43,
    "start_time": "2022-02-08T19:13:04.066Z"
   },
   {
    "duration": 3,
    "start_time": "2022-02-08T19:19:21.521Z"
   },
   {
    "duration": 151,
    "start_time": "2022-02-08T19:19:21.526Z"
   },
   {
    "duration": 11,
    "start_time": "2022-02-08T19:19:21.680Z"
   },
   {
    "duration": 38,
    "start_time": "2022-02-08T19:19:21.693Z"
   },
   {
    "duration": 4,
    "start_time": "2022-02-08T19:19:21.733Z"
   },
   {
    "duration": 24,
    "start_time": "2022-02-08T19:19:21.739Z"
   },
   {
    "duration": 5,
    "start_time": "2022-02-08T19:19:21.766Z"
   },
   {
    "duration": 51,
    "start_time": "2022-02-08T19:19:21.773Z"
   },
   {
    "duration": 19,
    "start_time": "2022-02-08T19:19:21.828Z"
   },
   {
    "duration": 27,
    "start_time": "2022-02-08T19:19:21.849Z"
   },
   {
    "duration": 84,
    "start_time": "2022-02-08T19:19:21.878Z"
   },
   {
    "duration": 87,
    "start_time": "2022-02-08T19:19:21.964Z"
   },
   {
    "duration": 61,
    "start_time": "2022-02-08T19:19:22.053Z"
   },
   {
    "duration": 44,
    "start_time": "2022-02-08T19:19:22.117Z"
   },
   {
    "duration": 11,
    "start_time": "2022-02-08T19:19:22.163Z"
   },
   {
    "duration": 5,
    "start_time": "2022-02-08T19:19:22.176Z"
   },
   {
    "duration": 33,
    "start_time": "2022-02-08T19:19:22.183Z"
   },
   {
    "duration": 6,
    "start_time": "2022-02-08T19:19:22.218Z"
   },
   {
    "duration": 46,
    "start_time": "2022-02-08T19:19:22.226Z"
   },
   {
    "duration": 13,
    "start_time": "2022-02-08T19:19:22.274Z"
   },
   {
    "duration": 13,
    "start_time": "2022-02-08T19:19:22.308Z"
   },
   {
    "duration": 4,
    "start_time": "2022-02-08T19:19:22.323Z"
   },
   {
    "duration": 26,
    "start_time": "2022-02-08T19:19:22.329Z"
   },
   {
    "duration": 21,
    "start_time": "2022-02-08T19:19:22.357Z"
   },
   {
    "duration": 44,
    "start_time": "2022-02-08T19:19:22.380Z"
   },
   {
    "duration": 16,
    "start_time": "2022-02-08T19:19:22.426Z"
   },
   {
    "duration": 19,
    "start_time": "2022-02-08T19:19:22.445Z"
   },
   {
    "duration": 45,
    "start_time": "2022-02-08T19:19:22.466Z"
   },
   {
    "duration": 9,
    "start_time": "2022-02-08T19:19:22.513Z"
   },
   {
    "duration": 21,
    "start_time": "2022-02-08T19:19:22.524Z"
   },
   {
    "duration": 46,
    "start_time": "2022-02-08T19:19:22.547Z"
   },
   {
    "duration": 4,
    "start_time": "2022-02-08T19:19:35.518Z"
   },
   {
    "duration": 544,
    "start_time": "2022-02-08T19:19:52.808Z"
   },
   {
    "duration": 5,
    "start_time": "2022-02-08T19:26:02.000Z"
   },
   {
    "duration": 482,
    "start_time": "2022-02-08T19:26:06.950Z"
   },
   {
    "duration": 4,
    "start_time": "2022-02-08T19:28:20.788Z"
   },
   {
    "duration": 435,
    "start_time": "2022-02-08T19:28:30.184Z"
   },
   {
    "duration": 11,
    "start_time": "2022-02-08T19:30:00.995Z"
   },
   {
    "duration": 437,
    "start_time": "2022-02-08T19:30:06.515Z"
   },
   {
    "duration": 5,
    "start_time": "2022-02-08T19:30:32.047Z"
   },
   {
    "duration": 21,
    "start_time": "2022-02-08T19:30:36.267Z"
   },
   {
    "duration": 4,
    "start_time": "2022-02-08T19:33:35.340Z"
   },
   {
    "duration": 22,
    "start_time": "2022-02-08T19:33:39.520Z"
   },
   {
    "duration": 4,
    "start_time": "2022-02-08T19:34:05.322Z"
   },
   {
    "duration": 21,
    "start_time": "2022-02-08T19:34:08.480Z"
   },
   {
    "duration": 16,
    "start_time": "2022-02-08T19:34:31.725Z"
   },
   {
    "duration": 19,
    "start_time": "2022-02-08T19:34:36.851Z"
   },
   {
    "duration": 5,
    "start_time": "2022-02-08T19:35:01.335Z"
   },
   {
    "duration": 21,
    "start_time": "2022-02-08T19:35:05.019Z"
   },
   {
    "duration": 14,
    "start_time": "2022-02-08T19:35:10.242Z"
   },
   {
    "duration": 19,
    "start_time": "2022-02-08T19:35:16.069Z"
   },
   {
    "duration": 5,
    "start_time": "2022-02-08T19:35:43.275Z"
   },
   {
    "duration": 21,
    "start_time": "2022-02-08T19:35:46.994Z"
   },
   {
    "duration": 3,
    "start_time": "2022-02-08T19:43:42.010Z"
   },
   {
    "duration": 176,
    "start_time": "2022-02-08T19:43:42.015Z"
   },
   {
    "duration": 20,
    "start_time": "2022-02-08T19:43:42.193Z"
   },
   {
    "duration": 30,
    "start_time": "2022-02-08T19:43:42.216Z"
   },
   {
    "duration": 4,
    "start_time": "2022-02-08T19:43:42.248Z"
   },
   {
    "duration": 27,
    "start_time": "2022-02-08T19:43:42.254Z"
   },
   {
    "duration": 26,
    "start_time": "2022-02-08T19:43:42.284Z"
   },
   {
    "duration": 27,
    "start_time": "2022-02-08T19:43:42.312Z"
   },
   {
    "duration": 19,
    "start_time": "2022-02-08T19:43:42.341Z"
   },
   {
    "duration": 49,
    "start_time": "2022-02-08T19:43:42.362Z"
   },
   {
    "duration": 62,
    "start_time": "2022-02-08T19:43:42.413Z"
   },
   {
    "duration": 87,
    "start_time": "2022-02-08T19:43:42.476Z"
   },
   {
    "duration": 65,
    "start_time": "2022-02-08T19:43:42.565Z"
   },
   {
    "duration": 44,
    "start_time": "2022-02-08T19:43:42.632Z"
   },
   {
    "duration": 15,
    "start_time": "2022-02-08T19:43:42.678Z"
   },
   {
    "duration": 7,
    "start_time": "2022-02-08T19:43:42.695Z"
   },
   {
    "duration": 24,
    "start_time": "2022-02-08T19:43:42.708Z"
   },
   {
    "duration": 7,
    "start_time": "2022-02-08T19:43:42.734Z"
   },
   {
    "duration": 56,
    "start_time": "2022-02-08T19:43:42.744Z"
   },
   {
    "duration": 18,
    "start_time": "2022-02-08T19:43:42.802Z"
   },
   {
    "duration": 18,
    "start_time": "2022-02-08T19:43:42.823Z"
   },
   {
    "duration": 3,
    "start_time": "2022-02-08T19:43:42.843Z"
   },
   {
    "duration": 25,
    "start_time": "2022-02-08T19:43:42.848Z"
   },
   {
    "duration": 15,
    "start_time": "2022-02-08T19:43:42.875Z"
   },
   {
    "duration": 17,
    "start_time": "2022-02-08T19:43:42.908Z"
   },
   {
    "duration": 42,
    "start_time": "2022-02-08T19:43:42.927Z"
   },
   {
    "duration": 20,
    "start_time": "2022-02-08T19:43:42.971Z"
   },
   {
    "duration": 21,
    "start_time": "2022-02-08T19:43:42.993Z"
   },
   {
    "duration": 9,
    "start_time": "2022-02-08T19:43:43.015Z"
   },
   {
    "duration": 14,
    "start_time": "2022-02-08T19:43:43.026Z"
   },
   {
    "duration": 12,
    "start_time": "2022-02-08T19:43:43.042Z"
   },
   {
    "duration": 4,
    "start_time": "2022-02-08T19:43:43.056Z"
   },
   {
    "duration": 55,
    "start_time": "2022-02-08T19:43:43.062Z"
   },
   {
    "duration": 14,
    "start_time": "2022-02-08T19:43:43.119Z"
   },
   {
    "duration": 24,
    "start_time": "2022-02-08T19:43:43.135Z"
   },
   {
    "duration": 13,
    "start_time": "2022-02-08T19:43:43.161Z"
   },
   {
    "duration": 35,
    "start_time": "2022-02-08T19:43:43.176Z"
   },
   {
    "duration": 7,
    "start_time": "2022-02-08T19:43:43.213Z"
   },
   {
    "duration": 14,
    "start_time": "2022-02-08T19:43:43.222Z"
   },
   {
    "duration": 10,
    "start_time": "2022-02-08T19:43:43.238Z"
   }
  ],
  "colab": {
   "collapsed_sections": [
    "E0vqbgi9ay0H",
    "VUC88oWjTJw2"
   ],
   "name": "yandex_music_project_2021.2.ipynb",
   "provenance": []
  },
  "kernelspec": {
   "display_name": "Python 3 (ipykernel)",
   "language": "python",
   "name": "python3"
  },
  "language_info": {
   "codemirror_mode": {
    "name": "ipython",
    "version": 3
   },
   "file_extension": ".py",
   "mimetype": "text/x-python",
   "name": "python",
   "nbconvert_exporter": "python",
   "pygments_lexer": "ipython3",
   "version": "3.9.5"
  },
  "toc": {
   "base_numbering": 1,
   "nav_menu": {},
   "number_sections": true,
   "sideBar": true,
   "skip_h1_title": true,
   "title_cell": "Table of Contents",
   "title_sidebar": "Contents",
   "toc_cell": false,
   "toc_position": {
    "height": "calc(100% - 180px)",
    "left": "10px",
    "top": "150px",
    "width": "243.808px"
   },
   "toc_section_display": true,
   "toc_window_display": true
  }
 },
 "nbformat": 4,
 "nbformat_minor": 1
}
