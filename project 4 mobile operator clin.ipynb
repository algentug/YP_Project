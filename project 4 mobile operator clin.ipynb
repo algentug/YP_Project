{
 "cells": [
  {
   "cell_type": "markdown",
   "id": "21023b97",
   "metadata": {},
   "source": [
    "# Проект 4"
   ]
  },
  {
   "cell_type": "markdown",
   "id": "75dff9ff",
   "metadata": {},
   "source": [
    " \n",
    "  "
   ]
  },
  {
   "cell_type": "markdown",
   "id": "06992d77",
   "metadata": {},
   "source": [
    "**Описание проекта**\n",
    "\n",
    "Вы аналитик компании «Мегалайн» — федерального оператора сотовой связи. Клиентам предлагают два тарифных плана: «Смарт» и «Ультра». Чтобы скорректировать рекламный бюджет, коммерческий департамент хочет понять, какой тариф приносит больше денег.\n",
    "Вам предстоит сделать предварительный анализ тарифов на небольшой выборке клиентов. В вашем распоряжении данные 500 пользователей «Мегалайна»: кто они, откуда, каким тарифом пользуются, сколько звонков и сообщений каждый отправил за 2018 год. Нужно проанализировать поведение клиентов и сделать вывод — какой тариф лучше."
   ]
  },
  {
   "cell_type": "markdown",
   "id": "5d6b3984",
   "metadata": {},
   "source": [
    "**Описание тарифов**\n",
    "\n",
    "*Тариф «Смарт»*\n",
    "\n",
    "Ежемесячная плата: 550 рублей\n",
    "Включено 500 минут разговора, 50 сообщений и 15 Гб интернет-трафика\n",
    "Стоимость услуг сверх тарифного пакета:\n",
    "минута разговора: 3 рубля\n",
    "сообщение: 3 рубля\n",
    "1 Гб интернет-трафика: 200 рублей\n",
    "\n",
    "*Тариф «Ультра»*\n",
    "\n",
    "Ежемесячная плата: 1950 рублей\n",
    "Включено 3000 минут разговора, 1000 сообщений и 30 Гб интернет-трафика\n",
    "Стоимость услуг сверх тарифного пакета:\n",
    "минута разговора: 1 рубль\n",
    "сообщение: 1 рубль\n",
    "1 Гб интернет-трафика: 150 рублей\n",
    "\n",
    ">Примечание:\n",
    "«Мегалайн» всегда округляет секунды до минут, а мегабайты — до гигабайт. Каждый звонок округляется отдельно: даже если он длился всего 1 секунду, будет засчитан как 1 минута.\n",
    "Для веб-трафика отдельные сессии не считаются. Вместо этого общая сумма за месяц округляется в бо́льшую сторону. Если абонент использует 1025 мегабайт в этом месяце, с него возьмут плату за 2 гигабайта."
   ]
  },
  {
   "cell_type": "markdown",
   "id": "4671d4f5",
   "metadata": {},
   "source": [
    "## Откроем файл с данными и изучим общую информацию одновременно подготавливая данные"
   ]
  },
  {
   "cell_type": "markdown",
   "id": "c38a4a6e",
   "metadata": {},
   "source": [
    " \n",
    "  "
   ]
  },
  {
   "cell_type": "markdown",
   "id": "50003e58",
   "metadata": {},
   "source": [
    "Загрузим необходимые библиотеки."
   ]
  },
  {
   "cell_type": "code",
   "execution_count": 1,
   "id": "0578e68c",
   "metadata": {},
   "outputs": [],
   "source": [
    "from matplotlib import pyplot as plt\n",
    "from math import factorial as fct\n",
    "import numpy as np\n",
    "from scipy.stats import norm\n",
    "from scipy import stats as st\n",
    "import pandas as pd"
   ]
  },
  {
   "cell_type": "markdown",
   "id": "2475079c",
   "metadata": {},
   "source": [
    "Загрузим данные"
   ]
  },
  {
   "cell_type": "code",
   "execution_count": 2,
   "id": "52599400",
   "metadata": {},
   "outputs": [],
   "source": [
    "calls = pd.read_csv('/datasets/calls.csv')\n",
    "internet = pd.read_csv('/datasets/internet.csv')\n",
    "messages = pd.read_csv('/datasets/messages.csv')\n",
    "tariffs = pd.read_csv('/datasets/tariffs.csv')\n",
    "users = pd.read_csv('/datasets/users.csv')"
   ]
  },
  {
   "cell_type": "markdown",
   "id": "539ef833",
   "metadata": {},
   "source": [
    "**Просмотрим таблицы**"
   ]
  },
  {
   "cell_type": "markdown",
   "id": "b7bc8428",
   "metadata": {},
   "source": [
    "*Таблица tariffs (информация о тарифах):*\n",
    "* tariff_name — название тарифа\n",
    "* rub_monthly_fee — ежемесячная абонентская плата в рублях\n",
    "* minutes_included — количество минут разговора в месяц, включённых в абонентскую плату\n",
    "* messages_included — количество сообщений в месяц, включённых в абонентскую плату\n",
    "* mb_per_month_included — объём интернет-трафика, включённого в абонентскую плату (в мегабайтах)\n",
    "* rub_per_minute — стоимость минуты разговора сверх тарифного пакета (например, если в тарифе 100 минут разговора в месяц, то со 101 минуты будет взиматься плата)\n",
    "* rub_per_message — стоимость отправки сообщения сверх тарифного пакета\n",
    "* rub_per_gb — стоимость дополнительного гигабайта интернет-трафика сверх тарифного пакета (1 гигабайт = 1024 мегабайта)"
   ]
  },
  {
   "cell_type": "code",
   "execution_count": 3,
   "id": "360bbc05",
   "metadata": {},
   "outputs": [
    {
     "data": {
      "text/html": [
       "<div>\n",
       "<style scoped>\n",
       "    .dataframe tbody tr th:only-of-type {\n",
       "        vertical-align: middle;\n",
       "    }\n",
       "\n",
       "    .dataframe tbody tr th {\n",
       "        vertical-align: top;\n",
       "    }\n",
       "\n",
       "    .dataframe thead th {\n",
       "        text-align: right;\n",
       "    }\n",
       "</style>\n",
       "<table border=\"1\" class=\"dataframe\">\n",
       "  <thead>\n",
       "    <tr style=\"text-align: right;\">\n",
       "      <th></th>\n",
       "      <th>messages_included</th>\n",
       "      <th>mb_per_month_included</th>\n",
       "      <th>minutes_included</th>\n",
       "      <th>rub_monthly_fee</th>\n",
       "      <th>rub_per_gb</th>\n",
       "      <th>rub_per_message</th>\n",
       "      <th>rub_per_minute</th>\n",
       "      <th>tariff_name</th>\n",
       "    </tr>\n",
       "  </thead>\n",
       "  <tbody>\n",
       "    <tr>\n",
       "      <th>0</th>\n",
       "      <td>50</td>\n",
       "      <td>15360</td>\n",
       "      <td>500</td>\n",
       "      <td>550</td>\n",
       "      <td>200</td>\n",
       "      <td>3</td>\n",
       "      <td>3</td>\n",
       "      <td>smart</td>\n",
       "    </tr>\n",
       "    <tr>\n",
       "      <th>1</th>\n",
       "      <td>1000</td>\n",
       "      <td>30720</td>\n",
       "      <td>3000</td>\n",
       "      <td>1950</td>\n",
       "      <td>150</td>\n",
       "      <td>1</td>\n",
       "      <td>1</td>\n",
       "      <td>ultra</td>\n",
       "    </tr>\n",
       "  </tbody>\n",
       "</table>\n",
       "</div>"
      ],
      "text/plain": [
       "   messages_included  mb_per_month_included  minutes_included  \\\n",
       "0                 50                  15360               500   \n",
       "1               1000                  30720              3000   \n",
       "\n",
       "   rub_monthly_fee  rub_per_gb  rub_per_message  rub_per_minute tariff_name  \n",
       "0              550         200                3               3       smart  \n",
       "1             1950         150                1               1       ultra  "
      ]
     },
     "metadata": {},
     "output_type": "display_data"
    }
   ],
   "source": [
    "display(tariffs.head())"
   ]
  },
  {
   "cell_type": "markdown",
   "id": "6c6649c2",
   "metadata": {},
   "source": [
    " "
   ]
  },
  {
   "cell_type": "markdown",
   "id": "ffa2bb9a",
   "metadata": {},
   "source": [
    "*Таблица calls (информация о звонках):*\n",
    "* id — уникальный номер звонка\n",
    "* call_date — дата звонка\n",
    "* duration — длительность звонка в минутах\n",
    "* user_id — идентификатор пользователя, сделавшего звонок"
   ]
  },
  {
   "cell_type": "code",
   "execution_count": 4,
   "id": "8f79f90d",
   "metadata": {
    "scrolled": true
   },
   "outputs": [
    {
     "data": {
      "text/html": [
       "<div>\n",
       "<style scoped>\n",
       "    .dataframe tbody tr th:only-of-type {\n",
       "        vertical-align: middle;\n",
       "    }\n",
       "\n",
       "    .dataframe tbody tr th {\n",
       "        vertical-align: top;\n",
       "    }\n",
       "\n",
       "    .dataframe thead th {\n",
       "        text-align: right;\n",
       "    }\n",
       "</style>\n",
       "<table border=\"1\" class=\"dataframe\">\n",
       "  <thead>\n",
       "    <tr style=\"text-align: right;\">\n",
       "      <th></th>\n",
       "      <th>id</th>\n",
       "      <th>call_date</th>\n",
       "      <th>duration</th>\n",
       "      <th>user_id</th>\n",
       "    </tr>\n",
       "  </thead>\n",
       "  <tbody>\n",
       "    <tr>\n",
       "      <th>0</th>\n",
       "      <td>1000_0</td>\n",
       "      <td>2018-07-25</td>\n",
       "      <td>0.00</td>\n",
       "      <td>1000</td>\n",
       "    </tr>\n",
       "    <tr>\n",
       "      <th>1</th>\n",
       "      <td>1000_1</td>\n",
       "      <td>2018-08-17</td>\n",
       "      <td>0.00</td>\n",
       "      <td>1000</td>\n",
       "    </tr>\n",
       "    <tr>\n",
       "      <th>2</th>\n",
       "      <td>1000_2</td>\n",
       "      <td>2018-06-11</td>\n",
       "      <td>2.85</td>\n",
       "      <td>1000</td>\n",
       "    </tr>\n",
       "    <tr>\n",
       "      <th>3</th>\n",
       "      <td>1000_3</td>\n",
       "      <td>2018-09-21</td>\n",
       "      <td>13.80</td>\n",
       "      <td>1000</td>\n",
       "    </tr>\n",
       "    <tr>\n",
       "      <th>4</th>\n",
       "      <td>1000_4</td>\n",
       "      <td>2018-12-15</td>\n",
       "      <td>5.18</td>\n",
       "      <td>1000</td>\n",
       "    </tr>\n",
       "  </tbody>\n",
       "</table>\n",
       "</div>"
      ],
      "text/plain": [
       "       id   call_date  duration  user_id\n",
       "0  1000_0  2018-07-25      0.00     1000\n",
       "1  1000_1  2018-08-17      0.00     1000\n",
       "2  1000_2  2018-06-11      2.85     1000\n",
       "3  1000_3  2018-09-21     13.80     1000\n",
       "4  1000_4  2018-12-15      5.18     1000"
      ]
     },
     "execution_count": 4,
     "metadata": {},
     "output_type": "execute_result"
    }
   ],
   "source": [
    "calls.head()"
   ]
  },
  {
   "cell_type": "markdown",
   "id": "6de42c25",
   "metadata": {},
   "source": [
    "Округлим значения в столбце `duration` до большего целого. "
   ]
  },
  {
   "cell_type": "code",
   "execution_count": 5,
   "id": "8d5df896",
   "metadata": {},
   "outputs": [],
   "source": [
    "calls['duration'] = np.ceil(calls['duration'])"
   ]
  },
  {
   "cell_type": "markdown",
   "id": "32c77576",
   "metadata": {},
   "source": [
    "   Конвертируем столбец `call_date` в формат `datetime` и добавим дополнительный столбец с номером месяца даты совершения звонка."
   ]
  },
  {
   "cell_type": "code",
   "execution_count": 6,
   "id": "19e796ae",
   "metadata": {},
   "outputs": [
    {
     "data": {
      "text/html": [
       "<div>\n",
       "<style scoped>\n",
       "    .dataframe tbody tr th:only-of-type {\n",
       "        vertical-align: middle;\n",
       "    }\n",
       "\n",
       "    .dataframe tbody tr th {\n",
       "        vertical-align: top;\n",
       "    }\n",
       "\n",
       "    .dataframe thead th {\n",
       "        text-align: right;\n",
       "    }\n",
       "</style>\n",
       "<table border=\"1\" class=\"dataframe\">\n",
       "  <thead>\n",
       "    <tr style=\"text-align: right;\">\n",
       "      <th></th>\n",
       "      <th>id</th>\n",
       "      <th>call_date</th>\n",
       "      <th>duration</th>\n",
       "      <th>user_id</th>\n",
       "      <th>month</th>\n",
       "    </tr>\n",
       "  </thead>\n",
       "  <tbody>\n",
       "    <tr>\n",
       "      <th>0</th>\n",
       "      <td>1000_0</td>\n",
       "      <td>2018-07-25</td>\n",
       "      <td>0.0</td>\n",
       "      <td>1000</td>\n",
       "      <td>7</td>\n",
       "    </tr>\n",
       "    <tr>\n",
       "      <th>1</th>\n",
       "      <td>1000_1</td>\n",
       "      <td>2018-08-17</td>\n",
       "      <td>0.0</td>\n",
       "      <td>1000</td>\n",
       "      <td>8</td>\n",
       "    </tr>\n",
       "    <tr>\n",
       "      <th>2</th>\n",
       "      <td>1000_2</td>\n",
       "      <td>2018-06-11</td>\n",
       "      <td>3.0</td>\n",
       "      <td>1000</td>\n",
       "      <td>6</td>\n",
       "    </tr>\n",
       "    <tr>\n",
       "      <th>3</th>\n",
       "      <td>1000_3</td>\n",
       "      <td>2018-09-21</td>\n",
       "      <td>14.0</td>\n",
       "      <td>1000</td>\n",
       "      <td>9</td>\n",
       "    </tr>\n",
       "    <tr>\n",
       "      <th>4</th>\n",
       "      <td>1000_4</td>\n",
       "      <td>2018-12-15</td>\n",
       "      <td>6.0</td>\n",
       "      <td>1000</td>\n",
       "      <td>12</td>\n",
       "    </tr>\n",
       "  </tbody>\n",
       "</table>\n",
       "</div>"
      ],
      "text/plain": [
       "       id  call_date  duration  user_id  month\n",
       "0  1000_0 2018-07-25       0.0     1000      7\n",
       "1  1000_1 2018-08-17       0.0     1000      8\n",
       "2  1000_2 2018-06-11       3.0     1000      6\n",
       "3  1000_3 2018-09-21      14.0     1000      9\n",
       "4  1000_4 2018-12-15       6.0     1000     12"
      ]
     },
     "metadata": {},
     "output_type": "display_data"
    }
   ],
   "source": [
    "calls['call_date']= pd.to_datetime(calls['call_date'])\n",
    "calls['month'] = calls['call_date'].dt.month\n",
    "display(calls.head())"
   ]
  },
  {
   "cell_type": "markdown",
   "id": "a62ab5cf",
   "metadata": {},
   "source": [
    " "
   ]
  },
  {
   "cell_type": "markdown",
   "id": "eecd3ff1",
   "metadata": {},
   "source": [
    "*Таблица internet (информация об интернет-сессиях):*\n",
    "* id — уникальный номер сессии\n",
    "* mb_used — объём потраченного за сессию интернет-трафика (в мегабайтах)\n",
    "* session_date — дата интернет-сессии\n",
    "* user_id — идентификатор пользователя"
   ]
  },
  {
   "cell_type": "code",
   "execution_count": 7,
   "id": "9e86a81d",
   "metadata": {},
   "outputs": [
    {
     "data": {
      "text/html": [
       "<div>\n",
       "<style scoped>\n",
       "    .dataframe tbody tr th:only-of-type {\n",
       "        vertical-align: middle;\n",
       "    }\n",
       "\n",
       "    .dataframe tbody tr th {\n",
       "        vertical-align: top;\n",
       "    }\n",
       "\n",
       "    .dataframe thead th {\n",
       "        text-align: right;\n",
       "    }\n",
       "</style>\n",
       "<table border=\"1\" class=\"dataframe\">\n",
       "  <thead>\n",
       "    <tr style=\"text-align: right;\">\n",
       "      <th></th>\n",
       "      <th>Unnamed: 0</th>\n",
       "      <th>id</th>\n",
       "      <th>mb_used</th>\n",
       "      <th>session_date</th>\n",
       "      <th>user_id</th>\n",
       "    </tr>\n",
       "  </thead>\n",
       "  <tbody>\n",
       "    <tr>\n",
       "      <th>0</th>\n",
       "      <td>0</td>\n",
       "      <td>1000_0</td>\n",
       "      <td>112.95</td>\n",
       "      <td>2018-11-25</td>\n",
       "      <td>1000</td>\n",
       "    </tr>\n",
       "    <tr>\n",
       "      <th>1</th>\n",
       "      <td>1</td>\n",
       "      <td>1000_1</td>\n",
       "      <td>1052.81</td>\n",
       "      <td>2018-09-07</td>\n",
       "      <td>1000</td>\n",
       "    </tr>\n",
       "    <tr>\n",
       "      <th>2</th>\n",
       "      <td>2</td>\n",
       "      <td>1000_2</td>\n",
       "      <td>1197.26</td>\n",
       "      <td>2018-06-25</td>\n",
       "      <td>1000</td>\n",
       "    </tr>\n",
       "    <tr>\n",
       "      <th>3</th>\n",
       "      <td>3</td>\n",
       "      <td>1000_3</td>\n",
       "      <td>550.27</td>\n",
       "      <td>2018-08-22</td>\n",
       "      <td>1000</td>\n",
       "    </tr>\n",
       "    <tr>\n",
       "      <th>4</th>\n",
       "      <td>4</td>\n",
       "      <td>1000_4</td>\n",
       "      <td>302.56</td>\n",
       "      <td>2018-09-24</td>\n",
       "      <td>1000</td>\n",
       "    </tr>\n",
       "  </tbody>\n",
       "</table>\n",
       "</div>"
      ],
      "text/plain": [
       "   Unnamed: 0      id  mb_used session_date  user_id\n",
       "0           0  1000_0   112.95   2018-11-25     1000\n",
       "1           1  1000_1  1052.81   2018-09-07     1000\n",
       "2           2  1000_2  1197.26   2018-06-25     1000\n",
       "3           3  1000_3   550.27   2018-08-22     1000\n",
       "4           4  1000_4   302.56   2018-09-24     1000"
      ]
     },
     "execution_count": 7,
     "metadata": {},
     "output_type": "execute_result"
    }
   ],
   "source": [
    "internet.head()"
   ]
  },
  {
   "cell_type": "markdown",
   "id": "5bd8bc59",
   "metadata": {},
   "source": [
    "В таблице надо удалить лишний столбец `Unnamed: 0`."
   ]
  },
  {
   "cell_type": "code",
   "execution_count": 8,
   "id": "4a814d64",
   "metadata": {},
   "outputs": [],
   "source": [
    "internet.drop(['Unnamed: 0'], axis=1, inplace=True)"
   ]
  },
  {
   "cell_type": "markdown",
   "id": "8beef947",
   "metadata": {},
   "source": [
    "   Конвертируем столбец `session_date` в формат `datetime`и добавим дополнительный столбец с номером месяца даты совершения интернет сессии."
   ]
  },
  {
   "cell_type": "code",
   "execution_count": 9,
   "id": "6329e5ff",
   "metadata": {},
   "outputs": [
    {
     "data": {
      "text/html": [
       "<div>\n",
       "<style scoped>\n",
       "    .dataframe tbody tr th:only-of-type {\n",
       "        vertical-align: middle;\n",
       "    }\n",
       "\n",
       "    .dataframe tbody tr th {\n",
       "        vertical-align: top;\n",
       "    }\n",
       "\n",
       "    .dataframe thead th {\n",
       "        text-align: right;\n",
       "    }\n",
       "</style>\n",
       "<table border=\"1\" class=\"dataframe\">\n",
       "  <thead>\n",
       "    <tr style=\"text-align: right;\">\n",
       "      <th></th>\n",
       "      <th>id</th>\n",
       "      <th>mb_used</th>\n",
       "      <th>session_date</th>\n",
       "      <th>user_id</th>\n",
       "      <th>month</th>\n",
       "    </tr>\n",
       "  </thead>\n",
       "  <tbody>\n",
       "    <tr>\n",
       "      <th>0</th>\n",
       "      <td>1000_0</td>\n",
       "      <td>112.95</td>\n",
       "      <td>2018-11-25</td>\n",
       "      <td>1000</td>\n",
       "      <td>11</td>\n",
       "    </tr>\n",
       "    <tr>\n",
       "      <th>1</th>\n",
       "      <td>1000_1</td>\n",
       "      <td>1052.81</td>\n",
       "      <td>2018-09-07</td>\n",
       "      <td>1000</td>\n",
       "      <td>9</td>\n",
       "    </tr>\n",
       "    <tr>\n",
       "      <th>2</th>\n",
       "      <td>1000_2</td>\n",
       "      <td>1197.26</td>\n",
       "      <td>2018-06-25</td>\n",
       "      <td>1000</td>\n",
       "      <td>6</td>\n",
       "    </tr>\n",
       "    <tr>\n",
       "      <th>3</th>\n",
       "      <td>1000_3</td>\n",
       "      <td>550.27</td>\n",
       "      <td>2018-08-22</td>\n",
       "      <td>1000</td>\n",
       "      <td>8</td>\n",
       "    </tr>\n",
       "    <tr>\n",
       "      <th>4</th>\n",
       "      <td>1000_4</td>\n",
       "      <td>302.56</td>\n",
       "      <td>2018-09-24</td>\n",
       "      <td>1000</td>\n",
       "      <td>9</td>\n",
       "    </tr>\n",
       "  </tbody>\n",
       "</table>\n",
       "</div>"
      ],
      "text/plain": [
       "       id  mb_used session_date  user_id  month\n",
       "0  1000_0   112.95   2018-11-25     1000     11\n",
       "1  1000_1  1052.81   2018-09-07     1000      9\n",
       "2  1000_2  1197.26   2018-06-25     1000      6\n",
       "3  1000_3   550.27   2018-08-22     1000      8\n",
       "4  1000_4   302.56   2018-09-24     1000      9"
      ]
     },
     "metadata": {},
     "output_type": "display_data"
    }
   ],
   "source": [
    "internet['session_date'] = pd.to_datetime(internet['session_date'])\n",
    "internet['month'] = internet['session_date'].dt.month\n",
    "display(internet.head())"
   ]
  },
  {
   "cell_type": "markdown",
   "id": "858ab032",
   "metadata": {},
   "source": [
    " "
   ]
  },
  {
   "cell_type": "markdown",
   "id": "b3c7fae0",
   "metadata": {},
   "source": [
    "*Таблица messages (информация о сообщениях):*\n",
    "* id — уникальный номер сообщения\n",
    "* message_date — дата сообщения\n",
    "* user_id — идентификатор пользователя, отправившего сообщение"
   ]
  },
  {
   "cell_type": "code",
   "execution_count": 10,
   "id": "9a52d1d8",
   "metadata": {},
   "outputs": [
    {
     "data": {
      "text/html": [
       "<div>\n",
       "<style scoped>\n",
       "    .dataframe tbody tr th:only-of-type {\n",
       "        vertical-align: middle;\n",
       "    }\n",
       "\n",
       "    .dataframe tbody tr th {\n",
       "        vertical-align: top;\n",
       "    }\n",
       "\n",
       "    .dataframe thead th {\n",
       "        text-align: right;\n",
       "    }\n",
       "</style>\n",
       "<table border=\"1\" class=\"dataframe\">\n",
       "  <thead>\n",
       "    <tr style=\"text-align: right;\">\n",
       "      <th></th>\n",
       "      <th>id</th>\n",
       "      <th>message_date</th>\n",
       "      <th>user_id</th>\n",
       "    </tr>\n",
       "  </thead>\n",
       "  <tbody>\n",
       "    <tr>\n",
       "      <th>0</th>\n",
       "      <td>1000_0</td>\n",
       "      <td>2018-06-27</td>\n",
       "      <td>1000</td>\n",
       "    </tr>\n",
       "    <tr>\n",
       "      <th>1</th>\n",
       "      <td>1000_1</td>\n",
       "      <td>2018-10-08</td>\n",
       "      <td>1000</td>\n",
       "    </tr>\n",
       "    <tr>\n",
       "      <th>2</th>\n",
       "      <td>1000_2</td>\n",
       "      <td>2018-08-04</td>\n",
       "      <td>1000</td>\n",
       "    </tr>\n",
       "    <tr>\n",
       "      <th>3</th>\n",
       "      <td>1000_3</td>\n",
       "      <td>2018-06-16</td>\n",
       "      <td>1000</td>\n",
       "    </tr>\n",
       "    <tr>\n",
       "      <th>4</th>\n",
       "      <td>1000_4</td>\n",
       "      <td>2018-12-05</td>\n",
       "      <td>1000</td>\n",
       "    </tr>\n",
       "  </tbody>\n",
       "</table>\n",
       "</div>"
      ],
      "text/plain": [
       "       id message_date  user_id\n",
       "0  1000_0   2018-06-27     1000\n",
       "1  1000_1   2018-10-08     1000\n",
       "2  1000_2   2018-08-04     1000\n",
       "3  1000_3   2018-06-16     1000\n",
       "4  1000_4   2018-12-05     1000"
      ]
     },
     "execution_count": 10,
     "metadata": {},
     "output_type": "execute_result"
    }
   ],
   "source": [
    "messages.head()"
   ]
  },
  {
   "cell_type": "markdown",
   "id": "6af7d261",
   "metadata": {},
   "source": [
    "   Конвертируем столбец `message_date` в формат `datetime`и добавим дополнительный столбец с номером месяца даты отправки сообщения."
   ]
  },
  {
   "cell_type": "code",
   "execution_count": 11,
   "id": "c95e3376",
   "metadata": {},
   "outputs": [
    {
     "data": {
      "text/html": [
       "<div>\n",
       "<style scoped>\n",
       "    .dataframe tbody tr th:only-of-type {\n",
       "        vertical-align: middle;\n",
       "    }\n",
       "\n",
       "    .dataframe tbody tr th {\n",
       "        vertical-align: top;\n",
       "    }\n",
       "\n",
       "    .dataframe thead th {\n",
       "        text-align: right;\n",
       "    }\n",
       "</style>\n",
       "<table border=\"1\" class=\"dataframe\">\n",
       "  <thead>\n",
       "    <tr style=\"text-align: right;\">\n",
       "      <th></th>\n",
       "      <th>id</th>\n",
       "      <th>message_date</th>\n",
       "      <th>user_id</th>\n",
       "      <th>month</th>\n",
       "    </tr>\n",
       "  </thead>\n",
       "  <tbody>\n",
       "    <tr>\n",
       "      <th>0</th>\n",
       "      <td>1000_0</td>\n",
       "      <td>2018-06-27</td>\n",
       "      <td>1000</td>\n",
       "      <td>6</td>\n",
       "    </tr>\n",
       "    <tr>\n",
       "      <th>1</th>\n",
       "      <td>1000_1</td>\n",
       "      <td>2018-10-08</td>\n",
       "      <td>1000</td>\n",
       "      <td>10</td>\n",
       "    </tr>\n",
       "    <tr>\n",
       "      <th>2</th>\n",
       "      <td>1000_2</td>\n",
       "      <td>2018-08-04</td>\n",
       "      <td>1000</td>\n",
       "      <td>8</td>\n",
       "    </tr>\n",
       "    <tr>\n",
       "      <th>3</th>\n",
       "      <td>1000_3</td>\n",
       "      <td>2018-06-16</td>\n",
       "      <td>1000</td>\n",
       "      <td>6</td>\n",
       "    </tr>\n",
       "    <tr>\n",
       "      <th>4</th>\n",
       "      <td>1000_4</td>\n",
       "      <td>2018-12-05</td>\n",
       "      <td>1000</td>\n",
       "      <td>12</td>\n",
       "    </tr>\n",
       "  </tbody>\n",
       "</table>\n",
       "</div>"
      ],
      "text/plain": [
       "       id message_date  user_id  month\n",
       "0  1000_0   2018-06-27     1000      6\n",
       "1  1000_1   2018-10-08     1000     10\n",
       "2  1000_2   2018-08-04     1000      8\n",
       "3  1000_3   2018-06-16     1000      6\n",
       "4  1000_4   2018-12-05     1000     12"
      ]
     },
     "metadata": {},
     "output_type": "display_data"
    }
   ],
   "source": [
    "messages['message_date'] = pd.to_datetime(messages['message_date'])\n",
    "messages['month'] = messages['message_date'].dt.month\n",
    "display(messages.head())"
   ]
  },
  {
   "cell_type": "markdown",
   "id": "fa670a7f",
   "metadata": {},
   "source": [
    " "
   ]
  },
  {
   "cell_type": "markdown",
   "id": "e6c3bfa7",
   "metadata": {},
   "source": [
    "*Таблица users (информация о пользователях):*\n",
    "* user_id — уникальный идентификатор пользователя\n",
    "* first_name — имя пользователя\n",
    "* last_name — фамилия пользователя\n",
    "* age — возраст пользователя (годы)\n",
    "* reg_date — дата подключения тарифа (день, месяц, год)\n",
    "* churn_date — дата прекращения пользования тарифом (если значение пропущено, то тариф ещё действовал на момент выгрузки данных)\n",
    "* city — город проживания пользователя\n",
    "* tarif — название тарифного плана"
   ]
  },
  {
   "cell_type": "code",
   "execution_count": 12,
   "id": "d3ab4d7d",
   "metadata": {},
   "outputs": [
    {
     "data": {
      "text/html": [
       "<div>\n",
       "<style scoped>\n",
       "    .dataframe tbody tr th:only-of-type {\n",
       "        vertical-align: middle;\n",
       "    }\n",
       "\n",
       "    .dataframe tbody tr th {\n",
       "        vertical-align: top;\n",
       "    }\n",
       "\n",
       "    .dataframe thead th {\n",
       "        text-align: right;\n",
       "    }\n",
       "</style>\n",
       "<table border=\"1\" class=\"dataframe\">\n",
       "  <thead>\n",
       "    <tr style=\"text-align: right;\">\n",
       "      <th></th>\n",
       "      <th>user_id</th>\n",
       "      <th>age</th>\n",
       "      <th>churn_date</th>\n",
       "      <th>city</th>\n",
       "      <th>first_name</th>\n",
       "      <th>last_name</th>\n",
       "      <th>reg_date</th>\n",
       "      <th>tariff</th>\n",
       "    </tr>\n",
       "  </thead>\n",
       "  <tbody>\n",
       "    <tr>\n",
       "      <th>0</th>\n",
       "      <td>1000</td>\n",
       "      <td>52</td>\n",
       "      <td>NaN</td>\n",
       "      <td>Краснодар</td>\n",
       "      <td>Рафаил</td>\n",
       "      <td>Верещагин</td>\n",
       "      <td>2018-05-25</td>\n",
       "      <td>ultra</td>\n",
       "    </tr>\n",
       "    <tr>\n",
       "      <th>1</th>\n",
       "      <td>1001</td>\n",
       "      <td>41</td>\n",
       "      <td>NaN</td>\n",
       "      <td>Москва</td>\n",
       "      <td>Иван</td>\n",
       "      <td>Ежов</td>\n",
       "      <td>2018-11-01</td>\n",
       "      <td>smart</td>\n",
       "    </tr>\n",
       "    <tr>\n",
       "      <th>2</th>\n",
       "      <td>1002</td>\n",
       "      <td>59</td>\n",
       "      <td>NaN</td>\n",
       "      <td>Стерлитамак</td>\n",
       "      <td>Евгений</td>\n",
       "      <td>Абрамович</td>\n",
       "      <td>2018-06-17</td>\n",
       "      <td>smart</td>\n",
       "    </tr>\n",
       "    <tr>\n",
       "      <th>3</th>\n",
       "      <td>1003</td>\n",
       "      <td>23</td>\n",
       "      <td>NaN</td>\n",
       "      <td>Москва</td>\n",
       "      <td>Белла</td>\n",
       "      <td>Белякова</td>\n",
       "      <td>2018-08-17</td>\n",
       "      <td>ultra</td>\n",
       "    </tr>\n",
       "    <tr>\n",
       "      <th>4</th>\n",
       "      <td>1004</td>\n",
       "      <td>68</td>\n",
       "      <td>NaN</td>\n",
       "      <td>Новокузнецк</td>\n",
       "      <td>Татьяна</td>\n",
       "      <td>Авдеенко</td>\n",
       "      <td>2018-05-14</td>\n",
       "      <td>ultra</td>\n",
       "    </tr>\n",
       "  </tbody>\n",
       "</table>\n",
       "</div>"
      ],
      "text/plain": [
       "   user_id  age churn_date         city first_name  last_name    reg_date  \\\n",
       "0     1000   52        NaN    Краснодар     Рафаил  Верещагин  2018-05-25   \n",
       "1     1001   41        NaN       Москва       Иван       Ежов  2018-11-01   \n",
       "2     1002   59        NaN  Стерлитамак    Евгений  Абрамович  2018-06-17   \n",
       "3     1003   23        NaN       Москва      Белла   Белякова  2018-08-17   \n",
       "4     1004   68        NaN  Новокузнецк    Татьяна   Авдеенко  2018-05-14   \n",
       "\n",
       "  tariff  \n",
       "0  ultra  \n",
       "1  smart  \n",
       "2  smart  \n",
       "3  ultra  \n",
       "4  ultra  "
      ]
     },
     "execution_count": 12,
     "metadata": {},
     "output_type": "execute_result"
    }
   ],
   "source": [
    "users.head()"
   ]
  },
  {
   "cell_type": "markdown",
   "id": "8a17fb58",
   "metadata": {},
   "source": [
    "   Конвертируем столбецs `red_date` и `churn_date` в формат `datetime`."
   ]
  },
  {
   "cell_type": "code",
   "execution_count": 13,
   "id": "5446500d",
   "metadata": {
    "scrolled": true
   },
   "outputs": [
    {
     "name": "stdout",
     "output_type": "stream",
     "text": [
      "<class 'pandas.core.frame.DataFrame'>\n",
      "RangeIndex: 500 entries, 0 to 499\n",
      "Data columns (total 8 columns):\n",
      " #   Column      Non-Null Count  Dtype         \n",
      "---  ------      --------------  -----         \n",
      " 0   user_id     500 non-null    int64         \n",
      " 1   age         500 non-null    int64         \n",
      " 2   churn_date  38 non-null     datetime64[ns]\n",
      " 3   city        500 non-null    object        \n",
      " 4   first_name  500 non-null    object        \n",
      " 5   last_name   500 non-null    object        \n",
      " 6   reg_date    500 non-null    datetime64[ns]\n",
      " 7   tariff      500 non-null    object        \n",
      "dtypes: datetime64[ns](2), int64(2), object(4)\n",
      "memory usage: 31.4+ KB\n"
     ]
    }
   ],
   "source": [
    "users['reg_date'] = pd.to_datetime(users['reg_date'])\n",
    "users['churn_date'] = pd.to_datetime(users['churn_date'])\n",
    "users.info()"
   ]
  },
  {
   "cell_type": "markdown",
   "id": "6c08da02",
   "metadata": {},
   "source": [
    " "
   ]
  },
  {
   "cell_type": "markdown",
   "id": "ce59ae6a",
   "metadata": {},
   "source": [
    "Для дальнейшей работы нам понадобится таблица с `user_id` , `tariff` и `city`. Создадим её."
   ]
  },
  {
   "cell_type": "code",
   "execution_count": 14,
   "id": "71bb2f7f",
   "metadata": {},
   "outputs": [
    {
     "data": {
      "text/html": [
       "<div>\n",
       "<style scoped>\n",
       "    .dataframe tbody tr th:only-of-type {\n",
       "        vertical-align: middle;\n",
       "    }\n",
       "\n",
       "    .dataframe tbody tr th {\n",
       "        vertical-align: top;\n",
       "    }\n",
       "\n",
       "    .dataframe thead th {\n",
       "        text-align: right;\n",
       "    }\n",
       "</style>\n",
       "<table border=\"1\" class=\"dataframe\">\n",
       "  <thead>\n",
       "    <tr style=\"text-align: right;\">\n",
       "      <th></th>\n",
       "      <th>tariff</th>\n",
       "      <th>city</th>\n",
       "    </tr>\n",
       "    <tr>\n",
       "      <th>user_id</th>\n",
       "      <th></th>\n",
       "      <th></th>\n",
       "    </tr>\n",
       "  </thead>\n",
       "  <tbody>\n",
       "    <tr>\n",
       "      <th>1000</th>\n",
       "      <td>ultra</td>\n",
       "      <td>Краснодар</td>\n",
       "    </tr>\n",
       "    <tr>\n",
       "      <th>1001</th>\n",
       "      <td>smart</td>\n",
       "      <td>Москва</td>\n",
       "    </tr>\n",
       "    <tr>\n",
       "      <th>1002</th>\n",
       "      <td>smart</td>\n",
       "      <td>Стерлитамак</td>\n",
       "    </tr>\n",
       "    <tr>\n",
       "      <th>1003</th>\n",
       "      <td>ultra</td>\n",
       "      <td>Москва</td>\n",
       "    </tr>\n",
       "    <tr>\n",
       "      <th>1004</th>\n",
       "      <td>ultra</td>\n",
       "      <td>Новокузнецк</td>\n",
       "    </tr>\n",
       "    <tr>\n",
       "      <th>...</th>\n",
       "      <td>...</td>\n",
       "      <td>...</td>\n",
       "    </tr>\n",
       "    <tr>\n",
       "      <th>1495</th>\n",
       "      <td>ultra</td>\n",
       "      <td>Иркутск</td>\n",
       "    </tr>\n",
       "    <tr>\n",
       "      <th>1496</th>\n",
       "      <td>smart</td>\n",
       "      <td>Вологда</td>\n",
       "    </tr>\n",
       "    <tr>\n",
       "      <th>1497</th>\n",
       "      <td>smart</td>\n",
       "      <td>Челябинск</td>\n",
       "    </tr>\n",
       "    <tr>\n",
       "      <th>1498</th>\n",
       "      <td>smart</td>\n",
       "      <td>Владикавказ</td>\n",
       "    </tr>\n",
       "    <tr>\n",
       "      <th>1499</th>\n",
       "      <td>smart</td>\n",
       "      <td>Пермь</td>\n",
       "    </tr>\n",
       "  </tbody>\n",
       "</table>\n",
       "<p>500 rows × 2 columns</p>\n",
       "</div>"
      ],
      "text/plain": [
       "        tariff         city\n",
       "user_id                    \n",
       "1000     ultra    Краснодар\n",
       "1001     smart       Москва\n",
       "1002     smart  Стерлитамак\n",
       "1003     ultra       Москва\n",
       "1004     ultra  Новокузнецк\n",
       "...        ...          ...\n",
       "1495     ultra      Иркутск\n",
       "1496     smart      Вологда\n",
       "1497     smart    Челябинск\n",
       "1498     smart  Владикавказ\n",
       "1499     smart        Пермь\n",
       "\n",
       "[500 rows x 2 columns]"
      ]
     },
     "execution_count": 14,
     "metadata": {},
     "output_type": "execute_result"
    }
   ],
   "source": [
    "users_tariff = users[['user_id', 'tariff', 'city']]\n",
    "users_tariff = users_tariff.set_index(['user_id'])\n",
    "users_tariff"
   ]
  },
  {
   "cell_type": "markdown",
   "id": "1bfa1ea5",
   "metadata": {},
   "source": [
    "**Посчитаем для каждого пользователя:**\n",
    "\n",
    "* количество сделанных звонков и израсходованных минут разговора по месяцам;\n",
    "* количество отправленных сообщений по месяцам;\n",
    "* объем израсходованного интернет-трафика по месяцам;\n",
    "* помесячную выручку с каждого пользователя (вычтите бесплатный лимит из суммарного количества звонков, сообщений и интернет-трафика; остаток умножьте на значение из тарифного плана; прибавьте абонентскую плату, соответствующую тарифному плану)."
   ]
  },
  {
   "cell_type": "code",
   "execution_count": 15,
   "id": "487fb5f4",
   "metadata": {},
   "outputs": [
    {
     "data": {
      "text/html": [
       "<div>\n",
       "<style scoped>\n",
       "    .dataframe tbody tr th:only-of-type {\n",
       "        vertical-align: middle;\n",
       "    }\n",
       "\n",
       "    .dataframe tbody tr th {\n",
       "        vertical-align: top;\n",
       "    }\n",
       "\n",
       "    .dataframe thead tr th {\n",
       "        text-align: left;\n",
       "    }\n",
       "\n",
       "    .dataframe thead tr:last-of-type th {\n",
       "        text-align: right;\n",
       "    }\n",
       "</style>\n",
       "<table border=\"1\" class=\"dataframe\">\n",
       "  <thead>\n",
       "    <tr>\n",
       "      <th></th>\n",
       "      <th></th>\n",
       "      <th colspan=\"2\" halign=\"left\">duration</th>\n",
       "    </tr>\n",
       "    <tr>\n",
       "      <th></th>\n",
       "      <th></th>\n",
       "      <th>sum</th>\n",
       "      <th>count</th>\n",
       "    </tr>\n",
       "    <tr>\n",
       "      <th>user_id</th>\n",
       "      <th>month</th>\n",
       "      <th></th>\n",
       "      <th></th>\n",
       "    </tr>\n",
       "  </thead>\n",
       "  <tbody>\n",
       "    <tr>\n",
       "      <th rowspan=\"5\" valign=\"top\">1000</th>\n",
       "      <th>5</th>\n",
       "      <td>159.0</td>\n",
       "      <td>22</td>\n",
       "    </tr>\n",
       "    <tr>\n",
       "      <th>6</th>\n",
       "      <td>172.0</td>\n",
       "      <td>43</td>\n",
       "    </tr>\n",
       "    <tr>\n",
       "      <th>7</th>\n",
       "      <td>340.0</td>\n",
       "      <td>47</td>\n",
       "    </tr>\n",
       "    <tr>\n",
       "      <th>8</th>\n",
       "      <td>408.0</td>\n",
       "      <td>52</td>\n",
       "    </tr>\n",
       "    <tr>\n",
       "      <th>9</th>\n",
       "      <td>466.0</td>\n",
       "      <td>58</td>\n",
       "    </tr>\n",
       "    <tr>\n",
       "      <th>...</th>\n",
       "      <th>...</th>\n",
       "      <td>...</td>\n",
       "      <td>...</td>\n",
       "    </tr>\n",
       "    <tr>\n",
       "      <th>1498</th>\n",
       "      <th>10</th>\n",
       "      <td>247.0</td>\n",
       "      <td>41</td>\n",
       "    </tr>\n",
       "    <tr>\n",
       "      <th rowspan=\"4\" valign=\"top\">1499</th>\n",
       "      <th>9</th>\n",
       "      <td>70.0</td>\n",
       "      <td>9</td>\n",
       "    </tr>\n",
       "    <tr>\n",
       "      <th>10</th>\n",
       "      <td>449.0</td>\n",
       "      <td>68</td>\n",
       "    </tr>\n",
       "    <tr>\n",
       "      <th>11</th>\n",
       "      <td>612.0</td>\n",
       "      <td>74</td>\n",
       "    </tr>\n",
       "    <tr>\n",
       "      <th>12</th>\n",
       "      <td>492.0</td>\n",
       "      <td>69</td>\n",
       "    </tr>\n",
       "  </tbody>\n",
       "</table>\n",
       "<p>3174 rows × 2 columns</p>\n",
       "</div>"
      ],
      "text/plain": [
       "              duration      \n",
       "                   sum count\n",
       "user_id month               \n",
       "1000    5        159.0    22\n",
       "        6        172.0    43\n",
       "        7        340.0    47\n",
       "        8        408.0    52\n",
       "        9        466.0    58\n",
       "...                ...   ...\n",
       "1498    10       247.0    41\n",
       "1499    9         70.0     9\n",
       "        10       449.0    68\n",
       "        11       612.0    74\n",
       "        12       492.0    69\n",
       "\n",
       "[3174 rows x 2 columns]"
      ]
     },
     "execution_count": 15,
     "metadata": {},
     "output_type": "execute_result"
    }
   ],
   "source": [
    "#сгрупируем таблицу calls по пользователям и месяцам и просуммируем\n",
    "calls_user_id = calls.groupby(['user_id', 'month']).agg({'duration':['sum', 'count']})\n",
    "calls_user_id"
   ]
  },
  {
   "cell_type": "code",
   "execution_count": 16,
   "id": "6642da76",
   "metadata": {},
   "outputs": [
    {
     "data": {
      "text/html": [
       "<div>\n",
       "<style scoped>\n",
       "    .dataframe tbody tr th:only-of-type {\n",
       "        vertical-align: middle;\n",
       "    }\n",
       "\n",
       "    .dataframe tbody tr th {\n",
       "        vertical-align: top;\n",
       "    }\n",
       "\n",
       "    .dataframe thead th {\n",
       "        text-align: right;\n",
       "    }\n",
       "</style>\n",
       "<table border=\"1\" class=\"dataframe\">\n",
       "  <thead>\n",
       "    <tr style=\"text-align: right;\">\n",
       "      <th></th>\n",
       "      <th></th>\n",
       "      <th>user_id</th>\n",
       "    </tr>\n",
       "    <tr>\n",
       "      <th>user_id</th>\n",
       "      <th>month</th>\n",
       "      <th></th>\n",
       "    </tr>\n",
       "  </thead>\n",
       "  <tbody>\n",
       "    <tr>\n",
       "      <th rowspan=\"5\" valign=\"top\">1000</th>\n",
       "      <th>5</th>\n",
       "      <td>22</td>\n",
       "    </tr>\n",
       "    <tr>\n",
       "      <th>6</th>\n",
       "      <td>60</td>\n",
       "    </tr>\n",
       "    <tr>\n",
       "      <th>7</th>\n",
       "      <td>75</td>\n",
       "    </tr>\n",
       "    <tr>\n",
       "      <th>8</th>\n",
       "      <td>81</td>\n",
       "    </tr>\n",
       "    <tr>\n",
       "      <th>9</th>\n",
       "      <td>57</td>\n",
       "    </tr>\n",
       "    <tr>\n",
       "      <th>...</th>\n",
       "      <th>...</th>\n",
       "      <td>...</td>\n",
       "    </tr>\n",
       "    <tr>\n",
       "      <th>1498</th>\n",
       "      <th>10</th>\n",
       "      <td>42</td>\n",
       "    </tr>\n",
       "    <tr>\n",
       "      <th rowspan=\"4\" valign=\"top\">1499</th>\n",
       "      <th>9</th>\n",
       "      <td>11</td>\n",
       "    </tr>\n",
       "    <tr>\n",
       "      <th>10</th>\n",
       "      <td>48</td>\n",
       "    </tr>\n",
       "    <tr>\n",
       "      <th>11</th>\n",
       "      <td>59</td>\n",
       "    </tr>\n",
       "    <tr>\n",
       "      <th>12</th>\n",
       "      <td>66</td>\n",
       "    </tr>\n",
       "  </tbody>\n",
       "</table>\n",
       "<p>2717 rows × 1 columns</p>\n",
       "</div>"
      ],
      "text/plain": [
       "               user_id\n",
       "user_id month         \n",
       "1000    5           22\n",
       "        6           60\n",
       "        7           75\n",
       "        8           81\n",
       "        9           57\n",
       "...                ...\n",
       "1498    10          42\n",
       "1499    9           11\n",
       "        10          48\n",
       "        11          59\n",
       "        12          66\n",
       "\n",
       "[2717 rows x 1 columns]"
      ]
     },
     "execution_count": 16,
     "metadata": {},
     "output_type": "execute_result"
    }
   ],
   "source": [
    "#сгруппируем таблицу messages по пользователям и месяцам и просуммируем\n",
    "messages_user_id = messages.groupby(['user_id', 'month']).agg({'user_id':'count'})\n",
    "messages_user_id"
   ]
  },
  {
   "cell_type": "code",
   "execution_count": 17,
   "id": "afa508eb",
   "metadata": {},
   "outputs": [
    {
     "data": {
      "text/html": [
       "<div>\n",
       "<style scoped>\n",
       "    .dataframe tbody tr th:only-of-type {\n",
       "        vertical-align: middle;\n",
       "    }\n",
       "\n",
       "    .dataframe tbody tr th {\n",
       "        vertical-align: top;\n",
       "    }\n",
       "\n",
       "    .dataframe thead th {\n",
       "        text-align: right;\n",
       "    }\n",
       "</style>\n",
       "<table border=\"1\" class=\"dataframe\">\n",
       "  <thead>\n",
       "    <tr style=\"text-align: right;\">\n",
       "      <th></th>\n",
       "      <th></th>\n",
       "      <th>mb_used</th>\n",
       "    </tr>\n",
       "    <tr>\n",
       "      <th>user_id</th>\n",
       "      <th>month</th>\n",
       "      <th></th>\n",
       "    </tr>\n",
       "  </thead>\n",
       "  <tbody>\n",
       "    <tr>\n",
       "      <th rowspan=\"5\" valign=\"top\">1000</th>\n",
       "      <th>5</th>\n",
       "      <td>2253.49</td>\n",
       "    </tr>\n",
       "    <tr>\n",
       "      <th>6</th>\n",
       "      <td>23233.77</td>\n",
       "    </tr>\n",
       "    <tr>\n",
       "      <th>7</th>\n",
       "      <td>14003.64</td>\n",
       "    </tr>\n",
       "    <tr>\n",
       "      <th>8</th>\n",
       "      <td>14055.93</td>\n",
       "    </tr>\n",
       "    <tr>\n",
       "      <th>9</th>\n",
       "      <td>14568.91</td>\n",
       "    </tr>\n",
       "    <tr>\n",
       "      <th>...</th>\n",
       "      <th>...</th>\n",
       "      <td>...</td>\n",
       "    </tr>\n",
       "    <tr>\n",
       "      <th>1498</th>\n",
       "      <th>10</th>\n",
       "      <td>20579.36</td>\n",
       "    </tr>\n",
       "    <tr>\n",
       "      <th rowspan=\"4\" valign=\"top\">1499</th>\n",
       "      <th>9</th>\n",
       "      <td>1845.75</td>\n",
       "    </tr>\n",
       "    <tr>\n",
       "      <th>10</th>\n",
       "      <td>17788.51</td>\n",
       "    </tr>\n",
       "    <tr>\n",
       "      <th>11</th>\n",
       "      <td>17963.31</td>\n",
       "    </tr>\n",
       "    <tr>\n",
       "      <th>12</th>\n",
       "      <td>13055.58</td>\n",
       "    </tr>\n",
       "  </tbody>\n",
       "</table>\n",
       "<p>3203 rows × 1 columns</p>\n",
       "</div>"
      ],
      "text/plain": [
       "                mb_used\n",
       "user_id month          \n",
       "1000    5       2253.49\n",
       "        6      23233.77\n",
       "        7      14003.64\n",
       "        8      14055.93\n",
       "        9      14568.91\n",
       "...                 ...\n",
       "1498    10     20579.36\n",
       "1499    9       1845.75\n",
       "        10     17788.51\n",
       "        11     17963.31\n",
       "        12     13055.58\n",
       "\n",
       "[3203 rows x 1 columns]"
      ]
     },
     "execution_count": 17,
     "metadata": {},
     "output_type": "execute_result"
    }
   ],
   "source": [
    "#сгруппируем таблицу internet по пользователям и месяцам и просуммируем\n",
    "internet_user_id = internet.groupby(['user_id', 'month']).agg({'mb_used':'sum'})\n",
    "internet_user_id"
   ]
  },
  {
   "cell_type": "code",
   "execution_count": 18,
   "id": "2587f282",
   "metadata": {},
   "outputs": [],
   "source": [
    "#переведем размер скаченного интернет-графика в Гигабыйты (1 гигабайт = 1024 мегабайта) \n",
    "# и округлим до целого в большую сторону\n",
    "internet_user_id['mb_used'] = (np.ceil(internet_user_id['mb_used'] / 1024))"
   ]
  },
  {
   "cell_type": "code",
   "execution_count": 19,
   "id": "bd1f9034",
   "metadata": {},
   "outputs": [
    {
     "data": {
      "text/html": [
       "<div>\n",
       "<style scoped>\n",
       "    .dataframe tbody tr th:only-of-type {\n",
       "        vertical-align: middle;\n",
       "    }\n",
       "\n",
       "    .dataframe tbody tr th {\n",
       "        vertical-align: top;\n",
       "    }\n",
       "\n",
       "    .dataframe thead th {\n",
       "        text-align: right;\n",
       "    }\n",
       "</style>\n",
       "<table border=\"1\" class=\"dataframe\">\n",
       "  <thead>\n",
       "    <tr style=\"text-align: right;\">\n",
       "      <th></th>\n",
       "      <th></th>\n",
       "      <th>(duration, sum)</th>\n",
       "      <th>(duration, count)</th>\n",
       "      <th>user_id</th>\n",
       "      <th>mb_used</th>\n",
       "      <th>tariff</th>\n",
       "      <th>city</th>\n",
       "    </tr>\n",
       "    <tr>\n",
       "      <th>user_id</th>\n",
       "      <th>month</th>\n",
       "      <th></th>\n",
       "      <th></th>\n",
       "      <th></th>\n",
       "      <th></th>\n",
       "      <th></th>\n",
       "      <th></th>\n",
       "    </tr>\n",
       "  </thead>\n",
       "  <tbody>\n",
       "    <tr>\n",
       "      <th rowspan=\"5\" valign=\"top\">1000</th>\n",
       "      <th>5</th>\n",
       "      <td>159.0</td>\n",
       "      <td>22.0</td>\n",
       "      <td>22.0</td>\n",
       "      <td>3.0</td>\n",
       "      <td>ultra</td>\n",
       "      <td>Краснодар</td>\n",
       "    </tr>\n",
       "    <tr>\n",
       "      <th>6</th>\n",
       "      <td>172.0</td>\n",
       "      <td>43.0</td>\n",
       "      <td>60.0</td>\n",
       "      <td>23.0</td>\n",
       "      <td>ultra</td>\n",
       "      <td>Краснодар</td>\n",
       "    </tr>\n",
       "    <tr>\n",
       "      <th>7</th>\n",
       "      <td>340.0</td>\n",
       "      <td>47.0</td>\n",
       "      <td>75.0</td>\n",
       "      <td>14.0</td>\n",
       "      <td>ultra</td>\n",
       "      <td>Краснодар</td>\n",
       "    </tr>\n",
       "    <tr>\n",
       "      <th>8</th>\n",
       "      <td>408.0</td>\n",
       "      <td>52.0</td>\n",
       "      <td>81.0</td>\n",
       "      <td>14.0</td>\n",
       "      <td>ultra</td>\n",
       "      <td>Краснодар</td>\n",
       "    </tr>\n",
       "    <tr>\n",
       "      <th>9</th>\n",
       "      <td>466.0</td>\n",
       "      <td>58.0</td>\n",
       "      <td>57.0</td>\n",
       "      <td>15.0</td>\n",
       "      <td>ultra</td>\n",
       "      <td>Краснодар</td>\n",
       "    </tr>\n",
       "    <tr>\n",
       "      <th>...</th>\n",
       "      <th>...</th>\n",
       "      <td>...</td>\n",
       "      <td>...</td>\n",
       "      <td>...</td>\n",
       "      <td>...</td>\n",
       "      <td>...</td>\n",
       "      <td>...</td>\n",
       "    </tr>\n",
       "    <tr>\n",
       "      <th>1498</th>\n",
       "      <th>10</th>\n",
       "      <td>247.0</td>\n",
       "      <td>41.0</td>\n",
       "      <td>42.0</td>\n",
       "      <td>21.0</td>\n",
       "      <td>smart</td>\n",
       "      <td>Владикавказ</td>\n",
       "    </tr>\n",
       "    <tr>\n",
       "      <th rowspan=\"4\" valign=\"top\">1499</th>\n",
       "      <th>9</th>\n",
       "      <td>70.0</td>\n",
       "      <td>9.0</td>\n",
       "      <td>11.0</td>\n",
       "      <td>2.0</td>\n",
       "      <td>smart</td>\n",
       "      <td>Пермь</td>\n",
       "    </tr>\n",
       "    <tr>\n",
       "      <th>10</th>\n",
       "      <td>449.0</td>\n",
       "      <td>68.0</td>\n",
       "      <td>48.0</td>\n",
       "      <td>18.0</td>\n",
       "      <td>smart</td>\n",
       "      <td>Пермь</td>\n",
       "    </tr>\n",
       "    <tr>\n",
       "      <th>11</th>\n",
       "      <td>612.0</td>\n",
       "      <td>74.0</td>\n",
       "      <td>59.0</td>\n",
       "      <td>18.0</td>\n",
       "      <td>smart</td>\n",
       "      <td>Пермь</td>\n",
       "    </tr>\n",
       "    <tr>\n",
       "      <th>12</th>\n",
       "      <td>492.0</td>\n",
       "      <td>69.0</td>\n",
       "      <td>66.0</td>\n",
       "      <td>13.0</td>\n",
       "      <td>smart</td>\n",
       "      <td>Пермь</td>\n",
       "    </tr>\n",
       "  </tbody>\n",
       "</table>\n",
       "<p>3214 rows × 6 columns</p>\n",
       "</div>"
      ],
      "text/plain": [
       "               (duration, sum)  (duration, count)  user_id  mb_used tariff  \\\n",
       "user_id month                                                                \n",
       "1000    5                159.0               22.0     22.0      3.0  ultra   \n",
       "        6                172.0               43.0     60.0     23.0  ultra   \n",
       "        7                340.0               47.0     75.0     14.0  ultra   \n",
       "        8                408.0               52.0     81.0     14.0  ultra   \n",
       "        9                466.0               58.0     57.0     15.0  ultra   \n",
       "...                        ...                ...      ...      ...    ...   \n",
       "1498    10               247.0               41.0     42.0     21.0  smart   \n",
       "1499    9                 70.0                9.0     11.0      2.0  smart   \n",
       "        10               449.0               68.0     48.0     18.0  smart   \n",
       "        11               612.0               74.0     59.0     18.0  smart   \n",
       "        12               492.0               69.0     66.0     13.0  smart   \n",
       "\n",
       "                      city  \n",
       "user_id month               \n",
       "1000    5        Краснодар  \n",
       "        6        Краснодар  \n",
       "        7        Краснодар  \n",
       "        8        Краснодар  \n",
       "        9        Краснодар  \n",
       "...                    ...  \n",
       "1498    10     Владикавказ  \n",
       "1499    9            Пермь  \n",
       "        10           Пермь  \n",
       "        11           Пермь  \n",
       "        12           Пермь  \n",
       "\n",
       "[3214 rows x 6 columns]"
      ]
     },
     "execution_count": 19,
     "metadata": {},
     "output_type": "execute_result"
    }
   ],
   "source": [
    "#обьединим полученные три полученные таблицы в одну методом join\n",
    "user_data = calls_user_id.join([messages_user_id, internet_user_id], how='outer')\n",
    "user_data = user_data.join(users_tariff)\n",
    "user_data"
   ]
  },
  {
   "cell_type": "code",
   "execution_count": 20,
   "id": "38c0b459",
   "metadata": {},
   "outputs": [
    {
     "name": "stdout",
     "output_type": "stream",
     "text": [
      "<class 'pandas.core.frame.DataFrame'>\n",
      "MultiIndex: 3214 entries, (1000, 5) to (1499, 12)\n",
      "Data columns (total 6 columns):\n",
      " #   Column             Non-Null Count  Dtype  \n",
      "---  ------             --------------  -----  \n",
      " 0   (duration, sum)    3174 non-null   float64\n",
      " 1   (duration, count)  3174 non-null   float64\n",
      " 2   user_id            2717 non-null   float64\n",
      " 3   mb_used            3203 non-null   float64\n",
      " 4   tariff             3214 non-null   object \n",
      " 5   city               3214 non-null   object \n",
      "dtypes: float64(4), object(2)\n",
      "memory usage: 180.6+ KB\n"
     ]
    }
   ],
   "source": [
    "user_data.info()"
   ]
  },
  {
   "cell_type": "code",
   "execution_count": 21,
   "id": "4ba6710e",
   "metadata": {},
   "outputs": [],
   "source": [
    "#переименуем столбцы\n",
    "user_data.columns = ['duration', 'calls', 'messages', 'internet', 'tariff', 'city']"
   ]
  },
  {
   "cell_type": "code",
   "execution_count": 22,
   "id": "40272cd3",
   "metadata": {},
   "outputs": [
    {
     "data": {
      "text/html": [
       "<div>\n",
       "<style scoped>\n",
       "    .dataframe tbody tr th:only-of-type {\n",
       "        vertical-align: middle;\n",
       "    }\n",
       "\n",
       "    .dataframe tbody tr th {\n",
       "        vertical-align: top;\n",
       "    }\n",
       "\n",
       "    .dataframe thead th {\n",
       "        text-align: right;\n",
       "    }\n",
       "</style>\n",
       "<table border=\"1\" class=\"dataframe\">\n",
       "  <thead>\n",
       "    <tr style=\"text-align: right;\">\n",
       "      <th></th>\n",
       "      <th></th>\n",
       "      <th>duration</th>\n",
       "      <th>calls</th>\n",
       "      <th>messages</th>\n",
       "      <th>internet</th>\n",
       "      <th>tariff</th>\n",
       "      <th>city</th>\n",
       "    </tr>\n",
       "    <tr>\n",
       "      <th>user_id</th>\n",
       "      <th>month</th>\n",
       "      <th></th>\n",
       "      <th></th>\n",
       "      <th></th>\n",
       "      <th></th>\n",
       "      <th></th>\n",
       "      <th></th>\n",
       "    </tr>\n",
       "  </thead>\n",
       "  <tbody>\n",
       "    <tr>\n",
       "      <th rowspan=\"5\" valign=\"top\">1000</th>\n",
       "      <th>5</th>\n",
       "      <td>159</td>\n",
       "      <td>22</td>\n",
       "      <td>22</td>\n",
       "      <td>3</td>\n",
       "      <td>ultra</td>\n",
       "      <td>Краснодар</td>\n",
       "    </tr>\n",
       "    <tr>\n",
       "      <th>6</th>\n",
       "      <td>172</td>\n",
       "      <td>43</td>\n",
       "      <td>60</td>\n",
       "      <td>23</td>\n",
       "      <td>ultra</td>\n",
       "      <td>Краснодар</td>\n",
       "    </tr>\n",
       "    <tr>\n",
       "      <th>7</th>\n",
       "      <td>340</td>\n",
       "      <td>47</td>\n",
       "      <td>75</td>\n",
       "      <td>14</td>\n",
       "      <td>ultra</td>\n",
       "      <td>Краснодар</td>\n",
       "    </tr>\n",
       "    <tr>\n",
       "      <th>8</th>\n",
       "      <td>408</td>\n",
       "      <td>52</td>\n",
       "      <td>81</td>\n",
       "      <td>14</td>\n",
       "      <td>ultra</td>\n",
       "      <td>Краснодар</td>\n",
       "    </tr>\n",
       "    <tr>\n",
       "      <th>9</th>\n",
       "      <td>466</td>\n",
       "      <td>58</td>\n",
       "      <td>57</td>\n",
       "      <td>15</td>\n",
       "      <td>ultra</td>\n",
       "      <td>Краснодар</td>\n",
       "    </tr>\n",
       "  </tbody>\n",
       "</table>\n",
       "</div>"
      ],
      "text/plain": [
       "               duration  calls  messages  internet tariff       city\n",
       "user_id month                                                       \n",
       "1000    5           159     22        22         3  ultra  Краснодар\n",
       "        6           172     43        60        23  ultra  Краснодар\n",
       "        7           340     47        75        14  ultra  Краснодар\n",
       "        8           408     52        81        14  ultra  Краснодар\n",
       "        9           466     58        57        15  ultra  Краснодар"
      ]
     },
     "execution_count": 22,
     "metadata": {},
     "output_type": "execute_result"
    }
   ],
   "source": [
    "#уберем пустые значения и изменим тип данных на целочисленный\n",
    "user_data['messages'] = user_data['messages'].fillna(0).astype(int)\n",
    "user_data['internet'] = user_data['internet'].fillna(0).astype(int)\n",
    "user_data['duration'] = user_data['duration'].fillna(0).astype(int)\n",
    "user_data['calls'] = user_data['calls'].fillna(0).astype(int)\n",
    "user_data.head()"
   ]
  },
  {
   "cell_type": "code",
   "execution_count": 23,
   "id": "30262c7a",
   "metadata": {},
   "outputs": [
    {
     "data": {
      "text/html": [
       "<div>\n",
       "<style scoped>\n",
       "    .dataframe tbody tr th:only-of-type {\n",
       "        vertical-align: middle;\n",
       "    }\n",
       "\n",
       "    .dataframe tbody tr th {\n",
       "        vertical-align: top;\n",
       "    }\n",
       "\n",
       "    .dataframe thead th {\n",
       "        text-align: right;\n",
       "    }\n",
       "</style>\n",
       "<table border=\"1\" class=\"dataframe\">\n",
       "  <thead>\n",
       "    <tr style=\"text-align: right;\">\n",
       "      <th></th>\n",
       "      <th>user_id</th>\n",
       "      <th>month</th>\n",
       "      <th>duration</th>\n",
       "      <th>calls</th>\n",
       "      <th>messages</th>\n",
       "      <th>internet</th>\n",
       "      <th>tariff</th>\n",
       "      <th>city</th>\n",
       "    </tr>\n",
       "  </thead>\n",
       "  <tbody>\n",
       "    <tr>\n",
       "      <th>0</th>\n",
       "      <td>1000</td>\n",
       "      <td>5</td>\n",
       "      <td>159</td>\n",
       "      <td>22</td>\n",
       "      <td>22</td>\n",
       "      <td>3</td>\n",
       "      <td>ultra</td>\n",
       "      <td>Краснодар</td>\n",
       "    </tr>\n",
       "    <tr>\n",
       "      <th>1</th>\n",
       "      <td>1000</td>\n",
       "      <td>6</td>\n",
       "      <td>172</td>\n",
       "      <td>43</td>\n",
       "      <td>60</td>\n",
       "      <td>23</td>\n",
       "      <td>ultra</td>\n",
       "      <td>Краснодар</td>\n",
       "    </tr>\n",
       "    <tr>\n",
       "      <th>2</th>\n",
       "      <td>1000</td>\n",
       "      <td>7</td>\n",
       "      <td>340</td>\n",
       "      <td>47</td>\n",
       "      <td>75</td>\n",
       "      <td>14</td>\n",
       "      <td>ultra</td>\n",
       "      <td>Краснодар</td>\n",
       "    </tr>\n",
       "    <tr>\n",
       "      <th>3</th>\n",
       "      <td>1000</td>\n",
       "      <td>8</td>\n",
       "      <td>408</td>\n",
       "      <td>52</td>\n",
       "      <td>81</td>\n",
       "      <td>14</td>\n",
       "      <td>ultra</td>\n",
       "      <td>Краснодар</td>\n",
       "    </tr>\n",
       "    <tr>\n",
       "      <th>4</th>\n",
       "      <td>1000</td>\n",
       "      <td>9</td>\n",
       "      <td>466</td>\n",
       "      <td>58</td>\n",
       "      <td>57</td>\n",
       "      <td>15</td>\n",
       "      <td>ultra</td>\n",
       "      <td>Краснодар</td>\n",
       "    </tr>\n",
       "    <tr>\n",
       "      <th>...</th>\n",
       "      <td>...</td>\n",
       "      <td>...</td>\n",
       "      <td>...</td>\n",
       "      <td>...</td>\n",
       "      <td>...</td>\n",
       "      <td>...</td>\n",
       "      <td>...</td>\n",
       "      <td>...</td>\n",
       "    </tr>\n",
       "    <tr>\n",
       "      <th>3209</th>\n",
       "      <td>1498</td>\n",
       "      <td>10</td>\n",
       "      <td>247</td>\n",
       "      <td>41</td>\n",
       "      <td>42</td>\n",
       "      <td>21</td>\n",
       "      <td>smart</td>\n",
       "      <td>Владикавказ</td>\n",
       "    </tr>\n",
       "    <tr>\n",
       "      <th>3210</th>\n",
       "      <td>1499</td>\n",
       "      <td>9</td>\n",
       "      <td>70</td>\n",
       "      <td>9</td>\n",
       "      <td>11</td>\n",
       "      <td>2</td>\n",
       "      <td>smart</td>\n",
       "      <td>Пермь</td>\n",
       "    </tr>\n",
       "    <tr>\n",
       "      <th>3211</th>\n",
       "      <td>1499</td>\n",
       "      <td>10</td>\n",
       "      <td>449</td>\n",
       "      <td>68</td>\n",
       "      <td>48</td>\n",
       "      <td>18</td>\n",
       "      <td>smart</td>\n",
       "      <td>Пермь</td>\n",
       "    </tr>\n",
       "    <tr>\n",
       "      <th>3212</th>\n",
       "      <td>1499</td>\n",
       "      <td>11</td>\n",
       "      <td>612</td>\n",
       "      <td>74</td>\n",
       "      <td>59</td>\n",
       "      <td>18</td>\n",
       "      <td>smart</td>\n",
       "      <td>Пермь</td>\n",
       "    </tr>\n",
       "    <tr>\n",
       "      <th>3213</th>\n",
       "      <td>1499</td>\n",
       "      <td>12</td>\n",
       "      <td>492</td>\n",
       "      <td>69</td>\n",
       "      <td>66</td>\n",
       "      <td>13</td>\n",
       "      <td>smart</td>\n",
       "      <td>Пермь</td>\n",
       "    </tr>\n",
       "  </tbody>\n",
       "</table>\n",
       "<p>3214 rows × 8 columns</p>\n",
       "</div>"
      ],
      "text/plain": [
       "      user_id  month  duration  calls  messages  internet tariff         city\n",
       "0        1000      5       159     22        22         3  ultra    Краснодар\n",
       "1        1000      6       172     43        60        23  ultra    Краснодар\n",
       "2        1000      7       340     47        75        14  ultra    Краснодар\n",
       "3        1000      8       408     52        81        14  ultra    Краснодар\n",
       "4        1000      9       466     58        57        15  ultra    Краснодар\n",
       "...       ...    ...       ...    ...       ...       ...    ...          ...\n",
       "3209     1498     10       247     41        42        21  smart  Владикавказ\n",
       "3210     1499      9        70      9        11         2  smart        Пермь\n",
       "3211     1499     10       449     68        48        18  smart        Пермь\n",
       "3212     1499     11       612     74        59        18  smart        Пермь\n",
       "3213     1499     12       492     69        66        13  smart        Пермь\n",
       "\n",
       "[3214 rows x 8 columns]"
      ]
     },
     "execution_count": 23,
     "metadata": {},
     "output_type": "execute_result"
    }
   ],
   "source": [
    "#переиндексируем полученную таблицу\n",
    "user_data = user_data.reset_index()\n",
    "user_data"
   ]
  },
  {
   "cell_type": "markdown",
   "id": "35152bef",
   "metadata": {},
   "source": [
    "Найдем помесячную выручку с каждого пользователя (вычтим бесплатный лимит из суммарного количества звонков, сообщений и интернет-трафика; остаток умножим на значение из тарифного плана; прибавим абонентскую плату, соответствующую тарифному плану)."
   ]
  },
  {
   "cell_type": "code",
   "execution_count": 24,
   "id": "869e20ff",
   "metadata": {},
   "outputs": [],
   "source": [
    "#разделим таблицу на две, в зависимости от тарифа\n",
    "user_data_smart = user_data.query('tariff == \"smart\"').reset_index(drop=True)\n",
    "user_data_ultra = user_data.query('tariff == \"ultra\"').reset_index(drop=True)"
   ]
  },
  {
   "cell_type": "code",
   "execution_count": 25,
   "id": "99a67ff1",
   "metadata": {},
   "outputs": [
    {
     "data": {
      "text/html": [
       "<div>\n",
       "<style scoped>\n",
       "    .dataframe tbody tr th:only-of-type {\n",
       "        vertical-align: middle;\n",
       "    }\n",
       "\n",
       "    .dataframe tbody tr th {\n",
       "        vertical-align: top;\n",
       "    }\n",
       "\n",
       "    .dataframe thead th {\n",
       "        text-align: right;\n",
       "    }\n",
       "</style>\n",
       "<table border=\"1\" class=\"dataframe\">\n",
       "  <thead>\n",
       "    <tr style=\"text-align: right;\">\n",
       "      <th></th>\n",
       "      <th>user_id</th>\n",
       "      <th>month</th>\n",
       "      <th>duration</th>\n",
       "      <th>calls</th>\n",
       "      <th>messages</th>\n",
       "      <th>internet</th>\n",
       "      <th>tariff</th>\n",
       "      <th>city</th>\n",
       "    </tr>\n",
       "  </thead>\n",
       "  <tbody>\n",
       "    <tr>\n",
       "      <th>0</th>\n",
       "      <td>1001</td>\n",
       "      <td>11</td>\n",
       "      <td>430</td>\n",
       "      <td>59</td>\n",
       "      <td>0</td>\n",
       "      <td>18</td>\n",
       "      <td>smart</td>\n",
       "      <td>Москва</td>\n",
       "    </tr>\n",
       "    <tr>\n",
       "      <th>1</th>\n",
       "      <td>1001</td>\n",
       "      <td>12</td>\n",
       "      <td>414</td>\n",
       "      <td>63</td>\n",
       "      <td>0</td>\n",
       "      <td>14</td>\n",
       "      <td>smart</td>\n",
       "      <td>Москва</td>\n",
       "    </tr>\n",
       "    <tr>\n",
       "      <th>2</th>\n",
       "      <td>1002</td>\n",
       "      <td>6</td>\n",
       "      <td>117</td>\n",
       "      <td>15</td>\n",
       "      <td>4</td>\n",
       "      <td>11</td>\n",
       "      <td>smart</td>\n",
       "      <td>Стерлитамак</td>\n",
       "    </tr>\n",
       "    <tr>\n",
       "      <th>3</th>\n",
       "      <td>1002</td>\n",
       "      <td>7</td>\n",
       "      <td>214</td>\n",
       "      <td>26</td>\n",
       "      <td>11</td>\n",
       "      <td>18</td>\n",
       "      <td>smart</td>\n",
       "      <td>Стерлитамак</td>\n",
       "    </tr>\n",
       "    <tr>\n",
       "      <th>4</th>\n",
       "      <td>1002</td>\n",
       "      <td>8</td>\n",
       "      <td>289</td>\n",
       "      <td>42</td>\n",
       "      <td>13</td>\n",
       "      <td>20</td>\n",
       "      <td>smart</td>\n",
       "      <td>Стерлитамак</td>\n",
       "    </tr>\n",
       "    <tr>\n",
       "      <th>...</th>\n",
       "      <td>...</td>\n",
       "      <td>...</td>\n",
       "      <td>...</td>\n",
       "      <td>...</td>\n",
       "      <td>...</td>\n",
       "      <td>...</td>\n",
       "      <td>...</td>\n",
       "      <td>...</td>\n",
       "    </tr>\n",
       "    <tr>\n",
       "      <th>2224</th>\n",
       "      <td>1498</td>\n",
       "      <td>10</td>\n",
       "      <td>247</td>\n",
       "      <td>41</td>\n",
       "      <td>42</td>\n",
       "      <td>21</td>\n",
       "      <td>smart</td>\n",
       "      <td>Владикавказ</td>\n",
       "    </tr>\n",
       "    <tr>\n",
       "      <th>2225</th>\n",
       "      <td>1499</td>\n",
       "      <td>9</td>\n",
       "      <td>70</td>\n",
       "      <td>9</td>\n",
       "      <td>11</td>\n",
       "      <td>2</td>\n",
       "      <td>smart</td>\n",
       "      <td>Пермь</td>\n",
       "    </tr>\n",
       "    <tr>\n",
       "      <th>2226</th>\n",
       "      <td>1499</td>\n",
       "      <td>10</td>\n",
       "      <td>449</td>\n",
       "      <td>68</td>\n",
       "      <td>48</td>\n",
       "      <td>18</td>\n",
       "      <td>smart</td>\n",
       "      <td>Пермь</td>\n",
       "    </tr>\n",
       "    <tr>\n",
       "      <th>2227</th>\n",
       "      <td>1499</td>\n",
       "      <td>11</td>\n",
       "      <td>612</td>\n",
       "      <td>74</td>\n",
       "      <td>59</td>\n",
       "      <td>18</td>\n",
       "      <td>smart</td>\n",
       "      <td>Пермь</td>\n",
       "    </tr>\n",
       "    <tr>\n",
       "      <th>2228</th>\n",
       "      <td>1499</td>\n",
       "      <td>12</td>\n",
       "      <td>492</td>\n",
       "      <td>69</td>\n",
       "      <td>66</td>\n",
       "      <td>13</td>\n",
       "      <td>smart</td>\n",
       "      <td>Пермь</td>\n",
       "    </tr>\n",
       "  </tbody>\n",
       "</table>\n",
       "<p>2229 rows × 8 columns</p>\n",
       "</div>"
      ],
      "text/plain": [
       "      user_id  month  duration  calls  messages  internet tariff         city\n",
       "0        1001     11       430     59         0        18  smart       Москва\n",
       "1        1001     12       414     63         0        14  smart       Москва\n",
       "2        1002      6       117     15         4        11  smart  Стерлитамак\n",
       "3        1002      7       214     26        11        18  smart  Стерлитамак\n",
       "4        1002      8       289     42        13        20  smart  Стерлитамак\n",
       "...       ...    ...       ...    ...       ...       ...    ...          ...\n",
       "2224     1498     10       247     41        42        21  smart  Владикавказ\n",
       "2225     1499      9        70      9        11         2  smart        Пермь\n",
       "2226     1499     10       449     68        48        18  smart        Пермь\n",
       "2227     1499     11       612     74        59        18  smart        Пермь\n",
       "2228     1499     12       492     69        66        13  smart        Пермь\n",
       "\n",
       "[2229 rows x 8 columns]"
      ]
     },
     "execution_count": 25,
     "metadata": {},
     "output_type": "execute_result"
    }
   ],
   "source": [
    "user_data_smart"
   ]
  },
  {
   "cell_type": "code",
   "execution_count": 26,
   "id": "8a28c83c",
   "metadata": {},
   "outputs": [],
   "source": [
    "#создадим новый столбец cost_month и заполним его\n",
    "user_data_smart.loc[:, 'cost_month'] = [0] * len(user_data_smart)\n",
    "\n",
    "#пройдемся по таблице и посчитаем помесечную выручку\n",
    "for i in range(len(user_data_smart)):\n",
    "    cost = 550\n",
    "\n",
    "    if user_data_smart.loc[i, 'duration'] > 500:\n",
    "        cost += (user_data_smart.loc[i, 'duration'] - 500) * 3\n",
    "    \n",
    "    elif user_data_smart.loc[i, 'messages'] > 50:\n",
    "        cost += (user_data_smart.loc[i, 'messages'] - 50) * 3\n",
    "        \n",
    "    elif user_data_smart.loc[i, 'internet'] > 15:\n",
    "        cost += (user_data_smart.loc[i, 'internet'] - 15) * 200\n",
    "    \n",
    "    user_data_smart.loc[i, 'cost_month'] = cost\n",
    "    \n",
    "    "
   ]
  },
  {
   "cell_type": "code",
   "execution_count": 27,
   "id": "4a0ae9a9",
   "metadata": {},
   "outputs": [
    {
     "data": {
      "text/html": [
       "<div>\n",
       "<style scoped>\n",
       "    .dataframe tbody tr th:only-of-type {\n",
       "        vertical-align: middle;\n",
       "    }\n",
       "\n",
       "    .dataframe tbody tr th {\n",
       "        vertical-align: top;\n",
       "    }\n",
       "\n",
       "    .dataframe thead th {\n",
       "        text-align: right;\n",
       "    }\n",
       "</style>\n",
       "<table border=\"1\" class=\"dataframe\">\n",
       "  <thead>\n",
       "    <tr style=\"text-align: right;\">\n",
       "      <th></th>\n",
       "      <th>user_id</th>\n",
       "      <th>month</th>\n",
       "      <th>duration</th>\n",
       "      <th>calls</th>\n",
       "      <th>messages</th>\n",
       "      <th>internet</th>\n",
       "      <th>tariff</th>\n",
       "      <th>city</th>\n",
       "      <th>cost_month</th>\n",
       "    </tr>\n",
       "  </thead>\n",
       "  <tbody>\n",
       "    <tr>\n",
       "      <th>0</th>\n",
       "      <td>1001</td>\n",
       "      <td>11</td>\n",
       "      <td>430</td>\n",
       "      <td>59</td>\n",
       "      <td>0</td>\n",
       "      <td>18</td>\n",
       "      <td>smart</td>\n",
       "      <td>Москва</td>\n",
       "      <td>1150</td>\n",
       "    </tr>\n",
       "    <tr>\n",
       "      <th>1</th>\n",
       "      <td>1001</td>\n",
       "      <td>12</td>\n",
       "      <td>414</td>\n",
       "      <td>63</td>\n",
       "      <td>0</td>\n",
       "      <td>14</td>\n",
       "      <td>smart</td>\n",
       "      <td>Москва</td>\n",
       "      <td>550</td>\n",
       "    </tr>\n",
       "    <tr>\n",
       "      <th>2</th>\n",
       "      <td>1002</td>\n",
       "      <td>6</td>\n",
       "      <td>117</td>\n",
       "      <td>15</td>\n",
       "      <td>4</td>\n",
       "      <td>11</td>\n",
       "      <td>smart</td>\n",
       "      <td>Стерлитамак</td>\n",
       "      <td>550</td>\n",
       "    </tr>\n",
       "    <tr>\n",
       "      <th>3</th>\n",
       "      <td>1002</td>\n",
       "      <td>7</td>\n",
       "      <td>214</td>\n",
       "      <td>26</td>\n",
       "      <td>11</td>\n",
       "      <td>18</td>\n",
       "      <td>smart</td>\n",
       "      <td>Стерлитамак</td>\n",
       "      <td>1150</td>\n",
       "    </tr>\n",
       "    <tr>\n",
       "      <th>4</th>\n",
       "      <td>1002</td>\n",
       "      <td>8</td>\n",
       "      <td>289</td>\n",
       "      <td>42</td>\n",
       "      <td>13</td>\n",
       "      <td>20</td>\n",
       "      <td>smart</td>\n",
       "      <td>Стерлитамак</td>\n",
       "      <td>1550</td>\n",
       "    </tr>\n",
       "    <tr>\n",
       "      <th>...</th>\n",
       "      <td>...</td>\n",
       "      <td>...</td>\n",
       "      <td>...</td>\n",
       "      <td>...</td>\n",
       "      <td>...</td>\n",
       "      <td>...</td>\n",
       "      <td>...</td>\n",
       "      <td>...</td>\n",
       "      <td>...</td>\n",
       "    </tr>\n",
       "    <tr>\n",
       "      <th>2224</th>\n",
       "      <td>1498</td>\n",
       "      <td>10</td>\n",
       "      <td>247</td>\n",
       "      <td>41</td>\n",
       "      <td>42</td>\n",
       "      <td>21</td>\n",
       "      <td>smart</td>\n",
       "      <td>Владикавказ</td>\n",
       "      <td>1750</td>\n",
       "    </tr>\n",
       "    <tr>\n",
       "      <th>2225</th>\n",
       "      <td>1499</td>\n",
       "      <td>9</td>\n",
       "      <td>70</td>\n",
       "      <td>9</td>\n",
       "      <td>11</td>\n",
       "      <td>2</td>\n",
       "      <td>smart</td>\n",
       "      <td>Пермь</td>\n",
       "      <td>550</td>\n",
       "    </tr>\n",
       "    <tr>\n",
       "      <th>2226</th>\n",
       "      <td>1499</td>\n",
       "      <td>10</td>\n",
       "      <td>449</td>\n",
       "      <td>68</td>\n",
       "      <td>48</td>\n",
       "      <td>18</td>\n",
       "      <td>smart</td>\n",
       "      <td>Пермь</td>\n",
       "      <td>1150</td>\n",
       "    </tr>\n",
       "    <tr>\n",
       "      <th>2227</th>\n",
       "      <td>1499</td>\n",
       "      <td>11</td>\n",
       "      <td>612</td>\n",
       "      <td>74</td>\n",
       "      <td>59</td>\n",
       "      <td>18</td>\n",
       "      <td>smart</td>\n",
       "      <td>Пермь</td>\n",
       "      <td>886</td>\n",
       "    </tr>\n",
       "    <tr>\n",
       "      <th>2228</th>\n",
       "      <td>1499</td>\n",
       "      <td>12</td>\n",
       "      <td>492</td>\n",
       "      <td>69</td>\n",
       "      <td>66</td>\n",
       "      <td>13</td>\n",
       "      <td>smart</td>\n",
       "      <td>Пермь</td>\n",
       "      <td>598</td>\n",
       "    </tr>\n",
       "  </tbody>\n",
       "</table>\n",
       "<p>2229 rows × 9 columns</p>\n",
       "</div>"
      ],
      "text/plain": [
       "      user_id  month  duration  calls  messages  internet tariff         city  \\\n",
       "0        1001     11       430     59         0        18  smart       Москва   \n",
       "1        1001     12       414     63         0        14  smart       Москва   \n",
       "2        1002      6       117     15         4        11  smart  Стерлитамак   \n",
       "3        1002      7       214     26        11        18  smart  Стерлитамак   \n",
       "4        1002      8       289     42        13        20  smart  Стерлитамак   \n",
       "...       ...    ...       ...    ...       ...       ...    ...          ...   \n",
       "2224     1498     10       247     41        42        21  smart  Владикавказ   \n",
       "2225     1499      9        70      9        11         2  smart        Пермь   \n",
       "2226     1499     10       449     68        48        18  smart        Пермь   \n",
       "2227     1499     11       612     74        59        18  smart        Пермь   \n",
       "2228     1499     12       492     69        66        13  smart        Пермь   \n",
       "\n",
       "      cost_month  \n",
       "0           1150  \n",
       "1            550  \n",
       "2            550  \n",
       "3           1150  \n",
       "4           1550  \n",
       "...          ...  \n",
       "2224        1750  \n",
       "2225         550  \n",
       "2226        1150  \n",
       "2227         886  \n",
       "2228         598  \n",
       "\n",
       "[2229 rows x 9 columns]"
      ]
     },
     "execution_count": 27,
     "metadata": {},
     "output_type": "execute_result"
    }
   ],
   "source": [
    "user_data_smart"
   ]
  },
  {
   "cell_type": "code",
   "execution_count": 28,
   "id": "7097ef5f",
   "metadata": {},
   "outputs": [
    {
     "data": {
      "text/html": [
       "<div>\n",
       "<style scoped>\n",
       "    .dataframe tbody tr th:only-of-type {\n",
       "        vertical-align: middle;\n",
       "    }\n",
       "\n",
       "    .dataframe tbody tr th {\n",
       "        vertical-align: top;\n",
       "    }\n",
       "\n",
       "    .dataframe thead th {\n",
       "        text-align: right;\n",
       "    }\n",
       "</style>\n",
       "<table border=\"1\" class=\"dataframe\">\n",
       "  <thead>\n",
       "    <tr style=\"text-align: right;\">\n",
       "      <th></th>\n",
       "      <th>user_id</th>\n",
       "      <th>month</th>\n",
       "      <th>duration</th>\n",
       "      <th>calls</th>\n",
       "      <th>messages</th>\n",
       "      <th>internet</th>\n",
       "      <th>tariff</th>\n",
       "      <th>city</th>\n",
       "    </tr>\n",
       "  </thead>\n",
       "  <tbody>\n",
       "    <tr>\n",
       "      <th>0</th>\n",
       "      <td>1000</td>\n",
       "      <td>5</td>\n",
       "      <td>159</td>\n",
       "      <td>22</td>\n",
       "      <td>22</td>\n",
       "      <td>3</td>\n",
       "      <td>ultra</td>\n",
       "      <td>Краснодар</td>\n",
       "    </tr>\n",
       "    <tr>\n",
       "      <th>1</th>\n",
       "      <td>1000</td>\n",
       "      <td>6</td>\n",
       "      <td>172</td>\n",
       "      <td>43</td>\n",
       "      <td>60</td>\n",
       "      <td>23</td>\n",
       "      <td>ultra</td>\n",
       "      <td>Краснодар</td>\n",
       "    </tr>\n",
       "    <tr>\n",
       "      <th>2</th>\n",
       "      <td>1000</td>\n",
       "      <td>7</td>\n",
       "      <td>340</td>\n",
       "      <td>47</td>\n",
       "      <td>75</td>\n",
       "      <td>14</td>\n",
       "      <td>ultra</td>\n",
       "      <td>Краснодар</td>\n",
       "    </tr>\n",
       "    <tr>\n",
       "      <th>3</th>\n",
       "      <td>1000</td>\n",
       "      <td>8</td>\n",
       "      <td>408</td>\n",
       "      <td>52</td>\n",
       "      <td>81</td>\n",
       "      <td>14</td>\n",
       "      <td>ultra</td>\n",
       "      <td>Краснодар</td>\n",
       "    </tr>\n",
       "    <tr>\n",
       "      <th>4</th>\n",
       "      <td>1000</td>\n",
       "      <td>9</td>\n",
       "      <td>466</td>\n",
       "      <td>58</td>\n",
       "      <td>57</td>\n",
       "      <td>15</td>\n",
       "      <td>ultra</td>\n",
       "      <td>Краснодар</td>\n",
       "    </tr>\n",
       "    <tr>\n",
       "      <th>...</th>\n",
       "      <td>...</td>\n",
       "      <td>...</td>\n",
       "      <td>...</td>\n",
       "      <td>...</td>\n",
       "      <td>...</td>\n",
       "      <td>...</td>\n",
       "      <td>...</td>\n",
       "      <td>...</td>\n",
       "    </tr>\n",
       "    <tr>\n",
       "      <th>980</th>\n",
       "      <td>1495</td>\n",
       "      <td>8</td>\n",
       "      <td>92</td>\n",
       "      <td>17</td>\n",
       "      <td>13</td>\n",
       "      <td>3</td>\n",
       "      <td>ultra</td>\n",
       "      <td>Иркутск</td>\n",
       "    </tr>\n",
       "    <tr>\n",
       "      <th>981</th>\n",
       "      <td>1495</td>\n",
       "      <td>9</td>\n",
       "      <td>813</td>\n",
       "      <td>112</td>\n",
       "      <td>82</td>\n",
       "      <td>33</td>\n",
       "      <td>ultra</td>\n",
       "      <td>Иркутск</td>\n",
       "    </tr>\n",
       "    <tr>\n",
       "      <th>982</th>\n",
       "      <td>1495</td>\n",
       "      <td>10</td>\n",
       "      <td>1030</td>\n",
       "      <td>152</td>\n",
       "      <td>82</td>\n",
       "      <td>29</td>\n",
       "      <td>ultra</td>\n",
       "      <td>Иркутск</td>\n",
       "    </tr>\n",
       "    <tr>\n",
       "      <th>983</th>\n",
       "      <td>1495</td>\n",
       "      <td>11</td>\n",
       "      <td>954</td>\n",
       "      <td>129</td>\n",
       "      <td>79</td>\n",
       "      <td>39</td>\n",
       "      <td>ultra</td>\n",
       "      <td>Иркутск</td>\n",
       "    </tr>\n",
       "    <tr>\n",
       "      <th>984</th>\n",
       "      <td>1495</td>\n",
       "      <td>12</td>\n",
       "      <td>1031</td>\n",
       "      <td>155</td>\n",
       "      <td>84</td>\n",
       "      <td>23</td>\n",
       "      <td>ultra</td>\n",
       "      <td>Иркутск</td>\n",
       "    </tr>\n",
       "  </tbody>\n",
       "</table>\n",
       "<p>985 rows × 8 columns</p>\n",
       "</div>"
      ],
      "text/plain": [
       "     user_id  month  duration  calls  messages  internet tariff       city\n",
       "0       1000      5       159     22        22         3  ultra  Краснодар\n",
       "1       1000      6       172     43        60        23  ultra  Краснодар\n",
       "2       1000      7       340     47        75        14  ultra  Краснодар\n",
       "3       1000      8       408     52        81        14  ultra  Краснодар\n",
       "4       1000      9       466     58        57        15  ultra  Краснодар\n",
       "..       ...    ...       ...    ...       ...       ...    ...        ...\n",
       "980     1495      8        92     17        13         3  ultra    Иркутск\n",
       "981     1495      9       813    112        82        33  ultra    Иркутск\n",
       "982     1495     10      1030    152        82        29  ultra    Иркутск\n",
       "983     1495     11       954    129        79        39  ultra    Иркутск\n",
       "984     1495     12      1031    155        84        23  ultra    Иркутск\n",
       "\n",
       "[985 rows x 8 columns]"
      ]
     },
     "execution_count": 28,
     "metadata": {},
     "output_type": "execute_result"
    }
   ],
   "source": [
    "user_data_ultra"
   ]
  },
  {
   "cell_type": "code",
   "execution_count": 29,
   "id": "8423dfa4",
   "metadata": {},
   "outputs": [],
   "source": [
    "#создадим новый столбец cost_month и заполним его\n",
    "user_data_ultra.loc[:, 'cost_month'] = [0] * len(user_data_ultra)\n",
    "\n",
    "#пройдемся по таблице и посчитаем помесечную выручку\n",
    "for i in range(len(user_data_ultra)):\n",
    "    cost = 1950\n",
    "\n",
    "    if user_data_smart.loc[i, 'duration'] > 3000:\n",
    "        cost += (user_data_smart.loc[i, 'duration'] - 3000) * 1\n",
    "    \n",
    "    elif user_data_smart.loc[i, 'messages'] > 1000:\n",
    "        cost += (user_data_smart.loc[i, 'messages'] - 1000) * 1\n",
    "        \n",
    "    elif user_data_smart.loc[i, 'internet'] > 30:\n",
    "        cost += (user_data_smart.loc[i, 'internet'] - 30) * 150\n",
    "    \n",
    "    user_data_ultra.loc[i, 'cost_month'] = cost"
   ]
  },
  {
   "cell_type": "code",
   "execution_count": 30,
   "id": "03835e98",
   "metadata": {},
   "outputs": [
    {
     "data": {
      "text/html": [
       "<div>\n",
       "<style scoped>\n",
       "    .dataframe tbody tr th:only-of-type {\n",
       "        vertical-align: middle;\n",
       "    }\n",
       "\n",
       "    .dataframe tbody tr th {\n",
       "        vertical-align: top;\n",
       "    }\n",
       "\n",
       "    .dataframe thead th {\n",
       "        text-align: right;\n",
       "    }\n",
       "</style>\n",
       "<table border=\"1\" class=\"dataframe\">\n",
       "  <thead>\n",
       "    <tr style=\"text-align: right;\">\n",
       "      <th></th>\n",
       "      <th>user_id</th>\n",
       "      <th>month</th>\n",
       "      <th>duration</th>\n",
       "      <th>calls</th>\n",
       "      <th>messages</th>\n",
       "      <th>internet</th>\n",
       "      <th>tariff</th>\n",
       "      <th>city</th>\n",
       "      <th>cost_month</th>\n",
       "    </tr>\n",
       "  </thead>\n",
       "  <tbody>\n",
       "    <tr>\n",
       "      <th>0</th>\n",
       "      <td>1000</td>\n",
       "      <td>5</td>\n",
       "      <td>159</td>\n",
       "      <td>22</td>\n",
       "      <td>22</td>\n",
       "      <td>3</td>\n",
       "      <td>ultra</td>\n",
       "      <td>Краснодар</td>\n",
       "      <td>1950</td>\n",
       "    </tr>\n",
       "    <tr>\n",
       "      <th>1</th>\n",
       "      <td>1000</td>\n",
       "      <td>6</td>\n",
       "      <td>172</td>\n",
       "      <td>43</td>\n",
       "      <td>60</td>\n",
       "      <td>23</td>\n",
       "      <td>ultra</td>\n",
       "      <td>Краснодар</td>\n",
       "      <td>1950</td>\n",
       "    </tr>\n",
       "    <tr>\n",
       "      <th>2</th>\n",
       "      <td>1000</td>\n",
       "      <td>7</td>\n",
       "      <td>340</td>\n",
       "      <td>47</td>\n",
       "      <td>75</td>\n",
       "      <td>14</td>\n",
       "      <td>ultra</td>\n",
       "      <td>Краснодар</td>\n",
       "      <td>1950</td>\n",
       "    </tr>\n",
       "    <tr>\n",
       "      <th>3</th>\n",
       "      <td>1000</td>\n",
       "      <td>8</td>\n",
       "      <td>408</td>\n",
       "      <td>52</td>\n",
       "      <td>81</td>\n",
       "      <td>14</td>\n",
       "      <td>ultra</td>\n",
       "      <td>Краснодар</td>\n",
       "      <td>1950</td>\n",
       "    </tr>\n",
       "    <tr>\n",
       "      <th>4</th>\n",
       "      <td>1000</td>\n",
       "      <td>9</td>\n",
       "      <td>466</td>\n",
       "      <td>58</td>\n",
       "      <td>57</td>\n",
       "      <td>15</td>\n",
       "      <td>ultra</td>\n",
       "      <td>Краснодар</td>\n",
       "      <td>1950</td>\n",
       "    </tr>\n",
       "    <tr>\n",
       "      <th>...</th>\n",
       "      <td>...</td>\n",
       "      <td>...</td>\n",
       "      <td>...</td>\n",
       "      <td>...</td>\n",
       "      <td>...</td>\n",
       "      <td>...</td>\n",
       "      <td>...</td>\n",
       "      <td>...</td>\n",
       "      <td>...</td>\n",
       "    </tr>\n",
       "    <tr>\n",
       "      <th>980</th>\n",
       "      <td>1495</td>\n",
       "      <td>8</td>\n",
       "      <td>92</td>\n",
       "      <td>17</td>\n",
       "      <td>13</td>\n",
       "      <td>3</td>\n",
       "      <td>ultra</td>\n",
       "      <td>Иркутск</td>\n",
       "      <td>1950</td>\n",
       "    </tr>\n",
       "    <tr>\n",
       "      <th>981</th>\n",
       "      <td>1495</td>\n",
       "      <td>9</td>\n",
       "      <td>813</td>\n",
       "      <td>112</td>\n",
       "      <td>82</td>\n",
       "      <td>33</td>\n",
       "      <td>ultra</td>\n",
       "      <td>Иркутск</td>\n",
       "      <td>1950</td>\n",
       "    </tr>\n",
       "    <tr>\n",
       "      <th>982</th>\n",
       "      <td>1495</td>\n",
       "      <td>10</td>\n",
       "      <td>1030</td>\n",
       "      <td>152</td>\n",
       "      <td>82</td>\n",
       "      <td>29</td>\n",
       "      <td>ultra</td>\n",
       "      <td>Иркутск</td>\n",
       "      <td>1950</td>\n",
       "    </tr>\n",
       "    <tr>\n",
       "      <th>983</th>\n",
       "      <td>1495</td>\n",
       "      <td>11</td>\n",
       "      <td>954</td>\n",
       "      <td>129</td>\n",
       "      <td>79</td>\n",
       "      <td>39</td>\n",
       "      <td>ultra</td>\n",
       "      <td>Иркутск</td>\n",
       "      <td>1950</td>\n",
       "    </tr>\n",
       "    <tr>\n",
       "      <th>984</th>\n",
       "      <td>1495</td>\n",
       "      <td>12</td>\n",
       "      <td>1031</td>\n",
       "      <td>155</td>\n",
       "      <td>84</td>\n",
       "      <td>23</td>\n",
       "      <td>ultra</td>\n",
       "      <td>Иркутск</td>\n",
       "      <td>1950</td>\n",
       "    </tr>\n",
       "  </tbody>\n",
       "</table>\n",
       "<p>985 rows × 9 columns</p>\n",
       "</div>"
      ],
      "text/plain": [
       "     user_id  month  duration  calls  messages  internet tariff       city  \\\n",
       "0       1000      5       159     22        22         3  ultra  Краснодар   \n",
       "1       1000      6       172     43        60        23  ultra  Краснодар   \n",
       "2       1000      7       340     47        75        14  ultra  Краснодар   \n",
       "3       1000      8       408     52        81        14  ultra  Краснодар   \n",
       "4       1000      9       466     58        57        15  ultra  Краснодар   \n",
       "..       ...    ...       ...    ...       ...       ...    ...        ...   \n",
       "980     1495      8        92     17        13         3  ultra    Иркутск   \n",
       "981     1495      9       813    112        82        33  ultra    Иркутск   \n",
       "982     1495     10      1030    152        82        29  ultra    Иркутск   \n",
       "983     1495     11       954    129        79        39  ultra    Иркутск   \n",
       "984     1495     12      1031    155        84        23  ultra    Иркутск   \n",
       "\n",
       "     cost_month  \n",
       "0          1950  \n",
       "1          1950  \n",
       "2          1950  \n",
       "3          1950  \n",
       "4          1950  \n",
       "..          ...  \n",
       "980        1950  \n",
       "981        1950  \n",
       "982        1950  \n",
       "983        1950  \n",
       "984        1950  \n",
       "\n",
       "[985 rows x 9 columns]"
      ]
     },
     "execution_count": 30,
     "metadata": {},
     "output_type": "execute_result"
    }
   ],
   "source": [
    "user_data_ultra"
   ]
  },
  {
   "cell_type": "code",
   "execution_count": 31,
   "id": "25f595ec",
   "metadata": {},
   "outputs": [],
   "source": [
    "def function(row):\n",
    "    cost = 1950\n",
    "\n",
    "    if row['duration'] > 3000:\n",
    "        cost += (row['duration'] - 3000) * 1\n",
    "    \n",
    "    elif row['messages'] > 1000:\n",
    "        cost += (row['messages'] - 1000) * 1\n",
    "        \n",
    "    elif row['internet'] > 30:\n",
    "        cost += (row['internet'] - 30) * 150\n",
    "    \n",
    "    return cost\n",
    "#df['column'] = df.apply(function, axis=1)"
   ]
  },
  {
   "cell_type": "markdown",
   "id": "c24e67cd",
   "metadata": {},
   "source": [
    "## Проанализируем данные"
   ]
  },
  {
   "cell_type": "markdown",
   "id": "03a91ff9",
   "metadata": {},
   "source": [
    "**Посчитаем среднее количество, дисперсию и стандартное отклонение.**"
   ]
  },
  {
   "cell_type": "code",
   "execution_count": 32,
   "id": "ae0c344a",
   "metadata": {},
   "outputs": [
    {
     "name": "stdout",
     "output_type": "stream",
     "text": [
      "Тариф Smart\n"
     ]
    },
    {
     "data": {
      "text/html": [
       "<div>\n",
       "<style scoped>\n",
       "    .dataframe tbody tr th:only-of-type {\n",
       "        vertical-align: middle;\n",
       "    }\n",
       "\n",
       "    .dataframe tbody tr th {\n",
       "        vertical-align: top;\n",
       "    }\n",
       "\n",
       "    .dataframe thead th {\n",
       "        text-align: right;\n",
       "    }\n",
       "</style>\n",
       "<table border=\"1\" class=\"dataframe\">\n",
       "  <thead>\n",
       "    <tr style=\"text-align: right;\">\n",
       "      <th></th>\n",
       "      <th>duration</th>\n",
       "      <th>calls</th>\n",
       "      <th>messages</th>\n",
       "      <th>internet</th>\n",
       "      <th>cost_month</th>\n",
       "    </tr>\n",
       "  </thead>\n",
       "  <tbody>\n",
       "    <tr>\n",
       "      <th>mean</th>\n",
       "      <td>417.934948</td>\n",
       "      <td>58.463437</td>\n",
       "      <td>33.384029</td>\n",
       "      <td>16.328847</td>\n",
       "      <td>952.849260</td>\n",
       "    </tr>\n",
       "    <tr>\n",
       "      <th>var</th>\n",
       "      <td>36219.315784</td>\n",
       "      <td>672.876243</td>\n",
       "      <td>796.812958</td>\n",
       "      <td>33.028705</td>\n",
       "      <td>304484.026639</td>\n",
       "    </tr>\n",
       "    <tr>\n",
       "      <th>std</th>\n",
       "      <td>190.313730</td>\n",
       "      <td>25.939858</td>\n",
       "      <td>28.227876</td>\n",
       "      <td>5.747061</td>\n",
       "      <td>551.800713</td>\n",
       "    </tr>\n",
       "  </tbody>\n",
       "</table>\n",
       "</div>"
      ],
      "text/plain": [
       "          duration       calls    messages   internet     cost_month\n",
       "mean    417.934948   58.463437   33.384029  16.328847     952.849260\n",
       "var   36219.315784  672.876243  796.812958  33.028705  304484.026639\n",
       "std     190.313730   25.939858   28.227876   5.747061     551.800713"
      ]
     },
     "execution_count": 32,
     "metadata": {},
     "output_type": "execute_result"
    }
   ],
   "source": [
    "print('Тариф Smart')\n",
    "agg_func = ['mean', 'var', 'std']\n",
    "user_data_smart.agg({'duration': agg_func,\n",
    "                     'calls': agg_func,\n",
    "                    'messages': agg_func,\n",
    "                    'internet': agg_func,\n",
    "                    'cost_month': agg_func})"
   ]
  },
  {
   "cell_type": "code",
   "execution_count": 33,
   "id": "dcc6487a",
   "metadata": {},
   "outputs": [
    {
     "name": "stdout",
     "output_type": "stream",
     "text": [
      "Тариф Ultra\n"
     ]
    },
    {
     "data": {
      "text/html": [
       "<div>\n",
       "<style scoped>\n",
       "    .dataframe tbody tr th:only-of-type {\n",
       "        vertical-align: middle;\n",
       "    }\n",
       "\n",
       "    .dataframe tbody tr th {\n",
       "        vertical-align: top;\n",
       "    }\n",
       "\n",
       "    .dataframe thead th {\n",
       "        text-align: right;\n",
       "    }\n",
       "</style>\n",
       "<table border=\"1\" class=\"dataframe\">\n",
       "  <thead>\n",
       "    <tr style=\"text-align: right;\">\n",
       "      <th></th>\n",
       "      <th>duration</th>\n",
       "      <th>calls</th>\n",
       "      <th>messages</th>\n",
       "      <th>internet</th>\n",
       "      <th>cost_month</th>\n",
       "    </tr>\n",
       "  </thead>\n",
       "  <tbody>\n",
       "    <tr>\n",
       "      <th>mean</th>\n",
       "      <td>526.623350</td>\n",
       "      <td>73.392893</td>\n",
       "      <td>49.363452</td>\n",
       "      <td>19.494416</td>\n",
       "      <td>1954.111675</td>\n",
       "    </tr>\n",
       "    <tr>\n",
       "      <th>var</th>\n",
       "      <td>100873.633397</td>\n",
       "      <td>1928.689990</td>\n",
       "      <td>2285.266143</td>\n",
       "      <td>97.091686</td>\n",
       "      <td>3024.235483</td>\n",
       "    </tr>\n",
       "    <tr>\n",
       "      <th>std</th>\n",
       "      <td>317.606098</td>\n",
       "      <td>43.916853</td>\n",
       "      <td>47.804457</td>\n",
       "      <td>9.853511</td>\n",
       "      <td>54.993049</td>\n",
       "    </tr>\n",
       "  </tbody>\n",
       "</table>\n",
       "</div>"
      ],
      "text/plain": [
       "           duration        calls     messages   internet   cost_month\n",
       "mean     526.623350    73.392893    49.363452  19.494416  1954.111675\n",
       "var   100873.633397  1928.689990  2285.266143  97.091686  3024.235483\n",
       "std      317.606098    43.916853    47.804457   9.853511    54.993049"
      ]
     },
     "execution_count": 33,
     "metadata": {},
     "output_type": "execute_result"
    }
   ],
   "source": [
    "print('Тариф Ultra')\n",
    "user_data_ultra.agg({'duration':agg_func,\n",
    "                     'calls': agg_func,\n",
    "                    'messages': agg_func,\n",
    "                    'internet': agg_func,\n",
    "                    'cost_month': agg_func})"
   ]
  },
  {
   "cell_type": "markdown",
   "id": "398d0557",
   "metadata": {},
   "source": [
    "**Построим гистограммы и опишем распределения**"
   ]
  },
  {
   "cell_type": "markdown",
   "id": "856cb1ae",
   "metadata": {},
   "source": [
    "Сравним продолжительность звонков в обоих тарифах"
   ]
  },
  {
   "cell_type": "code",
   "execution_count": 34,
   "id": "136f8463",
   "metadata": {},
   "outputs": [
    {
     "data": {
      "text/plain": [
       "Text(0.5, 0, 'минуты')"
      ]
     },
     "execution_count": 34,
     "metadata": {},
     "output_type": "execute_result"
    },
    {
     "data": {
      "image/png": "[encoded data removed]",
      "text/plain": [
       "<Figure size 576x360 with 1 Axes>"
      ]
     },
     "metadata": {
      "needs_background": "light"
     },
     "output_type": "display_data"
    }
   ],
   "source": [
    "user_data_smart['duration'].hist(bins=100, alpha=0.5, figsize=(8, 5), legend='Smart')\n",
    "user_data_ultra['duration'].hist(bins=100, alpha=0.5, figsize=(8, 5), legend='Ultra')\n",
    "plt.title('Продолжительность звонков \\n')\n",
    "plt.xlabel('минуты')"
   ]
  },
  {
   "cell_type": "markdown",
   "id": "e8060709",
   "metadata": {},
   "source": [
    "    В трифе Smart 1/3 абонентов превышают бесплатный порог в 500 минут. В тарифе Ultra не используют и половины оплаченного времени в 3000 минут.\n",
    "    В тарифе Ultra продолжительность звонков распределено более равномерно. "
   ]
  },
  {
   "cell_type": "markdown",
   "id": "55a9e322",
   "metadata": {},
   "source": [
    "    "
   ]
  },
  {
   "cell_type": "markdown",
   "id": "7eca3994",
   "metadata": {},
   "source": [
    "Сравним количество сообщений в обоих тарифах."
   ]
  },
  {
   "cell_type": "code",
   "execution_count": 35,
   "id": "eb4196b2",
   "metadata": {},
   "outputs": [
    {
     "data": {
      "text/plain": [
       "Text(0.5, 0, 'штук')"
      ]
     },
     "execution_count": 35,
     "metadata": {},
     "output_type": "execute_result"
    },
    {
     "data": {
      "image/png": "[encoded data removed]",
      "text/plain": [
       "<Figure size 576x360 with 1 Axes>"
      ]
     },
     "metadata": {
      "needs_background": "light"
     },
     "output_type": "display_data"
    }
   ],
   "source": [
    "user_data_smart['messages'].hist(bins=100, alpha=0.5, figsize=(8, 5), legend='Smart')\n",
    "user_data_ultra['messages'].hist(bins=100, alpha=0.5, figsize=(8, 5), legend='Ultra')\n",
    "plt.title('Количество сообщений \\n')\n",
    "plt.xlabel('штук')"
   ]
  },
  {
   "cell_type": "markdown",
   "id": "39c67991",
   "metadata": {},
   "source": [
    "    В основном количество сообщений не превышает 10 штук, только в тарифе Ultra оно на 43 % ниже. 1/3 абонентов Smart превышают бесплатный порог в 50 сообщений. В Ultra не используют и 1/5 от 1000. "
   ]
  },
  {
   "cell_type": "markdown",
   "id": "9457cedf",
   "metadata": {},
   "source": [
    "Сравним интернет-график на обоих тарифах."
   ]
  },
  {
   "cell_type": "code",
   "execution_count": 36,
   "id": "837783a5",
   "metadata": {},
   "outputs": [
    {
     "data": {
      "text/plain": [
       "Text(0.5, 0, 'Гигабайты')"
      ]
     },
     "execution_count": 36,
     "metadata": {},
     "output_type": "execute_result"
    },
    {
     "data": {
      "image/png": "[encoded data removed]",
      "text/plain": [
       "<Figure size 576x360 with 1 Axes>"
      ]
     },
     "metadata": {
      "needs_background": "light"
     },
     "output_type": "display_data"
    }
   ],
   "source": [
    "user_data_smart['internet'].hist(bins=100, alpha=0.5, figsize=(8, 5), legend='Smart')\n",
    "user_data_ultra['internet'].hist(bins=100, alpha=0.5, figsize=(8, 5), legend='Ultra')\n",
    "plt.title('Объем интернет-графика \\n')\n",
    "plt.xlabel('Гигабайты')"
   ]
  },
  {
   "cell_type": "markdown",
   "id": "bd2dfac4",
   "metadata": {},
   "source": [
    "    В тарифе Smart большинство абонентов имеют объем интернет-графика в районе 15 Гбт и половина абонентов превышают этот бесплатный порог. В тарифе Ultra полько 1/5 привышает бесплатный порог в 30 Гбт."
   ]
  },
  {
   "cell_type": "markdown",
   "id": "a84562f8",
   "metadata": {},
   "source": [
    "Сравним помесячную выручку с пользователей обоих тарифов."
   ]
  },
  {
   "cell_type": "code",
   "execution_count": 37,
   "id": "634c2d65",
   "metadata": {},
   "outputs": [
    {
     "data": {
      "text/plain": [
       "Text(0.5, 0, 'рубли')"
      ]
     },
     "execution_count": 37,
     "metadata": {},
     "output_type": "execute_result"
    },
    {
     "data": {
      "image/png": "[encoded data removed]",
      "text/plain": [
       "<Figure size 576x360 with 1 Axes>"
      ]
     },
     "metadata": {
      "needs_background": "light"
     },
     "output_type": "display_data"
    }
   ],
   "source": [
    "user_data_smart['cost_month'].hist(bins=100, alpha=0.5, figsize=(8, 5), legend='Smart')\n",
    "user_data_ultra['cost_month'].hist(bins=100, alpha=0.5, figsize=(8, 5), legend='Ultra')\n",
    "plt.title('Месячная выручка \\n')\n",
    "plt.xlabel('рубли')"
   ]
  },
  {
   "cell_type": "markdown",
   "id": "23c3a043",
   "metadata": {},
   "source": [
    "    В обоих тарифах месячная выручка в основном состоит из месячной абонентской платы, но в тарифе Smart значительную прибавку выручки составляет доплаты за перерасход включенного в тариф бесплатного трафика."
   ]
  },
  {
   "cell_type": "markdown",
   "id": "9df6748b",
   "metadata": {},
   "source": [
    "## Проверим гипотезы"
   ]
  },
  {
   "cell_type": "markdown",
   "id": "d2aaab97",
   "metadata": {},
   "source": [
    "* **средняя выручка пользователей тарифов «Ультра» и «Смарт» различаются**   "
   ]
  },
  {
   "cell_type": "markdown",
   "id": "bb883eca",
   "metadata": {},
   "source": [
    "Выдвинем гипотезы.\n",
    "   * Нулевая гипотеза - Средняя выручка пользователей тарифов «Ультра» и «Смарт» одинаковые.\n",
    "   * Альтернативная гипотеза - средняя выручка пользователей тарифов «Ультра» и «Смарт» различаются."
   ]
  },
  {
   "cell_type": "code",
   "execution_count": 38,
   "id": "e682c57e",
   "metadata": {},
   "outputs": [
    {
     "name": "stdout",
     "output_type": "stream",
     "text": [
      "р-значение 0.0\n",
      "Отвергаем нулевую гипотезу\n"
     ]
    }
   ],
   "source": [
    "#зададим уровнень статистической значимости\n",
    "alpha = 0.01\n",
    "\n",
    "#проверяем гипотезу о равенстве средних двух совокупностей\n",
    "results = st.ttest_ind(user_data_smart['cost_month'], user_data_ultra['cost_month'], equal_var=False)\n",
    "\n",
    "print('р-значение', results.pvalue)\n",
    "\n",
    "#сравниваем получившееся p-значение с заданным уровнем статистической значимости\n",
    "if results.pvalue < alpha:\n",
    "    print('Отвергаем нулевую гипотезу')\n",
    "else:\n",
    "    print('Не отвергаем нулевую гипотезу')"
   ]
  },
  {
   "cell_type": "markdown",
   "id": "415cea0e",
   "metadata": {},
   "source": [
    "Следовательно средняя выручка пользователей тарифов «Ультра» и «Смарт» различаются."
   ]
  },
  {
   "cell_type": "markdown",
   "id": "c6826529",
   "metadata": {},
   "source": [
    "* **средняя выручка пользователей из Москвы отличается от выручки пользователей из других регионов**"
   ]
  },
  {
   "cell_type": "markdown",
   "id": "e67ee6ab",
   "metadata": {},
   "source": [
    "Выдвинем гипотезы.\n",
    "   * Нулевая гипотеза - средняя выручка пользователей из Москвы не отличается от выручки пользователей из других регионов.\n",
    "   * Альтернативная гипотеза - средняя выручка пользователей из Москвы отличается от выручки пользователей из других регионов"
   ]
  },
  {
   "cell_type": "code",
   "execution_count": 39,
   "id": "e035b0bf",
   "metadata": {},
   "outputs": [],
   "source": [
    "#объединим две таблицы с разными тарифами в одну\n",
    "user_data = pd.concat([user_data_smart, user_data_ultra], ignore_index=True)"
   ]
  },
  {
   "cell_type": "code",
   "execution_count": 40,
   "id": "76e55d49",
   "metadata": {},
   "outputs": [
    {
     "name": "stdout",
     "output_type": "stream",
     "text": [
      "р-значение 0.0043550027101512965\n",
      "Отвергаем нулевую гипотезу\n"
     ]
    }
   ],
   "source": [
    "#создадим две таблицы с нужными условиями\n",
    "user_data_moscow = user_data.query('city == \"Москва\"')\n",
    "user_data_no_moscow = user_data.query('city != \"Москва\"')\n",
    "\n",
    "#проверяем гипотезу о равенстве средних двух совокупностей\n",
    "results = st.ttest_ind(user_data_moscow['cost_month'], user_data_no_moscow['cost_month'], equal_var=False)\n",
    "\n",
    "print('р-значение', results.pvalue)\n",
    "\n",
    "#сравниваем получившееся p-значение с заданным уровнем статистической значимости\n",
    "if results.pvalue < alpha:\n",
    "    print('Отвергаем нулевую гипотезу')\n",
    "else:\n",
    "    print('Не отвергаем нулевую гипотезу')"
   ]
  },
  {
   "cell_type": "markdown",
   "id": "e1be122f",
   "metadata": {},
   "source": [
    "Следовательно средняя выручка пользователей из Москвы отличается от выручки пользователей из других регионов."
   ]
  },
  {
   "cell_type": "markdown",
   "id": "6f6d1f1e",
   "metadata": {},
   "source": [
    "## Общий вывод"
   ]
  },
  {
   "cell_type": "markdown",
   "id": "4dab7d18",
   "metadata": {},
   "source": [
    "   В начале проекта загрузили все данные, округлили время звонка и интернет сессии в соотверствии с тарифом. Удалили пустые значения и привели к нужному типу данных. Посчитали для каждого пользователя: количество сделанных звонков и израсходованных минут разговора по месяцам, количество отправленных сообщений по месяцам, объем израсходованного интернет-трафика по месяцам, помесячную выручку с каждого пользователя. Объединили несколько таблиц в одну для дальнейшей работы. Разбили данные в зависимости от тарифа: Smart и Ultra и проанализировали их.\n",
    "    Посчитали среднее, дисперсию и стандартное отклонение. Построили гистограммы и пришли к выводу. \n",
    "   * В трифе Smart 1/3 абонентов превышают бесплатный порог в 500 минут. В тарифе Ultra не используют и половины оплаченного времени в 3000 минут. \n",
    "   * В основном количество сообщений не превышает 10 штук, только в тарифе Ultra оно на 43 % ниже. 1/3 абонентов Smart превышают бесплатный порог в 50 сообщений. В Ultra не используют и 1/5 от 1000.\n",
    "   * В тарифе Smart большинство абонентов имеют объем интернет-графика в районе 15 Гбт и половина абонентов превышают этот бесплатный порог. В тарифе Ultra полько 1/5 привышает бесплатный порог в 30 Гбт.\n",
    "   * В обоих тарифах месячная выручка в основном состоит из месячной абонентской платы, но в тарифе Smart значительную прибавку выручки составляет доплаты за перерасход включенного в тариф бесплатного трафика.\n",
    "    \n",
    "    Выдвинули и подтвердили гипотезы.\n",
    "   * Средняя выручка пользователей тарифов «Ультра» и «Смарт» различаются.\n",
    "   * Средняя выручка пользователей из Москвы отличается от выручки пользователей из других регионов.\n",
    "    \n",
    "    В итоге мы пришли к следующим выводам.\n",
    "   * Средняя месячная выручка на тарифе Ultra составляет 1954 рубля, а тарифе Smart только 953 рубля (в 2 раза меньше), но за счет большего числа абонентов (985 месячных выплат на Ultra и 2229 на Smart) на тарифе Smart суммарная месячная выручка на 10 % больше (1924800 на Ultra и 2123901 на Smart)."
   ]
  }
 ],
 "metadata": {
  "ExecuteTimeLog": [
   {
    "duration": 1041,
    "start_time": "2022-03-24T11:04:54.121Z"
   },
   {
    "duration": 2159,
    "start_time": "2022-03-24T11:04:55.164Z"
   },
   {
    "duration": 11,
    "start_time": "2022-03-24T11:04:57.325Z"
   },
   {
    "duration": 7,
    "start_time": "2022-03-24T11:04:57.339Z"
   },
   {
    "duration": 8,
    "start_time": "2022-03-24T11:04:57.348Z"
   },
   {
    "duration": 83,
    "start_time": "2022-03-24T11:04:57.357Z"
   },
   {
    "duration": 8,
    "start_time": "2022-03-24T11:04:57.441Z"
   },
   {
    "duration": 12,
    "start_time": "2022-03-24T11:04:57.451Z"
   },
   {
    "duration": 55,
    "start_time": "2022-03-24T11:04:57.465Z"
   },
   {
    "duration": 7,
    "start_time": "2022-03-24T11:04:57.523Z"
   },
   {
    "duration": 75,
    "start_time": "2022-03-24T11:04:57.531Z"
   },
   {
    "duration": 14,
    "start_time": "2022-03-24T11:04:57.608Z"
   },
   {
    "duration": 19,
    "start_time": "2022-03-24T11:04:57.624Z"
   },
   {
    "duration": 22,
    "start_time": "2022-03-24T11:04:57.644Z"
   },
   {
    "duration": 58,
    "start_time": "2022-03-24T11:04:57.668Z"
   },
   {
    "duration": 19,
    "start_time": "2022-03-24T11:04:57.727Z"
   },
   {
    "duration": 21,
    "start_time": "2022-03-24T11:04:57.748Z"
   },
   {
    "duration": 15,
    "start_time": "2022-03-24T11:04:57.771Z"
   },
   {
    "duration": 31,
    "start_time": "2022-03-24T11:04:57.788Z"
   },
   {
    "duration": 10,
    "start_time": "2022-03-24T11:04:57.821Z"
   },
   {
    "duration": 6,
    "start_time": "2022-03-24T11:04:57.832Z"
   },
   {
    "duration": 15,
    "start_time": "2022-03-24T11:04:57.839Z"
   },
   {
    "duration": 27,
    "start_time": "2022-03-24T11:04:57.856Z"
   },
   {
    "duration": 21,
    "start_time": "2022-03-24T11:04:57.885Z"
   },
   {
    "duration": 10,
    "start_time": "2022-03-24T11:04:57.908Z"
   },
   {
    "duration": 15,
    "start_time": "2022-03-24T11:04:57.920Z"
   },
   {
    "duration": 965,
    "start_time": "2022-03-24T11:04:57.937Z"
   },
   {
    "duration": 22,
    "start_time": "2022-03-24T11:04:58.906Z"
   },
   {
    "duration": 20,
    "start_time": "2022-03-24T11:04:58.930Z"
   },
   {
    "duration": 239,
    "start_time": "2022-03-24T11:04:58.952Z"
   },
   {
    "duration": 14,
    "start_time": "2022-03-24T11:04:59.193Z"
   },
   {
    "duration": 25,
    "start_time": "2022-03-24T11:04:59.209Z"
   },
   {
    "duration": 34,
    "start_time": "2022-03-24T11:04:59.235Z"
   },
   {
    "duration": 440,
    "start_time": "2022-03-24T11:04:59.271Z"
   },
   {
    "duration": 400,
    "start_time": "2022-03-24T11:04:59.713Z"
   },
   {
    "duration": 753,
    "start_time": "2022-03-24T11:05:00.114Z"
   },
   {
    "duration": 640,
    "start_time": "2022-03-24T11:05:00.868Z"
   },
   {
    "duration": 6,
    "start_time": "2022-03-24T11:05:01.510Z"
   },
   {
    "duration": 12,
    "start_time": "2022-03-24T11:05:01.518Z"
   },
   {
    "duration": 21,
    "start_time": "2022-03-24T11:05:01.532Z"
   },
   {
    "duration": 1133,
    "start_time": "2022-03-24T11:05:56.691Z"
   },
   {
    "duration": 384,
    "start_time": "2022-03-24T11:05:57.826Z"
   },
   {
    "duration": 12,
    "start_time": "2022-03-24T11:05:58.212Z"
   },
   {
    "duration": 8,
    "start_time": "2022-03-24T11:05:58.226Z"
   },
   {
    "duration": 7,
    "start_time": "2022-03-24T11:05:58.236Z"
   },
   {
    "duration": 62,
    "start_time": "2022-03-24T11:05:58.245Z"
   },
   {
    "duration": 8,
    "start_time": "2022-03-24T11:05:58.309Z"
   },
   {
    "duration": 11,
    "start_time": "2022-03-24T11:05:58.319Z"
   },
   {
    "duration": 57,
    "start_time": "2022-03-24T11:05:58.331Z"
   },
   {
    "duration": 7,
    "start_time": "2022-03-24T11:05:58.392Z"
   },
   {
    "duration": 47,
    "start_time": "2022-03-24T11:05:58.401Z"
   },
   {
    "duration": 9,
    "start_time": "2022-03-24T11:05:58.449Z"
   },
   {
    "duration": 26,
    "start_time": "2022-03-24T11:05:58.459Z"
   },
   {
    "duration": 20,
    "start_time": "2022-03-24T11:05:58.486Z"
   },
   {
    "duration": 36,
    "start_time": "2022-03-24T11:05:58.508Z"
   },
   {
    "duration": 36,
    "start_time": "2022-03-24T11:05:58.547Z"
   },
   {
    "duration": 35,
    "start_time": "2022-03-24T11:05:58.585Z"
   },
   {
    "duration": 5,
    "start_time": "2022-03-24T11:05:58.622Z"
   },
   {
    "duration": 66,
    "start_time": "2022-03-24T11:05:58.629Z"
   },
   {
    "duration": 12,
    "start_time": "2022-03-24T11:05:58.697Z"
   },
   {
    "duration": 11,
    "start_time": "2022-03-24T11:05:58.711Z"
   },
   {
    "duration": 38,
    "start_time": "2022-03-24T11:05:58.724Z"
   },
   {
    "duration": 7,
    "start_time": "2022-03-24T11:05:58.764Z"
   },
   {
    "duration": 35,
    "start_time": "2022-03-24T11:05:58.773Z"
   },
   {
    "duration": 10,
    "start_time": "2022-03-24T11:05:58.810Z"
   },
   {
    "duration": 27,
    "start_time": "2022-03-24T11:05:58.822Z"
   },
   {
    "duration": 554,
    "start_time": "2022-03-24T11:05:58.851Z"
   },
   {
    "duration": 13,
    "start_time": "2022-03-24T11:05:59.409Z"
   },
   {
    "duration": 21,
    "start_time": "2022-03-24T11:05:59.423Z"
   },
   {
    "duration": 189,
    "start_time": "2022-03-24T11:05:59.445Z"
   },
   {
    "duration": 12,
    "start_time": "2022-03-24T11:05:59.636Z"
   },
   {
    "duration": 17,
    "start_time": "2022-03-24T11:05:59.649Z"
   },
   {
    "duration": 26,
    "start_time": "2022-03-24T11:05:59.667Z"
   },
   {
    "duration": 415,
    "start_time": "2022-03-24T11:05:59.694Z"
   },
   {
    "duration": 392,
    "start_time": "2022-03-24T11:06:00.111Z"
   },
   {
    "duration": 465,
    "start_time": "2022-03-24T11:06:00.505Z"
   },
   {
    "duration": 440,
    "start_time": "2022-03-24T11:06:00.972Z"
   },
   {
    "duration": 5,
    "start_time": "2022-03-24T11:06:01.414Z"
   },
   {
    "duration": 25,
    "start_time": "2022-03-24T11:06:01.422Z"
   },
   {
    "duration": 18,
    "start_time": "2022-03-24T11:06:01.448Z"
   },
   {
    "duration": 5,
    "start_time": "2022-03-24T11:15:30.230Z"
   },
   {
    "duration": 5,
    "start_time": "2022-03-24T11:15:37.551Z"
   },
   {
    "duration": 5,
    "start_time": "2022-03-24T11:15:57.613Z"
   },
   {
    "duration": 92,
    "start_time": "2022-03-24T11:15:58.797Z"
   },
   {
    "duration": 4,
    "start_time": "2022-03-24T11:16:03.875Z"
   },
   {
    "duration": 4,
    "start_time": "2022-03-24T11:16:08.132Z"
   },
   {
    "duration": 5,
    "start_time": "2022-03-24T11:16:10.586Z"
   },
   {
    "duration": 1200,
    "start_time": "2022-03-24T11:18:03.900Z"
   },
   {
    "duration": 393,
    "start_time": "2022-03-24T11:18:05.102Z"
   },
   {
    "duration": 11,
    "start_time": "2022-03-24T11:18:05.496Z"
   },
   {
    "duration": 15,
    "start_time": "2022-03-24T11:18:05.509Z"
   },
   {
    "duration": 15,
    "start_time": "2022-03-24T11:18:05.526Z"
   },
   {
    "duration": 65,
    "start_time": "2022-03-24T11:18:05.542Z"
   },
   {
    "duration": 8,
    "start_time": "2022-03-24T11:18:05.608Z"
   },
   {
    "duration": 10,
    "start_time": "2022-03-24T11:18:05.617Z"
   },
   {
    "duration": 56,
    "start_time": "2022-03-24T11:18:05.628Z"
   },
   {
    "duration": 6,
    "start_time": "2022-03-24T11:18:05.686Z"
   },
   {
    "duration": 52,
    "start_time": "2022-03-24T11:18:05.694Z"
   },
   {
    "duration": 9,
    "start_time": "2022-03-24T11:18:05.747Z"
   },
   {
    "duration": 30,
    "start_time": "2022-03-24T11:18:05.757Z"
   },
   {
    "duration": 18,
    "start_time": "2022-03-24T11:18:05.788Z"
   },
   {
    "duration": 45,
    "start_time": "2022-03-24T11:18:05.807Z"
   },
   {
    "duration": 18,
    "start_time": "2022-03-24T11:18:05.853Z"
   },
   {
    "duration": 28,
    "start_time": "2022-03-24T11:18:05.873Z"
   },
   {
    "duration": 19,
    "start_time": "2022-03-24T11:18:05.902Z"
   },
   {
    "duration": 62,
    "start_time": "2022-03-24T11:18:05.922Z"
   },
   {
    "duration": 10,
    "start_time": "2022-03-24T11:18:05.985Z"
   },
   {
    "duration": 15,
    "start_time": "2022-03-24T11:18:05.996Z"
   },
   {
    "duration": 28,
    "start_time": "2022-03-24T11:18:06.013Z"
   },
   {
    "duration": 9,
    "start_time": "2022-03-24T11:18:06.043Z"
   },
   {
    "duration": 24,
    "start_time": "2022-03-24T11:18:06.054Z"
   },
   {
    "duration": 12,
    "start_time": "2022-03-24T11:18:06.080Z"
   },
   {
    "duration": 14,
    "start_time": "2022-03-24T11:18:06.094Z"
   },
   {
    "duration": 564,
    "start_time": "2022-03-24T11:18:06.109Z"
   },
   {
    "duration": 13,
    "start_time": "2022-03-24T11:18:06.681Z"
   },
   {
    "duration": 10,
    "start_time": "2022-03-24T11:18:06.696Z"
   },
   {
    "duration": 212,
    "start_time": "2022-03-24T11:18:06.708Z"
   },
   {
    "duration": 15,
    "start_time": "2022-03-24T11:18:06.921Z"
   },
   {
    "duration": 16,
    "start_time": "2022-03-24T11:18:06.938Z"
   },
   {
    "duration": 37,
    "start_time": "2022-03-24T11:18:06.956Z"
   },
   {
    "duration": 658,
    "start_time": "2022-03-24T11:18:06.995Z"
   },
   {
    "duration": 385,
    "start_time": "2022-03-24T11:18:07.655Z"
   },
   {
    "duration": 462,
    "start_time": "2022-03-24T11:18:08.041Z"
   },
   {
    "duration": 403,
    "start_time": "2022-03-24T11:18:08.505Z"
   },
   {
    "duration": 5,
    "start_time": "2022-03-24T11:18:08.910Z"
   },
   {
    "duration": 13,
    "start_time": "2022-03-24T11:18:08.916Z"
   },
   {
    "duration": 20,
    "start_time": "2022-03-24T11:18:08.930Z"
   },
   {
    "duration": 32,
    "start_time": "2022-03-24T11:18:08.951Z"
   },
   {
    "duration": 1658,
    "start_time": "2022-03-24T19:17:27.212Z"
   },
   {
    "duration": 503,
    "start_time": "2022-03-24T19:17:28.874Z"
   },
   {
    "duration": 23,
    "start_time": "2022-03-24T19:17:29.380Z"
   },
   {
    "duration": 13,
    "start_time": "2022-03-24T19:17:29.407Z"
   },
   {
    "duration": 26,
    "start_time": "2022-03-24T19:17:29.422Z"
   },
   {
    "duration": 106,
    "start_time": "2022-03-24T19:17:29.451Z"
   },
   {
    "duration": 19,
    "start_time": "2022-03-24T19:17:29.560Z"
   },
   {
    "duration": 19,
    "start_time": "2022-03-24T19:17:29.581Z"
   },
   {
    "duration": 89,
    "start_time": "2022-03-24T19:17:29.603Z"
   },
   {
    "duration": 10,
    "start_time": "2022-03-24T19:17:29.696Z"
   },
   {
    "duration": 79,
    "start_time": "2022-03-24T19:17:29.708Z"
   },
   {
    "duration": 15,
    "start_time": "2022-03-24T19:17:29.789Z"
   },
   {
    "duration": 26,
    "start_time": "2022-03-24T19:17:29.806Z"
   },
   {
    "duration": 45,
    "start_time": "2022-03-24T19:17:29.834Z"
   },
   {
    "duration": 54,
    "start_time": "2022-03-24T19:17:29.881Z"
   },
   {
    "duration": 43,
    "start_time": "2022-03-24T19:17:29.937Z"
   },
   {
    "duration": 35,
    "start_time": "2022-03-24T19:17:29.982Z"
   },
   {
    "duration": 9,
    "start_time": "2022-03-24T19:17:30.019Z"
   },
   {
    "duration": 50,
    "start_time": "2022-03-24T19:17:44.196Z"
   },
   {
    "duration": 29,
    "start_time": "2022-03-24T19:27:46.198Z"
   },
   {
    "duration": 53,
    "start_time": "2022-03-24T19:28:01.921Z"
   },
   {
    "duration": 18,
    "start_time": "2022-03-24T19:31:26.748Z"
   },
   {
    "duration": 601,
    "start_time": "2022-03-24T19:32:06.437Z"
   },
   {
    "duration": 4,
    "start_time": "2022-03-24T19:32:58.215Z"
   },
   {
    "duration": 24,
    "start_time": "2022-03-24T19:33:11.355Z"
   },
   {
    "duration": 20,
    "start_time": "2022-03-24T19:34:43.624Z"
   },
   {
    "duration": 21,
    "start_time": "2022-03-24T19:35:36.522Z"
   },
   {
    "duration": 14,
    "start_time": "2022-03-24T19:35:54.058Z"
   },
   {
    "duration": 17,
    "start_time": "2022-03-24T19:35:55.625Z"
   },
   {
    "duration": 1119,
    "start_time": "2022-03-24T19:36:07.961Z"
   },
   {
    "duration": 21,
    "start_time": "2022-03-24T19:36:10.708Z"
   },
   {
    "duration": 18,
    "start_time": "2022-03-24T19:36:16.802Z"
   },
   {
    "duration": 390,
    "start_time": "2022-03-24T19:36:20.672Z"
   },
   {
    "duration": 23,
    "start_time": "2022-03-24T19:36:25.151Z"
   },
   {
    "duration": 34,
    "start_time": "2022-03-24T19:41:03.693Z"
   },
   {
    "duration": 24,
    "start_time": "2022-03-24T19:41:07.535Z"
   },
   {
    "duration": 922,
    "start_time": "2022-03-24T19:41:16.307Z"
   },
   {
    "duration": 717,
    "start_time": "2022-03-24T19:41:49.048Z"
   },
   {
    "duration": 726,
    "start_time": "2022-03-24T19:42:11.343Z"
   },
   {
    "duration": 770,
    "start_time": "2022-03-24T19:42:19.052Z"
   },
   {
    "duration": 8,
    "start_time": "2022-03-24T19:50:58.320Z"
   },
   {
    "duration": 1848,
    "start_time": "2022-03-24T19:57:29.841Z"
   },
   {
    "duration": 26,
    "start_time": "2022-03-24T19:59:06.762Z"
   },
   {
    "duration": 17,
    "start_time": "2022-03-24T20:00:07.201Z"
   },
   {
    "duration": 8,
    "start_time": "2022-03-24T20:04:56.055Z"
   },
   {
    "duration": 10,
    "start_time": "2022-03-24T20:51:49.063Z"
   },
   {
    "duration": 12,
    "start_time": "2022-03-24T20:52:19.368Z"
   },
   {
    "duration": 7,
    "start_time": "2022-03-24T20:54:34.407Z"
   },
   {
    "duration": 6,
    "start_time": "2022-03-24T20:54:37.728Z"
   },
   {
    "duration": 7,
    "start_time": "2022-03-24T20:57:03.581Z"
   },
   {
    "duration": 1418,
    "start_time": "2022-03-24T21:01:34.849Z"
   },
   {
    "duration": 505,
    "start_time": "2022-03-24T21:01:36.270Z"
   },
   {
    "duration": 17,
    "start_time": "2022-03-24T21:01:36.778Z"
   },
   {
    "duration": 13,
    "start_time": "2022-03-24T21:01:36.798Z"
   },
   {
    "duration": 8,
    "start_time": "2022-03-24T21:01:36.813Z"
   },
   {
    "duration": 122,
    "start_time": "2022-03-24T21:01:36.823Z"
   },
   {
    "duration": 12,
    "start_time": "2022-03-24T21:01:36.947Z"
   },
   {
    "duration": 11,
    "start_time": "2022-03-24T21:01:36.974Z"
   },
   {
    "duration": 88,
    "start_time": "2022-03-24T21:01:36.987Z"
   },
   {
    "duration": 10,
    "start_time": "2022-03-24T21:01:37.079Z"
   },
   {
    "duration": 56,
    "start_time": "2022-03-24T21:01:37.091Z"
   },
   {
    "duration": 36,
    "start_time": "2022-03-24T21:01:37.150Z"
   },
   {
    "duration": 36,
    "start_time": "2022-03-24T21:01:37.188Z"
   },
   {
    "duration": 20,
    "start_time": "2022-03-24T21:01:37.226Z"
   },
   {
    "duration": 60,
    "start_time": "2022-03-24T21:01:37.248Z"
   },
   {
    "duration": 28,
    "start_time": "2022-03-24T21:01:37.311Z"
   },
   {
    "duration": 54,
    "start_time": "2022-03-24T21:01:37.341Z"
   },
   {
    "duration": 9,
    "start_time": "2022-03-24T21:01:37.397Z"
   },
   {
    "duration": 71,
    "start_time": "2022-03-24T21:01:37.408Z"
   },
   {
    "duration": 17,
    "start_time": "2022-03-24T21:01:37.481Z"
   },
   {
    "duration": 6,
    "start_time": "2022-03-24T21:01:37.501Z"
   },
   {
    "duration": 23,
    "start_time": "2022-03-24T21:01:37.509Z"
   },
   {
    "duration": 53,
    "start_time": "2022-03-24T21:01:37.534Z"
   },
   {
    "duration": 12,
    "start_time": "2022-03-24T21:01:37.590Z"
   },
   {
    "duration": 18,
    "start_time": "2022-03-24T21:01:37.604Z"
   },
   {
    "duration": 1110,
    "start_time": "2022-03-24T21:01:37.625Z"
   },
   {
    "duration": 20,
    "start_time": "2022-03-24T21:01:38.737Z"
   },
   {
    "duration": 16,
    "start_time": "2022-03-24T21:01:38.777Z"
   },
   {
    "duration": 395,
    "start_time": "2022-03-24T21:01:38.796Z"
   },
   {
    "duration": 21,
    "start_time": "2022-03-24T21:01:39.194Z"
   },
   {
    "duration": 24,
    "start_time": "2022-03-24T21:01:39.217Z"
   },
   {
    "duration": 55,
    "start_time": "2022-03-24T21:01:39.244Z"
   },
   {
    "duration": 783,
    "start_time": "2022-03-24T21:01:39.301Z"
   },
   {
    "duration": 770,
    "start_time": "2022-03-24T21:01:40.087Z"
   },
   {
    "duration": 814,
    "start_time": "2022-03-24T21:01:40.859Z"
   },
   {
    "duration": 733,
    "start_time": "2022-03-24T21:01:41.675Z"
   },
   {
    "duration": 8,
    "start_time": "2022-03-24T21:01:42.410Z"
   },
   {
    "duration": 9,
    "start_time": "2022-03-24T21:01:42.420Z"
   },
   {
    "duration": 44,
    "start_time": "2022-03-24T21:01:42.431Z"
   },
   {
    "duration": 1125,
    "start_time": "2022-03-25T13:16:43.706Z"
   },
   {
    "duration": 381,
    "start_time": "2022-03-25T13:16:44.833Z"
   },
   {
    "duration": 11,
    "start_time": "2022-03-25T13:16:45.216Z"
   },
   {
    "duration": 330,
    "start_time": "2022-03-25T13:16:45.229Z"
   },
   {
    "duration": 155,
    "start_time": "2022-03-25T13:16:45.561Z"
   },
   {
    "duration": 226,
    "start_time": "2022-03-25T13:16:45.717Z"
   },
   {
    "duration": 47,
    "start_time": "2022-03-25T13:16:45.944Z"
   },
   {
    "duration": 143,
    "start_time": "2022-03-25T13:16:45.992Z"
   },
   {
    "duration": 305,
    "start_time": "2022-03-25T13:16:46.136Z"
   },
   {
    "duration": 130,
    "start_time": "2022-03-25T13:16:46.444Z"
   },
   {
    "duration": 210,
    "start_time": "2022-03-25T13:16:46.575Z"
   },
   {
    "duration": 136,
    "start_time": "2022-03-25T13:16:46.787Z"
   },
   {
    "duration": 184,
    "start_time": "2022-03-25T13:16:46.924Z"
   },
   {
    "duration": 117,
    "start_time": "2022-03-25T13:16:47.110Z"
   },
   {
    "duration": 408,
    "start_time": "2022-03-25T13:16:47.229Z"
   },
   {
    "duration": 116,
    "start_time": "2022-03-25T13:16:47.640Z"
   },
   {
    "duration": 190,
    "start_time": "2022-03-25T13:16:47.758Z"
   },
   {
    "duration": 373,
    "start_time": "2022-03-25T13:16:47.950Z"
   },
   {
    "duration": 279,
    "start_time": "2022-03-25T13:16:48.325Z"
   },
   {
    "duration": 131,
    "start_time": "2022-03-25T13:16:48.606Z"
   },
   {
    "duration": 162,
    "start_time": "2022-03-25T13:16:48.739Z"
   },
   {
    "duration": 102,
    "start_time": "2022-03-25T13:16:48.903Z"
   },
   {
    "duration": 239,
    "start_time": "2022-03-25T13:16:49.006Z"
   },
   {
    "duration": 133,
    "start_time": "2022-03-25T13:16:49.246Z"
   },
   {
    "duration": 290,
    "start_time": "2022-03-25T13:16:49.381Z"
   },
   {
    "duration": 928,
    "start_time": "2022-03-25T13:16:49.673Z"
   },
   {
    "duration": 29,
    "start_time": "2022-03-25T13:16:50.603Z"
   },
   {
    "duration": 194,
    "start_time": "2022-03-25T13:16:50.635Z"
   },
   {
    "duration": 641,
    "start_time": "2022-03-25T13:16:50.830Z"
   },
   {
    "duration": 404,
    "start_time": "2022-03-25T13:16:51.472Z"
   },
   {
    "duration": 164,
    "start_time": "2022-03-25T13:16:51.878Z"
   },
   {
    "duration": 157,
    "start_time": "2022-03-25T13:16:52.043Z"
   },
   {
    "duration": 658,
    "start_time": "2022-03-25T13:16:52.201Z"
   },
   {
    "duration": 416,
    "start_time": "2022-03-25T13:16:52.861Z"
   },
   {
    "duration": 485,
    "start_time": "2022-03-25T13:16:53.278Z"
   },
   {
    "duration": 424,
    "start_time": "2022-03-25T13:16:53.765Z"
   },
   {
    "duration": 5,
    "start_time": "2022-03-25T13:16:54.191Z"
   },
   {
    "duration": 202,
    "start_time": "2022-03-25T13:16:54.198Z"
   },
   {
    "duration": 335,
    "start_time": "2022-03-25T13:16:54.402Z"
   },
   {
    "duration": 5,
    "start_time": "2022-03-25T13:20:24.554Z"
   },
   {
    "duration": 1074,
    "start_time": "2022-03-25T13:21:26.246Z"
   },
   {
    "duration": 368,
    "start_time": "2022-03-25T13:21:27.322Z"
   },
   {
    "duration": 11,
    "start_time": "2022-03-25T13:21:27.692Z"
   },
   {
    "duration": 161,
    "start_time": "2022-03-25T13:21:27.705Z"
   },
   {
    "duration": 255,
    "start_time": "2022-03-25T13:21:27.868Z"
   },
   {
    "duration": 508,
    "start_time": "2022-03-25T13:21:28.124Z"
   },
   {
    "duration": 283,
    "start_time": "2022-03-25T13:21:28.633Z"
   },
   {
    "duration": 192,
    "start_time": "2022-03-25T13:21:28.917Z"
   },
   {
    "duration": 376,
    "start_time": "2022-03-25T13:21:29.111Z"
   },
   {
    "duration": 272,
    "start_time": "2022-03-25T13:21:29.490Z"
   },
   {
    "duration": 217,
    "start_time": "2022-03-25T13:21:29.764Z"
   },
   {
    "duration": 445,
    "start_time": "2022-03-25T13:21:29.982Z"
   },
   {
    "duration": 386,
    "start_time": "2022-03-25T13:21:30.429Z"
   },
   {
    "duration": 526,
    "start_time": "2022-03-25T13:21:30.816Z"
   },
   {
    "duration": 595,
    "start_time": "2022-03-25T13:21:31.344Z"
   },
   {
    "duration": 190,
    "start_time": "2022-03-25T13:21:31.941Z"
   },
   {
    "duration": 342,
    "start_time": "2022-03-25T13:21:32.132Z"
   },
   {
    "duration": 281,
    "start_time": "2022-03-25T13:21:32.476Z"
   },
   {
    "duration": 212,
    "start_time": "2022-03-25T13:21:32.758Z"
   },
   {
    "duration": 207,
    "start_time": "2022-03-25T13:21:32.972Z"
   },
   {
    "duration": 268,
    "start_time": "2022-03-25T13:21:33.180Z"
   },
   {
    "duration": 158,
    "start_time": "2022-03-25T13:21:33.450Z"
   },
   {
    "duration": 165,
    "start_time": "2022-03-25T13:21:33.609Z"
   },
   {
    "duration": 56,
    "start_time": "2022-03-25T13:21:33.776Z"
   },
   {
    "duration": 64,
    "start_time": "2022-03-25T13:21:33.834Z"
   },
   {
    "duration": 656,
    "start_time": "2022-03-25T13:21:33.900Z"
   },
   {
    "duration": 14,
    "start_time": "2022-03-25T13:21:34.558Z"
   },
   {
    "duration": 427,
    "start_time": "2022-03-25T13:21:34.575Z"
   },
   {
    "duration": 334,
    "start_time": "2022-03-25T13:21:35.003Z"
   },
   {
    "duration": 14,
    "start_time": "2022-03-25T13:21:35.338Z"
   },
   {
    "duration": 343,
    "start_time": "2022-03-25T13:21:35.353Z"
   },
   {
    "duration": 309,
    "start_time": "2022-03-25T13:21:35.697Z"
   },
   {
    "duration": 579,
    "start_time": "2022-03-25T13:21:36.008Z"
   },
   {
    "duration": 630,
    "start_time": "2022-03-25T13:21:36.588Z"
   },
   {
    "duration": 406,
    "start_time": "2022-03-25T13:21:37.219Z"
   },
   {
    "duration": 479,
    "start_time": "2022-03-25T13:21:37.626Z"
   },
   {
    "duration": 420,
    "start_time": "2022-03-25T13:21:38.106Z"
   },
   {
    "duration": 8,
    "start_time": "2022-03-25T13:21:38.527Z"
   },
   {
    "duration": 217,
    "start_time": "2022-03-25T13:21:38.536Z"
   },
   {
    "duration": 217,
    "start_time": "2022-03-25T13:21:38.755Z"
   }
  ],
  "kernelspec": {
   "display_name": "Python 3 (ipykernel)",
   "language": "python",
   "name": "python3"
  },
  "language_info": {
   "codemirror_mode": {
    "name": "ipython",
    "version": 3
   },
   "file_extension": ".py",
   "mimetype": "text/x-python",
   "name": "python",
   "nbconvert_exporter": "python",
   "pygments_lexer": "ipython3",
   "version": "3.9.5"
  },
  "toc": {
   "base_numbering": 1,
   "nav_menu": {},
   "number_sections": true,
   "sideBar": true,
   "skip_h1_title": false,
   "title_cell": "Table of Contents",
   "title_sidebar": "Contents",
   "toc_cell": false,
   "toc_position": {},
   "toc_section_display": true,
   "toc_window_display": false
  }
 },
 "nbformat": 4,
 "nbformat_minor": 5
}
