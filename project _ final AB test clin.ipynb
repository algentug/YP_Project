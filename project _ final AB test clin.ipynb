{
 "cells": [
  {
   "cell_type": "markdown",
   "id": "6026d92f",
   "metadata": {},
   "source": [
    "# А/В тестирование"
   ]
  },
  {
   "cell_type": "markdown",
   "id": "35f83204",
   "metadata": {},
   "source": [
    "## Содержание\n",
    "\n",
    "1. [Постановка задачи](#step1)\n",
    "2. [Tехническое задание](#step2)\n",
    "3. [Загрузка и подготовка данных](#step3)\n",
    "4. [Оценка корректности теста](#step4)\n",
    "5. [Исследовательский анализ данных](#step5)\n",
    "6. [А/В тест](#step6)\n",
    "7. [Вывод](#step7)\n",
    "8. [Рекомендации](#step8)"
   ]
  },
  {
   "cell_type": "markdown",
   "id": "2fc32d44",
   "metadata": {},
   "source": [
    "### Постановка задачи<a id=\"step1\"></a>\n",
    "\n",
    "Ваша задача — провести оценку результатов A/B-теста. В вашем распоряжении есть датасет с действиями пользователей, техническое задание и несколько вспомогательных датасетов.\n",
    "\n",
    "- Оцените корректность проведения теста\n",
    "    \n",
    "    проверьте:\n",
    "    - пересечение тестовой аудитории с конкурирующим тестом,\n",
    "    - совпадение теста и маркетинговых событий, другие проблемы временных границ теста.\n",
    "\n",
    "- Проанализируйте результаты теста"
   ]
  },
  {
   "cell_type": "markdown",
   "id": "71162135",
   "metadata": {},
   "source": [
    "### Техническое задание<a id=\"step2\"></a>\n",
    "\n",
    "- Название теста: `recommender_system_test`;\n",
    "- группы: А — контрольная, B — новая платёжная воронка;\n",
    "- дата запуска: 2020-12-07;\n",
    "- дата остановки набора новых пользователей: 2020-12-21;\n",
    "- дата остановки: 2021-01-04;\n",
    "- аудитория: 15% новых пользователей из региона EU;\n",
    "- назначение теста: тестирование изменений, связанных с внедрением улучшенной рекомендательной системы;\n",
    "- ожидаемое количество участников теста: 6000.\n",
    "- ожидаемый эффект: за 14 дней с момента регистрации пользователи покажут улучшение каждой метрики не менее, чем на 10%:\n",
    "    - конверсии в просмотр карточек товаров — событие `product_page`,\n",
    "    - просмотры корзины — `product_cart`,\n",
    "    - покупки — `purchase`."
   ]
  },
  {
   "cell_type": "markdown",
   "id": "cda3957b",
   "metadata": {},
   "source": [
    " "
   ]
  },
  {
   "cell_type": "markdown",
   "id": "1659e846",
   "metadata": {},
   "source": [
    "## Загрузим данные<a id=\"step3\"></a>"
   ]
  },
  {
   "cell_type": "markdown",
   "id": "9796e171",
   "metadata": {},
   "source": [
    "Загрузим библеотеки."
   ]
  },
  {
   "cell_type": "code",
   "execution_count": 1,
   "id": "af4c5ef5",
   "metadata": {},
   "outputs": [],
   "source": [
    "import pandas as pd\n",
    "import numpy as np\n",
    "import matplotlib.pyplot as plt\n",
    "from scipy import stats as st\n",
    "import seaborn as sns\n",
    "from datetime import timedelta, datetime\n",
    "import math as mth\n",
    "from plotly import graph_objects as go\n",
    "import plotly.express as px\n",
    "import plotly.graph_objs as go\n",
    "from matplotlib import style\n",
    "import os\n",
    "import warnings\n",
    "warnings.filterwarnings('ignore')"
   ]
  },
  {
   "cell_type": "markdown",
   "id": "690d6d4e",
   "metadata": {},
   "source": [
    "**Загрузим `final_ab_events.csv` — действия новых пользователей в период с 7 декабря 2020 по 4 января 2021 года.**\n",
    "\n",
    "Структура файла:\n",
    "\n",
    "- `user_id` — идентификатор пользователя;\n",
    "- `event_dt` — дата и время покупки;\n",
    "- `event_name` — тип события;\n",
    "- `details` — дополнительные данные о событии. Например, для покупок, `purchase,` в этом поле хранится стоимость покупки в долларах."
   ]
  },
  {
   "cell_type": "code",
   "execution_count": 2,
   "id": "b81d5824",
   "metadata": {},
   "outputs": [
    {
     "data": {
      "text/html": [
       "<div>\n",
       "<style scoped>\n",
       "    .dataframe tbody tr th:only-of-type {\n",
       "        vertical-align: middle;\n",
       "    }\n",
       "\n",
       "    .dataframe tbody tr th {\n",
       "        vertical-align: top;\n",
       "    }\n",
       "\n",
       "    .dataframe thead th {\n",
       "        text-align: right;\n",
       "    }\n",
       "</style>\n",
       "<table border=\"1\" class=\"dataframe\">\n",
       "  <thead>\n",
       "    <tr style=\"text-align: right;\">\n",
       "      <th></th>\n",
       "      <th>user_id</th>\n",
       "      <th>event_dt</th>\n",
       "      <th>event_name</th>\n",
       "      <th>details</th>\n",
       "    </tr>\n",
       "  </thead>\n",
       "  <tbody>\n",
       "    <tr>\n",
       "      <th>0</th>\n",
       "      <td>E1BDDCE0DAFA2679</td>\n",
       "      <td>2020-12-07 20:22:03</td>\n",
       "      <td>purchase</td>\n",
       "      <td>99.99</td>\n",
       "    </tr>\n",
       "    <tr>\n",
       "      <th>1</th>\n",
       "      <td>7B6452F081F49504</td>\n",
       "      <td>2020-12-07 09:22:53</td>\n",
       "      <td>purchase</td>\n",
       "      <td>9.99</td>\n",
       "    </tr>\n",
       "    <tr>\n",
       "      <th>2</th>\n",
       "      <td>9CD9F34546DF254C</td>\n",
       "      <td>2020-12-07 12:59:29</td>\n",
       "      <td>purchase</td>\n",
       "      <td>4.99</td>\n",
       "    </tr>\n",
       "    <tr>\n",
       "      <th>3</th>\n",
       "      <td>96F27A054B191457</td>\n",
       "      <td>2020-12-07 04:02:40</td>\n",
       "      <td>purchase</td>\n",
       "      <td>4.99</td>\n",
       "    </tr>\n",
       "    <tr>\n",
       "      <th>4</th>\n",
       "      <td>1FD7660FDF94CA1F</td>\n",
       "      <td>2020-12-07 10:15:09</td>\n",
       "      <td>purchase</td>\n",
       "      <td>4.99</td>\n",
       "    </tr>\n",
       "    <tr>\n",
       "      <th>...</th>\n",
       "      <td>...</td>\n",
       "      <td>...</td>\n",
       "      <td>...</td>\n",
       "      <td>...</td>\n",
       "    </tr>\n",
       "    <tr>\n",
       "      <th>440312</th>\n",
       "      <td>245E85F65C358E08</td>\n",
       "      <td>2020-12-30 19:35:55</td>\n",
       "      <td>login</td>\n",
       "      <td>NaN</td>\n",
       "    </tr>\n",
       "    <tr>\n",
       "      <th>440313</th>\n",
       "      <td>9385A108F5A0A7A7</td>\n",
       "      <td>2020-12-30 10:54:15</td>\n",
       "      <td>login</td>\n",
       "      <td>NaN</td>\n",
       "    </tr>\n",
       "    <tr>\n",
       "      <th>440314</th>\n",
       "      <td>DB650B7559AC6EAC</td>\n",
       "      <td>2020-12-30 10:59:09</td>\n",
       "      <td>login</td>\n",
       "      <td>NaN</td>\n",
       "    </tr>\n",
       "    <tr>\n",
       "      <th>440315</th>\n",
       "      <td>F80C9BDDEA02E53C</td>\n",
       "      <td>2020-12-30 09:53:39</td>\n",
       "      <td>login</td>\n",
       "      <td>NaN</td>\n",
       "    </tr>\n",
       "    <tr>\n",
       "      <th>440316</th>\n",
       "      <td>7AEC61159B672CC5</td>\n",
       "      <td>2020-12-30 11:36:13</td>\n",
       "      <td>login</td>\n",
       "      <td>NaN</td>\n",
       "    </tr>\n",
       "  </tbody>\n",
       "</table>\n",
       "<p>440317 rows × 4 columns</p>\n",
       "</div>"
      ],
      "text/plain": [
       "                 user_id             event_dt event_name  details\n",
       "0       E1BDDCE0DAFA2679  2020-12-07 20:22:03   purchase    99.99\n",
       "1       7B6452F081F49504  2020-12-07 09:22:53   purchase     9.99\n",
       "2       9CD9F34546DF254C  2020-12-07 12:59:29   purchase     4.99\n",
       "3       96F27A054B191457  2020-12-07 04:02:40   purchase     4.99\n",
       "4       1FD7660FDF94CA1F  2020-12-07 10:15:09   purchase     4.99\n",
       "...                  ...                  ...        ...      ...\n",
       "440312  245E85F65C358E08  2020-12-30 19:35:55      login      NaN\n",
       "440313  9385A108F5A0A7A7  2020-12-30 10:54:15      login      NaN\n",
       "440314  DB650B7559AC6EAC  2020-12-30 10:59:09      login      NaN\n",
       "440315  F80C9BDDEA02E53C  2020-12-30 09:53:39      login      NaN\n",
       "440316  7AEC61159B672CC5  2020-12-30 11:36:13      login      NaN\n",
       "\n",
       "[440317 rows x 4 columns]"
      ]
     },
     "execution_count": 2,
     "metadata": {},
     "output_type": "execute_result"
    }
   ],
   "source": [
    "final_ab_events = pd.read_csv('**********************************')\n",
    "final_ab_events"
   ]
  },
  {
   "cell_type": "code",
   "execution_count": 3,
   "id": "167540cb",
   "metadata": {},
   "outputs": [
    {
     "name": "stdout",
     "output_type": "stream",
     "text": [
      "<class 'pandas.core.frame.DataFrame'>\n",
      "RangeIndex: 440317 entries, 0 to 440316\n",
      "Data columns (total 4 columns):\n",
      " #   Column      Non-Null Count   Dtype  \n",
      "---  ------      --------------   -----  \n",
      " 0   user_id     440317 non-null  object \n",
      " 1   event_dt    440317 non-null  object \n",
      " 2   event_name  440317 non-null  object \n",
      " 3   details     62740 non-null   float64\n",
      "dtypes: float64(1), object(3)\n",
      "memory usage: 13.4+ MB\n"
     ]
    }
   ],
   "source": [
    "final_ab_events.info()"
   ]
  },
  {
   "cell_type": "code",
   "execution_count": 4,
   "id": "4580b5c1",
   "metadata": {},
   "outputs": [],
   "source": [
    "# преобразуем дату\n",
    "final_ab_events['event_dt'] = pd.to_datetime(final_ab_events['event_dt'])"
   ]
  },
  {
   "cell_type": "code",
   "execution_count": 5,
   "id": "d7cc7776",
   "metadata": {},
   "outputs": [
    {
     "data": {
      "text/plain": [
       "0"
      ]
     },
     "execution_count": 5,
     "metadata": {},
     "output_type": "execute_result"
    }
   ],
   "source": [
    "# проверим на наличие дубликатов\n",
    "final_ab_events.duplicated().sum()"
   ]
  },
  {
   "cell_type": "code",
   "execution_count": 6,
   "id": "06ab6299",
   "metadata": {},
   "outputs": [
    {
     "data": {
      "text/plain": [
       "user_id            0\n",
       "event_dt           0\n",
       "event_name         0\n",
       "details       377577\n",
       "dtype: int64"
      ]
     },
     "execution_count": 6,
     "metadata": {},
     "output_type": "execute_result"
    }
   ],
   "source": [
    "# проверим на пропуски\n",
    "final_ab_events.isna().sum()"
   ]
  },
  {
   "cell_type": "code",
   "execution_count": 7,
   "id": "7cd80e8f",
   "metadata": {},
   "outputs": [
    {
     "data": {
      "text/plain": [
       "58703"
      ]
     },
     "execution_count": 7,
     "metadata": {},
     "output_type": "execute_result"
    }
   ],
   "source": [
    "final_ab_events['user_id'].nunique()"
   ]
  },
  {
   "cell_type": "code",
   "execution_count": 8,
   "id": "dc5ef6fc",
   "metadata": {},
   "outputs": [
    {
     "data": {
      "text/html": [
       "<div>\n",
       "<style scoped>\n",
       "    .dataframe tbody tr th:only-of-type {\n",
       "        vertical-align: middle;\n",
       "    }\n",
       "\n",
       "    .dataframe tbody tr th {\n",
       "        vertical-align: top;\n",
       "    }\n",
       "\n",
       "    .dataframe thead th {\n",
       "        text-align: right;\n",
       "    }\n",
       "</style>\n",
       "<table border=\"1\" class=\"dataframe\">\n",
       "  <thead>\n",
       "    <tr style=\"text-align: right;\">\n",
       "      <th></th>\n",
       "      <th>user_id</th>\n",
       "      <th>event_dt</th>\n",
       "      <th>details</th>\n",
       "    </tr>\n",
       "    <tr>\n",
       "      <th>event_name</th>\n",
       "      <th></th>\n",
       "      <th></th>\n",
       "      <th></th>\n",
       "    </tr>\n",
       "  </thead>\n",
       "  <tbody>\n",
       "    <tr>\n",
       "      <th>login</th>\n",
       "      <td>189552</td>\n",
       "      <td>189552</td>\n",
       "      <td>0</td>\n",
       "    </tr>\n",
       "    <tr>\n",
       "      <th>product_cart</th>\n",
       "      <td>62462</td>\n",
       "      <td>62462</td>\n",
       "      <td>0</td>\n",
       "    </tr>\n",
       "    <tr>\n",
       "      <th>product_page</th>\n",
       "      <td>125563</td>\n",
       "      <td>125563</td>\n",
       "      <td>0</td>\n",
       "    </tr>\n",
       "    <tr>\n",
       "      <th>purchase</th>\n",
       "      <td>62740</td>\n",
       "      <td>62740</td>\n",
       "      <td>62740</td>\n",
       "    </tr>\n",
       "  </tbody>\n",
       "</table>\n",
       "</div>"
      ],
      "text/plain": [
       "              user_id  event_dt  details\n",
       "event_name                              \n",
       "login          189552    189552        0\n",
       "product_cart    62462     62462        0\n",
       "product_page   125563    125563        0\n",
       "purchase        62740     62740    62740"
      ]
     },
     "execution_count": 8,
     "metadata": {},
     "output_type": "execute_result"
    }
   ],
   "source": [
    "final_ab_events.groupby('event_name').count()"
   ]
  },
  {
   "cell_type": "markdown",
   "id": "d8d62d82",
   "metadata": {},
   "source": [
    "Мы загрузили файл, преобразовали дату. Проверили на дубликаты и пропуски. В файле 440317 записей и 58703 уникальных пользователя."
   ]
  },
  {
   "cell_type": "markdown",
   "id": "f66e726e",
   "metadata": {},
   "source": [
    "**Загрузим `ab_project_marketing_events.csv` — календарь маркетинговых событий на 2020 год.**\n",
    "\n",
    "Структура файла:\n",
    "\n",
    "- `name` — название маркетингового события;\n",
    "- `regions` — регионы, в которых будет проводиться рекламная кампания;\n",
    "- `start_dt` — дата начала кампании;\n",
    "- `finish_dt` — дата завершения кампании."
   ]
  },
  {
   "cell_type": "code",
   "execution_count": 9,
   "id": "bbeb00f0",
   "metadata": {},
   "outputs": [
    {
     "data": {
      "text/html": [
       "<div>\n",
       "<style scoped>\n",
       "    .dataframe tbody tr th:only-of-type {\n",
       "        vertical-align: middle;\n",
       "    }\n",
       "\n",
       "    .dataframe tbody tr th {\n",
       "        vertical-align: top;\n",
       "    }\n",
       "\n",
       "    .dataframe thead th {\n",
       "        text-align: right;\n",
       "    }\n",
       "</style>\n",
       "<table border=\"1\" class=\"dataframe\">\n",
       "  <thead>\n",
       "    <tr style=\"text-align: right;\">\n",
       "      <th></th>\n",
       "      <th>name</th>\n",
       "      <th>regions</th>\n",
       "      <th>start_dt</th>\n",
       "      <th>finish_dt</th>\n",
       "    </tr>\n",
       "  </thead>\n",
       "  <tbody>\n",
       "    <tr>\n",
       "      <th>0</th>\n",
       "      <td>Christmas&amp;New Year Promo</td>\n",
       "      <td>EU, N.America</td>\n",
       "      <td>2020-12-25</td>\n",
       "      <td>2021-01-03</td>\n",
       "    </tr>\n",
       "    <tr>\n",
       "      <th>1</th>\n",
       "      <td>St. Valentine's Day Giveaway</td>\n",
       "      <td>EU, CIS, APAC, N.America</td>\n",
       "      <td>2020-02-14</td>\n",
       "      <td>2020-02-16</td>\n",
       "    </tr>\n",
       "    <tr>\n",
       "      <th>2</th>\n",
       "      <td>St. Patric's Day Promo</td>\n",
       "      <td>EU, N.America</td>\n",
       "      <td>2020-03-17</td>\n",
       "      <td>2020-03-19</td>\n",
       "    </tr>\n",
       "    <tr>\n",
       "      <th>3</th>\n",
       "      <td>Easter Promo</td>\n",
       "      <td>EU, CIS, APAC, N.America</td>\n",
       "      <td>2020-04-12</td>\n",
       "      <td>2020-04-19</td>\n",
       "    </tr>\n",
       "    <tr>\n",
       "      <th>4</th>\n",
       "      <td>4th of July Promo</td>\n",
       "      <td>N.America</td>\n",
       "      <td>2020-07-04</td>\n",
       "      <td>2020-07-11</td>\n",
       "    </tr>\n",
       "    <tr>\n",
       "      <th>5</th>\n",
       "      <td>Black Friday Ads Campaign</td>\n",
       "      <td>EU, CIS, APAC, N.America</td>\n",
       "      <td>2020-11-26</td>\n",
       "      <td>2020-12-01</td>\n",
       "    </tr>\n",
       "    <tr>\n",
       "      <th>6</th>\n",
       "      <td>Chinese New Year Promo</td>\n",
       "      <td>APAC</td>\n",
       "      <td>2020-01-25</td>\n",
       "      <td>2020-02-07</td>\n",
       "    </tr>\n",
       "    <tr>\n",
       "      <th>7</th>\n",
       "      <td>Labor day (May 1st) Ads Campaign</td>\n",
       "      <td>EU, CIS, APAC</td>\n",
       "      <td>2020-05-01</td>\n",
       "      <td>2020-05-03</td>\n",
       "    </tr>\n",
       "    <tr>\n",
       "      <th>8</th>\n",
       "      <td>International Women's Day Promo</td>\n",
       "      <td>EU, CIS, APAC</td>\n",
       "      <td>2020-03-08</td>\n",
       "      <td>2020-03-10</td>\n",
       "    </tr>\n",
       "    <tr>\n",
       "      <th>9</th>\n",
       "      <td>Victory Day CIS (May 9th) Event</td>\n",
       "      <td>CIS</td>\n",
       "      <td>2020-05-09</td>\n",
       "      <td>2020-05-11</td>\n",
       "    </tr>\n",
       "    <tr>\n",
       "      <th>10</th>\n",
       "      <td>CIS New Year Gift Lottery</td>\n",
       "      <td>CIS</td>\n",
       "      <td>2020-12-30</td>\n",
       "      <td>2021-01-07</td>\n",
       "    </tr>\n",
       "    <tr>\n",
       "      <th>11</th>\n",
       "      <td>Dragon Boat Festival Giveaway</td>\n",
       "      <td>APAC</td>\n",
       "      <td>2020-06-25</td>\n",
       "      <td>2020-07-01</td>\n",
       "    </tr>\n",
       "    <tr>\n",
       "      <th>12</th>\n",
       "      <td>Single's Day Gift Promo</td>\n",
       "      <td>APAC</td>\n",
       "      <td>2020-11-11</td>\n",
       "      <td>2020-11-12</td>\n",
       "    </tr>\n",
       "    <tr>\n",
       "      <th>13</th>\n",
       "      <td>Chinese Moon Festival</td>\n",
       "      <td>APAC</td>\n",
       "      <td>2020-10-01</td>\n",
       "      <td>2020-10-07</td>\n",
       "    </tr>\n",
       "  </tbody>\n",
       "</table>\n",
       "</div>"
      ],
      "text/plain": [
       "                                name                   regions    start_dt  \\\n",
       "0           Christmas&New Year Promo             EU, N.America  2020-12-25   \n",
       "1       St. Valentine's Day Giveaway  EU, CIS, APAC, N.America  2020-02-14   \n",
       "2             St. Patric's Day Promo             EU, N.America  2020-03-17   \n",
       "3                       Easter Promo  EU, CIS, APAC, N.America  2020-04-12   \n",
       "4                  4th of July Promo                 N.America  2020-07-04   \n",
       "5          Black Friday Ads Campaign  EU, CIS, APAC, N.America  2020-11-26   \n",
       "6             Chinese New Year Promo                      APAC  2020-01-25   \n",
       "7   Labor day (May 1st) Ads Campaign             EU, CIS, APAC  2020-05-01   \n",
       "8    International Women's Day Promo             EU, CIS, APAC  2020-03-08   \n",
       "9    Victory Day CIS (May 9th) Event                       CIS  2020-05-09   \n",
       "10         CIS New Year Gift Lottery                       CIS  2020-12-30   \n",
       "11     Dragon Boat Festival Giveaway                      APAC  2020-06-25   \n",
       "12           Single's Day Gift Promo                      APAC  2020-11-11   \n",
       "13             Chinese Moon Festival                      APAC  2020-10-01   \n",
       "\n",
       "     finish_dt  \n",
       "0   2021-01-03  \n",
       "1   2020-02-16  \n",
       "2   2020-03-19  \n",
       "3   2020-04-19  \n",
       "4   2020-07-11  \n",
       "5   2020-12-01  \n",
       "6   2020-02-07  \n",
       "7   2020-05-03  \n",
       "8   2020-03-10  \n",
       "9   2020-05-11  \n",
       "10  2021-01-07  \n",
       "11  2020-07-01  \n",
       "12  2020-11-12  \n",
       "13  2020-10-07  "
      ]
     },
     "execution_count": 9,
     "metadata": {},
     "output_type": "execute_result"
    }
   ],
   "source": [
    "ab_project_marketing_events = pd.read_csv('**********************************')\n",
    "ab_project_marketing_events"
   ]
  },
  {
   "cell_type": "code",
   "execution_count": 10,
   "id": "baa61333",
   "metadata": {},
   "outputs": [
    {
     "name": "stdout",
     "output_type": "stream",
     "text": [
      "<class 'pandas.core.frame.DataFrame'>\n",
      "RangeIndex: 14 entries, 0 to 13\n",
      "Data columns (total 4 columns):\n",
      " #   Column     Non-Null Count  Dtype \n",
      "---  ------     --------------  ----- \n",
      " 0   name       14 non-null     object\n",
      " 1   regions    14 non-null     object\n",
      " 2   start_dt   14 non-null     object\n",
      " 3   finish_dt  14 non-null     object\n",
      "dtypes: object(4)\n",
      "memory usage: 576.0+ bytes\n"
     ]
    }
   ],
   "source": [
    "ab_project_marketing_events.info()"
   ]
  },
  {
   "cell_type": "code",
   "execution_count": 11,
   "id": "973d4a68",
   "metadata": {},
   "outputs": [],
   "source": [
    "# преобразуем дату\n",
    "ab_project_marketing_events['start_dt'] = pd.to_datetime(ab_project_marketing_events['start_dt'])\n",
    "ab_project_marketing_events['finish_dt'] = pd.to_datetime(ab_project_marketing_events['finish_dt'])"
   ]
  },
  {
   "cell_type": "code",
   "execution_count": 12,
   "id": "ad5fe613",
   "metadata": {},
   "outputs": [
    {
     "name": "stdout",
     "output_type": "stream",
     "text": [
      "Минимальная дата start_dt -  2020-01-25 00:00:00\n",
      "Максимальная дата start_dt -  2020-12-30 00:00:00\n",
      "\n",
      "Минимальная дата finish_dt -  2020-02-07 00:00:00\n",
      "Максимальная дата finish_dt -  2021-01-07 00:00:00\n"
     ]
    }
   ],
   "source": [
    "print('Минимальная дата start_dt - ', ab_project_marketing_events['start_dt'].min())\n",
    "print('Максимальная дата start_dt - ', ab_project_marketing_events['start_dt'].max())\n",
    "print()\n",
    "print('Минимальная дата finish_dt - ', ab_project_marketing_events['finish_dt'].min())\n",
    "print('Максимальная дата finish_dt - ', ab_project_marketing_events['finish_dt'].max())"
   ]
  },
  {
   "cell_type": "markdown",
   "id": "d6534e6f",
   "metadata": {},
   "source": [
    "Мы загрузили файл. В нем 14 уникальных записи. Преобразовали дату. Посмотрели min и max значения в столбцах `start_dt` и `finish_dt`"
   ]
  },
  {
   "cell_type": "markdown",
   "id": "51bfffb8",
   "metadata": {},
   "source": [
    "**Загрузим `final_ab_new_users.csv` — пользователи, зарегистрировавшиеся с 7 по 21 декабря 2020 года.**\n",
    "\n",
    "Структура файла:\n",
    "\n",
    "- `user_id` — идентификатор пользователя;\n",
    "- `first_date` — дата регистрации;\n",
    "- `region` — регион пользователя;\n",
    "- `device` — устройство, с которого происходила регистрация."
   ]
  },
  {
   "cell_type": "code",
   "execution_count": 13,
   "id": "56e2271b",
   "metadata": {},
   "outputs": [
    {
     "data": {
      "text/html": [
       "<div>\n",
       "<style scoped>\n",
       "    .dataframe tbody tr th:only-of-type {\n",
       "        vertical-align: middle;\n",
       "    }\n",
       "\n",
       "    .dataframe tbody tr th {\n",
       "        vertical-align: top;\n",
       "    }\n",
       "\n",
       "    .dataframe thead th {\n",
       "        text-align: right;\n",
       "    }\n",
       "</style>\n",
       "<table border=\"1\" class=\"dataframe\">\n",
       "  <thead>\n",
       "    <tr style=\"text-align: right;\">\n",
       "      <th></th>\n",
       "      <th>user_id</th>\n",
       "      <th>first_date</th>\n",
       "      <th>region</th>\n",
       "      <th>device</th>\n",
       "    </tr>\n",
       "  </thead>\n",
       "  <tbody>\n",
       "    <tr>\n",
       "      <th>0</th>\n",
       "      <td>D72A72121175D8BE</td>\n",
       "      <td>2020-12-07</td>\n",
       "      <td>EU</td>\n",
       "      <td>PC</td>\n",
       "    </tr>\n",
       "    <tr>\n",
       "      <th>1</th>\n",
       "      <td>F1C668619DFE6E65</td>\n",
       "      <td>2020-12-07</td>\n",
       "      <td>N.America</td>\n",
       "      <td>Android</td>\n",
       "    </tr>\n",
       "    <tr>\n",
       "      <th>2</th>\n",
       "      <td>2E1BF1D4C37EA01F</td>\n",
       "      <td>2020-12-07</td>\n",
       "      <td>EU</td>\n",
       "      <td>PC</td>\n",
       "    </tr>\n",
       "    <tr>\n",
       "      <th>3</th>\n",
       "      <td>50734A22C0C63768</td>\n",
       "      <td>2020-12-07</td>\n",
       "      <td>EU</td>\n",
       "      <td>iPhone</td>\n",
       "    </tr>\n",
       "    <tr>\n",
       "      <th>4</th>\n",
       "      <td>E1BDDCE0DAFA2679</td>\n",
       "      <td>2020-12-07</td>\n",
       "      <td>N.America</td>\n",
       "      <td>iPhone</td>\n",
       "    </tr>\n",
       "    <tr>\n",
       "      <th>...</th>\n",
       "      <td>...</td>\n",
       "      <td>...</td>\n",
       "      <td>...</td>\n",
       "      <td>...</td>\n",
       "    </tr>\n",
       "    <tr>\n",
       "      <th>61728</th>\n",
       "      <td>1DB53B933257165D</td>\n",
       "      <td>2020-12-20</td>\n",
       "      <td>EU</td>\n",
       "      <td>Android</td>\n",
       "    </tr>\n",
       "    <tr>\n",
       "      <th>61729</th>\n",
       "      <td>538643EB4527ED03</td>\n",
       "      <td>2020-12-20</td>\n",
       "      <td>EU</td>\n",
       "      <td>Mac</td>\n",
       "    </tr>\n",
       "    <tr>\n",
       "      <th>61730</th>\n",
       "      <td>7ADEE837D5D8CBBD</td>\n",
       "      <td>2020-12-20</td>\n",
       "      <td>EU</td>\n",
       "      <td>PC</td>\n",
       "    </tr>\n",
       "    <tr>\n",
       "      <th>61731</th>\n",
       "      <td>1C7D23927835213F</td>\n",
       "      <td>2020-12-20</td>\n",
       "      <td>EU</td>\n",
       "      <td>iPhone</td>\n",
       "    </tr>\n",
       "    <tr>\n",
       "      <th>61732</th>\n",
       "      <td>8F04273BB2860229</td>\n",
       "      <td>2020-12-20</td>\n",
       "      <td>EU</td>\n",
       "      <td>Android</td>\n",
       "    </tr>\n",
       "  </tbody>\n",
       "</table>\n",
       "<p>61733 rows × 4 columns</p>\n",
       "</div>"
      ],
      "text/plain": [
       "                user_id  first_date     region   device\n",
       "0      D72A72121175D8BE  2020-12-07         EU       PC\n",
       "1      F1C668619DFE6E65  2020-12-07  N.America  Android\n",
       "2      2E1BF1D4C37EA01F  2020-12-07         EU       PC\n",
       "3      50734A22C0C63768  2020-12-07         EU   iPhone\n",
       "4      E1BDDCE0DAFA2679  2020-12-07  N.America   iPhone\n",
       "...                 ...         ...        ...      ...\n",
       "61728  1DB53B933257165D  2020-12-20         EU  Android\n",
       "61729  538643EB4527ED03  2020-12-20         EU      Mac\n",
       "61730  7ADEE837D5D8CBBD  2020-12-20         EU       PC\n",
       "61731  1C7D23927835213F  2020-12-20         EU   iPhone\n",
       "61732  8F04273BB2860229  2020-12-20         EU  Android\n",
       "\n",
       "[61733 rows x 4 columns]"
      ]
     },
     "execution_count": 13,
     "metadata": {},
     "output_type": "execute_result"
    }
   ],
   "source": [
    "final_ab_new_users = pd.read_csv('**********************************')\n",
    "final_ab_new_users"
   ]
  },
  {
   "cell_type": "code",
   "execution_count": 14,
   "id": "d4626f70",
   "metadata": {},
   "outputs": [
    {
     "name": "stdout",
     "output_type": "stream",
     "text": [
      "<class 'pandas.core.frame.DataFrame'>\n",
      "RangeIndex: 61733 entries, 0 to 61732\n",
      "Data columns (total 4 columns):\n",
      " #   Column      Non-Null Count  Dtype \n",
      "---  ------      --------------  ----- \n",
      " 0   user_id     61733 non-null  object\n",
      " 1   first_date  61733 non-null  object\n",
      " 2   region      61733 non-null  object\n",
      " 3   device      61733 non-null  object\n",
      "dtypes: object(4)\n",
      "memory usage: 1.9+ MB\n"
     ]
    }
   ],
   "source": [
    "final_ab_new_users.info()"
   ]
  },
  {
   "cell_type": "code",
   "execution_count": 15,
   "id": "eb9dac74",
   "metadata": {},
   "outputs": [],
   "source": [
    "# преобразуем дату\n",
    "final_ab_new_users['first_date'] = pd.to_datetime(final_ab_new_users['first_date'])"
   ]
  },
  {
   "cell_type": "code",
   "execution_count": 16,
   "id": "b5ba608d",
   "metadata": {},
   "outputs": [
    {
     "data": {
      "text/plain": [
       "user_id       0\n",
       "first_date    0\n",
       "region        0\n",
       "device        0\n",
       "dtype: int64"
      ]
     },
     "execution_count": 16,
     "metadata": {},
     "output_type": "execute_result"
    }
   ],
   "source": [
    "# проверим на пропуски\n",
    "final_ab_new_users.isna().sum()"
   ]
  },
  {
   "cell_type": "code",
   "execution_count": 17,
   "id": "4251ebb3",
   "metadata": {},
   "outputs": [
    {
     "data": {
      "text/plain": [
       "0"
      ]
     },
     "execution_count": 17,
     "metadata": {},
     "output_type": "execute_result"
    }
   ],
   "source": [
    "# проверим на дубликаты\n",
    "final_ab_new_users.duplicated().sum()"
   ]
  },
  {
   "cell_type": "code",
   "execution_count": 18,
   "id": "956c88aa",
   "metadata": {},
   "outputs": [
    {
     "data": {
      "text/plain": [
       "61733"
      ]
     },
     "execution_count": 18,
     "metadata": {},
     "output_type": "execute_result"
    }
   ],
   "source": [
    "# посмотрим количество уникальных значений\n",
    "final_ab_new_users['user_id'].nunique()"
   ]
  },
  {
   "cell_type": "code",
   "execution_count": 19,
   "id": "c3afd7c1",
   "metadata": {},
   "outputs": [
    {
     "data": {
      "text/plain": [
       "EU           46270\n",
       "N.America     9155\n",
       "CIS           3155\n",
       "APAC          3153\n",
       "Name: region, dtype: int64"
      ]
     },
     "execution_count": 19,
     "metadata": {},
     "output_type": "execute_result"
    }
   ],
   "source": [
    "# посмотрим на значения в столбце region\n",
    "final_ab_new_users['region'].value_counts()"
   ]
  },
  {
   "cell_type": "code",
   "execution_count": 20,
   "id": "2df810b3",
   "metadata": {},
   "outputs": [
    {
     "data": {
      "text/plain": [
       "Android    27520\n",
       "PC         15599\n",
       "iPhone     12530\n",
       "Mac         6084\n",
       "Name: device, dtype: int64"
      ]
     },
     "execution_count": 20,
     "metadata": {},
     "output_type": "execute_result"
    }
   ],
   "source": [
    "# посмотрим на значения в столбце device\n",
    "final_ab_new_users['device'].value_counts()"
   ]
  },
  {
   "cell_type": "code",
   "execution_count": 21,
   "id": "cdcb1c4b",
   "metadata": {},
   "outputs": [
    {
     "name": "stdout",
     "output_type": "stream",
     "text": [
      "Минимальная дата - 2020-12-07 00:00:00\n",
      "Максимальная дата - 2020-12-23 00:00:00\n"
     ]
    }
   ],
   "source": [
    "print('Минимальная дата -', final_ab_new_users['first_date'].min())\n",
    "print('Максимальная дата -', final_ab_new_users['first_date'].max())"
   ]
  },
  {
   "cell_type": "markdown",
   "id": "d6d4a1b1",
   "metadata": {},
   "source": [
    "Мы загрузили файл, проверили на пропуски и дубликаты. Посмотрели на распределение значений по столбцам `region` и `device`. В файле 61733 записи уникальных пользователей. Даты лежат в промежутке с 07.12.2020 по 23.12.2020. Это на 2 дня дольше, чем написано в анотации к данным."
   ]
  },
  {
   "cell_type": "markdown",
   "id": "14ff648f",
   "metadata": {},
   "source": [
    "**Загрузим данных `final_ab_participants.csv` — таблица участников тестов.**\n",
    "\n",
    "Структура файла:\n",
    "\n",
    "- `user_id` — идентификатор пользователя;\n",
    "- `ab_test` — название теста;\n",
    "- `group` — группа пользователя."
   ]
  },
  {
   "cell_type": "code",
   "execution_count": 22,
   "id": "79071108",
   "metadata": {},
   "outputs": [
    {
     "data": {
      "text/html": [
       "<div>\n",
       "<style scoped>\n",
       "    .dataframe tbody tr th:only-of-type {\n",
       "        vertical-align: middle;\n",
       "    }\n",
       "\n",
       "    .dataframe tbody tr th {\n",
       "        vertical-align: top;\n",
       "    }\n",
       "\n",
       "    .dataframe thead th {\n",
       "        text-align: right;\n",
       "    }\n",
       "</style>\n",
       "<table border=\"1\" class=\"dataframe\">\n",
       "  <thead>\n",
       "    <tr style=\"text-align: right;\">\n",
       "      <th></th>\n",
       "      <th>user_id</th>\n",
       "      <th>group</th>\n",
       "      <th>ab_test</th>\n",
       "    </tr>\n",
       "  </thead>\n",
       "  <tbody>\n",
       "    <tr>\n",
       "      <th>0</th>\n",
       "      <td>D1ABA3E2887B6A73</td>\n",
       "      <td>A</td>\n",
       "      <td>recommender_system_test</td>\n",
       "    </tr>\n",
       "    <tr>\n",
       "      <th>1</th>\n",
       "      <td>A7A3664BD6242119</td>\n",
       "      <td>A</td>\n",
       "      <td>recommender_system_test</td>\n",
       "    </tr>\n",
       "    <tr>\n",
       "      <th>2</th>\n",
       "      <td>DABC14FDDFADD29E</td>\n",
       "      <td>A</td>\n",
       "      <td>recommender_system_test</td>\n",
       "    </tr>\n",
       "    <tr>\n",
       "      <th>3</th>\n",
       "      <td>04988C5DF189632E</td>\n",
       "      <td>A</td>\n",
       "      <td>recommender_system_test</td>\n",
       "    </tr>\n",
       "    <tr>\n",
       "      <th>4</th>\n",
       "      <td>482F14783456D21B</td>\n",
       "      <td>B</td>\n",
       "      <td>recommender_system_test</td>\n",
       "    </tr>\n",
       "    <tr>\n",
       "      <th>...</th>\n",
       "      <td>...</td>\n",
       "      <td>...</td>\n",
       "      <td>...</td>\n",
       "    </tr>\n",
       "    <tr>\n",
       "      <th>18263</th>\n",
       "      <td>1D302F8688B91781</td>\n",
       "      <td>B</td>\n",
       "      <td>interface_eu_test</td>\n",
       "    </tr>\n",
       "    <tr>\n",
       "      <th>18264</th>\n",
       "      <td>3DE51B726983B657</td>\n",
       "      <td>A</td>\n",
       "      <td>interface_eu_test</td>\n",
       "    </tr>\n",
       "    <tr>\n",
       "      <th>18265</th>\n",
       "      <td>F501F79D332BE86C</td>\n",
       "      <td>A</td>\n",
       "      <td>interface_eu_test</td>\n",
       "    </tr>\n",
       "    <tr>\n",
       "      <th>18266</th>\n",
       "      <td>63FBE257B05F2245</td>\n",
       "      <td>A</td>\n",
       "      <td>interface_eu_test</td>\n",
       "    </tr>\n",
       "    <tr>\n",
       "      <th>18267</th>\n",
       "      <td>79F9ABFB029CF724</td>\n",
       "      <td>B</td>\n",
       "      <td>interface_eu_test</td>\n",
       "    </tr>\n",
       "  </tbody>\n",
       "</table>\n",
       "<p>18268 rows × 3 columns</p>\n",
       "</div>"
      ],
      "text/plain": [
       "                user_id group                  ab_test\n",
       "0      D1ABA3E2887B6A73     A  recommender_system_test\n",
       "1      A7A3664BD6242119     A  recommender_system_test\n",
       "2      DABC14FDDFADD29E     A  recommender_system_test\n",
       "3      04988C5DF189632E     A  recommender_system_test\n",
       "4      482F14783456D21B     B  recommender_system_test\n",
       "...                 ...   ...                      ...\n",
       "18263  1D302F8688B91781     B        interface_eu_test\n",
       "18264  3DE51B726983B657     A        interface_eu_test\n",
       "18265  F501F79D332BE86C     A        interface_eu_test\n",
       "18266  63FBE257B05F2245     A        interface_eu_test\n",
       "18267  79F9ABFB029CF724     B        interface_eu_test\n",
       "\n",
       "[18268 rows x 3 columns]"
      ]
     },
     "execution_count": 22,
     "metadata": {},
     "output_type": "execute_result"
    }
   ],
   "source": [
    "final_ab_participants = pd.read_csv('**********************************')\n",
    "final_ab_participants"
   ]
  },
  {
   "cell_type": "code",
   "execution_count": 23,
   "id": "711f9674",
   "metadata": {},
   "outputs": [
    {
     "name": "stdout",
     "output_type": "stream",
     "text": [
      "<class 'pandas.core.frame.DataFrame'>\n",
      "RangeIndex: 18268 entries, 0 to 18267\n",
      "Data columns (total 3 columns):\n",
      " #   Column   Non-Null Count  Dtype \n",
      "---  ------   --------------  ----- \n",
      " 0   user_id  18268 non-null  object\n",
      " 1   group    18268 non-null  object\n",
      " 2   ab_test  18268 non-null  object\n",
      "dtypes: object(3)\n",
      "memory usage: 428.3+ KB\n"
     ]
    }
   ],
   "source": [
    "final_ab_participants.info()"
   ]
  },
  {
   "cell_type": "code",
   "execution_count": 24,
   "id": "112b89e5",
   "metadata": {},
   "outputs": [
    {
     "data": {
      "text/plain": [
       "user_id    0\n",
       "group      0\n",
       "ab_test    0\n",
       "dtype: int64"
      ]
     },
     "execution_count": 24,
     "metadata": {},
     "output_type": "execute_result"
    }
   ],
   "source": [
    "# проверим на пропуски\n",
    "final_ab_participants.isna().sum()"
   ]
  },
  {
   "cell_type": "code",
   "execution_count": 25,
   "id": "13d8452b",
   "metadata": {},
   "outputs": [
    {
     "data": {
      "text/plain": [
       "0"
      ]
     },
     "execution_count": 25,
     "metadata": {},
     "output_type": "execute_result"
    }
   ],
   "source": [
    "# проверим на дубликаты\n",
    "final_ab_participants.duplicated().sum()"
   ]
  },
  {
   "cell_type": "code",
   "execution_count": 26,
   "id": "cacbd9f8",
   "metadata": {},
   "outputs": [
    {
     "data": {
      "text/plain": [
       "user_id    16666\n",
       "group          2\n",
       "ab_test        2\n",
       "dtype: int64"
      ]
     },
     "execution_count": 26,
     "metadata": {},
     "output_type": "execute_result"
    }
   ],
   "source": [
    "# подсчитаем число уникальных значений\n",
    "final_ab_participants.nunique()"
   ]
  },
  {
   "cell_type": "markdown",
   "id": "fe92a948",
   "metadata": {},
   "source": [
    "Мы загрузили файл и проверили его на пропуски и дубликаты. В файле 18268 записей и 16666 уникальных пользователя. Это значит, что часть пользователей (1602) принимает участие в обоих тестах. "
   ]
  },
  {
   "cell_type": "markdown",
   "id": "1e38b876",
   "metadata": {},
   "source": [
    " "
   ]
  },
  {
   "cell_type": "markdown",
   "id": "de07cb84",
   "metadata": {},
   "source": [
    "## Оценим корректность проведения теста:<a id=\"step4\"></a>\n",
    "\n",
    "* Соответствие данных требованиям технического задания. Проверьте корректность всех пунктов технического задания.\n",
    "* Время проведения теста. Убедитесь, что оно не совпадает с маркетинговыми и другими активностями.\n",
    "* Аудиторию теста. Удостоверьтесь, что нет пересечений с конкурирующим тестом и нет пользователей, участвующих в двух группах теста одновременно. Проверьте равномерность распределения по тестовым группам и правильность их формирования."
   ]
  },
  {
   "cell_type": "markdown",
   "id": "c5ea6b65",
   "metadata": {},
   "source": [
    "**Проверим наши данные на соответствие техническому заданию.**"
   ]
  },
  {
   "cell_type": "markdown",
   "id": "1261df3b",
   "metadata": {},
   "source": [
    "**Техническое задание**\n",
    "\n",
    "- Название теста: `recommender_system_test`;\n",
    "- группы: А — контрольная, B — новая платёжная воронка;\n",
    "- дата запуска: 2020-12-07;\n",
    "- дата остановки набора новых пользователей: 2020-12-21;\n",
    "- дата остановки: 2021-01-04;\n",
    "- аудитория: 15% новых пользователей из региона EU;\n",
    "- назначение теста: тестирование изменений, связанных с внедрением улучшенной рекомендательной системы;\n",
    "- ожидаемое количество участников теста: 6000.\n",
    "- ожидаемый эффект: за 14 дней с момента регистрации пользователи покажут улучшение каждой метрики не менее, чем на 10%:\n",
    "    - конверсии в просмотр карточек товаров — событие `product_page`,\n",
    "    - просмотры корзины — `product_cart`,\n",
    "    - покупки — `purchase`."
   ]
  },
  {
   "cell_type": "markdown",
   "id": "3e3aeb15",
   "metadata": {},
   "source": [
    " "
   ]
  },
  {
   "cell_type": "markdown",
   "id": "d574f933",
   "metadata": {},
   "source": [
    "**Проверим на соответствие даты запуска и остановки набора новых пользователей.**"
   ]
  },
  {
   "cell_type": "code",
   "execution_count": 27,
   "id": "573c389f",
   "metadata": {},
   "outputs": [
    {
     "data": {
      "text/plain": [
       "count                   61733\n",
       "unique                     17\n",
       "top       2020-12-21 00:00:00\n",
       "freq                     6290\n",
       "first     2020-12-07 00:00:00\n",
       "last      2020-12-23 00:00:00\n",
       "Name: first_date, dtype: object"
      ]
     },
     "execution_count": 27,
     "metadata": {},
     "output_type": "execute_result"
    }
   ],
   "source": [
    "final_ab_new_users['first_date'].describe()"
   ]
  },
  {
   "cell_type": "markdown",
   "id": "12ec7c7b",
   "metadata": {},
   "source": [
    "Дата начала совпадает, а дата конца на 2 дня больше.\n",
    "Удалим данные выходящие из указанного в задании временного диапазона."
   ]
  },
  {
   "cell_type": "code",
   "execution_count": 28,
   "id": "8fb9c21b",
   "metadata": {},
   "outputs": [],
   "source": [
    "final_ab_new_users_clin = final_ab_new_users.query('first_date >= \"2020-12-07\" and first_date <= \"2020-12-21\"')"
   ]
  },
  {
   "cell_type": "markdown",
   "id": "c1094b0c",
   "metadata": {},
   "source": [
    "Посмотрим на количество удаленных данных"
   ]
  },
  {
   "cell_type": "code",
   "execution_count": 29,
   "id": "0c981c64",
   "metadata": {},
   "outputs": [
    {
     "name": "stdout",
     "output_type": "stream",
     "text": [
      "Мы удалили 5263 записей. Что составляет 8.53% от общего значения.\n"
     ]
    }
   ],
   "source": [
    "print('Мы удалили {} записей. Что составляет {:,.2%} от общего значения.'\n",
    "      .format(len(final_ab_new_users) - len(final_ab_new_users_clin), \n",
    "             (len(final_ab_new_users) - len(final_ab_new_users_clin)) / len(final_ab_new_users)))"
   ]
  },
  {
   "cell_type": "markdown",
   "id": "e5137b2f",
   "metadata": {},
   "source": [
    "**Проверим условие: дата остановки теста: 2021-01-04**"
   ]
  },
  {
   "cell_type": "code",
   "execution_count": 30,
   "id": "713b89cb",
   "metadata": {},
   "outputs": [
    {
     "data": {
      "text/plain": [
       "count                  440317\n",
       "unique                 267268\n",
       "top       2020-12-14 18:54:55\n",
       "freq                       10\n",
       "first     2020-12-07 00:00:33\n",
       "last      2020-12-30 23:36:33\n",
       "Name: event_dt, dtype: object"
      ]
     },
     "execution_count": 30,
     "metadata": {},
     "output_type": "execute_result"
    }
   ],
   "source": [
    "final_ab_events['event_dt'].describe()"
   ]
  },
  {
   "cell_type": "markdown",
   "id": "3f611866",
   "metadata": {},
   "source": [
    "Здесь представлен временной промежуток с 07.12.2020 по 30.12.2020. Это на 4 дня меньше, чем написано в техзадании. Очевидно из-за новогодних праздников логи событий с 31.12.2020 по 04.01.2021 не были записаны.\n",
    "Оставляем как есть."
   ]
  },
  {
   "cell_type": "markdown",
   "id": "ca8ba15f",
   "metadata": {},
   "source": [
    "Получается, что часть пользователей не проживут положенного срока в 14 дней и их придется удалить."
   ]
  },
  {
   "cell_type": "markdown",
   "id": "aae668e6",
   "metadata": {},
   "source": [
    "**Проверим наших пользователей на лайфтайм равный 14 дням и удалим лишнее.**"
   ]
  },
  {
   "cell_type": "markdown",
   "id": "7a3bd4f1",
   "metadata": {},
   "source": [
    "Объединим два датафрейма. Получим датафрейм с данными о пользователях которые совершали какие-то действия. Пользователи зарегистрировшиеся, но не совершавшие действия, будут удалены."
   ]
  },
  {
   "cell_type": "code",
   "execution_count": 31,
   "id": "8b194355",
   "metadata": {},
   "outputs": [],
   "source": [
    "# объединим два датафрейма\n",
    "users = final_ab_events.merge(final_ab_new_users_clin, on='user_id')\n",
    "\n",
    "# заведем новый столбец\n",
    "users['life_time'] = (users['event_dt'] - users['first_date']).round('D')\n",
    "\n",
    "# посчитаем количество уникальных пользователей\n",
    "size_users_old = len(users.groupby('user_id').nunique())"
   ]
  },
  {
   "cell_type": "code",
   "execution_count": 32,
   "id": "409e6bf9",
   "metadata": {},
   "outputs": [
    {
     "data": {
      "text/html": [
       "<div>\n",
       "<style scoped>\n",
       "    .dataframe tbody tr th:only-of-type {\n",
       "        vertical-align: middle;\n",
       "    }\n",
       "\n",
       "    .dataframe tbody tr th {\n",
       "        vertical-align: top;\n",
       "    }\n",
       "\n",
       "    .dataframe thead th {\n",
       "        text-align: right;\n",
       "    }\n",
       "</style>\n",
       "<table border=\"1\" class=\"dataframe\">\n",
       "  <thead>\n",
       "    <tr style=\"text-align: right;\">\n",
       "      <th></th>\n",
       "      <th>user_id</th>\n",
       "      <th>event_dt</th>\n",
       "      <th>event_name</th>\n",
       "      <th>details</th>\n",
       "      <th>first_date</th>\n",
       "      <th>region</th>\n",
       "      <th>device</th>\n",
       "      <th>life_time</th>\n",
       "    </tr>\n",
       "  </thead>\n",
       "  <tbody>\n",
       "    <tr>\n",
       "      <th>0</th>\n",
       "      <td>E1BDDCE0DAFA2679</td>\n",
       "      <td>2020-12-07 20:22:03</td>\n",
       "      <td>purchase</td>\n",
       "      <td>99.99</td>\n",
       "      <td>2020-12-07</td>\n",
       "      <td>N.America</td>\n",
       "      <td>iPhone</td>\n",
       "      <td>1 days</td>\n",
       "    </tr>\n",
       "    <tr>\n",
       "      <th>1</th>\n",
       "      <td>E1BDDCE0DAFA2679</td>\n",
       "      <td>2020-12-09 06:21:35</td>\n",
       "      <td>purchase</td>\n",
       "      <td>9.99</td>\n",
       "      <td>2020-12-07</td>\n",
       "      <td>N.America</td>\n",
       "      <td>iPhone</td>\n",
       "      <td>2 days</td>\n",
       "    </tr>\n",
       "    <tr>\n",
       "      <th>3</th>\n",
       "      <td>E1BDDCE0DAFA2679</td>\n",
       "      <td>2020-12-07 20:22:03</td>\n",
       "      <td>login</td>\n",
       "      <td>NaN</td>\n",
       "      <td>2020-12-07</td>\n",
       "      <td>N.America</td>\n",
       "      <td>iPhone</td>\n",
       "      <td>1 days</td>\n",
       "    </tr>\n",
       "    <tr>\n",
       "      <th>4</th>\n",
       "      <td>E1BDDCE0DAFA2679</td>\n",
       "      <td>2020-12-09 06:21:35</td>\n",
       "      <td>login</td>\n",
       "      <td>NaN</td>\n",
       "      <td>2020-12-07</td>\n",
       "      <td>N.America</td>\n",
       "      <td>iPhone</td>\n",
       "      <td>2 days</td>\n",
       "    </tr>\n",
       "    <tr>\n",
       "      <th>6</th>\n",
       "      <td>7B6452F081F49504</td>\n",
       "      <td>2020-12-07 09:22:53</td>\n",
       "      <td>purchase</td>\n",
       "      <td>9.99</td>\n",
       "      <td>2020-12-07</td>\n",
       "      <td>EU</td>\n",
       "      <td>iPhone</td>\n",
       "      <td>0 days</td>\n",
       "    </tr>\n",
       "    <tr>\n",
       "      <th>...</th>\n",
       "      <td>...</td>\n",
       "      <td>...</td>\n",
       "      <td>...</td>\n",
       "      <td>...</td>\n",
       "      <td>...</td>\n",
       "      <td>...</td>\n",
       "      <td>...</td>\n",
       "      <td>...</td>\n",
       "    </tr>\n",
       "    <tr>\n",
       "      <th>407742</th>\n",
       "      <td>FE2F3BFF12E5AB13</td>\n",
       "      <td>2020-12-21 09:42:43</td>\n",
       "      <td>login</td>\n",
       "      <td>NaN</td>\n",
       "      <td>2020-12-21</td>\n",
       "      <td>EU</td>\n",
       "      <td>Mac</td>\n",
       "      <td>0 days</td>\n",
       "    </tr>\n",
       "    <tr>\n",
       "      <th>407743</th>\n",
       "      <td>FE2F3BFF12E5AB13</td>\n",
       "      <td>2020-12-23 10:19:10</td>\n",
       "      <td>login</td>\n",
       "      <td>NaN</td>\n",
       "      <td>2020-12-21</td>\n",
       "      <td>EU</td>\n",
       "      <td>Mac</td>\n",
       "      <td>2 days</td>\n",
       "    </tr>\n",
       "    <tr>\n",
       "      <th>407744</th>\n",
       "      <td>FE2F3BFF12E5AB13</td>\n",
       "      <td>2020-12-24 09:28:54</td>\n",
       "      <td>login</td>\n",
       "      <td>NaN</td>\n",
       "      <td>2020-12-21</td>\n",
       "      <td>EU</td>\n",
       "      <td>Mac</td>\n",
       "      <td>3 days</td>\n",
       "    </tr>\n",
       "    <tr>\n",
       "      <th>407745</th>\n",
       "      <td>7836B9BF6BC33911</td>\n",
       "      <td>2020-12-21 19:49:46</td>\n",
       "      <td>login</td>\n",
       "      <td>NaN</td>\n",
       "      <td>2020-12-21</td>\n",
       "      <td>EU</td>\n",
       "      <td>Android</td>\n",
       "      <td>1 days</td>\n",
       "    </tr>\n",
       "    <tr>\n",
       "      <th>407746</th>\n",
       "      <td>7836B9BF6BC33911</td>\n",
       "      <td>2020-12-24 06:56:08</td>\n",
       "      <td>login</td>\n",
       "      <td>NaN</td>\n",
       "      <td>2020-12-21</td>\n",
       "      <td>EU</td>\n",
       "      <td>Android</td>\n",
       "      <td>3 days</td>\n",
       "    </tr>\n",
       "  </tbody>\n",
       "</table>\n",
       "<p>384765 rows × 8 columns</p>\n",
       "</div>"
      ],
      "text/plain": [
       "                 user_id            event_dt event_name  details first_date  \\\n",
       "0       E1BDDCE0DAFA2679 2020-12-07 20:22:03   purchase    99.99 2020-12-07   \n",
       "1       E1BDDCE0DAFA2679 2020-12-09 06:21:35   purchase     9.99 2020-12-07   \n",
       "3       E1BDDCE0DAFA2679 2020-12-07 20:22:03      login      NaN 2020-12-07   \n",
       "4       E1BDDCE0DAFA2679 2020-12-09 06:21:35      login      NaN 2020-12-07   \n",
       "6       7B6452F081F49504 2020-12-07 09:22:53   purchase     9.99 2020-12-07   \n",
       "...                  ...                 ...        ...      ...        ...   \n",
       "407742  FE2F3BFF12E5AB13 2020-12-21 09:42:43      login      NaN 2020-12-21   \n",
       "407743  FE2F3BFF12E5AB13 2020-12-23 10:19:10      login      NaN 2020-12-21   \n",
       "407744  FE2F3BFF12E5AB13 2020-12-24 09:28:54      login      NaN 2020-12-21   \n",
       "407745  7836B9BF6BC33911 2020-12-21 19:49:46      login      NaN 2020-12-21   \n",
       "407746  7836B9BF6BC33911 2020-12-24 06:56:08      login      NaN 2020-12-21   \n",
       "\n",
       "           region   device life_time  \n",
       "0       N.America   iPhone    1 days  \n",
       "1       N.America   iPhone    2 days  \n",
       "3       N.America   iPhone    1 days  \n",
       "4       N.America   iPhone    2 days  \n",
       "6              EU   iPhone    0 days  \n",
       "...           ...      ...       ...  \n",
       "407742         EU      Mac    0 days  \n",
       "407743         EU      Mac    2 days  \n",
       "407744         EU      Mac    3 days  \n",
       "407745         EU  Android    1 days  \n",
       "407746         EU  Android    3 days  \n",
       "\n",
       "[384765 rows x 8 columns]"
      ]
     },
     "execution_count": 32,
     "metadata": {},
     "output_type": "execute_result"
    }
   ],
   "source": [
    "# удалим данные превышающие наш lifetime\n",
    "users = users[users['life_time'] < '14 days']\n",
    "\n",
    "# посчитаем количество уникальных пользователей\n",
    "size_users = len(users.groupby('user_id').nunique())\n",
    "\n",
    "users"
   ]
  },
  {
   "cell_type": "markdown",
   "id": "3c731353",
   "metadata": {},
   "source": [
    "Оценим объем удаленных данных"
   ]
  },
  {
   "cell_type": "code",
   "execution_count": 33,
   "id": "d119adab",
   "metadata": {},
   "outputs": [
    {
     "name": "stdout",
     "output_type": "stream",
     "text": [
      "В датафрейме 53429 уникальных пользователя.\n",
      "Мы удалили 11 записей. Это 0.02% от общего.\n"
     ]
    }
   ],
   "source": [
    "print('В датафрейме {} уникальных пользователя.'.format(size_users))\n",
    "print('Мы удалили {} записей. Это {:.2%} от общего.'.format(size_users_old - size_users, \n",
    "                                                       (size_users_old - size_users) / size_users_old))"
   ]
  },
  {
   "cell_type": "markdown",
   "id": "8973dfbf",
   "metadata": {},
   "source": [
    "**Проверим пересечение нашего теста с маркетинговыми событиями.**"
   ]
  },
  {
   "cell_type": "code",
   "execution_count": 34,
   "id": "e7e12052",
   "metadata": {},
   "outputs": [
    {
     "data": {
      "text/html": [
       "<div>\n",
       "<style scoped>\n",
       "    .dataframe tbody tr th:only-of-type {\n",
       "        vertical-align: middle;\n",
       "    }\n",
       "\n",
       "    .dataframe tbody tr th {\n",
       "        vertical-align: top;\n",
       "    }\n",
       "\n",
       "    .dataframe thead th {\n",
       "        text-align: right;\n",
       "    }\n",
       "</style>\n",
       "<table border=\"1\" class=\"dataframe\">\n",
       "  <thead>\n",
       "    <tr style=\"text-align: right;\">\n",
       "      <th></th>\n",
       "      <th>name</th>\n",
       "      <th>regions</th>\n",
       "      <th>start_dt</th>\n",
       "      <th>finish_dt</th>\n",
       "    </tr>\n",
       "  </thead>\n",
       "  <tbody>\n",
       "    <tr>\n",
       "      <th>6</th>\n",
       "      <td>Chinese New Year Promo</td>\n",
       "      <td>APAC</td>\n",
       "      <td>2020-01-25</td>\n",
       "      <td>2020-02-07</td>\n",
       "    </tr>\n",
       "    <tr>\n",
       "      <th>1</th>\n",
       "      <td>St. Valentine's Day Giveaway</td>\n",
       "      <td>EU, CIS, APAC, N.America</td>\n",
       "      <td>2020-02-14</td>\n",
       "      <td>2020-02-16</td>\n",
       "    </tr>\n",
       "    <tr>\n",
       "      <th>8</th>\n",
       "      <td>International Women's Day Promo</td>\n",
       "      <td>EU, CIS, APAC</td>\n",
       "      <td>2020-03-08</td>\n",
       "      <td>2020-03-10</td>\n",
       "    </tr>\n",
       "    <tr>\n",
       "      <th>2</th>\n",
       "      <td>St. Patric's Day Promo</td>\n",
       "      <td>EU, N.America</td>\n",
       "      <td>2020-03-17</td>\n",
       "      <td>2020-03-19</td>\n",
       "    </tr>\n",
       "    <tr>\n",
       "      <th>3</th>\n",
       "      <td>Easter Promo</td>\n",
       "      <td>EU, CIS, APAC, N.America</td>\n",
       "      <td>2020-04-12</td>\n",
       "      <td>2020-04-19</td>\n",
       "    </tr>\n",
       "    <tr>\n",
       "      <th>7</th>\n",
       "      <td>Labor day (May 1st) Ads Campaign</td>\n",
       "      <td>EU, CIS, APAC</td>\n",
       "      <td>2020-05-01</td>\n",
       "      <td>2020-05-03</td>\n",
       "    </tr>\n",
       "    <tr>\n",
       "      <th>9</th>\n",
       "      <td>Victory Day CIS (May 9th) Event</td>\n",
       "      <td>CIS</td>\n",
       "      <td>2020-05-09</td>\n",
       "      <td>2020-05-11</td>\n",
       "    </tr>\n",
       "    <tr>\n",
       "      <th>11</th>\n",
       "      <td>Dragon Boat Festival Giveaway</td>\n",
       "      <td>APAC</td>\n",
       "      <td>2020-06-25</td>\n",
       "      <td>2020-07-01</td>\n",
       "    </tr>\n",
       "    <tr>\n",
       "      <th>4</th>\n",
       "      <td>4th of July Promo</td>\n",
       "      <td>N.America</td>\n",
       "      <td>2020-07-04</td>\n",
       "      <td>2020-07-11</td>\n",
       "    </tr>\n",
       "    <tr>\n",
       "      <th>13</th>\n",
       "      <td>Chinese Moon Festival</td>\n",
       "      <td>APAC</td>\n",
       "      <td>2020-10-01</td>\n",
       "      <td>2020-10-07</td>\n",
       "    </tr>\n",
       "    <tr>\n",
       "      <th>12</th>\n",
       "      <td>Single's Day Gift Promo</td>\n",
       "      <td>APAC</td>\n",
       "      <td>2020-11-11</td>\n",
       "      <td>2020-11-12</td>\n",
       "    </tr>\n",
       "    <tr>\n",
       "      <th>5</th>\n",
       "      <td>Black Friday Ads Campaign</td>\n",
       "      <td>EU, CIS, APAC, N.America</td>\n",
       "      <td>2020-11-26</td>\n",
       "      <td>2020-12-01</td>\n",
       "    </tr>\n",
       "    <tr>\n",
       "      <th>0</th>\n",
       "      <td>Christmas&amp;New Year Promo</td>\n",
       "      <td>EU, N.America</td>\n",
       "      <td>2020-12-25</td>\n",
       "      <td>2021-01-03</td>\n",
       "    </tr>\n",
       "    <tr>\n",
       "      <th>10</th>\n",
       "      <td>CIS New Year Gift Lottery</td>\n",
       "      <td>CIS</td>\n",
       "      <td>2020-12-30</td>\n",
       "      <td>2021-01-07</td>\n",
       "    </tr>\n",
       "  </tbody>\n",
       "</table>\n",
       "</div>"
      ],
      "text/plain": [
       "                                name                   regions   start_dt  \\\n",
       "6             Chinese New Year Promo                      APAC 2020-01-25   \n",
       "1       St. Valentine's Day Giveaway  EU, CIS, APAC, N.America 2020-02-14   \n",
       "8    International Women's Day Promo             EU, CIS, APAC 2020-03-08   \n",
       "2             St. Patric's Day Promo             EU, N.America 2020-03-17   \n",
       "3                       Easter Promo  EU, CIS, APAC, N.America 2020-04-12   \n",
       "7   Labor day (May 1st) Ads Campaign             EU, CIS, APAC 2020-05-01   \n",
       "9    Victory Day CIS (May 9th) Event                       CIS 2020-05-09   \n",
       "11     Dragon Boat Festival Giveaway                      APAC 2020-06-25   \n",
       "4                  4th of July Promo                 N.America 2020-07-04   \n",
       "13             Chinese Moon Festival                      APAC 2020-10-01   \n",
       "12           Single's Day Gift Promo                      APAC 2020-11-11   \n",
       "5          Black Friday Ads Campaign  EU, CIS, APAC, N.America 2020-11-26   \n",
       "0           Christmas&New Year Promo             EU, N.America 2020-12-25   \n",
       "10         CIS New Year Gift Lottery                       CIS 2020-12-30   \n",
       "\n",
       "    finish_dt  \n",
       "6  2020-02-07  \n",
       "1  2020-02-16  \n",
       "8  2020-03-10  \n",
       "2  2020-03-19  \n",
       "3  2020-04-19  \n",
       "7  2020-05-03  \n",
       "9  2020-05-11  \n",
       "11 2020-07-01  \n",
       "4  2020-07-11  \n",
       "13 2020-10-07  \n",
       "12 2020-11-12  \n",
       "5  2020-12-01  \n",
       "0  2021-01-03  \n",
       "10 2021-01-07  "
      ]
     },
     "execution_count": 34,
     "metadata": {},
     "output_type": "execute_result"
    }
   ],
   "source": [
    "ab_project_marketing_events.sort_values('start_dt')"
   ]
  },
  {
   "cell_type": "markdown",
   "id": "406fdaba",
   "metadata": {},
   "source": [
    "В наш тест попадают два маркетинговых события - `Christmas&New Year Promo` и `CIS New Year Gift Lottery`. Посмотрим как это повлияло  на активность пользователей. Событие `CIS New Year Gift Lottery` проходит в регионе CIS где очень мало наших клиентов и затрагивает только 1 день нашего теста, так что его можно не принимать в расчет. Событие  `Christmas&New Year Promo` может повлиять на наш тест. Оно проходит в регионе, где больше всего наших клиентов и включает последние 5 дней нашего теста."
   ]
  },
  {
   "cell_type": "markdown",
   "id": "2a1dd197",
   "metadata": {},
   "source": [
    "**Проверим группы А и В на пересечение пользователей.**"
   ]
  },
  {
   "cell_type": "code",
   "execution_count": 35,
   "id": "8ffaacbc",
   "metadata": {},
   "outputs": [
    {
     "data": {
      "text/plain": [
       "interface_eu_test          11567\n",
       "recommender_system_test     6701\n",
       "Name: ab_test, dtype: int64"
      ]
     },
     "execution_count": 35,
     "metadata": {},
     "output_type": "execute_result"
    }
   ],
   "source": [
    "# посмотрим на состав группы\n",
    "final_ab_participants['ab_test'].value_counts()"
   ]
  },
  {
   "cell_type": "code",
   "execution_count": 36,
   "id": "de77739c",
   "metadata": {},
   "outputs": [
    {
     "name": "stdout",
     "output_type": "stream",
     "text": [
      "В файле представлены данные 18268 пользователей, 16666 из них уникальны.\n"
     ]
    }
   ],
   "source": [
    "# сравним с количеством уникальных пользователей\n",
    "print('В файле представлены данные {} пользователей, {} из них уникальны.'\n",
    "      .format(len(final_ab_participants['user_id']), final_ab_participants['user_id'].nunique()))"
   ]
  },
  {
   "cell_type": "markdown",
   "id": "13f8f409",
   "metadata": {},
   "source": [
    "Оценим объем данных подлежищих удалению."
   ]
  },
  {
   "cell_type": "markdown",
   "id": "e66b9e6d",
   "metadata": {},
   "source": [
    "Мы выяснили, что 1602 пользователя принимают участие в обоих тестах. Для нас важна чистота группы В в нашем тесте, т.к. если они попали только в контрольную группу (А) - это значит, что тест interface_eu_test никак на них не повлиял. Оценим количество пользователей участвующих в обоих тестах и находящихся в группе В , для их последующего удаления. "
   ]
  },
  {
   "cell_type": "code",
   "execution_count": 37,
   "id": "084a6342",
   "metadata": {},
   "outputs": [
    {
     "name": "stdout",
     "output_type": "stream",
     "text": [
      "Число пользователей теста recommender_system_test - 6701\n",
      "Число пользователей теста recommender_system_test после удаления  6357\n",
      "Мы удалили - 5.1% данных\n"
     ]
    }
   ],
   "source": [
    "# посчитаем пользователей кто участвовал в interface_eu_test\n",
    "user_recommender_system_test = final_ab_participants.query('ab_test == \"recommender_system_test\" ')['user_id'].nunique()\n",
    "\n",
    "# создадим список пользователей состоящих в обоих тестах в группе В\n",
    "mask_B = (final_ab_participants.query('group == \"B\"')\n",
    "                               .groupby('user_id')\n",
    "                               .agg({'ab_test' : 'nunique'})\n",
    "                               .query('ab_test == 2')\n",
    "                               .reset_index())\n",
    "#mask = final_ab_participants.groupby('user_id').agg({'ab_test' : 'nunique'}).query('ab_test == 2').reset_index()\n",
    "mask_list = mask_B['user_id'].tolist()\n",
    "\n",
    "# удаляем пресекающиеся данные\n",
    "final_ab_participants_test = final_ab_participants.query('ab_test == \"recommender_system_test\"')\n",
    "final_ab_participants_clin = final_ab_participants_test.query('user_id != @mask_list')\n",
    "# посчитаем число пользователей после удаления\n",
    "temp = len(final_ab_participants_clin.groupby('user_id')['user_id'].nunique())\n",
    "\n",
    "print('Число пользователей теста recommender_system_test -', user_recommender_system_test)\n",
    "print('Число пользователей теста recommender_system_test после удаления ', temp)\n",
    "print('Мы удалили - {:.1%} данных'.format((user_recommender_system_test - temp) / user_recommender_system_test))"
   ]
  },
  {
   "cell_type": "markdown",
   "id": "a4361624",
   "metadata": {},
   "source": [
    "Объединим фатафреймы и посмотрим на распределение в нем."
   ]
  },
  {
   "cell_type": "code",
   "execution_count": 38,
   "id": "4290adf8",
   "metadata": {},
   "outputs": [
    {
     "data": {
      "text/html": [
       "<div>\n",
       "<style scoped>\n",
       "    .dataframe tbody tr th:only-of-type {\n",
       "        vertical-align: middle;\n",
       "    }\n",
       "\n",
       "    .dataframe tbody tr th {\n",
       "        vertical-align: top;\n",
       "    }\n",
       "\n",
       "    .dataframe thead th {\n",
       "        text-align: right;\n",
       "    }\n",
       "</style>\n",
       "<table border=\"1\" class=\"dataframe\">\n",
       "  <thead>\n",
       "    <tr style=\"text-align: right;\">\n",
       "      <th></th>\n",
       "      <th>user_id</th>\n",
       "      <th>group</th>\n",
       "      <th>ab_test</th>\n",
       "      <th>event_dt</th>\n",
       "      <th>event_name</th>\n",
       "      <th>details</th>\n",
       "      <th>first_date</th>\n",
       "      <th>region</th>\n",
       "      <th>device</th>\n",
       "      <th>life_time</th>\n",
       "    </tr>\n",
       "  </thead>\n",
       "  <tbody>\n",
       "    <tr>\n",
       "      <th>0</th>\n",
       "      <td>D1ABA3E2887B6A73</td>\n",
       "      <td>A</td>\n",
       "      <td>recommender_system_test</td>\n",
       "      <td>2020-12-07 14:43:27</td>\n",
       "      <td>purchase</td>\n",
       "      <td>99.99</td>\n",
       "      <td>2020-12-07</td>\n",
       "      <td>EU</td>\n",
       "      <td>PC</td>\n",
       "      <td>1 days</td>\n",
       "    </tr>\n",
       "    <tr>\n",
       "      <th>1</th>\n",
       "      <td>D1ABA3E2887B6A73</td>\n",
       "      <td>A</td>\n",
       "      <td>recommender_system_test</td>\n",
       "      <td>2020-12-07 14:43:29</td>\n",
       "      <td>product_cart</td>\n",
       "      <td>NaN</td>\n",
       "      <td>2020-12-07</td>\n",
       "      <td>EU</td>\n",
       "      <td>PC</td>\n",
       "      <td>1 days</td>\n",
       "    </tr>\n",
       "    <tr>\n",
       "      <th>2</th>\n",
       "      <td>D1ABA3E2887B6A73</td>\n",
       "      <td>A</td>\n",
       "      <td>recommender_system_test</td>\n",
       "      <td>2020-12-07 14:43:27</td>\n",
       "      <td>product_page</td>\n",
       "      <td>NaN</td>\n",
       "      <td>2020-12-07</td>\n",
       "      <td>EU</td>\n",
       "      <td>PC</td>\n",
       "      <td>1 days</td>\n",
       "    </tr>\n",
       "    <tr>\n",
       "      <th>3</th>\n",
       "      <td>D1ABA3E2887B6A73</td>\n",
       "      <td>A</td>\n",
       "      <td>recommender_system_test</td>\n",
       "      <td>2020-12-07 14:43:27</td>\n",
       "      <td>login</td>\n",
       "      <td>NaN</td>\n",
       "      <td>2020-12-07</td>\n",
       "      <td>EU</td>\n",
       "      <td>PC</td>\n",
       "      <td>1 days</td>\n",
       "    </tr>\n",
       "    <tr>\n",
       "      <th>4</th>\n",
       "      <td>A7A3664BD6242119</td>\n",
       "      <td>A</td>\n",
       "      <td>recommender_system_test</td>\n",
       "      <td>2020-12-20 15:46:06</td>\n",
       "      <td>product_page</td>\n",
       "      <td>NaN</td>\n",
       "      <td>2020-12-20</td>\n",
       "      <td>EU</td>\n",
       "      <td>iPhone</td>\n",
       "      <td>1 days</td>\n",
       "    </tr>\n",
       "    <tr>\n",
       "      <th>...</th>\n",
       "      <td>...</td>\n",
       "      <td>...</td>\n",
       "      <td>...</td>\n",
       "      <td>...</td>\n",
       "      <td>...</td>\n",
       "      <td>...</td>\n",
       "      <td>...</td>\n",
       "      <td>...</td>\n",
       "      <td>...</td>\n",
       "      <td>...</td>\n",
       "    </tr>\n",
       "    <tr>\n",
       "      <th>23070</th>\n",
       "      <td>6715343AFBA285AE</td>\n",
       "      <td>B</td>\n",
       "      <td>recommender_system_test</td>\n",
       "      <td>2020-12-07 10:12:15</td>\n",
       "      <td>login</td>\n",
       "      <td>NaN</td>\n",
       "      <td>2020-12-07</td>\n",
       "      <td>CIS</td>\n",
       "      <td>Android</td>\n",
       "      <td>0 days</td>\n",
       "    </tr>\n",
       "    <tr>\n",
       "      <th>23071</th>\n",
       "      <td>6715343AFBA285AE</td>\n",
       "      <td>B</td>\n",
       "      <td>recommender_system_test</td>\n",
       "      <td>2020-12-08 22:51:16</td>\n",
       "      <td>login</td>\n",
       "      <td>NaN</td>\n",
       "      <td>2020-12-07</td>\n",
       "      <td>CIS</td>\n",
       "      <td>Android</td>\n",
       "      <td>2 days</td>\n",
       "    </tr>\n",
       "    <tr>\n",
       "      <th>23072</th>\n",
       "      <td>6715343AFBA285AE</td>\n",
       "      <td>B</td>\n",
       "      <td>recommender_system_test</td>\n",
       "      <td>2020-12-09 02:28:03</td>\n",
       "      <td>login</td>\n",
       "      <td>NaN</td>\n",
       "      <td>2020-12-07</td>\n",
       "      <td>CIS</td>\n",
       "      <td>Android</td>\n",
       "      <td>2 days</td>\n",
       "    </tr>\n",
       "    <tr>\n",
       "      <th>23073</th>\n",
       "      <td>6715343AFBA285AE</td>\n",
       "      <td>B</td>\n",
       "      <td>recommender_system_test</td>\n",
       "      <td>2020-12-10 22:55:14</td>\n",
       "      <td>login</td>\n",
       "      <td>NaN</td>\n",
       "      <td>2020-12-07</td>\n",
       "      <td>CIS</td>\n",
       "      <td>Android</td>\n",
       "      <td>4 days</td>\n",
       "    </tr>\n",
       "    <tr>\n",
       "      <th>23074</th>\n",
       "      <td>6715343AFBA285AE</td>\n",
       "      <td>B</td>\n",
       "      <td>recommender_system_test</td>\n",
       "      <td>2020-12-14 12:40:41</td>\n",
       "      <td>login</td>\n",
       "      <td>NaN</td>\n",
       "      <td>2020-12-07</td>\n",
       "      <td>CIS</td>\n",
       "      <td>Android</td>\n",
       "      <td>8 days</td>\n",
       "    </tr>\n",
       "  </tbody>\n",
       "</table>\n",
       "<p>23075 rows × 10 columns</p>\n",
       "</div>"
      ],
      "text/plain": [
       "                user_id group                  ab_test            event_dt  \\\n",
       "0      D1ABA3E2887B6A73     A  recommender_system_test 2020-12-07 14:43:27   \n",
       "1      D1ABA3E2887B6A73     A  recommender_system_test 2020-12-07 14:43:29   \n",
       "2      D1ABA3E2887B6A73     A  recommender_system_test 2020-12-07 14:43:27   \n",
       "3      D1ABA3E2887B6A73     A  recommender_system_test 2020-12-07 14:43:27   \n",
       "4      A7A3664BD6242119     A  recommender_system_test 2020-12-20 15:46:06   \n",
       "...                 ...   ...                      ...                 ...   \n",
       "23070  6715343AFBA285AE     B  recommender_system_test 2020-12-07 10:12:15   \n",
       "23071  6715343AFBA285AE     B  recommender_system_test 2020-12-08 22:51:16   \n",
       "23072  6715343AFBA285AE     B  recommender_system_test 2020-12-09 02:28:03   \n",
       "23073  6715343AFBA285AE     B  recommender_system_test 2020-12-10 22:55:14   \n",
       "23074  6715343AFBA285AE     B  recommender_system_test 2020-12-14 12:40:41   \n",
       "\n",
       "         event_name  details first_date region   device life_time  \n",
       "0          purchase    99.99 2020-12-07     EU       PC    1 days  \n",
       "1      product_cart      NaN 2020-12-07     EU       PC    1 days  \n",
       "2      product_page      NaN 2020-12-07     EU       PC    1 days  \n",
       "3             login      NaN 2020-12-07     EU       PC    1 days  \n",
       "4      product_page      NaN 2020-12-20     EU   iPhone    1 days  \n",
       "...             ...      ...        ...    ...      ...       ...  \n",
       "23070         login      NaN 2020-12-07    CIS  Android    0 days  \n",
       "23071         login      NaN 2020-12-07    CIS  Android    2 days  \n",
       "23072         login      NaN 2020-12-07    CIS  Android    2 days  \n",
       "23073         login      NaN 2020-12-07    CIS  Android    4 days  \n",
       "23074         login      NaN 2020-12-07    CIS  Android    8 days  \n",
       "\n",
       "[23075 rows x 10 columns]"
      ]
     },
     "execution_count": 38,
     "metadata": {},
     "output_type": "execute_result"
    }
   ],
   "source": [
    "data = final_ab_participants_clin.merge(users, on='user_id')\n",
    "data"
   ]
  },
  {
   "cell_type": "code",
   "execution_count": 39,
   "id": "e2fe64b3",
   "metadata": {},
   "outputs": [
    {
     "data": {
      "text/plain": [
       "3569"
      ]
     },
     "execution_count": 39,
     "metadata": {},
     "output_type": "execute_result"
    }
   ],
   "source": [
    "data['user_id'].nunique()"
   ]
  },
  {
   "cell_type": "code",
   "execution_count": 40,
   "id": "0a0c4ab7",
   "metadata": {},
   "outputs": [
    {
     "data": {
      "text/plain": [
       "group\n",
       "A    2747\n",
       "B     822\n",
       "Name: user_id, dtype: int64"
      ]
     },
     "execution_count": 40,
     "metadata": {},
     "output_type": "execute_result"
    }
   ],
   "source": [
    "# посмотрим на распределение по группам\n",
    "data.groupby('group')['user_id'].nunique()\n"
   ]
  },
  {
   "cell_type": "markdown",
   "id": "08fa00c4",
   "metadata": {},
   "source": [
    "Группы распределены неравномерно. В группах А и В нет пересекающихся пользователей. После объединения датафреймов у нас количество участников в тесте снизилось с 6357 до 3569, в 1.8 раза. Очевидно, что большая часть участников теста были зарегистрированы, но не совершали никаких действий, поэтому и не вошли в итоговый датафрейм."
   ]
  },
  {
   "cell_type": "markdown",
   "id": "a838287d",
   "metadata": {},
   "source": [
    "**Проверим аудиторию.** \n",
    "\n",
    "По условию 15%  новых пользователей должны быть из региона EU."
   ]
  },
  {
   "cell_type": "markdown",
   "id": "a9bbe3cc",
   "metadata": {},
   "source": [
    "Посчитаем долю новых пользователей из EU."
   ]
  },
  {
   "cell_type": "code",
   "execution_count": 41,
   "id": "258d34be",
   "metadata": {},
   "outputs": [
    {
     "name": "stdout",
     "output_type": "stream",
     "text": [
      "Всего новых пользователей 56470. Пользователей из EU участвующих в тесте 6351. Это 11.2% от общего количества.\n"
     ]
    }
   ],
   "source": [
    "# возьмем отфильтрованные по дате данные о новых пользователях и отфильтруем их по региону\n",
    "final_ab_new_users_clin_EU = final_ab_new_users_clin.query('region == \"EU\"')\n",
    "\n",
    "# выделим участников теста recommender_system_test\n",
    "user_recommender_system_test = final_ab_participants.query('ab_test == \"recommender_system_test\" ')\n",
    "\n",
    "# объединим их\n",
    "users_merge = user_recommender_system_test.merge(final_ab_new_users_clin_EU, on='user_id')\n",
    "\n",
    "# посчитаем количество пользователей\n",
    "temp_EU = users_merge['user_id'].nunique()\n",
    "\n",
    "# посчитаем всех новых пользователей\n",
    "temp_all = final_ab_new_users_clin['user_id'].nunique()\n",
    "\n",
    "print('Всего новых пользователей {}. Пользователей из EU участвующих в тесте {}. Это {:.1%} от общего количества.'\n",
    "      .format(temp_all, temp_EU, temp_EU / temp_all))"
   ]
  },
  {
   "cell_type": "markdown",
   "id": "cc24a4a8",
   "metadata": {},
   "source": [
    "Доля новых пользователей из региона EU в тесте ниже чем в техзадании."
   ]
  },
  {
   "cell_type": "markdown",
   "id": "6ba2f986",
   "metadata": {},
   "source": [
    "### Предварительный вывод"
   ]
  },
  {
   "cell_type": "markdown",
   "id": "cdf5981d",
   "metadata": {},
   "source": [
    "- группы: А - контрольная (2747), B - новая платёжная воронка (822). Группы распределены неравномерно. Всего в тесте принимает участие 3569 человек. Это в 1.7 раза меньше значения из техзадания. *Условие не соблюдено.*\n",
    "- дата запуска: 2020-12-07. *Условие соблюдено.*\n",
    "- дата остановки набора новых пользователей: 2020-12-21. После удаления лишних данных *условие соблюдено.*\n",
    "- дата остановки: 2021-01-04. Тест фактически заканчивается 2021-12-30. *Условие не соблюдено.*\n",
    "- аудитория: 15% новых пользователей из региона EU. Доля новых пользователей из EU составляет только 11.2%. Это меньше значения из техзадания. *Условие не соблюдено.*"
   ]
  },
  {
   "cell_type": "markdown",
   "id": "fe4f87ed",
   "metadata": {},
   "source": [
    " "
   ]
  },
  {
   "cell_type": "markdown",
   "id": "7c2a878a",
   "metadata": {},
   "source": [
    "## Исследовательский анализ данных<a id=\"step5\"></a>"
   ]
  },
  {
   "cell_type": "markdown",
   "id": "6157af9a",
   "metadata": {},
   "source": [
    " Проведем исследовательский анализ данных:\n",
    " \n",
    "* Количество событий на пользователя одинаково распределены в выборках?\n",
    "* Как число событий в выборках распределено по дням?\n",
    "* Как меняется конверсия в воронке в выборках на разных этапах?\n",
    "* Какие особенности данных нужно учесть, прежде чем приступать к A/B-тестированию?"
   ]
  },
  {
   "cell_type": "markdown",
   "id": "d86ecff1",
   "metadata": {},
   "source": [
    "**Количество событий на пользователя для каждой из групп.**"
   ]
  },
  {
   "cell_type": "code",
   "execution_count": 42,
   "id": "3d6ca2c0",
   "metadata": {},
   "outputs": [
    {
     "data": {
      "text/html": [
       "<div>\n",
       "<style scoped>\n",
       "    .dataframe tbody tr th:only-of-type {\n",
       "        vertical-align: middle;\n",
       "    }\n",
       "\n",
       "    .dataframe tbody tr th {\n",
       "        vertical-align: top;\n",
       "    }\n",
       "\n",
       "    .dataframe thead th {\n",
       "        text-align: right;\n",
       "    }\n",
       "</style>\n",
       "<table border=\"1\" class=\"dataframe\">\n",
       "  <thead>\n",
       "    <tr style=\"text-align: right;\">\n",
       "      <th></th>\n",
       "      <th>user_id</th>\n",
       "      <th>event_name</th>\n",
       "    </tr>\n",
       "  </thead>\n",
       "  <tbody>\n",
       "    <tr>\n",
       "      <th>0</th>\n",
       "      <td>0010A1C096941592</td>\n",
       "      <td>12</td>\n",
       "    </tr>\n",
       "    <tr>\n",
       "      <th>1</th>\n",
       "      <td>00341D8401F0F665</td>\n",
       "      <td>2</td>\n",
       "    </tr>\n",
       "    <tr>\n",
       "      <th>2</th>\n",
       "      <td>003DF44D7589BBD4</td>\n",
       "      <td>15</td>\n",
       "    </tr>\n",
       "    <tr>\n",
       "      <th>3</th>\n",
       "      <td>00505E15A9D81546</td>\n",
       "      <td>5</td>\n",
       "    </tr>\n",
       "    <tr>\n",
       "      <th>4</th>\n",
       "      <td>006E3E4E232CE760</td>\n",
       "      <td>6</td>\n",
       "    </tr>\n",
       "    <tr>\n",
       "      <th>...</th>\n",
       "      <td>...</td>\n",
       "      <td>...</td>\n",
       "    </tr>\n",
       "    <tr>\n",
       "      <th>2742</th>\n",
       "      <td>FF44696E39039D29</td>\n",
       "      <td>6</td>\n",
       "    </tr>\n",
       "    <tr>\n",
       "      <th>2743</th>\n",
       "      <td>FF5A1CD38F5DD996</td>\n",
       "      <td>10</td>\n",
       "    </tr>\n",
       "    <tr>\n",
       "      <th>2744</th>\n",
       "      <td>FF5B24BCE4387F86</td>\n",
       "      <td>9</td>\n",
       "    </tr>\n",
       "    <tr>\n",
       "      <th>2745</th>\n",
       "      <td>FF825C1D791989B5</td>\n",
       "      <td>8</td>\n",
       "    </tr>\n",
       "    <tr>\n",
       "      <th>2746</th>\n",
       "      <td>FFAE9489C76F352B</td>\n",
       "      <td>6</td>\n",
       "    </tr>\n",
       "  </tbody>\n",
       "</table>\n",
       "<p>2747 rows × 2 columns</p>\n",
       "</div>"
      ],
      "text/plain": [
       "               user_id  event_name\n",
       "0     0010A1C096941592          12\n",
       "1     00341D8401F0F665           2\n",
       "2     003DF44D7589BBD4          15\n",
       "3     00505E15A9D81546           5\n",
       "4     006E3E4E232CE760           6\n",
       "...                ...         ...\n",
       "2742  FF44696E39039D29           6\n",
       "2743  FF5A1CD38F5DD996          10\n",
       "2744  FF5B24BCE4387F86           9\n",
       "2745  FF825C1D791989B5           8\n",
       "2746  FFAE9489C76F352B           6\n",
       "\n",
       "[2747 rows x 2 columns]"
      ]
     },
     "execution_count": 42,
     "metadata": {},
     "output_type": "execute_result"
    }
   ],
   "source": [
    "users_A = data.query('group==\"A\"').groupby('user_id')['event_name'].count().reset_index()\n",
    "users_A"
   ]
  },
  {
   "cell_type": "code",
   "execution_count": 43,
   "id": "ad4cdef9",
   "metadata": {},
   "outputs": [
    {
     "data": {
      "text/html": [
       "<div>\n",
       "<style scoped>\n",
       "    .dataframe tbody tr th:only-of-type {\n",
       "        vertical-align: middle;\n",
       "    }\n",
       "\n",
       "    .dataframe tbody tr th {\n",
       "        vertical-align: top;\n",
       "    }\n",
       "\n",
       "    .dataframe thead th {\n",
       "        text-align: right;\n",
       "    }\n",
       "</style>\n",
       "<table border=\"1\" class=\"dataframe\">\n",
       "  <thead>\n",
       "    <tr style=\"text-align: right;\">\n",
       "      <th></th>\n",
       "      <th>user_id</th>\n",
       "      <th>event_name</th>\n",
       "    </tr>\n",
       "  </thead>\n",
       "  <tbody>\n",
       "    <tr>\n",
       "      <th>0</th>\n",
       "      <td>005E096DBD379BCF</td>\n",
       "      <td>4</td>\n",
       "    </tr>\n",
       "    <tr>\n",
       "      <th>1</th>\n",
       "      <td>015D1E3BB893349D</td>\n",
       "      <td>6</td>\n",
       "    </tr>\n",
       "    <tr>\n",
       "      <th>2</th>\n",
       "      <td>015FF3EC72C1F4F6</td>\n",
       "      <td>2</td>\n",
       "    </tr>\n",
       "    <tr>\n",
       "      <th>3</th>\n",
       "      <td>01B0B891CA513468</td>\n",
       "      <td>12</td>\n",
       "    </tr>\n",
       "    <tr>\n",
       "      <th>4</th>\n",
       "      <td>01C17F099908DA14</td>\n",
       "      <td>5</td>\n",
       "    </tr>\n",
       "    <tr>\n",
       "      <th>...</th>\n",
       "      <td>...</td>\n",
       "      <td>...</td>\n",
       "    </tr>\n",
       "    <tr>\n",
       "      <th>817</th>\n",
       "      <td>FE76759FE6BF8C68</td>\n",
       "      <td>16</td>\n",
       "    </tr>\n",
       "    <tr>\n",
       "      <th>818</th>\n",
       "      <td>FE8F9858BBE502D9</td>\n",
       "      <td>2</td>\n",
       "    </tr>\n",
       "    <tr>\n",
       "      <th>819</th>\n",
       "      <td>FEA0C585A53E7027</td>\n",
       "      <td>3</td>\n",
       "    </tr>\n",
       "    <tr>\n",
       "      <th>820</th>\n",
       "      <td>FF8CF7057415EB29</td>\n",
       "      <td>4</td>\n",
       "    </tr>\n",
       "    <tr>\n",
       "      <th>821</th>\n",
       "      <td>FFF28D02B1EACBE1</td>\n",
       "      <td>9</td>\n",
       "    </tr>\n",
       "  </tbody>\n",
       "</table>\n",
       "<p>822 rows × 2 columns</p>\n",
       "</div>"
      ],
      "text/plain": [
       "              user_id  event_name\n",
       "0    005E096DBD379BCF           4\n",
       "1    015D1E3BB893349D           6\n",
       "2    015FF3EC72C1F4F6           2\n",
       "3    01B0B891CA513468          12\n",
       "4    01C17F099908DA14           5\n",
       "..                ...         ...\n",
       "817  FE76759FE6BF8C68          16\n",
       "818  FE8F9858BBE502D9           2\n",
       "819  FEA0C585A53E7027           3\n",
       "820  FF8CF7057415EB29           4\n",
       "821  FFF28D02B1EACBE1           9\n",
       "\n",
       "[822 rows x 2 columns]"
      ]
     },
     "execution_count": 43,
     "metadata": {},
     "output_type": "execute_result"
    }
   ],
   "source": [
    "users_B = data.query('group==\"B\"').groupby('user_id')['event_name'].count().reset_index()\n",
    "users_B"
   ]
  },
  {
   "cell_type": "code",
   "execution_count": 44,
   "id": "589c5a96",
   "metadata": {},
   "outputs": [
    {
     "data": {
      "text/html": [
       "<div>\n",
       "<style scoped>\n",
       "    .dataframe tbody tr th:only-of-type {\n",
       "        vertical-align: middle;\n",
       "    }\n",
       "\n",
       "    .dataframe tbody tr th {\n",
       "        vertical-align: top;\n",
       "    }\n",
       "\n",
       "    .dataframe thead th {\n",
       "        text-align: right;\n",
       "    }\n",
       "</style>\n",
       "<table border=\"1\" class=\"dataframe\">\n",
       "  <thead>\n",
       "    <tr style=\"text-align: right;\">\n",
       "      <th></th>\n",
       "      <th>event_name</th>\n",
       "    </tr>\n",
       "  </thead>\n",
       "  <tbody>\n",
       "    <tr>\n",
       "      <th>count</th>\n",
       "      <td>2747.000000</td>\n",
       "    </tr>\n",
       "    <tr>\n",
       "      <th>mean</th>\n",
       "      <td>6.809246</td>\n",
       "    </tr>\n",
       "    <tr>\n",
       "      <th>std</th>\n",
       "      <td>3.797210</td>\n",
       "    </tr>\n",
       "    <tr>\n",
       "      <th>min</th>\n",
       "      <td>1.000000</td>\n",
       "    </tr>\n",
       "    <tr>\n",
       "      <th>25%</th>\n",
       "      <td>4.000000</td>\n",
       "    </tr>\n",
       "    <tr>\n",
       "      <th>50%</th>\n",
       "      <td>6.000000</td>\n",
       "    </tr>\n",
       "    <tr>\n",
       "      <th>75%</th>\n",
       "      <td>9.000000</td>\n",
       "    </tr>\n",
       "    <tr>\n",
       "      <th>max</th>\n",
       "      <td>24.000000</td>\n",
       "    </tr>\n",
       "  </tbody>\n",
       "</table>\n",
       "</div>"
      ],
      "text/plain": [
       "        event_name\n",
       "count  2747.000000\n",
       "mean      6.809246\n",
       "std       3.797210\n",
       "min       1.000000\n",
       "25%       4.000000\n",
       "50%       6.000000\n",
       "75%       9.000000\n",
       "max      24.000000"
      ]
     },
     "execution_count": 44,
     "metadata": {},
     "output_type": "execute_result"
    }
   ],
   "source": [
    "users_A.describe()"
   ]
  },
  {
   "cell_type": "code",
   "execution_count": 45,
   "id": "7ed7e041",
   "metadata": {},
   "outputs": [
    {
     "data": {
      "text/html": [
       "<div>\n",
       "<style scoped>\n",
       "    .dataframe tbody tr th:only-of-type {\n",
       "        vertical-align: middle;\n",
       "    }\n",
       "\n",
       "    .dataframe tbody tr th {\n",
       "        vertical-align: top;\n",
       "    }\n",
       "\n",
       "    .dataframe thead th {\n",
       "        text-align: right;\n",
       "    }\n",
       "</style>\n",
       "<table border=\"1\" class=\"dataframe\">\n",
       "  <thead>\n",
       "    <tr style=\"text-align: right;\">\n",
       "      <th></th>\n",
       "      <th>event_name</th>\n",
       "    </tr>\n",
       "  </thead>\n",
       "  <tbody>\n",
       "    <tr>\n",
       "      <th>count</th>\n",
       "      <td>822.000000</td>\n",
       "    </tr>\n",
       "    <tr>\n",
       "      <th>mean</th>\n",
       "      <td>5.316302</td>\n",
       "    </tr>\n",
       "    <tr>\n",
       "      <th>std</th>\n",
       "      <td>3.157606</td>\n",
       "    </tr>\n",
       "    <tr>\n",
       "      <th>min</th>\n",
       "      <td>1.000000</td>\n",
       "    </tr>\n",
       "    <tr>\n",
       "      <th>25%</th>\n",
       "      <td>3.000000</td>\n",
       "    </tr>\n",
       "    <tr>\n",
       "      <th>50%</th>\n",
       "      <td>4.000000</td>\n",
       "    </tr>\n",
       "    <tr>\n",
       "      <th>75%</th>\n",
       "      <td>6.000000</td>\n",
       "    </tr>\n",
       "    <tr>\n",
       "      <th>max</th>\n",
       "      <td>24.000000</td>\n",
       "    </tr>\n",
       "  </tbody>\n",
       "</table>\n",
       "</div>"
      ],
      "text/plain": [
       "       event_name\n",
       "count  822.000000\n",
       "mean     5.316302\n",
       "std      3.157606\n",
       "min      1.000000\n",
       "25%      3.000000\n",
       "50%      4.000000\n",
       "75%      6.000000\n",
       "max     24.000000"
      ]
     },
     "execution_count": 45,
     "metadata": {},
     "output_type": "execute_result"
    }
   ],
   "source": [
    "users_B.describe()"
   ]
  },
  {
   "cell_type": "raw",
   "id": "658554e2",
   "metadata": {},
   "source": [
    "Посетители группы А более активны. Средняя и медиана больше, чем в группе В. Построим гистограмму количеста событий на пользователя."
   ]
  },
  {
   "cell_type": "code",
   "execution_count": 46,
   "id": "5479905a",
   "metadata": {},
   "outputs": [
    {
     "data": {
      "image/png": "[encoded data removed]",
      "text/plain": [
       "<Figure size 1080x576 with 1 Axes>"
      ]
     },
     "metadata": {
      "needs_background": "light"
     },
     "output_type": "display_data"
    }
   ],
   "source": [
    "# построим гистограмму\n",
    "users_A['event_name'].hist(bins=50, figsize=(15,8), label='Группа A', alpha=0.6);\n",
    "users_B['event_name'].hist(bins=50, label='Группа B', alpha=0.6)\n",
    "plt.legend()\n",
    "plt.xlabel('Кол-во событий')\n",
    "plt.ylabel('Кол-во пользователей')\n",
    "plt.title('Распределение количество событий на пользователя\\n');"
   ]
  },
  {
   "cell_type": "markdown",
   "id": "1ee456a5",
   "metadata": {},
   "source": [
    "Динамика распределения событий примерно равна между двух групп."
   ]
  },
  {
   "cell_type": "markdown",
   "id": "f574601d",
   "metadata": {},
   "source": [
    "**Как число событий в выборке распределено по дням.**"
   ]
  },
  {
   "cell_type": "code",
   "execution_count": 47,
   "id": "a5da26dd",
   "metadata": {},
   "outputs": [
    {
     "data": {
      "image/png": "[encoded data removed]",
      "text/plain": [
       "<Figure size 1080x576 with 1 Axes>"
      ]
     },
     "metadata": {
      "needs_background": "light"
     },
     "output_type": "display_data"
    }
   ],
   "source": [
    "plt.figure(figsize=(15, 8))\n",
    "plt.title('Количество событий в группах по дням\\n')\n",
    "sns.histplot(data, x='event_dt', hue='group')\n",
    "plt.xlabel('Дата')\n",
    "plt.ylabel('Количество событий');"
   ]
  },
  {
   "cell_type": "markdown",
   "id": "86ba49e4",
   "metadata": {},
   "source": [
    "Из графика видно, что у группы А с 14.12.2020 наблудается резкий скачек количества событий примерно в 2 раза с дальнейшим повышением. Максимум приходится на 21.12.2020 с дальнейшим уменьшением до нормальных значений к 29.12.2020. Может это влияние рождественских распродаж, а может технический сбой. Группа В ведет себя более равномерно. Это еще раз показывает, что время для проведения А/В теста выбрано неудачно. "
   ]
  },
  {
   "cell_type": "markdown",
   "id": "382e30b8",
   "metadata": {},
   "source": [
    "**Как меняется конверсия в воронке в выборках на разных этапах.**"
   ]
  },
  {
   "cell_type": "code",
   "execution_count": 48,
   "id": "ef6c3e9e",
   "metadata": {},
   "outputs": [
    {
     "data": {
      "text/html": [
       "<div>\n",
       "<style scoped>\n",
       "    .dataframe tbody tr th:only-of-type {\n",
       "        vertical-align: middle;\n",
       "    }\n",
       "\n",
       "    .dataframe tbody tr th {\n",
       "        vertical-align: top;\n",
       "    }\n",
       "\n",
       "    .dataframe thead th {\n",
       "        text-align: right;\n",
       "    }\n",
       "</style>\n",
       "<table border=\"1\" class=\"dataframe\">\n",
       "  <thead>\n",
       "    <tr style=\"text-align: right;\">\n",
       "      <th></th>\n",
       "      <th>group</th>\n",
       "      <th>event_name</th>\n",
       "      <th>count</th>\n",
       "      <th>nunique</th>\n",
       "    </tr>\n",
       "  </thead>\n",
       "  <tbody>\n",
       "    <tr>\n",
       "      <th>0</th>\n",
       "      <td>A</td>\n",
       "      <td>login</td>\n",
       "      <td>8294</td>\n",
       "      <td>2747</td>\n",
       "    </tr>\n",
       "    <tr>\n",
       "      <th>1</th>\n",
       "      <td>A</td>\n",
       "      <td>product_page</td>\n",
       "      <td>5344</td>\n",
       "      <td>1780</td>\n",
       "    </tr>\n",
       "    <tr>\n",
       "      <th>2</th>\n",
       "      <td>A</td>\n",
       "      <td>purchase</td>\n",
       "      <td>2588</td>\n",
       "      <td>872</td>\n",
       "    </tr>\n",
       "    <tr>\n",
       "      <th>3</th>\n",
       "      <td>A</td>\n",
       "      <td>product_cart</td>\n",
       "      <td>2479</td>\n",
       "      <td>824</td>\n",
       "    </tr>\n",
       "    <tr>\n",
       "      <th>4</th>\n",
       "      <td>B</td>\n",
       "      <td>login</td>\n",
       "      <td>2139</td>\n",
       "      <td>821</td>\n",
       "    </tr>\n",
       "    <tr>\n",
       "      <th>5</th>\n",
       "      <td>B</td>\n",
       "      <td>product_page</td>\n",
       "      <td>1127</td>\n",
       "      <td>459</td>\n",
       "    </tr>\n",
       "    <tr>\n",
       "      <th>6</th>\n",
       "      <td>B</td>\n",
       "      <td>product_cart</td>\n",
       "      <td>567</td>\n",
       "      <td>225</td>\n",
       "    </tr>\n",
       "    <tr>\n",
       "      <th>7</th>\n",
       "      <td>B</td>\n",
       "      <td>purchase</td>\n",
       "      <td>537</td>\n",
       "      <td>226</td>\n",
       "    </tr>\n",
       "  </tbody>\n",
       "</table>\n",
       "</div>"
      ],
      "text/plain": [
       "  group    event_name  count  nunique\n",
       "0     A         login   8294     2747\n",
       "1     A  product_page   5344     1780\n",
       "2     A      purchase   2588      872\n",
       "3     A  product_cart   2479      824\n",
       "4     B         login   2139      821\n",
       "5     B  product_page   1127      459\n",
       "6     B  product_cart    567      225\n",
       "7     B      purchase    537      226"
      ]
     },
     "execution_count": 48,
     "metadata": {},
     "output_type": "execute_result"
    }
   ],
   "source": [
    "# посмотрим на количество пользователей в группах\n",
    "funnel = (data.groupby(['group','event_name'])\n",
    "              .agg({'user_id':('count', 'nunique')})\n",
    "              .sort_values(by = ('user_id', 'count'), ascending = False)\n",
    "              .reset_index())\n",
    "\n",
    "funnel.columns = ['group', 'event_name', 'count', 'nunique']\n",
    "funnel"
   ]
  },
  {
   "cell_type": "code",
   "execution_count": 49,
   "id": "325662c5",
   "metadata": {},
   "outputs": [
    {
     "data": {
      "text/html": [
       "<div>\n",
       "<style scoped>\n",
       "    .dataframe tbody tr th:only-of-type {\n",
       "        vertical-align: middle;\n",
       "    }\n",
       "\n",
       "    .dataframe tbody tr th {\n",
       "        vertical-align: top;\n",
       "    }\n",
       "\n",
       "    .dataframe thead th {\n",
       "        text-align: right;\n",
       "    }\n",
       "</style>\n",
       "<table border=\"1\" class=\"dataframe\">\n",
       "  <thead>\n",
       "    <tr style=\"text-align: right;\">\n",
       "      <th></th>\n",
       "      <th>group</th>\n",
       "      <th>event_name</th>\n",
       "      <th>count</th>\n",
       "      <th>nunique</th>\n",
       "      <th>percent</th>\n",
       "      <th>percent2</th>\n",
       "    </tr>\n",
       "  </thead>\n",
       "  <tbody>\n",
       "    <tr>\n",
       "      <th>0</th>\n",
       "      <td>A</td>\n",
       "      <td>login</td>\n",
       "      <td>8294</td>\n",
       "      <td>2747</td>\n",
       "      <td>100.0</td>\n",
       "      <td>100.0</td>\n",
       "    </tr>\n",
       "    <tr>\n",
       "      <th>1</th>\n",
       "      <td>A</td>\n",
       "      <td>product_page</td>\n",
       "      <td>5344</td>\n",
       "      <td>1780</td>\n",
       "      <td>64.8</td>\n",
       "      <td>64.8</td>\n",
       "    </tr>\n",
       "    <tr>\n",
       "      <th>2</th>\n",
       "      <td>A</td>\n",
       "      <td>purchase</td>\n",
       "      <td>2588</td>\n",
       "      <td>872</td>\n",
       "      <td>31.7</td>\n",
       "      <td>49.0</td>\n",
       "    </tr>\n",
       "    <tr>\n",
       "      <th>3</th>\n",
       "      <td>A</td>\n",
       "      <td>product_cart</td>\n",
       "      <td>2479</td>\n",
       "      <td>824</td>\n",
       "      <td>30.0</td>\n",
       "      <td>94.5</td>\n",
       "    </tr>\n",
       "  </tbody>\n",
       "</table>\n",
       "</div>"
      ],
      "text/plain": [
       "  group    event_name  count  nunique  percent  percent2\n",
       "0     A         login   8294     2747    100.0     100.0\n",
       "1     A  product_page   5344     1780     64.8      64.8\n",
       "2     A      purchase   2588      872     31.7      49.0\n",
       "3     A  product_cart   2479      824     30.0      94.5"
      ]
     },
     "execution_count": 49,
     "metadata": {},
     "output_type": "execute_result"
    }
   ],
   "source": [
    "# разделим таблицу по группам и добавим столбец с процентами\n",
    "funnel_A = funnel.query('group == \"A\"')\n",
    "temp = funnel_A['nunique'].shift(1)\n",
    "temp[0] = funnel_A.loc[0,'nunique']\n",
    "funnel_A['percent'] = (funnel_A['nunique']/temp[0]*100).round(1)\n",
    "funnel_A['percent2'] = (funnel_A['nunique']/temp*100).round(1)\n",
    "funnel_A"
   ]
  },
  {
   "cell_type": "markdown",
   "id": "f87e8637",
   "metadata": {},
   "source": [
    "Самым распространенным событием является login - регистрация в программе. Мы видим как теряются пользователи от шага к шагу. Больше всего теряется на втором шаге, при переходе к `product_cart`."
   ]
  },
  {
   "cell_type": "code",
   "execution_count": 50,
   "id": "2ae66813",
   "metadata": {},
   "outputs": [
    {
     "data": {
      "text/html": [
       "<div>\n",
       "<style scoped>\n",
       "    .dataframe tbody tr th:only-of-type {\n",
       "        vertical-align: middle;\n",
       "    }\n",
       "\n",
       "    .dataframe tbody tr th {\n",
       "        vertical-align: top;\n",
       "    }\n",
       "\n",
       "    .dataframe thead th {\n",
       "        text-align: right;\n",
       "    }\n",
       "</style>\n",
       "<table border=\"1\" class=\"dataframe\">\n",
       "  <thead>\n",
       "    <tr style=\"text-align: right;\">\n",
       "      <th></th>\n",
       "      <th>group</th>\n",
       "      <th>event_name</th>\n",
       "      <th>count</th>\n",
       "      <th>nunique</th>\n",
       "      <th>percent</th>\n",
       "      <th>percent2</th>\n",
       "    </tr>\n",
       "  </thead>\n",
       "  <tbody>\n",
       "    <tr>\n",
       "      <th>0</th>\n",
       "      <td>B</td>\n",
       "      <td>login</td>\n",
       "      <td>2139</td>\n",
       "      <td>821</td>\n",
       "      <td>100.0</td>\n",
       "      <td>100.0</td>\n",
       "    </tr>\n",
       "    <tr>\n",
       "      <th>1</th>\n",
       "      <td>B</td>\n",
       "      <td>product_page</td>\n",
       "      <td>1127</td>\n",
       "      <td>459</td>\n",
       "      <td>55.9</td>\n",
       "      <td>55.9</td>\n",
       "    </tr>\n",
       "    <tr>\n",
       "      <th>2</th>\n",
       "      <td>B</td>\n",
       "      <td>product_cart</td>\n",
       "      <td>567</td>\n",
       "      <td>225</td>\n",
       "      <td>27.4</td>\n",
       "      <td>49.0</td>\n",
       "    </tr>\n",
       "    <tr>\n",
       "      <th>3</th>\n",
       "      <td>B</td>\n",
       "      <td>purchase</td>\n",
       "      <td>537</td>\n",
       "      <td>226</td>\n",
       "      <td>27.5</td>\n",
       "      <td>100.4</td>\n",
       "    </tr>\n",
       "  </tbody>\n",
       "</table>\n",
       "</div>"
      ],
      "text/plain": [
       "  group    event_name  count  nunique  percent  percent2\n",
       "0     B         login   2139      821    100.0     100.0\n",
       "1     B  product_page   1127      459     55.9      55.9\n",
       "2     B  product_cart    567      225     27.4      49.0\n",
       "3     B      purchase    537      226     27.5     100.4"
      ]
     },
     "execution_count": 50,
     "metadata": {},
     "output_type": "execute_result"
    }
   ],
   "source": [
    "funnel_B = funnel.query('group == \"B\"').reset_index(drop=True)\n",
    "temp = funnel_B['nunique'].shift(1)\n",
    "temp[0] = funnel_B.loc[0,'nunique']\n",
    "funnel_B['percent'] = (funnel_B['nunique']/temp[0]*100).round(1)\n",
    "funnel_B['percent2'] = (funnel_B['nunique']/temp*100).round(1)\n",
    "funnel_B"
   ]
  },
  {
   "cell_type": "markdown",
   "id": "ef83f8de",
   "metadata": {},
   "source": [
    "Самым распространенным событием является login - регистрация в программе. Мы видим как теряются пользователи от шага к шагу. Больше всего теряется на втором шаге, при переходе к `product_cart`. На последнем шаге мы видим прибавление пользователей из-за возможности перейти сразу к `purchase` минуя другие шаги."
   ]
  },
  {
   "cell_type": "markdown",
   "id": "fcff4cce",
   "metadata": {},
   "source": [
    "#### Выводы:\n",
    "\n",
    "Сравнивая конверсия в просмотр карточек товаров мы видим.\n",
    "* событие product_page: группа А - 64.8%,   группа В - 55.9%   --- ухудшение\n",
    "* событие product_cart: группа А - 31.7%,   группа В - 27.4%   --- ухудшение\n",
    "* событие purchase:     группа А - 30.0%,   группа В - 27.5%   --- ухудшение\n",
    "\n",
    "В ходе теста мы не увидели ожидаемый эффект в улучшение каждой метрики не менее чем на 10%. Все метрики показали ухудшение конверсии. "
   ]
  },
  {
   "cell_type": "markdown",
   "id": "8957d631",
   "metadata": {},
   "source": [
    "Какие особенности данных нужно учесть, прежде чем приступать к A/B-тестированию?"
   ]
  },
  {
   "cell_type": "markdown",
   "id": "d62cd37e",
   "metadata": {},
   "source": [
    "Мы видим многочисленные нарушения при проведении А/В теста.\n",
    "* группы различны по количеству: А - контрольная (2082), B - новая платёжная воронка (706). Допускается не более 1%.\n",
    "* тест фактически закончился на 4 дня раньше срока. Часть пользователей не успела \"прожить\" 14 дней.\n",
    "* в период проведения теста приходится на рождество и на проведение крупное маркетингового события. "
   ]
  },
  {
   "cell_type": "markdown",
   "id": "ddaf25e5",
   "metadata": {},
   "source": [
    " "
   ]
  },
  {
   "cell_type": "markdown",
   "id": "f74e14d1",
   "metadata": {},
   "source": [
    "## Проведем А/В тест<a id=\"step6\"></a>"
   ]
  },
  {
   "cell_type": "markdown",
   "id": "ebbcd1dd",
   "metadata": {},
   "source": [
    "Сформируем гипотезы:\n",
    "Нулевая гипотеза - Между долями пользователей группы А и В в шагах `product_page`, `product_cart`, `purchase` нет статистически значимой разницы.\n",
    "Альтернативная гипотеза - Доли пользователей группы А и В различны."
   ]
  },
  {
   "cell_type": "markdown",
   "id": "4f693122",
   "metadata": {},
   "source": [
    "Напишем функцию для расчета теста."
   ]
  },
  {
   "cell_type": "code",
   "execution_count": 51,
   "id": "a806381a",
   "metadata": {},
   "outputs": [],
   "source": [
    "def z_test (fact1, fact2, name):\n",
    "    \n",
    "    total1 = funnel_A.loc[0,'nunique']\n",
    "    total2 = funnel_B.loc[0,'nunique']\n",
    "     \n",
    "    # пропорция событий в первой группе:\n",
    "    p1 = fact1 / total1\n",
    "    # пропорция событий во второй группе:\n",
    "    p2 = fact2 / total2\n",
    "    # пропорция событий в комбинированном датасете:\n",
    "    p_comb = (fact1 + fact2) / (total1 + total1)\n",
    "    # разница пропорций в датасетах\n",
    "    delta = p1 - p2 \n",
    "    # считаем статистику в ст.отклонениях стандартного нормального распределения\n",
    "    z_value = delta / np.sqrt(p_comb * (1 - p_comb) * (1/total1 + 1/total2))\n",
    "    # задаем стандартное нормальное распределение (среднее 0, ст.отклонение 1)\n",
    "    distr = st.norm(0, 1)  \n",
    "    # считаем p-value\n",
    "    p_value = (1 - distr.cdf(abs(z_value))) * 2\n",
    "    # критический уровень статистической значимости\n",
    "    alpha = 0.05\n",
    "    # используем поправку Бонферрони для множественных сравнений\n",
    "    bon_alpha = alpha / 3\n",
    "    \n",
    "    print()\n",
    "    print('Событие', name)\n",
    "    print()\n",
    "    print('p-значение: ',p_value)\n",
    "    \n",
    "    if (p_value < bon_alpha):\n",
    "        print('Отвергаем нулевую гипотезу: между долями есть значимая разница')\n",
    "    else:\n",
    "        print('Не получилось отвергнуть нулевую гипотезу, нет оснований считать доли разными')\n",
    "    \n",
    "    print('Конверсия в группе A равна', p1.round(2))\n",
    "    print('Конверсия в группе B равна', p2.round(2))\n",
    "    print()"
   ]
  },
  {
   "cell_type": "code",
   "execution_count": 52,
   "id": "d7c0fba2",
   "metadata": {},
   "outputs": [
    {
     "name": "stdout",
     "output_type": "stream",
     "text": [
      "\n",
      "Событие product_page\n",
      "\n",
      "p-значение:  5.393798344188738e-06\n",
      "Отвергаем нулевую гипотезу: между долями есть значимая разница\n",
      "Конверсия в группе A равна 0.65\n",
      "Конверсия в группе B равна 0.56\n",
      "\n",
      "\n",
      "Событие purchase\n",
      "\n",
      "p-значение:  0.00636558838532042\n",
      "Отвергаем нулевую гипотезу: между долями есть значимая разница\n",
      "Конверсия в группе A равна 0.32\n",
      "Конверсия в группе B равна 0.27\n",
      "\n",
      "\n",
      "Событие product_cart\n",
      "\n",
      "p-значение:  0.114397488834864\n",
      "Не получилось отвергнуть нулевую гипотезу, нет оснований считать доли разными\n",
      "Конверсия в группе A равна 0.3\n",
      "Конверсия в группе B равна 0.28\n",
      "\n"
     ]
    }
   ],
   "source": [
    "for i in range(1,4):\n",
    "    \n",
    "    fact1 = funnel_A.loc[i,'nunique']\n",
    "    fact2 = funnel_B.loc[i,'nunique']\n",
    "    name = funnel_A.loc[i,'event_name']\n",
    "    z_test (fact1, fact2, name)"
   ]
  },
  {
   "cell_type": "markdown",
   "id": "7106d5d7",
   "metadata": {},
   "source": [
    "**Предварительный вывод.**\n",
    "\n",
    "* статистической разницы в конверсии в покупки `purchase` между группами нет;\n",
    "* есть статистически значимые различия в конверсии в просмотр товаров `product_page` и в просмотр корзины `product_cart`.\n",
    "* внедрение новой рекомендательной системы негативно повлияла на процесс выбора товаров."
   ]
  },
  {
   "cell_type": "markdown",
   "id": "da8c1825",
   "metadata": {},
   "source": [
    " "
   ]
  },
  {
   "cell_type": "markdown",
   "id": "bb026fc8",
   "metadata": {},
   "source": [
    "## Вывод<a id=\"step7\"></a>"
   ]
  },
  {
   "cell_type": "markdown",
   "id": "9e6b3084",
   "metadata": {},
   "source": [
    "* В ходе исследования мы загрузили данные и обработали их.\n",
    "* Оценили корректность проведения теста. Мы обнаружили.\n",
    "    - группы: А - контрольная (2747), B - новая платёжная воронка (822). Группы распределены неравномерно. Всего в тесте принимает участие 3569 человек. Это в 1.7 раза меньше значения из техзадания. *Условие не соблюдено.\n",
    "    - дата запуска: 2020-12-07. *Условие соблюдено.*\n",
    "    - дата остановки набора новых пользователей: 2020-12-21. После удаления лишних данных *условие соблюдено.*\n",
    "    - дата остановки: 2021-01-04. Тест фактически заканчивается 2021-12-30. *Условие не соблюдено.*\n",
    "    - аудитория: 15% новых пользователей из региона EU. Доля новых пользователей из EU составляет только 11.2%. Это меньше значения из техзадания. *Условие не соблюдено.*\n",
    "* Провели исследовательский анализ данных. Мы увидели.\n",
    "    * Динамика распределения количества событий на пользователя в группах примерно равна между собой.\n",
    "    * При сравнении графиков распределяния числа событий по дням мы обнаружили:\n",
    "        * у группы А с 14.12.2020 наблудается резкий скачек количества событий примерно в 2 раза с дальнейшим повышением.\n",
    "        * Максимум приходится на 21.12.2020 с дальнейшим уменьшением до нормальных значений к 29.12.2020. \n",
    "        * Может это влияние рождественских распродаж, а может технический сбой. \n",
    "        * Группа В ведет себя более равномерно.\n",
    "    * Сравнивая конверсия в просмотр карточек товаров мы посчитали.\n",
    "        * событие product_page: группа А - 64.8%,   группа В - 55.9%   --- ухудшение\n",
    "        * событие product_cart: группа А - 31.7%,   группа В - 27.4%   --- ухудшение\n",
    "        * событие purchase:     группа А - 30.0%,   группа В - 27.5%   --- ухудшение\n",
    "* Провели А/В тест.\n",
    "    * статистической разницы в конверсии в покупки `purchase` между группами нет;\n",
    "    * есть статистически значимые различия в конверсии в просмотр товаров `product_page` и в просмотр корзины `product_cart`.\n",
    "    * внедрение новой рекомендательной системы негативно повлияла на процесс выбора товаров."
   ]
  },
  {
   "cell_type": "markdown",
   "id": "e3ca8515",
   "metadata": {},
   "source": [
    "## Рекомендации<a id=\"step8\"></a>"
   ]
  },
  {
   "cell_type": "markdown",
   "id": "a6589ffd",
   "metadata": {},
   "source": [
    "Данный тест нельзя считать репрезентативным. Он выполнен с многочисленными нарушениями технического задания.\n",
    "Необходимо переделать тест."
   ]
  }
 ],
 "metadata": {
  "ExecuteTimeLog": [
   {
    "duration": 2467,
    "start_time": "2022-08-26T08:26:49.277Z"
   },
   {
    "duration": 181,
    "start_time": "2022-08-26T08:26:51.746Z"
   },
   {
    "duration": 0,
    "start_time": "2022-08-26T08:26:51.930Z"
   },
   {
    "duration": 0,
    "start_time": "2022-08-26T08:26:51.932Z"
   },
   {
    "duration": 0,
    "start_time": "2022-08-26T08:26:51.933Z"
   },
   {
    "duration": 0,
    "start_time": "2022-08-26T08:26:51.934Z"
   },
   {
    "duration": 0,
    "start_time": "2022-08-26T08:26:51.936Z"
   },
   {
    "duration": 0,
    "start_time": "2022-08-26T08:26:51.936Z"
   },
   {
    "duration": 0,
    "start_time": "2022-08-26T08:26:51.937Z"
   },
   {
    "duration": 0,
    "start_time": "2022-08-26T08:26:51.938Z"
   },
   {
    "duration": 0,
    "start_time": "2022-08-26T08:26:51.939Z"
   },
   {
    "duration": 0,
    "start_time": "2022-08-26T08:26:51.941Z"
   },
   {
    "duration": 0,
    "start_time": "2022-08-26T08:26:51.942Z"
   },
   {
    "duration": 0,
    "start_time": "2022-08-26T08:26:51.943Z"
   },
   {
    "duration": 0,
    "start_time": "2022-08-26T08:26:51.944Z"
   },
   {
    "duration": 0,
    "start_time": "2022-08-26T08:26:51.945Z"
   },
   {
    "duration": 0,
    "start_time": "2022-08-26T08:26:51.946Z"
   },
   {
    "duration": 0,
    "start_time": "2022-08-26T08:26:51.947Z"
   },
   {
    "duration": 0,
    "start_time": "2022-08-26T08:26:51.948Z"
   },
   {
    "duration": 0,
    "start_time": "2022-08-26T08:26:51.949Z"
   },
   {
    "duration": 0,
    "start_time": "2022-08-26T08:26:51.950Z"
   },
   {
    "duration": 0,
    "start_time": "2022-08-26T08:26:51.951Z"
   },
   {
    "duration": 0,
    "start_time": "2022-08-26T08:26:51.952Z"
   },
   {
    "duration": 0,
    "start_time": "2022-08-26T08:26:51.953Z"
   },
   {
    "duration": 0,
    "start_time": "2022-08-26T08:26:51.954Z"
   },
   {
    "duration": 0,
    "start_time": "2022-08-26T08:26:51.955Z"
   },
   {
    "duration": 0,
    "start_time": "2022-08-26T08:26:51.956Z"
   },
   {
    "duration": 0,
    "start_time": "2022-08-26T08:26:51.957Z"
   },
   {
    "duration": 0,
    "start_time": "2022-08-26T08:26:51.958Z"
   },
   {
    "duration": 0,
    "start_time": "2022-08-26T08:26:51.959Z"
   },
   {
    "duration": 0,
    "start_time": "2022-08-26T08:26:51.960Z"
   },
   {
    "duration": 0,
    "start_time": "2022-08-26T08:26:52.009Z"
   },
   {
    "duration": 0,
    "start_time": "2022-08-26T08:26:52.010Z"
   },
   {
    "duration": 0,
    "start_time": "2022-08-26T08:26:52.011Z"
   },
   {
    "duration": 0,
    "start_time": "2022-08-26T08:26:52.012Z"
   },
   {
    "duration": 0,
    "start_time": "2022-08-26T08:26:52.013Z"
   },
   {
    "duration": 0,
    "start_time": "2022-08-26T08:26:52.014Z"
   },
   {
    "duration": 0,
    "start_time": "2022-08-26T08:26:52.015Z"
   },
   {
    "duration": 0,
    "start_time": "2022-08-26T08:26:52.016Z"
   },
   {
    "duration": 0,
    "start_time": "2022-08-26T08:26:52.017Z"
   },
   {
    "duration": 0,
    "start_time": "2022-08-26T08:26:52.018Z"
   },
   {
    "duration": 0,
    "start_time": "2022-08-26T08:26:52.020Z"
   },
   {
    "duration": 0,
    "start_time": "2022-08-26T08:26:52.021Z"
   },
   {
    "duration": 0,
    "start_time": "2022-08-26T08:26:52.022Z"
   },
   {
    "duration": 0,
    "start_time": "2022-08-26T08:26:52.023Z"
   },
   {
    "duration": 0,
    "start_time": "2022-08-26T08:26:52.024Z"
   },
   {
    "duration": 0,
    "start_time": "2022-08-26T08:26:52.025Z"
   },
   {
    "duration": 0,
    "start_time": "2022-08-26T08:26:52.026Z"
   },
   {
    "duration": 0,
    "start_time": "2022-08-26T08:26:52.027Z"
   },
   {
    "duration": 0,
    "start_time": "2022-08-26T08:26:52.028Z"
   },
   {
    "duration": 0,
    "start_time": "2022-08-26T08:26:52.029Z"
   },
   {
    "duration": 0,
    "start_time": "2022-08-26T08:26:52.030Z"
   },
   {
    "duration": 0,
    "start_time": "2022-08-26T08:26:52.031Z"
   },
   {
    "duration": 0,
    "start_time": "2022-08-26T08:26:52.032Z"
   },
   {
    "duration": 1678,
    "start_time": "2022-08-26T17:49:48.451Z"
   },
   {
    "duration": 169,
    "start_time": "2022-08-26T17:49:50.131Z"
   },
   {
    "duration": 0,
    "start_time": "2022-08-26T17:49:50.303Z"
   },
   {
    "duration": 0,
    "start_time": "2022-08-26T17:49:50.305Z"
   },
   {
    "duration": 0,
    "start_time": "2022-08-26T17:49:50.306Z"
   },
   {
    "duration": 0,
    "start_time": "2022-08-26T17:49:50.307Z"
   },
   {
    "duration": 0,
    "start_time": "2022-08-26T17:49:50.308Z"
   },
   {
    "duration": 0,
    "start_time": "2022-08-26T17:49:50.309Z"
   },
   {
    "duration": 0,
    "start_time": "2022-08-26T17:49:50.311Z"
   },
   {
    "duration": 0,
    "start_time": "2022-08-26T17:49:50.312Z"
   },
   {
    "duration": 0,
    "start_time": "2022-08-26T17:49:50.313Z"
   },
   {
    "duration": 0,
    "start_time": "2022-08-26T17:49:50.314Z"
   },
   {
    "duration": 0,
    "start_time": "2022-08-26T17:49:50.315Z"
   },
   {
    "duration": 0,
    "start_time": "2022-08-26T17:49:50.316Z"
   },
   {
    "duration": 0,
    "start_time": "2022-08-26T17:49:50.317Z"
   },
   {
    "duration": 0,
    "start_time": "2022-08-26T17:49:50.318Z"
   },
   {
    "duration": 0,
    "start_time": "2022-08-26T17:49:50.319Z"
   },
   {
    "duration": 0,
    "start_time": "2022-08-26T17:49:50.320Z"
   },
   {
    "duration": 0,
    "start_time": "2022-08-26T17:49:50.321Z"
   },
   {
    "duration": 0,
    "start_time": "2022-08-26T17:49:50.322Z"
   },
   {
    "duration": 0,
    "start_time": "2022-08-26T17:49:50.325Z"
   },
   {
    "duration": 0,
    "start_time": "2022-08-26T17:49:50.326Z"
   },
   {
    "duration": 0,
    "start_time": "2022-08-26T17:49:50.327Z"
   },
   {
    "duration": 0,
    "start_time": "2022-08-26T17:49:50.328Z"
   },
   {
    "duration": 0,
    "start_time": "2022-08-26T17:49:50.329Z"
   },
   {
    "duration": 0,
    "start_time": "2022-08-26T17:49:50.330Z"
   },
   {
    "duration": 0,
    "start_time": "2022-08-26T17:49:50.331Z"
   },
   {
    "duration": 0,
    "start_time": "2022-08-26T17:49:50.332Z"
   },
   {
    "duration": 0,
    "start_time": "2022-08-26T17:49:50.333Z"
   },
   {
    "duration": 0,
    "start_time": "2022-08-26T17:49:50.334Z"
   },
   {
    "duration": 0,
    "start_time": "2022-08-26T17:49:50.335Z"
   },
   {
    "duration": 0,
    "start_time": "2022-08-26T17:49:50.336Z"
   },
   {
    "duration": 0,
    "start_time": "2022-08-26T17:49:50.337Z"
   },
   {
    "duration": 0,
    "start_time": "2022-08-26T17:49:50.338Z"
   },
   {
    "duration": 0,
    "start_time": "2022-08-26T17:49:50.339Z"
   },
   {
    "duration": 0,
    "start_time": "2022-08-26T17:49:50.339Z"
   },
   {
    "duration": 0,
    "start_time": "2022-08-26T17:49:50.340Z"
   },
   {
    "duration": 0,
    "start_time": "2022-08-26T17:49:50.341Z"
   },
   {
    "duration": 0,
    "start_time": "2022-08-26T17:49:50.342Z"
   },
   {
    "duration": 0,
    "start_time": "2022-08-26T17:49:50.343Z"
   },
   {
    "duration": 0,
    "start_time": "2022-08-26T17:49:50.344Z"
   },
   {
    "duration": 0,
    "start_time": "2022-08-26T17:49:50.345Z"
   },
   {
    "duration": 0,
    "start_time": "2022-08-26T17:49:50.345Z"
   },
   {
    "duration": 0,
    "start_time": "2022-08-26T17:49:50.346Z"
   },
   {
    "duration": 0,
    "start_time": "2022-08-26T17:49:50.347Z"
   },
   {
    "duration": 0,
    "start_time": "2022-08-26T17:49:50.406Z"
   },
   {
    "duration": 0,
    "start_time": "2022-08-26T17:49:50.406Z"
   },
   {
    "duration": 0,
    "start_time": "2022-08-26T17:49:50.407Z"
   },
   {
    "duration": 0,
    "start_time": "2022-08-26T17:49:50.408Z"
   },
   {
    "duration": 0,
    "start_time": "2022-08-26T17:49:50.408Z"
   },
   {
    "duration": 0,
    "start_time": "2022-08-26T17:49:50.409Z"
   },
   {
    "duration": 0,
    "start_time": "2022-08-26T17:49:50.410Z"
   },
   {
    "duration": 0,
    "start_time": "2022-08-26T17:49:50.410Z"
   },
   {
    "duration": 0,
    "start_time": "2022-08-26T17:49:50.414Z"
   },
   {
    "duration": 1091,
    "start_time": "2022-08-26T17:52:14.278Z"
   },
   {
    "duration": 95,
    "start_time": "2022-08-26T17:54:31.159Z"
   },
   {
    "duration": 278,
    "start_time": "2022-08-26T17:55:30.194Z"
   },
   {
    "duration": 126,
    "start_time": "2022-08-26T17:56:18.349Z"
   },
   {
    "duration": 1320,
    "start_time": "2022-08-26T17:56:24.551Z"
   },
   {
    "duration": 1398,
    "start_time": "2022-08-26T17:56:25.873Z"
   },
   {
    "duration": 67,
    "start_time": "2022-08-26T17:56:27.273Z"
   },
   {
    "duration": 110,
    "start_time": "2022-08-26T17:56:27.342Z"
   },
   {
    "duration": 216,
    "start_time": "2022-08-26T17:56:27.453Z"
   },
   {
    "duration": 41,
    "start_time": "2022-08-26T17:56:27.670Z"
   },
   {
    "duration": 88,
    "start_time": "2022-08-26T17:56:27.713Z"
   },
   {
    "duration": 63,
    "start_time": "2022-08-26T17:56:27.802Z"
   },
   {
    "duration": 62,
    "start_time": "2022-08-26T17:56:27.866Z"
   },
   {
    "duration": 10,
    "start_time": "2022-08-26T17:56:27.930Z"
   },
   {
    "duration": 9,
    "start_time": "2022-08-26T17:56:27.942Z"
   },
   {
    "duration": 8,
    "start_time": "2022-08-26T17:56:27.952Z"
   },
   {
    "duration": 196,
    "start_time": "2022-08-26T17:56:27.962Z"
   },
   {
    "duration": 16,
    "start_time": "2022-08-26T17:56:28.160Z"
   },
   {
    "duration": 13,
    "start_time": "2022-08-26T17:56:28.177Z"
   },
   {
    "duration": 26,
    "start_time": "2022-08-26T17:56:28.192Z"
   },
   {
    "duration": 37,
    "start_time": "2022-08-26T17:56:28.219Z"
   },
   {
    "duration": 17,
    "start_time": "2022-08-26T17:56:28.257Z"
   },
   {
    "duration": 8,
    "start_time": "2022-08-26T17:56:28.276Z"
   },
   {
    "duration": 26,
    "start_time": "2022-08-26T17:56:28.285Z"
   },
   {
    "duration": 17,
    "start_time": "2022-08-26T17:56:28.313Z"
   },
   {
    "duration": 75,
    "start_time": "2022-08-26T17:56:28.331Z"
   },
   {
    "duration": 13,
    "start_time": "2022-08-26T17:56:28.408Z"
   },
   {
    "duration": 9,
    "start_time": "2022-08-26T17:56:28.424Z"
   },
   {
    "duration": 12,
    "start_time": "2022-08-26T17:56:28.435Z"
   },
   {
    "duration": 12,
    "start_time": "2022-08-26T17:56:28.448Z"
   },
   {
    "duration": 8,
    "start_time": "2022-08-26T17:56:28.462Z"
   },
   {
    "duration": 39,
    "start_time": "2022-08-26T17:56:28.473Z"
   },
   {
    "duration": 4,
    "start_time": "2022-08-26T17:56:28.513Z"
   },
   {
    "duration": 42,
    "start_time": "2022-08-26T17:56:28.519Z"
   },
   {
    "duration": 311,
    "start_time": "2022-08-26T17:56:28.563Z"
   },
   {
    "duration": 3,
    "start_time": "2022-08-26T17:56:28.876Z"
   },
   {
    "duration": 12,
    "start_time": "2022-08-26T17:56:28.880Z"
   },
   {
    "duration": 14,
    "start_time": "2022-08-26T17:56:28.894Z"
   },
   {
    "duration": 12,
    "start_time": "2022-08-26T17:56:28.910Z"
   },
   {
    "duration": 57,
    "start_time": "2022-08-26T17:56:28.924Z"
   },
   {
    "duration": 7,
    "start_time": "2022-08-26T17:56:28.982Z"
   },
   {
    "duration": 102,
    "start_time": "2022-08-26T17:56:28.991Z"
   },
   {
    "duration": 6,
    "start_time": "2022-08-26T17:56:29.094Z"
   },
   {
    "duration": 24,
    "start_time": "2022-08-26T17:56:29.101Z"
   },
   {
    "duration": 43,
    "start_time": "2022-08-26T17:56:29.127Z"
   },
   {
    "duration": 8,
    "start_time": "2022-08-26T17:56:29.171Z"
   },
   {
    "duration": 30,
    "start_time": "2022-08-26T17:56:29.181Z"
   },
   {
    "duration": 15,
    "start_time": "2022-08-26T17:56:29.212Z"
   },
   {
    "duration": 10,
    "start_time": "2022-08-26T17:56:29.229Z"
   },
   {
    "duration": 10,
    "start_time": "2022-08-26T17:56:29.240Z"
   },
   {
    "duration": 370,
    "start_time": "2022-08-26T17:56:29.252Z"
   },
   {
    "duration": 583,
    "start_time": "2022-08-26T17:56:29.623Z"
   },
   {
    "duration": 23,
    "start_time": "2022-08-26T17:56:30.207Z"
   },
   {
    "duration": 22,
    "start_time": "2022-08-26T17:56:30.231Z"
   },
   {
    "duration": 29,
    "start_time": "2022-08-26T17:56:30.255Z"
   },
   {
    "duration": 12,
    "start_time": "2022-08-26T17:56:30.286Z"
   },
   {
    "duration": 33,
    "start_time": "2022-08-26T17:56:30.300Z"
   },
   {
    "duration": 1399,
    "start_time": "2022-08-26T18:01:33.636Z"
   },
   {
    "duration": 958,
    "start_time": "2022-08-26T18:01:35.037Z"
   },
   {
    "duration": 91,
    "start_time": "2022-08-26T18:01:35.997Z"
   },
   {
    "duration": 145,
    "start_time": "2022-08-26T18:01:36.090Z"
   },
   {
    "duration": 223,
    "start_time": "2022-08-26T18:01:36.237Z"
   },
   {
    "duration": 51,
    "start_time": "2022-08-26T18:01:36.462Z"
   },
   {
    "duration": 112,
    "start_time": "2022-08-26T18:01:36.516Z"
   },
   {
    "duration": 61,
    "start_time": "2022-08-26T18:01:36.630Z"
   },
   {
    "duration": 141,
    "start_time": "2022-08-26T18:01:36.692Z"
   },
   {
    "duration": 8,
    "start_time": "2022-08-26T18:01:36.836Z"
   },
   {
    "duration": 9,
    "start_time": "2022-08-26T18:01:36.845Z"
   },
   {
    "duration": 8,
    "start_time": "2022-08-26T18:01:36.855Z"
   },
   {
    "duration": 173,
    "start_time": "2022-08-26T18:01:36.865Z"
   },
   {
    "duration": 15,
    "start_time": "2022-08-26T18:01:37.040Z"
   },
   {
    "duration": 11,
    "start_time": "2022-08-26T18:01:37.056Z"
   },
   {
    "duration": 10,
    "start_time": "2022-08-26T18:01:37.068Z"
   },
   {
    "duration": 54,
    "start_time": "2022-08-26T18:01:37.079Z"
   },
   {
    "duration": 23,
    "start_time": "2022-08-26T18:01:37.135Z"
   },
   {
    "duration": 12,
    "start_time": "2022-08-26T18:01:37.160Z"
   },
   {
    "duration": 14,
    "start_time": "2022-08-26T18:01:37.173Z"
   },
   {
    "duration": 6,
    "start_time": "2022-08-26T18:01:37.206Z"
   },
   {
    "duration": 85,
    "start_time": "2022-08-26T18:01:37.213Z"
   },
   {
    "duration": 16,
    "start_time": "2022-08-26T18:01:37.300Z"
   },
   {
    "duration": 10,
    "start_time": "2022-08-26T18:01:37.318Z"
   },
   {
    "duration": 12,
    "start_time": "2022-08-26T18:01:37.330Z"
   },
   {
    "duration": 11,
    "start_time": "2022-08-26T18:01:37.343Z"
   },
   {
    "duration": 8,
    "start_time": "2022-08-26T18:01:37.355Z"
   },
   {
    "duration": 7,
    "start_time": "2022-08-26T18:01:37.366Z"
   },
   {
    "duration": 4,
    "start_time": "2022-08-26T18:01:37.374Z"
   },
   {
    "duration": 59,
    "start_time": "2022-08-26T18:01:37.379Z"
   },
   {
    "duration": 302,
    "start_time": "2022-08-26T18:01:37.439Z"
   },
   {
    "duration": 4,
    "start_time": "2022-08-26T18:01:37.742Z"
   },
   {
    "duration": 16,
    "start_time": "2022-08-26T18:01:37.748Z"
   },
   {
    "duration": 16,
    "start_time": "2022-08-26T18:01:37.765Z"
   },
   {
    "duration": 16,
    "start_time": "2022-08-26T18:01:37.782Z"
   },
   {
    "duration": 39,
    "start_time": "2022-08-26T18:01:37.806Z"
   },
   {
    "duration": 7,
    "start_time": "2022-08-26T18:01:37.846Z"
   },
   {
    "duration": 119,
    "start_time": "2022-08-26T18:01:37.854Z"
   },
   {
    "duration": 6,
    "start_time": "2022-08-26T18:01:37.975Z"
   },
   {
    "duration": 9,
    "start_time": "2022-08-26T18:01:37.982Z"
   },
   {
    "duration": 62,
    "start_time": "2022-08-26T18:01:37.992Z"
   },
   {
    "duration": 8,
    "start_time": "2022-08-26T18:01:38.055Z"
   },
   {
    "duration": 15,
    "start_time": "2022-08-26T18:01:38.065Z"
   },
   {
    "duration": 35,
    "start_time": "2022-08-26T18:01:38.081Z"
   },
   {
    "duration": 14,
    "start_time": "2022-08-26T18:01:38.118Z"
   },
   {
    "duration": 9,
    "start_time": "2022-08-26T18:01:38.133Z"
   },
   {
    "duration": 320,
    "start_time": "2022-08-26T18:01:38.144Z"
   },
   {
    "duration": 515,
    "start_time": "2022-08-26T18:01:38.466Z"
   },
   {
    "duration": 23,
    "start_time": "2022-08-26T18:01:38.983Z"
   },
   {
    "duration": 20,
    "start_time": "2022-08-26T18:01:39.007Z"
   },
   {
    "duration": 16,
    "start_time": "2022-08-26T18:01:39.028Z"
   },
   {
    "duration": 6,
    "start_time": "2022-08-26T18:01:39.045Z"
   },
   {
    "duration": 15,
    "start_time": "2022-08-26T18:01:39.053Z"
   },
   {
    "duration": 2384,
    "start_time": "2022-08-27T06:45:22.592Z"
   },
   {
    "duration": 1072,
    "start_time": "2022-08-27T06:45:24.978Z"
   },
   {
    "duration": 66,
    "start_time": "2022-08-27T06:45:26.052Z"
   },
   {
    "duration": 109,
    "start_time": "2022-08-27T06:45:26.120Z"
   },
   {
    "duration": 220,
    "start_time": "2022-08-27T06:45:26.231Z"
   },
   {
    "duration": 47,
    "start_time": "2022-08-27T06:45:26.453Z"
   },
   {
    "duration": 89,
    "start_time": "2022-08-27T06:45:26.502Z"
   },
   {
    "duration": 68,
    "start_time": "2022-08-27T06:45:26.593Z"
   },
   {
    "duration": 47,
    "start_time": "2022-08-27T06:45:26.663Z"
   },
   {
    "duration": 9,
    "start_time": "2022-08-27T06:45:26.713Z"
   },
   {
    "duration": 8,
    "start_time": "2022-08-27T06:45:26.723Z"
   },
   {
    "duration": 7,
    "start_time": "2022-08-27T06:45:26.733Z"
   },
   {
    "duration": 175,
    "start_time": "2022-08-27T06:45:26.741Z"
   },
   {
    "duration": 16,
    "start_time": "2022-08-27T06:45:26.918Z"
   },
   {
    "duration": 14,
    "start_time": "2022-08-27T06:45:26.935Z"
   },
   {
    "duration": 12,
    "start_time": "2022-08-27T06:45:26.951Z"
   },
   {
    "duration": 40,
    "start_time": "2022-08-27T06:45:26.965Z"
   },
   {
    "duration": 18,
    "start_time": "2022-08-27T06:45:27.006Z"
   },
   {
    "duration": 8,
    "start_time": "2022-08-27T06:45:27.026Z"
   },
   {
    "duration": 15,
    "start_time": "2022-08-27T06:45:27.035Z"
   },
   {
    "duration": 7,
    "start_time": "2022-08-27T06:45:27.051Z"
   },
   {
    "duration": 67,
    "start_time": "2022-08-27T06:45:27.059Z"
   },
   {
    "duration": 11,
    "start_time": "2022-08-27T06:45:27.127Z"
   },
   {
    "duration": 11,
    "start_time": "2022-08-27T06:45:27.140Z"
   },
   {
    "duration": 10,
    "start_time": "2022-08-27T06:45:27.153Z"
   },
   {
    "duration": 12,
    "start_time": "2022-08-27T06:45:27.164Z"
   },
   {
    "duration": 9,
    "start_time": "2022-08-27T06:45:27.187Z"
   },
   {
    "duration": 7,
    "start_time": "2022-08-27T06:45:27.200Z"
   },
   {
    "duration": 3,
    "start_time": "2022-08-27T06:45:27.209Z"
   },
   {
    "duration": 40,
    "start_time": "2022-08-27T06:45:27.214Z"
   },
   {
    "duration": 287,
    "start_time": "2022-08-27T06:45:27.256Z"
   },
   {
    "duration": 4,
    "start_time": "2022-08-27T06:45:27.545Z"
   },
   {
    "duration": 18,
    "start_time": "2022-08-27T06:45:27.550Z"
   },
   {
    "duration": 19,
    "start_time": "2022-08-27T06:45:27.570Z"
   },
   {
    "duration": 11,
    "start_time": "2022-08-27T06:45:27.591Z"
   },
   {
    "duration": 38,
    "start_time": "2022-08-27T06:45:27.604Z"
   },
   {
    "duration": 6,
    "start_time": "2022-08-27T06:45:27.644Z"
   },
   {
    "duration": 115,
    "start_time": "2022-08-27T06:45:27.652Z"
   },
   {
    "duration": 6,
    "start_time": "2022-08-27T06:45:27.769Z"
   },
   {
    "duration": 8,
    "start_time": "2022-08-27T06:45:27.786Z"
   },
   {
    "duration": 42,
    "start_time": "2022-08-27T06:45:27.795Z"
   },
   {
    "duration": 7,
    "start_time": "2022-08-27T06:45:27.839Z"
   },
   {
    "duration": 17,
    "start_time": "2022-08-27T06:45:27.848Z"
   },
   {
    "duration": 14,
    "start_time": "2022-08-27T06:45:27.887Z"
   },
   {
    "duration": 10,
    "start_time": "2022-08-27T06:45:27.902Z"
   },
   {
    "duration": 10,
    "start_time": "2022-08-27T06:45:27.914Z"
   },
   {
    "duration": 347,
    "start_time": "2022-08-27T06:45:27.925Z"
   },
   {
    "duration": 516,
    "start_time": "2022-08-27T06:45:28.273Z"
   },
   {
    "duration": 20,
    "start_time": "2022-08-27T06:45:28.790Z"
   },
   {
    "duration": 13,
    "start_time": "2022-08-27T06:45:28.811Z"
   },
   {
    "duration": 15,
    "start_time": "2022-08-27T06:45:28.826Z"
   },
   {
    "duration": 6,
    "start_time": "2022-08-27T06:45:28.843Z"
   },
   {
    "duration": 38,
    "start_time": "2022-08-27T06:45:28.851Z"
   },
   {
    "duration": 47,
    "start_time": "2022-08-27T11:50:29.506Z"
   },
   {
    "duration": 1630,
    "start_time": "2022-08-27T11:50:45.198Z"
   },
   {
    "duration": 865,
    "start_time": "2022-08-27T11:50:46.830Z"
   },
   {
    "duration": 59,
    "start_time": "2022-08-27T11:50:47.697Z"
   },
   {
    "duration": 109,
    "start_time": "2022-08-27T11:50:47.758Z"
   },
   {
    "duration": 193,
    "start_time": "2022-08-27T11:50:47.869Z"
   },
   {
    "duration": 51,
    "start_time": "2022-08-27T11:50:48.064Z"
   },
   {
    "duration": 95,
    "start_time": "2022-08-27T11:50:48.117Z"
   },
   {
    "duration": 60,
    "start_time": "2022-08-27T11:50:48.213Z"
   },
   {
    "duration": 72,
    "start_time": "2022-08-27T11:50:48.274Z"
   },
   {
    "duration": 9,
    "start_time": "2022-08-27T11:50:48.349Z"
   },
   {
    "duration": 7,
    "start_time": "2022-08-27T11:50:48.360Z"
   },
   {
    "duration": 8,
    "start_time": "2022-08-27T11:50:48.368Z"
   },
   {
    "duration": 204,
    "start_time": "2022-08-27T11:50:48.378Z"
   },
   {
    "duration": 17,
    "start_time": "2022-08-27T11:50:48.583Z"
   },
   {
    "duration": 19,
    "start_time": "2022-08-27T11:50:48.602Z"
   },
   {
    "duration": 30,
    "start_time": "2022-08-27T11:50:48.622Z"
   },
   {
    "duration": 27,
    "start_time": "2022-08-27T11:50:48.654Z"
   },
   {
    "duration": 26,
    "start_time": "2022-08-27T11:50:48.683Z"
   },
   {
    "duration": 10,
    "start_time": "2022-08-27T11:50:48.711Z"
   },
   {
    "duration": 19,
    "start_time": "2022-08-27T11:50:48.723Z"
   },
   {
    "duration": 27,
    "start_time": "2022-08-27T11:50:48.744Z"
   },
   {
    "duration": 173,
    "start_time": "2022-08-27T11:50:48.773Z"
   },
   {
    "duration": 11,
    "start_time": "2022-08-27T11:50:48.948Z"
   },
   {
    "duration": 15,
    "start_time": "2022-08-27T11:50:48.961Z"
   },
   {
    "duration": 18,
    "start_time": "2022-08-27T11:50:48.978Z"
   },
   {
    "duration": 20,
    "start_time": "2022-08-27T11:50:48.997Z"
   },
   {
    "duration": 14,
    "start_time": "2022-08-27T11:50:49.018Z"
   },
   {
    "duration": 13,
    "start_time": "2022-08-27T11:50:49.034Z"
   },
   {
    "duration": 4,
    "start_time": "2022-08-27T11:50:49.049Z"
   },
   {
    "duration": 58,
    "start_time": "2022-08-27T11:50:49.054Z"
   },
   {
    "duration": 290,
    "start_time": "2022-08-27T11:50:49.114Z"
   },
   {
    "duration": 4,
    "start_time": "2022-08-27T11:50:49.406Z"
   },
   {
    "duration": 19,
    "start_time": "2022-08-27T11:50:49.412Z"
   },
   {
    "duration": 9,
    "start_time": "2022-08-27T11:50:49.432Z"
   },
   {
    "duration": 11,
    "start_time": "2022-08-27T11:50:49.442Z"
   },
   {
    "duration": 66,
    "start_time": "2022-08-27T11:50:49.455Z"
   },
   {
    "duration": 34,
    "start_time": "2022-08-27T11:50:53.298Z"
   },
   {
    "duration": 56,
    "start_time": "2022-08-27T11:50:54.654Z"
   },
   {
    "duration": 13,
    "start_time": "2022-08-27T11:52:16.402Z"
   },
   {
    "duration": 64,
    "start_time": "2022-08-27T11:55:32.638Z"
   },
   {
    "duration": 111,
    "start_time": "2022-08-27T11:55:40.492Z"
   },
   {
    "duration": 55,
    "start_time": "2022-08-27T11:57:07.415Z"
   },
   {
    "duration": 24,
    "start_time": "2022-08-27T11:57:38.068Z"
   },
   {
    "duration": 48,
    "start_time": "2022-08-27T12:25:51.198Z"
   },
   {
    "duration": 46,
    "start_time": "2022-08-27T12:26:27.906Z"
   },
   {
    "duration": 64,
    "start_time": "2022-08-27T12:27:33.387Z"
   },
   {
    "duration": 48,
    "start_time": "2022-08-27T12:27:43.887Z"
   },
   {
    "duration": 44,
    "start_time": "2022-08-27T12:28:19.743Z"
   },
   {
    "duration": 12,
    "start_time": "2022-08-27T12:58:37.435Z"
   },
   {
    "duration": 11,
    "start_time": "2022-08-27T12:58:58.586Z"
   },
   {
    "duration": 15,
    "start_time": "2022-08-27T12:59:06.256Z"
   },
   {
    "duration": 14,
    "start_time": "2022-08-27T13:00:00.786Z"
   },
   {
    "duration": 42,
    "start_time": "2022-08-27T13:00:52.234Z"
   },
   {
    "duration": 39,
    "start_time": "2022-08-27T13:01:41.591Z"
   },
   {
    "duration": 4,
    "start_time": "2022-08-27T13:03:51.430Z"
   },
   {
    "duration": 42,
    "start_time": "2022-08-27T13:08:09.740Z"
   },
   {
    "duration": 39,
    "start_time": "2022-08-27T13:09:29.813Z"
   },
   {
    "duration": 10,
    "start_time": "2022-08-27T13:12:11.761Z"
   },
   {
    "duration": 19,
    "start_time": "2022-08-27T13:12:15.964Z"
   },
   {
    "duration": 7,
    "start_time": "2022-08-27T13:13:43.299Z"
   },
   {
    "duration": 18,
    "start_time": "2022-08-27T13:13:55.367Z"
   },
   {
    "duration": 65,
    "start_time": "2022-08-27T13:14:23.895Z"
   },
   {
    "duration": 7,
    "start_time": "2022-08-27T13:21:36.820Z"
   },
   {
    "duration": 281,
    "start_time": "2022-08-27T13:24:51.584Z"
   },
   {
    "duration": 5,
    "start_time": "2022-08-27T13:24:57.964Z"
   },
   {
    "duration": 295,
    "start_time": "2022-08-27T13:25:13.784Z"
   },
   {
    "duration": 3,
    "start_time": "2022-08-27T13:25:18.822Z"
   },
   {
    "duration": 63,
    "start_time": "2022-08-27T13:31:29.515Z"
   },
   {
    "duration": 9,
    "start_time": "2022-08-27T13:33:31.819Z"
   },
   {
    "duration": 9,
    "start_time": "2022-08-27T13:33:39.638Z"
   },
   {
    "duration": 1029,
    "start_time": "2022-08-27T13:33:46.322Z"
   },
   {
    "duration": 214,
    "start_time": "2022-08-27T13:34:03.342Z"
   },
   {
    "duration": 20,
    "start_time": "2022-08-27T13:34:58.309Z"
   },
   {
    "duration": 11,
    "start_time": "2022-08-27T13:38:23.390Z"
   },
   {
    "duration": 104,
    "start_time": "2022-08-27T13:38:42.140Z"
   },
   {
    "duration": 21,
    "start_time": "2022-08-27T13:39:08.425Z"
   },
   {
    "duration": 8,
    "start_time": "2022-08-27T13:40:15.562Z"
   },
   {
    "duration": 26,
    "start_time": "2022-08-27T13:40:59.791Z"
   },
   {
    "duration": 65,
    "start_time": "2022-08-27T13:41:25.952Z"
   },
   {
    "duration": 24,
    "start_time": "2022-08-27T13:41:31.242Z"
   },
   {
    "duration": 13,
    "start_time": "2022-08-27T13:42:23.903Z"
   },
   {
    "duration": 90,
    "start_time": "2022-08-27T13:46:15.224Z"
   },
   {
    "duration": 100,
    "start_time": "2022-08-27T13:49:29.908Z"
   },
   {
    "duration": 56,
    "start_time": "2022-08-27T14:05:28.981Z"
   },
   {
    "duration": 36,
    "start_time": "2022-08-27T14:20:20.500Z"
   },
   {
    "duration": 24,
    "start_time": "2022-08-27T14:34:43.065Z"
   },
   {
    "duration": 7,
    "start_time": "2022-08-27T14:34:44.537Z"
   },
   {
    "duration": 43,
    "start_time": "2022-08-27T15:02:29.271Z"
   },
   {
    "duration": 51,
    "start_time": "2022-08-27T15:03:50.290Z"
   },
   {
    "duration": 64,
    "start_time": "2022-08-27T15:03:59.839Z"
   },
   {
    "duration": 49,
    "start_time": "2022-08-27T15:04:10.788Z"
   },
   {
    "duration": 46,
    "start_time": "2022-08-27T15:07:09.860Z"
   },
   {
    "duration": 39,
    "start_time": "2022-08-27T15:22:47.193Z"
   },
   {
    "duration": 10,
    "start_time": "2022-08-27T15:27:27.653Z"
   },
   {
    "duration": 14,
    "start_time": "2022-08-27T15:33:09.159Z"
   },
   {
    "duration": 5,
    "start_time": "2022-08-27T15:33:29.281Z"
   },
   {
    "duration": 6,
    "start_time": "2022-08-27T15:35:12.773Z"
   },
   {
    "duration": 361,
    "start_time": "2022-08-27T15:47:40.699Z"
   },
   {
    "duration": 375,
    "start_time": "2022-08-27T15:48:02.738Z"
   },
   {
    "duration": 104,
    "start_time": "2022-08-27T15:48:40.642Z"
   },
   {
    "duration": 480,
    "start_time": "2022-08-27T15:50:02.355Z"
   },
   {
    "duration": 723,
    "start_time": "2022-08-27T15:51:04.834Z"
   },
   {
    "duration": 1474,
    "start_time": "2022-08-27T15:52:19.479Z"
   },
   {
    "duration": 971,
    "start_time": "2022-08-27T15:52:20.955Z"
   },
   {
    "duration": 94,
    "start_time": "2022-08-27T15:52:21.928Z"
   },
   {
    "duration": 106,
    "start_time": "2022-08-27T15:52:22.024Z"
   },
   {
    "duration": 176,
    "start_time": "2022-08-27T15:52:22.131Z"
   },
   {
    "duration": 40,
    "start_time": "2022-08-27T15:52:22.309Z"
   },
   {
    "duration": 92,
    "start_time": "2022-08-27T15:52:22.351Z"
   },
   {
    "duration": 72,
    "start_time": "2022-08-27T15:52:22.445Z"
   },
   {
    "duration": 66,
    "start_time": "2022-08-27T15:52:22.519Z"
   },
   {
    "duration": 8,
    "start_time": "2022-08-27T15:52:22.589Z"
   },
   {
    "duration": 9,
    "start_time": "2022-08-27T15:52:22.598Z"
   },
   {
    "duration": 11,
    "start_time": "2022-08-27T15:52:22.609Z"
   },
   {
    "duration": 194,
    "start_time": "2022-08-27T15:52:22.621Z"
   },
   {
    "duration": 17,
    "start_time": "2022-08-27T15:52:22.817Z"
   },
   {
    "duration": 15,
    "start_time": "2022-08-27T15:52:22.836Z"
   },
   {
    "duration": 12,
    "start_time": "2022-08-27T15:52:22.853Z"
   },
   {
    "duration": 46,
    "start_time": "2022-08-27T15:52:22.866Z"
   },
   {
    "duration": 19,
    "start_time": "2022-08-27T15:52:22.914Z"
   },
   {
    "duration": 9,
    "start_time": "2022-08-27T15:52:22.935Z"
   },
   {
    "duration": 14,
    "start_time": "2022-08-27T15:52:22.946Z"
   },
   {
    "duration": 27,
    "start_time": "2022-08-27T15:52:22.961Z"
   },
   {
    "duration": 106,
    "start_time": "2022-08-27T15:52:22.990Z"
   },
   {
    "duration": 11,
    "start_time": "2022-08-27T15:52:23.097Z"
   },
   {
    "duration": 12,
    "start_time": "2022-08-27T15:52:23.110Z"
   },
   {
    "duration": 12,
    "start_time": "2022-08-27T15:52:23.124Z"
   },
   {
    "duration": 13,
    "start_time": "2022-08-27T15:52:23.137Z"
   },
   {
    "duration": 9,
    "start_time": "2022-08-27T15:52:23.151Z"
   },
   {
    "duration": 28,
    "start_time": "2022-08-27T15:52:23.163Z"
   },
   {
    "duration": 3,
    "start_time": "2022-08-27T15:52:23.193Z"
   },
   {
    "duration": 42,
    "start_time": "2022-08-27T15:52:23.198Z"
   },
   {
    "duration": 368,
    "start_time": "2022-08-27T15:52:34.867Z"
   },
   {
    "duration": 108,
    "start_time": "2022-08-27T15:52:38.052Z"
   },
   {
    "duration": 742,
    "start_time": "2022-08-27T15:52:42.471Z"
   },
   {
    "duration": 745,
    "start_time": "2022-08-27T16:05:00.840Z"
   },
   {
    "duration": 45,
    "start_time": "2022-08-27T16:05:03.765Z"
   },
   {
    "duration": 481,
    "start_time": "2022-08-27T16:05:08.271Z"
   },
   {
    "duration": 106,
    "start_time": "2022-08-27T16:05:14.135Z"
   },
   {
    "duration": 469,
    "start_time": "2022-08-27T16:06:47.040Z"
   },
   {
    "duration": 10,
    "start_time": "2022-08-27T16:07:03.193Z"
   },
   {
    "duration": 712,
    "start_time": "2022-08-27T16:07:22.106Z"
   },
   {
    "duration": 42,
    "start_time": "2022-08-27T16:07:22.820Z"
   },
   {
    "duration": 487,
    "start_time": "2022-08-27T16:07:23.248Z"
   },
   {
    "duration": 10,
    "start_time": "2022-08-27T16:07:25.894Z"
   },
   {
    "duration": 11,
    "start_time": "2022-08-27T16:07:54.697Z"
   },
   {
    "duration": 746,
    "start_time": "2022-08-27T16:08:08.514Z"
   },
   {
    "duration": 50,
    "start_time": "2022-08-27T16:08:09.262Z"
   },
   {
    "duration": 479,
    "start_time": "2022-08-27T16:08:09.435Z"
   },
   {
    "duration": 10,
    "start_time": "2022-08-27T16:08:11.100Z"
   },
   {
    "duration": 4,
    "start_time": "2022-08-27T16:08:24.148Z"
   },
   {
    "duration": 9,
    "start_time": "2022-08-27T16:18:41.585Z"
   },
   {
    "duration": 1455,
    "start_time": "2022-08-27T16:18:58.034Z"
   },
   {
    "duration": 0,
    "start_time": "2022-08-27T16:18:59.493Z"
   },
   {
    "duration": 0,
    "start_time": "2022-08-27T16:18:59.495Z"
   },
   {
    "duration": 0,
    "start_time": "2022-08-27T16:18:59.496Z"
   },
   {
    "duration": 0,
    "start_time": "2022-08-27T16:18:59.496Z"
   },
   {
    "duration": 0,
    "start_time": "2022-08-27T16:18:59.498Z"
   },
   {
    "duration": 0,
    "start_time": "2022-08-27T16:18:59.499Z"
   },
   {
    "duration": 0,
    "start_time": "2022-08-27T16:18:59.499Z"
   },
   {
    "duration": 0,
    "start_time": "2022-08-27T16:18:59.500Z"
   },
   {
    "duration": 0,
    "start_time": "2022-08-27T16:18:59.501Z"
   },
   {
    "duration": 0,
    "start_time": "2022-08-27T16:18:59.502Z"
   },
   {
    "duration": 0,
    "start_time": "2022-08-27T16:18:59.503Z"
   },
   {
    "duration": 0,
    "start_time": "2022-08-27T16:18:59.504Z"
   },
   {
    "duration": 0,
    "start_time": "2022-08-27T16:18:59.505Z"
   },
   {
    "duration": 0,
    "start_time": "2022-08-27T16:18:59.506Z"
   },
   {
    "duration": 0,
    "start_time": "2022-08-27T16:18:59.507Z"
   },
   {
    "duration": 0,
    "start_time": "2022-08-27T16:18:59.508Z"
   },
   {
    "duration": 0,
    "start_time": "2022-08-27T16:18:59.509Z"
   },
   {
    "duration": 0,
    "start_time": "2022-08-27T16:18:59.510Z"
   },
   {
    "duration": 0,
    "start_time": "2022-08-27T16:18:59.512Z"
   },
   {
    "duration": 0,
    "start_time": "2022-08-27T16:18:59.513Z"
   },
   {
    "duration": 0,
    "start_time": "2022-08-27T16:18:59.514Z"
   },
   {
    "duration": 0,
    "start_time": "2022-08-27T16:18:59.515Z"
   },
   {
    "duration": 0,
    "start_time": "2022-08-27T16:18:59.516Z"
   },
   {
    "duration": 0,
    "start_time": "2022-08-27T16:18:59.517Z"
   },
   {
    "duration": 0,
    "start_time": "2022-08-27T16:18:59.518Z"
   },
   {
    "duration": 0,
    "start_time": "2022-08-27T16:18:59.519Z"
   },
   {
    "duration": 0,
    "start_time": "2022-08-27T16:18:59.520Z"
   },
   {
    "duration": 0,
    "start_time": "2022-08-27T16:18:59.521Z"
   },
   {
    "duration": 0,
    "start_time": "2022-08-27T16:18:59.522Z"
   },
   {
    "duration": 0,
    "start_time": "2022-08-27T16:18:59.524Z"
   },
   {
    "duration": 0,
    "start_time": "2022-08-27T16:18:59.525Z"
   },
   {
    "duration": 0,
    "start_time": "2022-08-27T16:18:59.525Z"
   },
   {
    "duration": 0,
    "start_time": "2022-08-27T16:18:59.526Z"
   },
   {
    "duration": 0,
    "start_time": "2022-08-27T16:18:59.527Z"
   },
   {
    "duration": 0,
    "start_time": "2022-08-27T16:18:59.527Z"
   },
   {
    "duration": 0,
    "start_time": "2022-08-27T16:18:59.530Z"
   },
   {
    "duration": 0,
    "start_time": "2022-08-27T16:18:59.530Z"
   },
   {
    "duration": 0,
    "start_time": "2022-08-27T16:18:59.531Z"
   },
   {
    "duration": 129,
    "start_time": "2022-08-27T16:20:42.274Z"
   },
   {
    "duration": 940,
    "start_time": "2022-08-27T16:20:48.263Z"
   },
   {
    "duration": 4,
    "start_time": "2022-08-27T16:21:14.387Z"
   },
   {
    "duration": 1505,
    "start_time": "2022-08-27T16:21:14.393Z"
   },
   {
    "duration": 62,
    "start_time": "2022-08-27T16:21:15.899Z"
   },
   {
    "duration": 128,
    "start_time": "2022-08-27T16:21:15.963Z"
   },
   {
    "duration": 191,
    "start_time": "2022-08-27T16:21:16.093Z"
   },
   {
    "duration": 58,
    "start_time": "2022-08-27T16:21:16.288Z"
   },
   {
    "duration": 121,
    "start_time": "2022-08-27T16:21:16.348Z"
   },
   {
    "duration": 73,
    "start_time": "2022-08-27T16:21:16.471Z"
   },
   {
    "duration": 45,
    "start_time": "2022-08-27T16:21:16.546Z"
   },
   {
    "duration": 10,
    "start_time": "2022-08-27T16:21:16.594Z"
   },
   {
    "duration": 13,
    "start_time": "2022-08-27T16:21:16.607Z"
   },
   {
    "duration": 21,
    "start_time": "2022-08-27T16:21:16.622Z"
   },
   {
    "duration": 196,
    "start_time": "2022-08-27T16:21:16.647Z"
   },
   {
    "duration": 18,
    "start_time": "2022-08-27T16:21:16.845Z"
   },
   {
    "duration": 28,
    "start_time": "2022-08-27T16:21:16.865Z"
   },
   {
    "duration": 14,
    "start_time": "2022-08-27T16:21:16.894Z"
   },
   {
    "duration": 29,
    "start_time": "2022-08-27T16:21:16.910Z"
   },
   {
    "duration": 19,
    "start_time": "2022-08-27T16:21:16.941Z"
   },
   {
    "duration": 31,
    "start_time": "2022-08-27T16:21:16.961Z"
   },
   {
    "duration": 12,
    "start_time": "2022-08-27T16:21:16.994Z"
   },
   {
    "duration": 7,
    "start_time": "2022-08-27T16:21:17.008Z"
   },
   {
    "duration": 59,
    "start_time": "2022-08-27T16:21:17.016Z"
   },
   {
    "duration": 10,
    "start_time": "2022-08-27T16:21:17.077Z"
   },
   {
    "duration": 19,
    "start_time": "2022-08-27T16:21:17.089Z"
   },
   {
    "duration": 24,
    "start_time": "2022-08-27T16:21:17.110Z"
   },
   {
    "duration": 14,
    "start_time": "2022-08-27T16:21:17.136Z"
   },
   {
    "duration": 11,
    "start_time": "2022-08-27T16:21:17.151Z"
   },
   {
    "duration": 8,
    "start_time": "2022-08-27T16:21:17.163Z"
   },
   {
    "duration": 6,
    "start_time": "2022-08-27T16:21:17.172Z"
   },
   {
    "duration": 48,
    "start_time": "2022-08-27T16:21:17.179Z"
   },
   {
    "duration": 385,
    "start_time": "2022-08-27T16:21:17.229Z"
   },
   {
    "duration": 123,
    "start_time": "2022-08-27T16:21:17.616Z"
   },
   {
    "duration": 735,
    "start_time": "2022-08-27T16:21:17.741Z"
   },
   {
    "duration": 497,
    "start_time": "2022-08-27T16:21:18.478Z"
   },
   {
    "duration": 10,
    "start_time": "2022-08-27T16:21:18.977Z"
   },
   {
    "duration": 18,
    "start_time": "2022-08-27T16:21:18.989Z"
   },
   {
    "duration": 8,
    "start_time": "2022-08-27T16:21:19.011Z"
   },
   {
    "duration": 9,
    "start_time": "2022-08-27T16:21:19.021Z"
   },
   {
    "duration": 34,
    "start_time": "2022-08-27T16:21:19.032Z"
   },
   {
    "duration": 101,
    "start_time": "2022-08-27T16:21:55.046Z"
   },
   {
    "duration": 6,
    "start_time": "2022-08-27T16:22:01.857Z"
   },
   {
    "duration": 6,
    "start_time": "2022-08-27T16:22:03.109Z"
   },
   {
    "duration": 9,
    "start_time": "2022-08-27T16:22:06.323Z"
   },
   {
    "duration": 13,
    "start_time": "2022-08-27T16:22:14.196Z"
   },
   {
    "duration": 10,
    "start_time": "2022-08-27T16:22:48.591Z"
   },
   {
    "duration": 14,
    "start_time": "2022-08-27T16:22:49.505Z"
   },
   {
    "duration": 45,
    "start_time": "2022-08-27T16:31:00.809Z"
   },
   {
    "duration": 9,
    "start_time": "2022-08-27T16:31:07.349Z"
   },
   {
    "duration": 42,
    "start_time": "2022-08-27T16:36:03.866Z"
   },
   {
    "duration": 1181,
    "start_time": "2022-08-27T16:41:11.417Z"
   },
   {
    "duration": 797,
    "start_time": "2022-08-27T16:41:12.600Z"
   },
   {
    "duration": 62,
    "start_time": "2022-08-27T16:41:13.398Z"
   },
   {
    "duration": 113,
    "start_time": "2022-08-27T16:41:13.463Z"
   },
   {
    "duration": 176,
    "start_time": "2022-08-27T16:41:13.586Z"
   },
   {
    "duration": 53,
    "start_time": "2022-08-27T16:41:13.765Z"
   },
   {
    "duration": 91,
    "start_time": "2022-08-27T16:41:13.819Z"
   },
   {
    "duration": 62,
    "start_time": "2022-08-27T16:41:13.912Z"
   },
   {
    "duration": 31,
    "start_time": "2022-08-27T16:41:13.987Z"
   },
   {
    "duration": 9,
    "start_time": "2022-08-27T16:41:14.022Z"
   },
   {
    "duration": 14,
    "start_time": "2022-08-27T16:41:14.033Z"
   },
   {
    "duration": 14,
    "start_time": "2022-08-27T16:41:14.049Z"
   },
   {
    "duration": 182,
    "start_time": "2022-08-27T16:41:14.064Z"
   },
   {
    "duration": 17,
    "start_time": "2022-08-27T16:41:14.248Z"
   },
   {
    "duration": 22,
    "start_time": "2022-08-27T16:41:14.266Z"
   },
   {
    "duration": 14,
    "start_time": "2022-08-27T16:41:14.289Z"
   },
   {
    "duration": 30,
    "start_time": "2022-08-27T16:41:14.304Z"
   },
   {
    "duration": 23,
    "start_time": "2022-08-27T16:41:14.336Z"
   },
   {
    "duration": 31,
    "start_time": "2022-08-27T16:41:14.361Z"
   },
   {
    "duration": 13,
    "start_time": "2022-08-27T16:41:14.394Z"
   },
   {
    "duration": 6,
    "start_time": "2022-08-27T16:41:14.409Z"
   },
   {
    "duration": 46,
    "start_time": "2022-08-27T16:41:14.417Z"
   },
   {
    "duration": 11,
    "start_time": "2022-08-27T16:41:14.464Z"
   },
   {
    "duration": 15,
    "start_time": "2022-08-27T16:41:14.477Z"
   },
   {
    "duration": 15,
    "start_time": "2022-08-27T16:41:14.494Z"
   },
   {
    "duration": 13,
    "start_time": "2022-08-27T16:41:14.510Z"
   },
   {
    "duration": 9,
    "start_time": "2022-08-27T16:41:14.524Z"
   },
   {
    "duration": 8,
    "start_time": "2022-08-27T16:41:14.536Z"
   },
   {
    "duration": 4,
    "start_time": "2022-08-27T16:41:14.546Z"
   },
   {
    "duration": 70,
    "start_time": "2022-08-27T16:41:14.552Z"
   },
   {
    "duration": 753,
    "start_time": "2022-08-27T16:41:14.623Z"
   },
   {
    "duration": 510,
    "start_time": "2022-08-27T16:41:15.378Z"
   },
   {
    "duration": 3,
    "start_time": "2022-08-27T16:41:15.890Z"
   },
   {
    "duration": 15,
    "start_time": "2022-08-27T16:41:15.894Z"
   },
   {
    "duration": 9,
    "start_time": "2022-08-27T16:41:15.910Z"
   },
   {
    "duration": 11,
    "start_time": "2022-08-27T16:41:15.920Z"
   },
   {
    "duration": 39,
    "start_time": "2022-08-27T16:41:15.932Z"
   },
   {
    "duration": 119,
    "start_time": "2022-08-27T16:41:15.987Z"
   },
   {
    "duration": 6,
    "start_time": "2022-08-27T16:41:16.108Z"
   },
   {
    "duration": 13,
    "start_time": "2022-08-27T16:41:16.115Z"
   },
   {
    "duration": 40,
    "start_time": "2022-08-27T16:41:16.129Z"
   },
   {
    "duration": 43,
    "start_time": "2022-08-27T16:41:16.171Z"
   },
   {
    "duration": 17,
    "start_time": "2022-08-27T16:41:16.216Z"
   },
   {
    "duration": 12,
    "start_time": "2022-08-27T16:41:16.235Z"
   },
   {
    "duration": 40,
    "start_time": "2022-08-27T16:41:16.249Z"
   },
   {
    "duration": 459,
    "start_time": "2022-08-27T16:41:16.290Z"
   },
   {
    "duration": 453,
    "start_time": "2022-08-27T16:41:16.751Z"
   },
   {
    "duration": 20,
    "start_time": "2022-08-27T16:41:17.206Z"
   },
   {
    "duration": 15,
    "start_time": "2022-08-27T16:41:17.227Z"
   },
   {
    "duration": 15,
    "start_time": "2022-08-27T16:41:17.243Z"
   },
   {
    "duration": 101,
    "start_time": "2022-08-27T16:41:17.259Z"
   },
   {
    "duration": 14,
    "start_time": "2022-08-27T16:41:17.362Z"
   },
   {
    "duration": 1183,
    "start_time": "2022-08-27T16:46:28.877Z"
   },
   {
    "duration": 818,
    "start_time": "2022-08-27T16:46:30.062Z"
   },
   {
    "duration": 59,
    "start_time": "2022-08-27T16:46:30.887Z"
   },
   {
    "duration": 105,
    "start_time": "2022-08-27T16:46:30.948Z"
   },
   {
    "duration": 176,
    "start_time": "2022-08-27T16:46:31.055Z"
   },
   {
    "duration": 38,
    "start_time": "2022-08-27T16:46:31.233Z"
   },
   {
    "duration": 88,
    "start_time": "2022-08-27T16:46:31.273Z"
   },
   {
    "duration": 64,
    "start_time": "2022-08-27T16:46:31.362Z"
   },
   {
    "duration": 34,
    "start_time": "2022-08-27T16:46:31.428Z"
   },
   {
    "duration": 8,
    "start_time": "2022-08-27T16:46:31.464Z"
   },
   {
    "duration": 23,
    "start_time": "2022-08-27T16:46:31.474Z"
   },
   {
    "duration": 16,
    "start_time": "2022-08-27T16:46:31.498Z"
   },
   {
    "duration": 122,
    "start_time": "2022-08-27T16:46:31.515Z"
   },
   {
    "duration": 16,
    "start_time": "2022-08-27T16:46:31.639Z"
   },
   {
    "duration": 40,
    "start_time": "2022-08-27T16:46:31.657Z"
   },
   {
    "duration": 12,
    "start_time": "2022-08-27T16:46:31.698Z"
   },
   {
    "duration": 46,
    "start_time": "2022-08-27T16:46:31.711Z"
   },
   {
    "duration": 19,
    "start_time": "2022-08-27T16:46:31.759Z"
   },
   {
    "duration": 14,
    "start_time": "2022-08-27T16:46:31.780Z"
   },
   {
    "duration": 18,
    "start_time": "2022-08-27T16:46:31.795Z"
   },
   {
    "duration": 12,
    "start_time": "2022-08-27T16:46:31.815Z"
   },
   {
    "duration": 65,
    "start_time": "2022-08-27T16:46:31.829Z"
   },
   {
    "duration": 11,
    "start_time": "2022-08-27T16:46:31.896Z"
   },
   {
    "duration": 16,
    "start_time": "2022-08-27T16:46:31.909Z"
   },
   {
    "duration": 26,
    "start_time": "2022-08-27T16:46:31.927Z"
   },
   {
    "duration": 27,
    "start_time": "2022-08-27T16:46:31.954Z"
   },
   {
    "duration": 10,
    "start_time": "2022-08-27T16:46:31.982Z"
   },
   {
    "duration": 7,
    "start_time": "2022-08-27T16:46:31.996Z"
   },
   {
    "duration": 17,
    "start_time": "2022-08-27T16:46:32.005Z"
   },
   {
    "duration": 72,
    "start_time": "2022-08-27T16:46:32.023Z"
   },
   {
    "duration": 722,
    "start_time": "2022-08-27T16:46:32.096Z"
   },
   {
    "duration": 497,
    "start_time": "2022-08-27T16:46:32.819Z"
   },
   {
    "duration": 3,
    "start_time": "2022-08-27T16:46:33.317Z"
   },
   {
    "duration": 11,
    "start_time": "2022-08-27T16:46:33.322Z"
   },
   {
    "duration": 10,
    "start_time": "2022-08-27T16:46:33.334Z"
   },
   {
    "duration": 9,
    "start_time": "2022-08-27T16:46:33.346Z"
   },
   {
    "duration": 51,
    "start_time": "2022-08-27T16:46:33.357Z"
   },
   {
    "duration": 104,
    "start_time": "2022-08-27T16:46:33.409Z"
   },
   {
    "duration": 7,
    "start_time": "2022-08-27T16:46:33.514Z"
   },
   {
    "duration": 11,
    "start_time": "2022-08-27T16:46:33.523Z"
   },
   {
    "duration": 65,
    "start_time": "2022-08-27T16:46:33.536Z"
   },
   {
    "duration": 19,
    "start_time": "2022-08-27T16:46:33.603Z"
   },
   {
    "duration": 14,
    "start_time": "2022-08-27T16:46:33.624Z"
   },
   {
    "duration": 9,
    "start_time": "2022-08-27T16:46:33.640Z"
   },
   {
    "duration": 38,
    "start_time": "2022-08-27T16:46:33.651Z"
   },
   {
    "duration": 349,
    "start_time": "2022-08-27T16:46:33.691Z"
   },
   {
    "duration": 451,
    "start_time": "2022-08-27T16:46:34.042Z"
   },
   {
    "duration": 20,
    "start_time": "2022-08-27T16:46:34.494Z"
   },
   {
    "duration": 25,
    "start_time": "2022-08-27T16:46:34.516Z"
   },
   {
    "duration": 26,
    "start_time": "2022-08-27T16:46:34.542Z"
   },
   {
    "duration": 86,
    "start_time": "2022-08-27T16:46:34.570Z"
   },
   {
    "duration": 54,
    "start_time": "2022-08-27T16:46:34.657Z"
   },
   {
    "duration": 1140,
    "start_time": "2022-08-27T16:56:38.025Z"
   },
   {
    "duration": 816,
    "start_time": "2022-08-27T16:56:39.167Z"
   },
   {
    "duration": 72,
    "start_time": "2022-08-27T16:56:39.984Z"
   },
   {
    "duration": 117,
    "start_time": "2022-08-27T16:56:40.058Z"
   },
   {
    "duration": 184,
    "start_time": "2022-08-27T16:56:40.177Z"
   },
   {
    "duration": 51,
    "start_time": "2022-08-27T16:56:40.362Z"
   },
   {
    "duration": 100,
    "start_time": "2022-08-27T16:56:40.415Z"
   },
   {
    "duration": 77,
    "start_time": "2022-08-27T16:56:40.518Z"
   },
   {
    "duration": 70,
    "start_time": "2022-08-27T16:56:40.597Z"
   },
   {
    "duration": 10,
    "start_time": "2022-08-27T16:56:40.669Z"
   },
   {
    "duration": 10,
    "start_time": "2022-08-27T16:56:40.680Z"
   },
   {
    "duration": 14,
    "start_time": "2022-08-27T16:56:40.692Z"
   },
   {
    "duration": 169,
    "start_time": "2022-08-27T16:56:40.707Z"
   },
   {
    "duration": 18,
    "start_time": "2022-08-27T16:56:40.880Z"
   },
   {
    "duration": 15,
    "start_time": "2022-08-27T16:56:40.900Z"
   },
   {
    "duration": 19,
    "start_time": "2022-08-27T16:56:40.916Z"
   },
   {
    "duration": 57,
    "start_time": "2022-08-27T16:56:40.937Z"
   },
   {
    "duration": 28,
    "start_time": "2022-08-27T16:56:40.997Z"
   },
   {
    "duration": 21,
    "start_time": "2022-08-27T16:56:41.027Z"
   },
   {
    "duration": 20,
    "start_time": "2022-08-27T16:56:41.050Z"
   },
   {
    "duration": 18,
    "start_time": "2022-08-27T16:56:41.072Z"
   },
   {
    "duration": 109,
    "start_time": "2022-08-27T16:56:41.092Z"
   },
   {
    "duration": 17,
    "start_time": "2022-08-27T16:56:41.203Z"
   },
   {
    "duration": 15,
    "start_time": "2022-08-27T16:56:41.222Z"
   },
   {
    "duration": 15,
    "start_time": "2022-08-27T16:56:41.240Z"
   },
   {
    "duration": 33,
    "start_time": "2022-08-27T16:56:41.257Z"
   },
   {
    "duration": 11,
    "start_time": "2022-08-27T16:56:41.292Z"
   },
   {
    "duration": 11,
    "start_time": "2022-08-27T16:56:41.305Z"
   },
   {
    "duration": 7,
    "start_time": "2022-08-27T16:56:41.318Z"
   },
   {
    "duration": 67,
    "start_time": "2022-08-27T16:56:41.327Z"
   },
   {
    "duration": 759,
    "start_time": "2022-08-27T16:56:41.396Z"
   },
   {
    "duration": 532,
    "start_time": "2022-08-27T16:56:42.157Z"
   },
   {
    "duration": 4,
    "start_time": "2022-08-27T16:56:42.691Z"
   },
   {
    "duration": 19,
    "start_time": "2022-08-27T16:56:42.696Z"
   },
   {
    "duration": 12,
    "start_time": "2022-08-27T16:56:42.717Z"
   },
   {
    "duration": 14,
    "start_time": "2022-08-27T16:56:42.731Z"
   },
   {
    "duration": 44,
    "start_time": "2022-08-27T16:56:42.747Z"
   },
   {
    "duration": 114,
    "start_time": "2022-08-27T16:56:42.793Z"
   },
   {
    "duration": 10,
    "start_time": "2022-08-27T16:56:42.909Z"
   },
   {
    "duration": 18,
    "start_time": "2022-08-27T16:56:42.921Z"
   },
   {
    "duration": 56,
    "start_time": "2022-08-27T16:56:42.943Z"
   },
   {
    "duration": 21,
    "start_time": "2022-08-27T16:56:43.000Z"
   },
   {
    "duration": 14,
    "start_time": "2022-08-27T16:56:43.022Z"
   },
   {
    "duration": 11,
    "start_time": "2022-08-27T16:56:43.038Z"
   },
   {
    "duration": 47,
    "start_time": "2022-08-27T16:56:43.050Z"
   },
   {
    "duration": 380,
    "start_time": "2022-08-27T16:56:43.099Z"
   },
   {
    "duration": 459,
    "start_time": "2022-08-27T16:56:43.481Z"
   },
   {
    "duration": 20,
    "start_time": "2022-08-27T16:56:43.942Z"
   },
   {
    "duration": 27,
    "start_time": "2022-08-27T16:56:43.964Z"
   },
   {
    "duration": 17,
    "start_time": "2022-08-27T16:56:43.993Z"
   },
   {
    "duration": 98,
    "start_time": "2022-08-27T16:56:44.012Z"
   },
   {
    "duration": 24,
    "start_time": "2022-08-27T16:56:44.112Z"
   },
   {
    "duration": 1421,
    "start_time": "2022-08-28T04:24:18.124Z"
   },
   {
    "duration": 965,
    "start_time": "2022-08-28T04:24:19.547Z"
   },
   {
    "duration": 58,
    "start_time": "2022-08-28T04:24:20.514Z"
   },
   {
    "duration": 99,
    "start_time": "2022-08-28T04:24:20.574Z"
   },
   {
    "duration": 169,
    "start_time": "2022-08-28T04:24:20.675Z"
   },
   {
    "duration": 47,
    "start_time": "2022-08-28T04:24:20.845Z"
   },
   {
    "duration": 71,
    "start_time": "2022-08-28T04:24:20.894Z"
   },
   {
    "duration": 76,
    "start_time": "2022-08-28T04:24:20.966Z"
   },
   {
    "duration": 44,
    "start_time": "2022-08-28T04:24:21.043Z"
   },
   {
    "duration": 8,
    "start_time": "2022-08-28T04:24:21.090Z"
   },
   {
    "duration": 7,
    "start_time": "2022-08-28T04:24:21.100Z"
   },
   {
    "duration": 10,
    "start_time": "2022-08-28T04:24:21.109Z"
   },
   {
    "duration": 272,
    "start_time": "2022-08-28T04:24:21.121Z"
   },
   {
    "duration": 18,
    "start_time": "2022-08-28T04:24:21.395Z"
   },
   {
    "duration": 33,
    "start_time": "2022-08-28T04:24:21.414Z"
   },
   {
    "duration": 19,
    "start_time": "2022-08-28T04:24:21.449Z"
   },
   {
    "duration": 43,
    "start_time": "2022-08-28T04:24:21.469Z"
   },
   {
    "duration": 19,
    "start_time": "2022-08-28T04:24:21.514Z"
   },
   {
    "duration": 9,
    "start_time": "2022-08-28T04:24:21.535Z"
   },
   {
    "duration": 27,
    "start_time": "2022-08-28T04:24:21.546Z"
   },
   {
    "duration": 22,
    "start_time": "2022-08-28T04:24:21.574Z"
   },
   {
    "duration": 64,
    "start_time": "2022-08-28T04:24:21.598Z"
   },
   {
    "duration": 11,
    "start_time": "2022-08-28T04:24:21.663Z"
   },
   {
    "duration": 20,
    "start_time": "2022-08-28T04:24:21.676Z"
   },
   {
    "duration": 25,
    "start_time": "2022-08-28T04:24:21.697Z"
   },
   {
    "duration": 19,
    "start_time": "2022-08-28T04:24:21.724Z"
   },
   {
    "duration": 16,
    "start_time": "2022-08-28T04:24:21.745Z"
   },
   {
    "duration": 19,
    "start_time": "2022-08-28T04:24:21.764Z"
   },
   {
    "duration": 14,
    "start_time": "2022-08-28T04:24:21.784Z"
   },
   {
    "duration": 64,
    "start_time": "2022-08-28T04:24:21.800Z"
   },
   {
    "duration": 737,
    "start_time": "2022-08-28T04:24:21.865Z"
   },
   {
    "duration": 517,
    "start_time": "2022-08-28T04:24:22.603Z"
   },
   {
    "duration": 3,
    "start_time": "2022-08-28T04:24:23.122Z"
   },
   {
    "duration": 13,
    "start_time": "2022-08-28T04:24:23.127Z"
   },
   {
    "duration": 28,
    "start_time": "2022-08-28T04:24:23.142Z"
   },
   {
    "duration": 19,
    "start_time": "2022-08-28T04:24:23.173Z"
   },
   {
    "duration": 54,
    "start_time": "2022-08-28T04:24:23.194Z"
   },
   {
    "duration": 107,
    "start_time": "2022-08-28T04:24:23.250Z"
   },
   {
    "duration": 8,
    "start_time": "2022-08-28T04:24:23.358Z"
   },
   {
    "duration": 17,
    "start_time": "2022-08-28T04:24:23.367Z"
   },
   {
    "duration": 59,
    "start_time": "2022-08-28T04:24:23.386Z"
   },
   {
    "duration": 19,
    "start_time": "2022-08-28T04:24:23.447Z"
   },
   {
    "duration": 15,
    "start_time": "2022-08-28T04:24:23.467Z"
   },
   {
    "duration": 11,
    "start_time": "2022-08-28T04:24:23.487Z"
   },
   {
    "duration": 13,
    "start_time": "2022-08-28T04:24:23.499Z"
   },
   {
    "duration": 360,
    "start_time": "2022-08-28T04:24:23.513Z"
   },
   {
    "duration": 461,
    "start_time": "2022-08-28T04:24:23.874Z"
   },
   {
    "duration": 20,
    "start_time": "2022-08-28T04:24:24.336Z"
   },
   {
    "duration": 30,
    "start_time": "2022-08-28T04:24:24.357Z"
   },
   {
    "duration": 82,
    "start_time": "2022-08-28T04:24:24.389Z"
   },
   {
    "duration": 20,
    "start_time": "2022-08-28T04:24:24.472Z"
   },
   {
    "duration": 17,
    "start_time": "2022-08-28T04:24:24.493Z"
   },
   {
    "duration": 12,
    "start_time": "2022-08-28T04:39:07.353Z"
   },
   {
    "duration": 13,
    "start_time": "2022-08-28T04:39:15.774Z"
   },
   {
    "duration": 12,
    "start_time": "2022-08-28T04:39:30.990Z"
   }
  ],
  "kernelspec": {
   "display_name": "Python 3 (ipykernel)",
   "language": "python",
   "name": "python3"
  },
  "language_info": {
   "codemirror_mode": {
    "name": "ipython",
    "version": 3
   },
   "file_extension": ".py",
   "mimetype": "text/x-python",
   "name": "python",
   "nbconvert_exporter": "python",
   "pygments_lexer": "ipython3",
   "version": "3.9.5"
  },
  "toc": {
   "base_numbering": 1,
   "nav_menu": {},
   "number_sections": true,
   "sideBar": true,
   "skip_h1_title": true,
   "title_cell": "Table of Contents",
   "title_sidebar": "Contents",
   "toc_cell": false,
   "toc_position": {},
   "toc_section_display": true,
   "toc_window_display": false
  }
 },
 "nbformat": 4,
 "nbformat_minor": 5
}
