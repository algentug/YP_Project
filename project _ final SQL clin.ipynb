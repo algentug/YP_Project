{
 "cells": [
  {
   "cell_type": "markdown",
   "id": "57597421",
   "metadata": {},
   "source": [
    "# SQL"
   ]
  },
  {
   "cell_type": "markdown",
   "id": "e1afd5d7",
   "metadata": {},
   "source": [
    "Коронавирус застал мир врасплох, изменив привычный порядок вещей. В свободное время жители городов больше не выходят на улицу, не посещают кафе и торговые центры. Зато стало больше времени для книг. Это заметили стартаперы — и бросились создавать приложения для тех, кто любит читать.\n",
    "\n",
    "Ваша компания решила быть на волне и купила крупный сервис для чтения книг по подписке. Ваша первая задача как аналитика — проанализировать базу данных.\n",
    "В ней — информация о книгах, издательствах, авторах, а также пользовательские обзоры книг. Эти данные помогут сформулировать ценностное предложение для нового продукта."
   ]
  },
  {
   "cell_type": "markdown",
   "id": "8c73c6b3",
   "metadata": {},
   "source": [
    "### Как выполнить задание?\n",
    "\n",
    "- Опишите цели исследования;\n",
    "- Исследуйте таблицы — выведите первые строки;\n",
    "- Сделайте по одному SQL-запросу для решения каждого задания;\n",
    "- Выведите результат каждого запроса в тетрадке;\n",
    "- Опишите выводы по каждой из решённых задач."
   ]
  },
  {
   "cell_type": "markdown",
   "id": "e7008a4c",
   "metadata": {},
   "source": [
    "## Содержание\n",
    "\n",
    "1. [Цель исследования](#step1)\n",
    "2. [Подключение](#step2)\n",
    "3. [Загрузка таблиц](#step23)\n",
    "3. [Задача 1](#step3)\n",
    "4. [Задача 2](#step4)\n",
    "5. [Задача 3](#step5)\n",
    "6. [Задача 4](#step6)\n",
    "7. [Задача 5](#step7)"
   ]
  },
  {
   "cell_type": "markdown",
   "id": "46a1942f",
   "metadata": {},
   "source": [
    "### Цель исследования<a id=\"step1\"></a>\n",
    "\n",
    "Проанализировать базу данных"
   ]
  },
  {
   "cell_type": "markdown",
   "id": "b8e135dc",
   "metadata": {},
   "source": [
    "### Задания\n",
    "\n",
    "- Посчитайте, сколько книг вышло после 1 января 2000 года;\n",
    "- Для каждой книги посчитайте количество обзоров и среднюю оценку;\n",
    "- Определите издательство, которое выпустило наибольшее число книг толще 50 страниц — так вы исключите из анализа брошюры;\n",
    "- Определите автора с самой высокой средней оценкой книг — учитывайте только книги с 50 и более оценками;\n",
    "- Посчитайте среднее количество обзоров от пользователей, которые поставили больше 50 оценок."
   ]
  },
  {
   "cell_type": "markdown",
   "id": "2f89cfd5",
   "metadata": {},
   "source": [
    "### Доступ к базе данных\n",
    "\n",
    "Следуйте инструкции, приложенной ниже\n",
    "\n",
    "[instructions_for_connecting_to_the_database.pdf](https://s3-us-west-2.amazonaws.com/secure.notion-static.com/bac02c0e-9489-4458-acff-4cd0ad912b46/instructions_for_connecting_to_the_database.pdf)"
   ]
  },
  {
   "cell_type": "markdown",
   "id": "c4a2eea8",
   "metadata": {},
   "source": [
    "### Примечания\n",
    "\n",
    "- Не забывайте про функции, они значительно облегчат жизнь при выполнении запросов;\n",
    "- Получите ответы, используя только язык запросов SQL. Pandas допускается только для хранения и вывода результатов."
   ]
  },
  {
   "cell_type": "markdown",
   "id": "e9092b39",
   "metadata": {},
   "source": [
    "<a id=\"step2\"></a>"
   ]
  },
  {
   "cell_type": "markdown",
   "id": "d5206673",
   "metadata": {},
   "source": [
    "**Импортируем библиотеки**"
   ]
  },
  {
   "cell_type": "code",
   "execution_count": 1,
   "id": "6cb82257",
   "metadata": {},
   "outputs": [],
   "source": [
    "import pandas as pd\n",
    "from sqlalchemy import create_engine"
   ]
  },
  {
   "cell_type": "markdown",
   "id": "d989943a",
   "metadata": {},
   "source": [
    "**Подключимся к базе данных.**"
   ]
  },
  {
   "cell_type": "code",
   "execution_count": 2,
   "id": "935af31a",
   "metadata": {},
   "outputs": [],
   "source": [
    "# устанавливаем параметры\n",
    "db_config = {'user': 'praktikum_student', # имя пользователя\n",
    "'pwd': 'Sdf4$2;d-d30pp', # пароль\n",
    "'host': 'rc1b-wcoijxj3yxfsf3fs.mdb.yandexcloud.net',\n",
    "'port': 6432, # порт подключения\n",
    "'db': 'data-analyst-final-project-db'} # название базы данных\n",
    "connection_string = 'postgresql://{}:{}@{}:{}/{}'.format(db_config['user'],\n",
    " db_config['pwd'],\n",
    " db_config['host'],\n",
    " db_config['port'],\n",
    " db_config['db'])\n",
    "# сохраняем коннектор\n",
    "engine = create_engine(connection_string, connect_args={'sslmode':'require'}) "
   ]
  },
  {
   "cell_type": "markdown",
   "id": "5eb49199",
   "metadata": {},
   "source": [
    "<a id=\"step23\"></a>"
   ]
  },
  {
   "cell_type": "markdown",
   "id": "95a6f63b",
   "metadata": {},
   "source": [
    "**Загрузим таблицу `books`**\n",
    "\n",
    "Содержит данные о книгах:\n",
    "\n",
    "- `book_id` — идентификатор книги;\n",
    "- `author_id` — идентификатор автора;\n",
    "- `title` — название книги;\n",
    "- `num_pages` — количество страниц;\n",
    "- `publication_date` — дата публикации книги;\n",
    "- `publisher_id` — идентификатор издателя."
   ]
  },
  {
   "cell_type": "code",
   "execution_count": 3,
   "id": "04a8e909",
   "metadata": {},
   "outputs": [
    {
     "data": {
      "text/html": [
       "<div>\n",
       "<style scoped>\n",
       "    .dataframe tbody tr th:only-of-type {\n",
       "        vertical-align: middle;\n",
       "    }\n",
       "\n",
       "    .dataframe tbody tr th {\n",
       "        vertical-align: top;\n",
       "    }\n",
       "\n",
       "    .dataframe thead th {\n",
       "        text-align: right;\n",
       "    }\n",
       "</style>\n",
       "<table border=\"1\" class=\"dataframe\">\n",
       "  <thead>\n",
       "    <tr style=\"text-align: right;\">\n",
       "      <th></th>\n",
       "      <th>book_id</th>\n",
       "      <th>author_id</th>\n",
       "      <th>title</th>\n",
       "      <th>num_pages</th>\n",
       "      <th>publication_date</th>\n",
       "      <th>publisher_id</th>\n",
       "    </tr>\n",
       "  </thead>\n",
       "  <tbody>\n",
       "    <tr>\n",
       "      <th>0</th>\n",
       "      <td>1</td>\n",
       "      <td>546</td>\n",
       "      <td>'Salem's Lot</td>\n",
       "      <td>594</td>\n",
       "      <td>2005-11-01</td>\n",
       "      <td>93</td>\n",
       "    </tr>\n",
       "    <tr>\n",
       "      <th>1</th>\n",
       "      <td>2</td>\n",
       "      <td>465</td>\n",
       "      <td>1 000 Places to See Before You Die</td>\n",
       "      <td>992</td>\n",
       "      <td>2003-05-22</td>\n",
       "      <td>336</td>\n",
       "    </tr>\n",
       "    <tr>\n",
       "      <th>2</th>\n",
       "      <td>3</td>\n",
       "      <td>407</td>\n",
       "      <td>13 Little Blue Envelopes (Little Blue Envelope...</td>\n",
       "      <td>322</td>\n",
       "      <td>2010-12-21</td>\n",
       "      <td>135</td>\n",
       "    </tr>\n",
       "    <tr>\n",
       "      <th>3</th>\n",
       "      <td>4</td>\n",
       "      <td>82</td>\n",
       "      <td>1491: New Revelations of the Americas Before C...</td>\n",
       "      <td>541</td>\n",
       "      <td>2006-10-10</td>\n",
       "      <td>309</td>\n",
       "    </tr>\n",
       "    <tr>\n",
       "      <th>4</th>\n",
       "      <td>5</td>\n",
       "      <td>125</td>\n",
       "      <td>1776</td>\n",
       "      <td>386</td>\n",
       "      <td>2006-07-04</td>\n",
       "      <td>268</td>\n",
       "    </tr>\n",
       "  </tbody>\n",
       "</table>\n",
       "</div>"
      ],
      "text/plain": [
       "   book_id  author_id                                              title  \\\n",
       "0        1        546                                       'Salem's Lot   \n",
       "1        2        465                 1 000 Places to See Before You Die   \n",
       "2        3        407  13 Little Blue Envelopes (Little Blue Envelope...   \n",
       "3        4         82  1491: New Revelations of the Americas Before C...   \n",
       "4        5        125                                               1776   \n",
       "\n",
       "   num_pages publication_date  publisher_id  \n",
       "0        594       2005-11-01            93  \n",
       "1        992       2003-05-22           336  \n",
       "2        322       2010-12-21           135  \n",
       "3        541       2006-10-10           309  \n",
       "4        386       2006-07-04           268  "
      ]
     },
     "execution_count": 3,
     "metadata": {},
     "output_type": "execute_result"
    }
   ],
   "source": [
    "query = '''\n",
    "\n",
    "SELECT *\n",
    "FROM books\n",
    "LIMIT 5\n",
    "\n",
    "'''\n",
    "pd.io.sql.read_sql(query, con = engine)"
   ]
  },
  {
   "cell_type": "markdown",
   "id": "59eae737",
   "metadata": {},
   "source": [
    "**Загрузим таблицу `authors`**\n",
    "\n",
    "Содержит данные об авторах:\n",
    "\n",
    "- `author_id` — идентификатор автора;\n",
    "- `author` — имя автора."
   ]
  },
  {
   "cell_type": "code",
   "execution_count": 4,
   "id": "854dad51",
   "metadata": {},
   "outputs": [
    {
     "data": {
      "text/html": [
       "<div>\n",
       "<style scoped>\n",
       "    .dataframe tbody tr th:only-of-type {\n",
       "        vertical-align: middle;\n",
       "    }\n",
       "\n",
       "    .dataframe tbody tr th {\n",
       "        vertical-align: top;\n",
       "    }\n",
       "\n",
       "    .dataframe thead th {\n",
       "        text-align: right;\n",
       "    }\n",
       "</style>\n",
       "<table border=\"1\" class=\"dataframe\">\n",
       "  <thead>\n",
       "    <tr style=\"text-align: right;\">\n",
       "      <th></th>\n",
       "      <th>author_id</th>\n",
       "      <th>author</th>\n",
       "    </tr>\n",
       "  </thead>\n",
       "  <tbody>\n",
       "    <tr>\n",
       "      <th>0</th>\n",
       "      <td>1</td>\n",
       "      <td>A.S. Byatt</td>\n",
       "    </tr>\n",
       "    <tr>\n",
       "      <th>1</th>\n",
       "      <td>2</td>\n",
       "      <td>Aesop/Laura Harris/Laura Gibbs</td>\n",
       "    </tr>\n",
       "    <tr>\n",
       "      <th>2</th>\n",
       "      <td>3</td>\n",
       "      <td>Agatha Christie</td>\n",
       "    </tr>\n",
       "    <tr>\n",
       "      <th>3</th>\n",
       "      <td>4</td>\n",
       "      <td>Alan Brennert</td>\n",
       "    </tr>\n",
       "    <tr>\n",
       "      <th>4</th>\n",
       "      <td>5</td>\n",
       "      <td>Alan Moore/David   Lloyd</td>\n",
       "    </tr>\n",
       "  </tbody>\n",
       "</table>\n",
       "</div>"
      ],
      "text/plain": [
       "   author_id                          author\n",
       "0          1                      A.S. Byatt\n",
       "1          2  Aesop/Laura Harris/Laura Gibbs\n",
       "2          3                 Agatha Christie\n",
       "3          4                   Alan Brennert\n",
       "4          5        Alan Moore/David   Lloyd"
      ]
     },
     "execution_count": 4,
     "metadata": {},
     "output_type": "execute_result"
    }
   ],
   "source": [
    "query = '''\n",
    "\n",
    "SELECT *\n",
    "FROM authors\n",
    "LIMIT 5\n",
    "\n",
    "'''\n",
    "pd.io.sql.read_sql(query, con = engine)"
   ]
  },
  {
   "cell_type": "markdown",
   "id": "ae9dd4ca",
   "metadata": {},
   "source": [
    "**Загрузим таблицу `ratings`**\n",
    "\n",
    "Содержит данные о пользовательских оценках книг:\n",
    "\n",
    "- `rating_id` — идентификатор оценки;\n",
    "- `book_id` — идентификатор книги;\n",
    "- `username` — имя пользователя, оставившего оценку;\n",
    "- `rating` — оценка книги."
   ]
  },
  {
   "cell_type": "code",
   "execution_count": 5,
   "id": "05b35627",
   "metadata": {},
   "outputs": [
    {
     "data": {
      "text/html": [
       "<div>\n",
       "<style scoped>\n",
       "    .dataframe tbody tr th:only-of-type {\n",
       "        vertical-align: middle;\n",
       "    }\n",
       "\n",
       "    .dataframe tbody tr th {\n",
       "        vertical-align: top;\n",
       "    }\n",
       "\n",
       "    .dataframe thead th {\n",
       "        text-align: right;\n",
       "    }\n",
       "</style>\n",
       "<table border=\"1\" class=\"dataframe\">\n",
       "  <thead>\n",
       "    <tr style=\"text-align: right;\">\n",
       "      <th></th>\n",
       "      <th>rating_id</th>\n",
       "      <th>book_id</th>\n",
       "      <th>username</th>\n",
       "      <th>rating</th>\n",
       "    </tr>\n",
       "  </thead>\n",
       "  <tbody>\n",
       "    <tr>\n",
       "      <th>0</th>\n",
       "      <td>1</td>\n",
       "      <td>1</td>\n",
       "      <td>ryanfranco</td>\n",
       "      <td>4</td>\n",
       "    </tr>\n",
       "    <tr>\n",
       "      <th>1</th>\n",
       "      <td>2</td>\n",
       "      <td>1</td>\n",
       "      <td>grantpatricia</td>\n",
       "      <td>2</td>\n",
       "    </tr>\n",
       "    <tr>\n",
       "      <th>2</th>\n",
       "      <td>3</td>\n",
       "      <td>1</td>\n",
       "      <td>brandtandrea</td>\n",
       "      <td>5</td>\n",
       "    </tr>\n",
       "    <tr>\n",
       "      <th>3</th>\n",
       "      <td>4</td>\n",
       "      <td>2</td>\n",
       "      <td>lorichen</td>\n",
       "      <td>3</td>\n",
       "    </tr>\n",
       "    <tr>\n",
       "      <th>4</th>\n",
       "      <td>5</td>\n",
       "      <td>2</td>\n",
       "      <td>mariokeller</td>\n",
       "      <td>2</td>\n",
       "    </tr>\n",
       "  </tbody>\n",
       "</table>\n",
       "</div>"
      ],
      "text/plain": [
       "   rating_id  book_id       username  rating\n",
       "0          1        1     ryanfranco       4\n",
       "1          2        1  grantpatricia       2\n",
       "2          3        1   brandtandrea       5\n",
       "3          4        2       lorichen       3\n",
       "4          5        2    mariokeller       2"
      ]
     },
     "execution_count": 5,
     "metadata": {},
     "output_type": "execute_result"
    }
   ],
   "source": [
    "query = '''\n",
    "\n",
    "SELECT *\n",
    "FROM ratings\n",
    "LIMIT 5\n",
    "'''\n",
    "pd.io.sql.read_sql(query, con = engine)"
   ]
  },
  {
   "cell_type": "markdown",
   "id": "d482dc11",
   "metadata": {},
   "source": [
    "**Загрузим таблицу `reviews`**\n",
    "\n",
    "Содержит данные о пользовательских обзорах на книги:\n",
    "\n",
    "- `review_id` — идентификатор обзора;\n",
    "- `book_id` — идентификатор книги;\n",
    "- `username` — имя пользователя, написавшего обзор;\n",
    "- `text` — текст обзора."
   ]
  },
  {
   "cell_type": "code",
   "execution_count": 6,
   "id": "aae5dfd9",
   "metadata": {},
   "outputs": [
    {
     "data": {
      "text/html": [
       "<div>\n",
       "<style scoped>\n",
       "    .dataframe tbody tr th:only-of-type {\n",
       "        vertical-align: middle;\n",
       "    }\n",
       "\n",
       "    .dataframe tbody tr th {\n",
       "        vertical-align: top;\n",
       "    }\n",
       "\n",
       "    .dataframe thead th {\n",
       "        text-align: right;\n",
       "    }\n",
       "</style>\n",
       "<table border=\"1\" class=\"dataframe\">\n",
       "  <thead>\n",
       "    <tr style=\"text-align: right;\">\n",
       "      <th></th>\n",
       "      <th>review_id</th>\n",
       "      <th>book_id</th>\n",
       "      <th>username</th>\n",
       "      <th>text</th>\n",
       "    </tr>\n",
       "  </thead>\n",
       "  <tbody>\n",
       "    <tr>\n",
       "      <th>0</th>\n",
       "      <td>1</td>\n",
       "      <td>1</td>\n",
       "      <td>brandtandrea</td>\n",
       "      <td>Mention society tell send professor analysis. ...</td>\n",
       "    </tr>\n",
       "    <tr>\n",
       "      <th>1</th>\n",
       "      <td>2</td>\n",
       "      <td>1</td>\n",
       "      <td>ryanfranco</td>\n",
       "      <td>Foot glass pretty audience hit themselves. Amo...</td>\n",
       "    </tr>\n",
       "    <tr>\n",
       "      <th>2</th>\n",
       "      <td>3</td>\n",
       "      <td>2</td>\n",
       "      <td>lorichen</td>\n",
       "      <td>Listen treat keep worry. Miss husband tax but ...</td>\n",
       "    </tr>\n",
       "    <tr>\n",
       "      <th>3</th>\n",
       "      <td>4</td>\n",
       "      <td>3</td>\n",
       "      <td>johnsonamanda</td>\n",
       "      <td>Finally month interesting blue could nature cu...</td>\n",
       "    </tr>\n",
       "    <tr>\n",
       "      <th>4</th>\n",
       "      <td>5</td>\n",
       "      <td>3</td>\n",
       "      <td>scotttamara</td>\n",
       "      <td>Nation purpose heavy give wait song will. List...</td>\n",
       "    </tr>\n",
       "  </tbody>\n",
       "</table>\n",
       "</div>"
      ],
      "text/plain": [
       "   review_id  book_id       username  \\\n",
       "0          1        1   brandtandrea   \n",
       "1          2        1     ryanfranco   \n",
       "2          3        2       lorichen   \n",
       "3          4        3  johnsonamanda   \n",
       "4          5        3    scotttamara   \n",
       "\n",
       "                                                text  \n",
       "0  Mention society tell send professor analysis. ...  \n",
       "1  Foot glass pretty audience hit themselves. Amo...  \n",
       "2  Listen treat keep worry. Miss husband tax but ...  \n",
       "3  Finally month interesting blue could nature cu...  \n",
       "4  Nation purpose heavy give wait song will. List...  "
      ]
     },
     "execution_count": 6,
     "metadata": {},
     "output_type": "execute_result"
    }
   ],
   "source": [
    "query = '''\n",
    "\n",
    "SELECT *\n",
    "FROM reviews\n",
    "LIMIT 5\n",
    "'''\n",
    "pd.io.sql.read_sql(query, con = engine)"
   ]
  },
  {
   "cell_type": "markdown",
   "id": "94cd3fb6",
   "metadata": {},
   "source": [
    "**Загрузим таблицу `publishers`**\n",
    "\n",
    "Содержит данные об издательствах:\n",
    "\n",
    "- `publisher_id` — идентификатор издательства;\n",
    "- `publisher` — название издательства;"
   ]
  },
  {
   "cell_type": "code",
   "execution_count": 7,
   "id": "03f3e175",
   "metadata": {},
   "outputs": [
    {
     "data": {
      "text/html": [
       "<div>\n",
       "<style scoped>\n",
       "    .dataframe tbody tr th:only-of-type {\n",
       "        vertical-align: middle;\n",
       "    }\n",
       "\n",
       "    .dataframe tbody tr th {\n",
       "        vertical-align: top;\n",
       "    }\n",
       "\n",
       "    .dataframe thead th {\n",
       "        text-align: right;\n",
       "    }\n",
       "</style>\n",
       "<table border=\"1\" class=\"dataframe\">\n",
       "  <thead>\n",
       "    <tr style=\"text-align: right;\">\n",
       "      <th></th>\n",
       "      <th>publisher_id</th>\n",
       "      <th>publisher</th>\n",
       "    </tr>\n",
       "  </thead>\n",
       "  <tbody>\n",
       "    <tr>\n",
       "      <th>0</th>\n",
       "      <td>1</td>\n",
       "      <td>Ace</td>\n",
       "    </tr>\n",
       "    <tr>\n",
       "      <th>1</th>\n",
       "      <td>2</td>\n",
       "      <td>Ace Book</td>\n",
       "    </tr>\n",
       "    <tr>\n",
       "      <th>2</th>\n",
       "      <td>3</td>\n",
       "      <td>Ace Books</td>\n",
       "    </tr>\n",
       "    <tr>\n",
       "      <th>3</th>\n",
       "      <td>4</td>\n",
       "      <td>Ace Hardcover</td>\n",
       "    </tr>\n",
       "    <tr>\n",
       "      <th>4</th>\n",
       "      <td>5</td>\n",
       "      <td>Addison Wesley Publishing Company</td>\n",
       "    </tr>\n",
       "  </tbody>\n",
       "</table>\n",
       "</div>"
      ],
      "text/plain": [
       "   publisher_id                          publisher\n",
       "0             1                                Ace\n",
       "1             2                           Ace Book\n",
       "2             3                          Ace Books\n",
       "3             4                      Ace Hardcover\n",
       "4             5  Addison Wesley Publishing Company"
      ]
     },
     "execution_count": 7,
     "metadata": {},
     "output_type": "execute_result"
    }
   ],
   "source": [
    "query = '''\n",
    "\n",
    "SELECT *\n",
    "FROM publishers\n",
    "LIMIT 5\n",
    "\n",
    "'''\n",
    "pd.io.sql.read_sql(query, con = engine)"
   ]
  },
  {
   "cell_type": "markdown",
   "id": "f9ddbd2f",
   "metadata": {},
   "source": [
    "### Задания\n",
    "\n",
    "- Посчитайте, сколько книг вышло после 1 января 2000 года;\n",
    "- Для каждой книги посчитайте количество обзоров и среднюю оценку;\n",
    "- Определите издательство, которое выпустило наибольшее число книг толще 50 страниц — так вы исключите из анализа брошюры;\n",
    "- Определите автора с самой высокой средней оценкой книг — учитывайте только книги с 50 и более оценками;\n",
    "- Посчитайте среднее количество обзоров от пользователей, которые поставили больше 50 оценок."
   ]
  },
  {
   "cell_type": "markdown",
   "id": "60299e12",
   "metadata": {},
   "source": [
    "<a id=\"step3\"></a>"
   ]
  },
  {
   "cell_type": "markdown",
   "id": "c6bdfbec",
   "metadata": {},
   "source": [
    "### Посчитаем, сколько книг вышло после 1 января 2000 года"
   ]
  },
  {
   "cell_type": "code",
   "execution_count": 8,
   "id": "59d2aebb",
   "metadata": {},
   "outputs": [
    {
     "data": {
      "text/html": [
       "<div>\n",
       "<style scoped>\n",
       "    .dataframe tbody tr th:only-of-type {\n",
       "        vertical-align: middle;\n",
       "    }\n",
       "\n",
       "    .dataframe tbody tr th {\n",
       "        vertical-align: top;\n",
       "    }\n",
       "\n",
       "    .dataframe thead th {\n",
       "        text-align: right;\n",
       "    }\n",
       "</style>\n",
       "<table border=\"1\" class=\"dataframe\">\n",
       "  <thead>\n",
       "    <tr style=\"text-align: right;\">\n",
       "      <th></th>\n",
       "      <th>count</th>\n",
       "    </tr>\n",
       "  </thead>\n",
       "  <tbody>\n",
       "    <tr>\n",
       "      <th>0</th>\n",
       "      <td>819</td>\n",
       "    </tr>\n",
       "  </tbody>\n",
       "</table>\n",
       "</div>"
      ],
      "text/plain": [
       "   count\n",
       "0    819"
      ]
     },
     "execution_count": 8,
     "metadata": {},
     "output_type": "execute_result"
    }
   ],
   "source": [
    "query = '''\n",
    "\n",
    "SELECT  COUNT(book_id)      \n",
    "FROM books\n",
    "WHERE publication_date > '2000-01-01'\n",
    "\n",
    "'''\n",
    "pd.io.sql.read_sql(query, con = engine)"
   ]
  },
  {
   "cell_type": "markdown",
   "id": "bc63efd1",
   "metadata": {},
   "source": [
    "**819 книг вышло после 1 января 2000 года.**"
   ]
  },
  {
   "cell_type": "markdown",
   "id": "7dfbeffb",
   "metadata": {},
   "source": [
    "<a id=\"step4\"></a>"
   ]
  },
  {
   "cell_type": "markdown",
   "id": "b7bb7cac",
   "metadata": {},
   "source": [
    "### Для каждой книги посчитаем количество обзоров и среднюю оценку"
   ]
  },
  {
   "cell_type": "code",
   "execution_count": 9,
   "id": "57f85549",
   "metadata": {},
   "outputs": [
    {
     "data": {
      "text/html": [
       "<div>\n",
       "<style scoped>\n",
       "    .dataframe tbody tr th:only-of-type {\n",
       "        vertical-align: middle;\n",
       "    }\n",
       "\n",
       "    .dataframe tbody tr th {\n",
       "        vertical-align: top;\n",
       "    }\n",
       "\n",
       "    .dataframe thead th {\n",
       "        text-align: right;\n",
       "    }\n",
       "</style>\n",
       "<table border=\"1\" class=\"dataframe\">\n",
       "  <thead>\n",
       "    <tr style=\"text-align: right;\">\n",
       "      <th></th>\n",
       "      <th>title</th>\n",
       "      <th>avg</th>\n",
       "      <th>count</th>\n",
       "    </tr>\n",
       "  </thead>\n",
       "  <tbody>\n",
       "    <tr>\n",
       "      <th>0</th>\n",
       "      <td>The Cat in the Hat and Other Dr. Seuss Favorites</td>\n",
       "      <td>5.00</td>\n",
       "      <td>NaN</td>\n",
       "    </tr>\n",
       "    <tr>\n",
       "      <th>1</th>\n",
       "      <td>A Dirty Job (Grim Reaper  #1)</td>\n",
       "      <td>5.00</td>\n",
       "      <td>4.0</td>\n",
       "    </tr>\n",
       "    <tr>\n",
       "      <th>2</th>\n",
       "      <td>School's Out—Forever (Maximum Ride  #2)</td>\n",
       "      <td>5.00</td>\n",
       "      <td>3.0</td>\n",
       "    </tr>\n",
       "    <tr>\n",
       "      <th>3</th>\n",
       "      <td>Moneyball: The Art of Winning an Unfair Game</td>\n",
       "      <td>5.00</td>\n",
       "      <td>3.0</td>\n",
       "    </tr>\n",
       "    <tr>\n",
       "      <th>4</th>\n",
       "      <td>Plum Island (John Corey  #1)</td>\n",
       "      <td>5.00</td>\n",
       "      <td>2.0</td>\n",
       "    </tr>\n",
       "    <tr>\n",
       "      <th>...</th>\n",
       "      <td>...</td>\n",
       "      <td>...</td>\n",
       "      <td>...</td>\n",
       "    </tr>\n",
       "    <tr>\n",
       "      <th>995</th>\n",
       "      <td>The World Is Flat: A Brief History of the Twen...</td>\n",
       "      <td>2.25</td>\n",
       "      <td>3.0</td>\n",
       "    </tr>\n",
       "    <tr>\n",
       "      <th>996</th>\n",
       "      <td>Drowning Ruth</td>\n",
       "      <td>2.00</td>\n",
       "      <td>3.0</td>\n",
       "    </tr>\n",
       "    <tr>\n",
       "      <th>997</th>\n",
       "      <td>Junky</td>\n",
       "      <td>2.00</td>\n",
       "      <td>2.0</td>\n",
       "    </tr>\n",
       "    <tr>\n",
       "      <th>998</th>\n",
       "      <td>His Excellency: George Washington</td>\n",
       "      <td>2.00</td>\n",
       "      <td>2.0</td>\n",
       "    </tr>\n",
       "    <tr>\n",
       "      <th>999</th>\n",
       "      <td>Harvesting the Heart</td>\n",
       "      <td>1.50</td>\n",
       "      <td>2.0</td>\n",
       "    </tr>\n",
       "  </tbody>\n",
       "</table>\n",
       "<p>1000 rows × 3 columns</p>\n",
       "</div>"
      ],
      "text/plain": [
       "                                                 title   avg  count\n",
       "0     The Cat in the Hat and Other Dr. Seuss Favorites  5.00    NaN\n",
       "1                        A Dirty Job (Grim Reaper  #1)  5.00    4.0\n",
       "2              School's Out—Forever (Maximum Ride  #2)  5.00    3.0\n",
       "3         Moneyball: The Art of Winning an Unfair Game  5.00    3.0\n",
       "4                         Plum Island (John Corey  #1)  5.00    2.0\n",
       "..                                                 ...   ...    ...\n",
       "995  The World Is Flat: A Brief History of the Twen...  2.25    3.0\n",
       "996                                      Drowning Ruth  2.00    3.0\n",
       "997                                              Junky  2.00    2.0\n",
       "998                  His Excellency: George Washington  2.00    2.0\n",
       "999                               Harvesting the Heart  1.50    2.0\n",
       "\n",
       "[1000 rows x 3 columns]"
      ]
     },
     "execution_count": 9,
     "metadata": {},
     "output_type": "execute_result"
    }
   ],
   "source": [
    "query = '''\n",
    "\n",
    "WITH\n",
    "t AS (SELECT  book_id,\n",
    "              AVG(rating)\n",
    "      FROM ratings\n",
    "      GROUP BY book_id),\n",
    "\n",
    "v AS (SELECT  book_id,\n",
    "              COUNT(review_id)\n",
    "      FROM reviews\n",
    "      GROUP BY book_id)\n",
    "\n",
    "SELECT  title,\n",
    "        avg,\n",
    "        count\n",
    "\n",
    "FROM books AS b\n",
    "LEFT JOIN t on b.book_id = t.book_id\n",
    "LEFT JOIN v on b.book_id = v.book_id\n",
    "ORDER BY (avg, count) DESC\n",
    "\n",
    "'''\n",
    "pd.io.sql.read_sql(query, con = engine)"
   ]
  },
  {
   "cell_type": "markdown",
   "id": "84a72a0b",
   "metadata": {},
   "source": [
    "**В данной таблице к каждой книге представлена средняя оценка и количество обзоров.**"
   ]
  },
  {
   "cell_type": "markdown",
   "id": "534592b4",
   "metadata": {},
   "source": [
    "<a id=\"step5\"></a>"
   ]
  },
  {
   "cell_type": "markdown",
   "id": "aab69bf4",
   "metadata": {},
   "source": [
    "### Определим издательство, которое выпустило наибольшее число книг толще 50 страниц\n",
    "— так мы исключим из анализа брошюры"
   ]
  },
  {
   "cell_type": "code",
   "execution_count": 10,
   "id": "f5e56f89",
   "metadata": {},
   "outputs": [
    {
     "data": {
      "text/html": [
       "<div>\n",
       "<style scoped>\n",
       "    .dataframe tbody tr th:only-of-type {\n",
       "        vertical-align: middle;\n",
       "    }\n",
       "\n",
       "    .dataframe tbody tr th {\n",
       "        vertical-align: top;\n",
       "    }\n",
       "\n",
       "    .dataframe thead th {\n",
       "        text-align: right;\n",
       "    }\n",
       "</style>\n",
       "<table border=\"1\" class=\"dataframe\">\n",
       "  <thead>\n",
       "    <tr style=\"text-align: right;\">\n",
       "      <th></th>\n",
       "      <th>publisher</th>\n",
       "      <th>count</th>\n",
       "    </tr>\n",
       "  </thead>\n",
       "  <tbody>\n",
       "    <tr>\n",
       "      <th>0</th>\n",
       "      <td>Penguin Books</td>\n",
       "      <td>42</td>\n",
       "    </tr>\n",
       "  </tbody>\n",
       "</table>\n",
       "</div>"
      ],
      "text/plain": [
       "       publisher  count\n",
       "0  Penguin Books     42"
      ]
     },
     "execution_count": 10,
     "metadata": {},
     "output_type": "execute_result"
    }
   ],
   "source": [
    "query = '''\n",
    "\n",
    "SELECT  publisher,\n",
    "        COUNT(book_id)\n",
    "                \n",
    "FROM books AS b\n",
    "LEFT JOIN publishers AS p on b.publisher_id = p.publisher_id\n",
    "\n",
    "WHERE num_pages > 50\n",
    "GROUP BY publisher\n",
    "ORDER BY COUNT(book_id) DESC\n",
    "LIMIT 1\n",
    "\n",
    "'''\n",
    "pd.io.sql.read_sql(query, con = engine)"
   ]
  },
  {
   "cell_type": "markdown",
   "id": "360568d2",
   "metadata": {},
   "source": [
    "**Penguin Books - издательство выпустившее наибольшее число книг толще 50 станиц.** "
   ]
  },
  {
   "cell_type": "markdown",
   "id": "741b3d7f",
   "metadata": {},
   "source": [
    "<a id=\"step6\"></a>"
   ]
  },
  {
   "cell_type": "markdown",
   "id": "e9d83efe",
   "metadata": {},
   "source": [
    "### Определим автора с самой высокой средней оценкой книг\n",
    "— учитывайте только книги с 50 и более оценками."
   ]
  },
  {
   "cell_type": "code",
   "execution_count": 11,
   "id": "8223e35d",
   "metadata": {},
   "outputs": [
    {
     "data": {
      "text/html": [
       "<div>\n",
       "<style scoped>\n",
       "    .dataframe tbody tr th:only-of-type {\n",
       "        vertical-align: middle;\n",
       "    }\n",
       "\n",
       "    .dataframe tbody tr th {\n",
       "        vertical-align: top;\n",
       "    }\n",
       "\n",
       "    .dataframe thead th {\n",
       "        text-align: right;\n",
       "    }\n",
       "</style>\n",
       "<table border=\"1\" class=\"dataframe\">\n",
       "  <thead>\n",
       "    <tr style=\"text-align: right;\">\n",
       "      <th></th>\n",
       "      <th>author</th>\n",
       "      <th>avg</th>\n",
       "    </tr>\n",
       "  </thead>\n",
       "  <tbody>\n",
       "    <tr>\n",
       "      <th>0</th>\n",
       "      <td>J.K. Rowling/Mary GrandPré</td>\n",
       "      <td>4.283844</td>\n",
       "    </tr>\n",
       "  </tbody>\n",
       "</table>\n",
       "</div>"
      ],
      "text/plain": [
       "                       author       avg\n",
       "0  J.K. Rowling/Mary GrandPré  4.283844"
      ]
     },
     "execution_count": 11,
     "metadata": {},
     "output_type": "execute_result"
    }
   ],
   "source": [
    "query = '''\n",
    "\n",
    "WITH\n",
    "b AS (SELECT  book_id,\n",
    "              AVG(rating)\n",
    "      FROM ratings\n",
    "      GROUP BY book_id\n",
    "      HAVING COUNT(rating)>=50 \n",
    "      ORDER BY AVG(rating) DESC),\n",
    "      \n",
    "a AS (SELECT  b.book_id,\n",
    "              b.author_id,\n",
    "              author\n",
    "      FROM books AS b\n",
    "      JOIN authors AS a on b.author_id = a.author_id)\n",
    "\n",
    "SELECT  author,\n",
    "        AVG(avg)\n",
    "        \n",
    "FROM b\n",
    "JOIN a on b.book_id = a.book_id\n",
    "GROUP BY author  \n",
    "ORDER BY avg DESC\n",
    "LIMIT 1\n",
    "'''\n",
    "pd.io.sql.read_sql(query, con = engine)"
   ]
  },
  {
   "cell_type": "markdown",
   "id": "b88fe541",
   "metadata": {},
   "source": [
    "**J.K. Rowling/Mary GrandPré - автор с самой высокой средней оценкой книг**"
   ]
  },
  {
   "cell_type": "markdown",
   "id": "0dbcc542",
   "metadata": {},
   "source": [
    "<a id=\"step7\"></a>"
   ]
  },
  {
   "cell_type": "markdown",
   "id": "f9cf70b0",
   "metadata": {},
   "source": [
    "### Посчитаем среднее количество обзоров от пользователей, которые поставили больше 50 оценок"
   ]
  },
  {
   "cell_type": "code",
   "execution_count": 12,
   "id": "68367d70",
   "metadata": {},
   "outputs": [
    {
     "data": {
      "text/html": [
       "<div>\n",
       "<style scoped>\n",
       "    .dataframe tbody tr th:only-of-type {\n",
       "        vertical-align: middle;\n",
       "    }\n",
       "\n",
       "    .dataframe tbody tr th {\n",
       "        vertical-align: top;\n",
       "    }\n",
       "\n",
       "    .dataframe thead th {\n",
       "        text-align: right;\n",
       "    }\n",
       "</style>\n",
       "<table border=\"1\" class=\"dataframe\">\n",
       "  <thead>\n",
       "    <tr style=\"text-align: right;\">\n",
       "      <th></th>\n",
       "      <th>avg</th>\n",
       "    </tr>\n",
       "  </thead>\n",
       "  <tbody>\n",
       "    <tr>\n",
       "      <th>0</th>\n",
       "      <td>24.333333</td>\n",
       "    </tr>\n",
       "  </tbody>\n",
       "</table>\n",
       "</div>"
      ],
      "text/plain": [
       "         avg\n",
       "0  24.333333"
      ]
     },
     "execution_count": 12,
     "metadata": {},
     "output_type": "execute_result"
    }
   ],
   "source": [
    "query = '''\n",
    "\n",
    "WITH\n",
    "t AS (SELECT username,\n",
    "             COUNT(rating)\n",
    "      FROM ratings\n",
    "      GROUP BY username\n",
    "      HAVING COUNT(rating)>50),\n",
    "\n",
    "v AS (SELECT  username,\n",
    "              COUNT(review_id)\n",
    "      FROM reviews\n",
    "      GROUP BY username)\n",
    "\n",
    "SELECT AVG(v.count)\n",
    "FROM t\n",
    "JOIN v on t.username = v.username\n",
    "\n",
    "'''\n",
    "pd.io.sql.read_sql(query, con = engine)\n"
   ]
  },
  {
   "cell_type": "markdown",
   "id": "da6fd262",
   "metadata": {},
   "source": [
    "**24.33333 - среднее количество обзоров от пользователей, которые поставили больше 50 оценок.**"
   ]
  }
 ],
 "metadata": {
  "ExecuteTimeLog": [
   {
    "duration": 9931,
    "start_time": "2022-08-28T06:10:49.738Z"
   },
   {
    "duration": 266,
    "start_time": "2022-08-28T06:10:59.671Z"
   },
   {
    "duration": 80,
    "start_time": "2022-08-28T06:10:59.939Z"
   },
   {
    "duration": 80,
    "start_time": "2022-08-28T06:11:00.022Z"
   },
   {
    "duration": 76,
    "start_time": "2022-08-28T06:11:00.103Z"
   },
   {
    "duration": 76,
    "start_time": "2022-08-28T06:11:00.181Z"
   },
   {
    "duration": 76,
    "start_time": "2022-08-28T06:11:00.258Z"
   },
   {
    "duration": 123,
    "start_time": "2022-08-28T06:11:00.336Z"
   },
   {
    "duration": 78,
    "start_time": "2022-08-28T06:11:00.461Z"
   },
   {
    "duration": 80,
    "start_time": "2022-08-28T06:11:00.542Z"
   },
   {
    "duration": 78,
    "start_time": "2022-08-28T06:11:00.624Z"
   },
   {
    "duration": 83,
    "start_time": "2022-08-28T06:12:58.971Z"
   },
   {
    "duration": 85,
    "start_time": "2022-08-28T06:13:00.749Z"
   },
   {
    "duration": 463,
    "start_time": "2022-08-28T07:50:47.672Z"
   },
   {
    "duration": 5311,
    "start_time": "2022-08-28T07:50:48.137Z"
   },
   {
    "duration": 283,
    "start_time": "2022-08-28T07:50:53.450Z"
   },
   {
    "duration": 68,
    "start_time": "2022-08-28T07:50:53.734Z"
   },
   {
    "duration": 70,
    "start_time": "2022-08-28T07:50:53.804Z"
   },
   {
    "duration": 68,
    "start_time": "2022-08-28T07:50:53.876Z"
   },
   {
    "duration": 67,
    "start_time": "2022-08-28T07:50:53.946Z"
   },
   {
    "duration": 67,
    "start_time": "2022-08-28T07:50:54.433Z"
   },
   {
    "duration": 104,
    "start_time": "2022-08-28T07:57:49.004Z"
   },
   {
    "duration": 286,
    "start_time": "2022-08-28T08:02:07.667Z"
   },
   {
    "duration": 220,
    "start_time": "2022-08-28T08:02:28.385Z"
   },
   {
    "duration": 104,
    "start_time": "2022-08-28T08:04:47.385Z"
   },
   {
    "duration": 101,
    "start_time": "2022-08-28T08:05:08.898Z"
   },
   {
    "duration": 134,
    "start_time": "2022-08-28T08:06:41.681Z"
   },
   {
    "duration": 110,
    "start_time": "2022-08-28T08:07:10.119Z"
   },
   {
    "duration": 103,
    "start_time": "2022-08-28T08:07:32.834Z"
   },
   {
    "duration": 102,
    "start_time": "2022-08-28T08:08:01.474Z"
   },
   {
    "duration": 101,
    "start_time": "2022-08-28T08:09:47.456Z"
   },
   {
    "duration": 137,
    "start_time": "2022-08-28T08:14:41.713Z"
   },
   {
    "duration": 315,
    "start_time": "2022-08-28T08:15:51.205Z"
   },
   {
    "duration": 95,
    "start_time": "2022-08-28T08:17:03.109Z"
   },
   {
    "duration": 133,
    "start_time": "2022-08-28T08:23:09.437Z"
   },
   {
    "duration": 133,
    "start_time": "2022-08-28T08:25:10.751Z"
   },
   {
    "duration": 131,
    "start_time": "2022-08-28T08:25:16.420Z"
   },
   {
    "duration": 86,
    "start_time": "2022-08-28T08:26:00.219Z"
   },
   {
    "duration": 134,
    "start_time": "2022-08-28T08:31:32.644Z"
   },
   {
    "duration": 97,
    "start_time": "2022-08-28T08:32:00.092Z"
   },
   {
    "duration": 125,
    "start_time": "2022-08-28T08:32:58.666Z"
   },
   {
    "duration": 98,
    "start_time": "2022-08-28T08:33:39.927Z"
   },
   {
    "duration": 108,
    "start_time": "2022-08-28T08:38:04.583Z"
   },
   {
    "duration": 140,
    "start_time": "2022-08-28T08:38:47.426Z"
   },
   {
    "duration": 487,
    "start_time": "2022-08-28T08:40:21.569Z"
   },
   {
    "duration": 6289,
    "start_time": "2022-08-28T08:40:22.057Z"
   },
   {
    "duration": 233,
    "start_time": "2022-08-28T08:40:28.347Z"
   },
   {
    "duration": 71,
    "start_time": "2022-08-28T08:40:28.583Z"
   },
   {
    "duration": 70,
    "start_time": "2022-08-28T08:40:28.656Z"
   },
   {
    "duration": 75,
    "start_time": "2022-08-28T08:40:28.727Z"
   },
   {
    "duration": 67,
    "start_time": "2022-08-28T08:40:28.804Z"
   },
   {
    "duration": 67,
    "start_time": "2022-08-28T08:40:28.872Z"
   },
   {
    "duration": 98,
    "start_time": "2022-08-28T08:40:28.940Z"
   },
   {
    "duration": 68,
    "start_time": "2022-08-28T08:40:29.040Z"
   },
   {
    "duration": 70,
    "start_time": "2022-08-28T08:40:29.110Z"
   },
   {
    "duration": 70,
    "start_time": "2022-08-28T08:40:29.181Z"
   },
   {
    "duration": 460,
    "start_time": "2022-08-28T08:42:17.050Z"
   },
   {
    "duration": 5935,
    "start_time": "2022-08-28T08:42:17.512Z"
   },
   {
    "duration": 248,
    "start_time": "2022-08-28T08:42:23.449Z"
   },
   {
    "duration": 71,
    "start_time": "2022-08-28T08:42:23.700Z"
   },
   {
    "duration": 70,
    "start_time": "2022-08-28T08:42:23.773Z"
   },
   {
    "duration": 70,
    "start_time": "2022-08-28T08:42:23.845Z"
   },
   {
    "duration": 71,
    "start_time": "2022-08-28T08:42:23.917Z"
   },
   {
    "duration": 70,
    "start_time": "2022-08-28T08:42:23.990Z"
   },
   {
    "duration": 102,
    "start_time": "2022-08-28T08:42:24.061Z"
   },
   {
    "duration": 70,
    "start_time": "2022-08-28T08:42:24.165Z"
   },
   {
    "duration": 73,
    "start_time": "2022-08-28T08:42:24.236Z"
   },
   {
    "duration": 74,
    "start_time": "2022-08-28T08:42:24.311Z"
   }
  ],
  "kernelspec": {
   "display_name": "Python 3 (ipykernel)",
   "language": "python",
   "name": "python3"
  },
  "language_info": {
   "codemirror_mode": {
    "name": "ipython",
    "version": 3
   },
   "file_extension": ".py",
   "mimetype": "text/x-python",
   "name": "python",
   "nbconvert_exporter": "python",
   "pygments_lexer": "ipython3",
   "version": "3.9.5"
  },
  "toc": {
   "base_numbering": 1,
   "nav_menu": {},
   "number_sections": true,
   "sideBar": true,
   "skip_h1_title": true,
   "title_cell": "Table of Contents",
   "title_sidebar": "Contents",
   "toc_cell": false,
   "toc_position": {},
   "toc_section_display": true,
   "toc_window_display": false
  }
 },
 "nbformat": 4,
 "nbformat_minor": 5
}
