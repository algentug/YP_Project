{
 "cells": [
  {
   "cell_type": "markdown",
   "id": "b99b338c",
   "metadata": {},
   "source": [
    "# Финальный проект: App \"Ненужные вещи\""
   ]
  },
  {
   "cell_type": "markdown",
   "id": "d454bfae",
   "metadata": {},
   "source": [
    "## Материалы\n",
    "* [Презентация](https://disk.yandex.ru/i/umWSyOJsOHaZHw)\n",
    "* [Дашборд](https://public.tableau.com/views/Dashboardfinalproject_16610932738300/Dashboard1?:language=en-US&:display_count=n&:origin=viz_share_link)"
   ]
  },
  {
   "cell_type": "markdown",
   "id": "3d985611",
   "metadata": {},
   "source": [
    "## Содержание\n",
    "\n",
    "1. [Цели и описание проекта, плана работы](#step1)\n",
    "2. [Предобработка данных](#step2)\n",
    "3. [Исследовательский анализ данных](#step3)\n",
    "4. [Ответы на вопросы заказчика](#step4)\n",
    "5. [Проверка статестических гипотез](#step5)\n",
    "6. [Выводы](#step6)\n",
    "7. [Рекомендации](#step7)"
   ]
  },
  {
   "cell_type": "markdown",
   "id": "79a25ca6",
   "metadata": {},
   "source": [
    "### Цель проекта"
   ]
  },
  {
   "cell_type": "markdown",
   "id": "4fa1aec5",
   "metadata": {},
   "source": [
    "Выделение групп пользователей на основе поведения"
   ]
  },
  {
   "cell_type": "markdown",
   "id": "720571d6",
   "metadata": {},
   "source": [
    "### Описание проекта<a id=\"step1\"></a>"
   ]
  },
  {
   "cell_type": "markdown",
   "id": "e891739f",
   "metadata": {},
   "source": [
    "Выбрать методику сегментации пользователей и ответить на вопросы заказчика в разрезе выделенных групп\n",
    "\n",
    "* Пользователи какой группы склонны часто возвращаться в мобильное приложение (Retention rate)?\n",
    "* Пользователи какой группы часто делают целевое событие (конверсия в целевое действие)?\n",
    "* Как различается время между распространенными событиями пользователей из разных групп?\n",
    "\n",
    "Проверьте статистические гипотезы:\n",
    "\n",
    "* Некоторые пользователи установили приложение по ссылке из yandex, другие — из google. Проверьте гипотезу: две эти группы демонстрируют разную конверсию в просмотры контактов.\n",
    "* Сформулируйте собственную гипотезу. Дополните её нулевой и альтернативной гипотезами. Проведите статистический тест.\n",
    "\n",
    "По итогам исследования подготовить презентацию."
   ]
  },
  {
   "cell_type": "markdown",
   "id": "7892edf7",
   "metadata": {},
   "source": [
    "### План работы"
   ]
  },
  {
   "cell_type": "markdown",
   "id": "bd0cfbcb",
   "metadata": {},
   "source": [
    "* выгрузка данных\n",
    "* предобработка данных\n",
    "* исследовательский анализ\n",
    "* расчет метрик и показателей\n",
    "* сегментация пользователей на основе этих показателей\n",
    "* анализ групп пользователей\n",
    "* расчет ключевых метрик\n",
    "* ответы на воприсы исследования\n",
    "* выдвижение и проверка гипотез\n",
    "* выводы и рекомендации\n",
    "* презентация\n"
   ]
  },
  {
   "cell_type": "markdown",
   "id": "219b57ea",
   "metadata": {},
   "source": [
    " "
   ]
  },
  {
   "cell_type": "markdown",
   "id": "a97151ae",
   "metadata": {},
   "source": [
    "## Предобработка данных<a id=\"step2\"></a>"
   ]
  },
  {
   "cell_type": "markdown",
   "id": "a9160f00",
   "metadata": {},
   "source": [
    "Подгрузим библеотеки"
   ]
  },
  {
   "cell_type": "code",
   "execution_count": 1,
   "id": "e6de99b6",
   "metadata": {},
   "outputs": [],
   "source": [
    "import pandas as pd\n",
    "import numpy as np\n",
    "import matplotlib.pyplot as plt\n",
    "from sklearn import datasets\n",
    "from scipy import stats as st\n",
    "import seaborn as sns\n",
    "from datetime import timedelta, datetime\n",
    "import math as mth\n",
    "from plotly import graph_objects as go\n",
    "import plotly.express as px\n",
    "import plotly.graph_objs as go\n",
    "from matplotlib import style\n",
    "import os"
   ]
  },
  {
   "cell_type": "markdown",
   "id": "84898048",
   "metadata": {},
   "source": [
    "Загрузим данные."
   ]
  },
  {
   "cell_type": "code",
   "execution_count": 2,
   "id": "640ca0f9",
   "metadata": {},
   "outputs": [],
   "source": [
    "mobile_sourсes = pd.read_csv('https://code.s3.yandex.net/datasets/mobile_soures.csv')\n",
    "mobile_dataset = pd.read_csv('https://code.s3.yandex.net/datasets/mobile_dataset.csv')"
   ]
  },
  {
   "cell_type": "markdown",
   "id": "95d407b4",
   "metadata": {},
   "source": [
    "Посмотрим на датасет `mobile_sourсes`."
   ]
  },
  {
   "cell_type": "code",
   "execution_count": 3,
   "id": "ef0a5c84",
   "metadata": {},
   "outputs": [
    {
     "data": {
      "text/html": [
       "<div>\n",
       "<style scoped>\n",
       "    .dataframe tbody tr th:only-of-type {\n",
       "        vertical-align: middle;\n",
       "    }\n",
       "\n",
       "    .dataframe tbody tr th {\n",
       "        vertical-align: top;\n",
       "    }\n",
       "\n",
       "    .dataframe thead th {\n",
       "        text-align: right;\n",
       "    }\n",
       "</style>\n",
       "<table border=\"1\" class=\"dataframe\">\n",
       "  <thead>\n",
       "    <tr style=\"text-align: right;\">\n",
       "      <th></th>\n",
       "      <th>userId</th>\n",
       "      <th>source</th>\n",
       "    </tr>\n",
       "  </thead>\n",
       "  <tbody>\n",
       "    <tr>\n",
       "      <th>0</th>\n",
       "      <td>020292ab-89bc-4156-9acf-68bc2783f894</td>\n",
       "      <td>other</td>\n",
       "    </tr>\n",
       "    <tr>\n",
       "      <th>1</th>\n",
       "      <td>cf7eda61-9349-469f-ac27-e5b6f5ec475c</td>\n",
       "      <td>yandex</td>\n",
       "    </tr>\n",
       "    <tr>\n",
       "      <th>2</th>\n",
       "      <td>8c356c42-3ba9-4cb6-80b8-3f868d0192c3</td>\n",
       "      <td>yandex</td>\n",
       "    </tr>\n",
       "    <tr>\n",
       "      <th>3</th>\n",
       "      <td>d9b06b47-0f36-419b-bbb0-3533e582a6cb</td>\n",
       "      <td>other</td>\n",
       "    </tr>\n",
       "    <tr>\n",
       "      <th>4</th>\n",
       "      <td>f32e1e2a-3027-4693-b793-b7b3ff274439</td>\n",
       "      <td>google</td>\n",
       "    </tr>\n",
       "  </tbody>\n",
       "</table>\n",
       "</div>"
      ],
      "text/plain": [
       "                                 userId  source\n",
       "0  020292ab-89bc-4156-9acf-68bc2783f894   other\n",
       "1  cf7eda61-9349-469f-ac27-e5b6f5ec475c  yandex\n",
       "2  8c356c42-3ba9-4cb6-80b8-3f868d0192c3  yandex\n",
       "3  d9b06b47-0f36-419b-bbb0-3533e582a6cb   other\n",
       "4  f32e1e2a-3027-4693-b793-b7b3ff274439  google"
      ]
     },
     "execution_count": 3,
     "metadata": {},
     "output_type": "execute_result"
    }
   ],
   "source": [
    "mobile_sourсes.head()"
   ]
  },
  {
   "cell_type": "markdown",
   "id": "5be1dff4",
   "metadata": {},
   "source": [
    "Датасет **mobile_sources.csv** содержит колонки:\n",
    "\n",
    "    `userId` — идентификатор пользователя\n",
    "    `source` — источник, с которого пользователь установил приложение"
   ]
  },
  {
   "cell_type": "code",
   "execution_count": 4,
   "id": "b2600572",
   "metadata": {},
   "outputs": [],
   "source": [
    "# пререименуем столбцы\n",
    "mobile_sourсes = mobile_sourсes.rename({'userId': 'user_id'}, axis=1)"
   ]
  },
  {
   "cell_type": "code",
   "execution_count": 5,
   "id": "038b8ce7",
   "metadata": {},
   "outputs": [
    {
     "data": {
      "text/plain": [
       "0"
      ]
     },
     "execution_count": 5,
     "metadata": {},
     "output_type": "execute_result"
    }
   ],
   "source": [
    "# проверим на наличие дубликатов\n",
    "mobile_sourсes.duplicated().sum()"
   ]
  },
  {
   "cell_type": "code",
   "execution_count": 6,
   "id": "dbdc5feb",
   "metadata": {},
   "outputs": [
    {
     "data": {
      "text/plain": [
       "user_id    0\n",
       "source     0\n",
       "dtype: int64"
      ]
     },
     "execution_count": 6,
     "metadata": {},
     "output_type": "execute_result"
    }
   ],
   "source": [
    "# проверим на пропуски\n",
    "mobile_sourсes.isna().sum()"
   ]
  },
  {
   "cell_type": "markdown",
   "id": "a017985a",
   "metadata": {},
   "source": [
    "Выведем информацию по датасету"
   ]
  },
  {
   "cell_type": "code",
   "execution_count": 7,
   "id": "bf3b7c16",
   "metadata": {},
   "outputs": [
    {
     "name": "stdout",
     "output_type": "stream",
     "text": [
      "<class 'pandas.core.frame.DataFrame'>\n",
      "RangeIndex: 4293 entries, 0 to 4292\n",
      "Data columns (total 2 columns):\n",
      " #   Column   Non-Null Count  Dtype \n",
      "---  ------   --------------  ----- \n",
      " 0   user_id  4293 non-null   object\n",
      " 1   source   4293 non-null   object\n",
      "dtypes: object(2)\n",
      "memory usage: 67.2+ KB\n"
     ]
    }
   ],
   "source": [
    "mobile_sourсes.info()"
   ]
  },
  {
   "cell_type": "code",
   "execution_count": 8,
   "id": "79f268f5",
   "metadata": {},
   "outputs": [
    {
     "data": {
      "text/plain": [
       "4293"
      ]
     },
     "execution_count": 8,
     "metadata": {},
     "output_type": "execute_result"
    }
   ],
   "source": [
    "mobile_sourсes['user_id'].nunique()"
   ]
  },
  {
   "cell_type": "code",
   "execution_count": 9,
   "id": "7d70390a",
   "metadata": {},
   "outputs": [
    {
     "data": {
      "text/html": [
       "<div>\n",
       "<style scoped>\n",
       "    .dataframe tbody tr th:only-of-type {\n",
       "        vertical-align: middle;\n",
       "    }\n",
       "\n",
       "    .dataframe tbody tr th {\n",
       "        vertical-align: top;\n",
       "    }\n",
       "\n",
       "    .dataframe thead th {\n",
       "        text-align: right;\n",
       "    }\n",
       "</style>\n",
       "<table border=\"1\" class=\"dataframe\">\n",
       "  <thead>\n",
       "    <tr style=\"text-align: right;\">\n",
       "      <th></th>\n",
       "      <th>user_id</th>\n",
       "    </tr>\n",
       "    <tr>\n",
       "      <th>source</th>\n",
       "      <th></th>\n",
       "    </tr>\n",
       "  </thead>\n",
       "  <tbody>\n",
       "    <tr>\n",
       "      <th>google</th>\n",
       "      <td>1129</td>\n",
       "    </tr>\n",
       "    <tr>\n",
       "      <th>other</th>\n",
       "      <td>1230</td>\n",
       "    </tr>\n",
       "    <tr>\n",
       "      <th>yandex</th>\n",
       "      <td>1934</td>\n",
       "    </tr>\n",
       "  </tbody>\n",
       "</table>\n",
       "</div>"
      ],
      "text/plain": [
       "        user_id\n",
       "source         \n",
       "google     1129\n",
       "other      1230\n",
       "yandex     1934"
      ]
     },
     "execution_count": 9,
     "metadata": {},
     "output_type": "execute_result"
    }
   ],
   "source": [
    "mobile_sourсes.groupby('source').count()"
   ]
  },
  {
   "cell_type": "markdown",
   "id": "ecd0da3f",
   "metadata": {},
   "source": [
    "Мы загрузили датасет `mobile_sourсes`. Переименовали столбец и проверили на дубликаты. В нем нет нулевых значений и пропусков. В столбце `user_id` все значения уникальны (всего 4293), а в столбце `source` их только 3 - google, other и yandex."
   ]
  },
  {
   "cell_type": "markdown",
   "id": "a693f3a0",
   "metadata": {},
   "source": [
    "Посмотрим на датасет `mobile_dataset`."
   ]
  },
  {
   "cell_type": "code",
   "execution_count": 10,
   "id": "562ede8e",
   "metadata": {},
   "outputs": [
    {
     "data": {
      "text/html": [
       "<div>\n",
       "<style scoped>\n",
       "    .dataframe tbody tr th:only-of-type {\n",
       "        vertical-align: middle;\n",
       "    }\n",
       "\n",
       "    .dataframe tbody tr th {\n",
       "        vertical-align: top;\n",
       "    }\n",
       "\n",
       "    .dataframe thead th {\n",
       "        text-align: right;\n",
       "    }\n",
       "</style>\n",
       "<table border=\"1\" class=\"dataframe\">\n",
       "  <thead>\n",
       "    <tr style=\"text-align: right;\">\n",
       "      <th></th>\n",
       "      <th>event.time</th>\n",
       "      <th>event.name</th>\n",
       "      <th>user.id</th>\n",
       "    </tr>\n",
       "  </thead>\n",
       "  <tbody>\n",
       "    <tr>\n",
       "      <th>0</th>\n",
       "      <td>2019-10-07 00:00:00.431357</td>\n",
       "      <td>advert_open</td>\n",
       "      <td>020292ab-89bc-4156-9acf-68bc2783f894</td>\n",
       "    </tr>\n",
       "    <tr>\n",
       "      <th>1</th>\n",
       "      <td>2019-10-07 00:00:01.236320</td>\n",
       "      <td>tips_show</td>\n",
       "      <td>020292ab-89bc-4156-9acf-68bc2783f894</td>\n",
       "    </tr>\n",
       "    <tr>\n",
       "      <th>2</th>\n",
       "      <td>2019-10-07 00:00:02.245341</td>\n",
       "      <td>tips_show</td>\n",
       "      <td>cf7eda61-9349-469f-ac27-e5b6f5ec475c</td>\n",
       "    </tr>\n",
       "    <tr>\n",
       "      <th>3</th>\n",
       "      <td>2019-10-07 00:00:07.039334</td>\n",
       "      <td>tips_show</td>\n",
       "      <td>020292ab-89bc-4156-9acf-68bc2783f894</td>\n",
       "    </tr>\n",
       "    <tr>\n",
       "      <th>4</th>\n",
       "      <td>2019-10-07 00:00:56.319813</td>\n",
       "      <td>advert_open</td>\n",
       "      <td>cf7eda61-9349-469f-ac27-e5b6f5ec475c</td>\n",
       "    </tr>\n",
       "  </tbody>\n",
       "</table>\n",
       "</div>"
      ],
      "text/plain": [
       "                   event.time   event.name  \\\n",
       "0  2019-10-07 00:00:00.431357  advert_open   \n",
       "1  2019-10-07 00:00:01.236320    tips_show   \n",
       "2  2019-10-07 00:00:02.245341    tips_show   \n",
       "3  2019-10-07 00:00:07.039334    tips_show   \n",
       "4  2019-10-07 00:00:56.319813  advert_open   \n",
       "\n",
       "                                user.id  \n",
       "0  020292ab-89bc-4156-9acf-68bc2783f894  \n",
       "1  020292ab-89bc-4156-9acf-68bc2783f894  \n",
       "2  cf7eda61-9349-469f-ac27-e5b6f5ec475c  \n",
       "3  020292ab-89bc-4156-9acf-68bc2783f894  \n",
       "4  cf7eda61-9349-469f-ac27-e5b6f5ec475c  "
      ]
     },
     "execution_count": 10,
     "metadata": {},
     "output_type": "execute_result"
    }
   ],
   "source": [
    "mobile_dataset.head()"
   ]
  },
  {
   "cell_type": "markdown",
   "id": "c884d783",
   "metadata": {},
   "source": [
    "Датасет **mobile_dataset.csv** содержит колонки:\n",
    "\n",
    "    `event.time` — время совершения\n",
    "    `event.name` — название события\n",
    "    `user.id` — идентификатор пользователя"
   ]
  },
  {
   "cell_type": "code",
   "execution_count": 11,
   "id": "d0cb1afa",
   "metadata": {},
   "outputs": [],
   "source": [
    "# пререименуем столбцы\n",
    "mobile_dataset = mobile_dataset.rename({'event.time': 'event_time', \n",
    "                                        'event.name': 'event_name', \n",
    "                                        'user.id': 'user_id'}, \n",
    "                                       axis=1)"
   ]
  },
  {
   "cell_type": "code",
   "execution_count": 12,
   "id": "9cc77453",
   "metadata": {},
   "outputs": [
    {
     "data": {
      "text/plain": [
       "0"
      ]
     },
     "execution_count": 12,
     "metadata": {},
     "output_type": "execute_result"
    }
   ],
   "source": [
    "# проверим на наличие дубликатов\n",
    "mobile_dataset.duplicated().sum()"
   ]
  },
  {
   "cell_type": "code",
   "execution_count": 13,
   "id": "f36d6c21",
   "metadata": {},
   "outputs": [
    {
     "data": {
      "text/plain": [
       "event_time    0\n",
       "event_name    0\n",
       "user_id       0\n",
       "dtype: int64"
      ]
     },
     "execution_count": 13,
     "metadata": {},
     "output_type": "execute_result"
    }
   ],
   "source": [
    "# проверим на пропуски\n",
    "mobile_dataset.isna().sum()"
   ]
  },
  {
   "cell_type": "markdown",
   "id": "ecaffec6",
   "metadata": {},
   "source": [
    "Выведем информацию по `mobile_dataset`."
   ]
  },
  {
   "cell_type": "code",
   "execution_count": 14,
   "id": "bb6bdf5b",
   "metadata": {},
   "outputs": [
    {
     "name": "stdout",
     "output_type": "stream",
     "text": [
      "<class 'pandas.core.frame.DataFrame'>\n",
      "RangeIndex: 74197 entries, 0 to 74196\n",
      "Data columns (total 3 columns):\n",
      " #   Column      Non-Null Count  Dtype \n",
      "---  ------      --------------  ----- \n",
      " 0   event_time  74197 non-null  object\n",
      " 1   event_name  74197 non-null  object\n",
      " 2   user_id     74197 non-null  object\n",
      "dtypes: object(3)\n",
      "memory usage: 1.7+ MB\n"
     ]
    }
   ],
   "source": [
    "mobile_dataset.info()"
   ]
  },
  {
   "cell_type": "code",
   "execution_count": 15,
   "id": "edb65abf",
   "metadata": {},
   "outputs": [
    {
     "data": {
      "text/html": [
       "<div>\n",
       "<style scoped>\n",
       "    .dataframe tbody tr th:only-of-type {\n",
       "        vertical-align: middle;\n",
       "    }\n",
       "\n",
       "    .dataframe tbody tr th {\n",
       "        vertical-align: top;\n",
       "    }\n",
       "\n",
       "    .dataframe thead th {\n",
       "        text-align: right;\n",
       "    }\n",
       "</style>\n",
       "<table border=\"1\" class=\"dataframe\">\n",
       "  <thead>\n",
       "    <tr style=\"text-align: right;\">\n",
       "      <th></th>\n",
       "      <th>event_time</th>\n",
       "      <th>event_name</th>\n",
       "      <th>user_id</th>\n",
       "    </tr>\n",
       "  </thead>\n",
       "  <tbody>\n",
       "    <tr>\n",
       "      <th>0</th>\n",
       "      <td>2019-10-07 00:00:00</td>\n",
       "      <td>advert_open</td>\n",
       "      <td>020292ab-89bc-4156-9acf-68bc2783f894</td>\n",
       "    </tr>\n",
       "    <tr>\n",
       "      <th>1</th>\n",
       "      <td>2019-10-07 00:00:01</td>\n",
       "      <td>tips_show</td>\n",
       "      <td>020292ab-89bc-4156-9acf-68bc2783f894</td>\n",
       "    </tr>\n",
       "    <tr>\n",
       "      <th>2</th>\n",
       "      <td>2019-10-07 00:00:02</td>\n",
       "      <td>tips_show</td>\n",
       "      <td>cf7eda61-9349-469f-ac27-e5b6f5ec475c</td>\n",
       "    </tr>\n",
       "    <tr>\n",
       "      <th>3</th>\n",
       "      <td>2019-10-07 00:00:07</td>\n",
       "      <td>tips_show</td>\n",
       "      <td>020292ab-89bc-4156-9acf-68bc2783f894</td>\n",
       "    </tr>\n",
       "    <tr>\n",
       "      <th>4</th>\n",
       "      <td>2019-10-07 00:00:56</td>\n",
       "      <td>advert_open</td>\n",
       "      <td>cf7eda61-9349-469f-ac27-e5b6f5ec475c</td>\n",
       "    </tr>\n",
       "    <tr>\n",
       "      <th>...</th>\n",
       "      <td>...</td>\n",
       "      <td>...</td>\n",
       "      <td>...</td>\n",
       "    </tr>\n",
       "    <tr>\n",
       "      <th>74192</th>\n",
       "      <td>2019-11-03 23:53:30</td>\n",
       "      <td>tips_show</td>\n",
       "      <td>28fccdf4-7b9e-42f5-bc73-439a265f20e9</td>\n",
       "    </tr>\n",
       "    <tr>\n",
       "      <th>74193</th>\n",
       "      <td>2019-11-03 23:54:00</td>\n",
       "      <td>tips_show</td>\n",
       "      <td>28fccdf4-7b9e-42f5-bc73-439a265f20e9</td>\n",
       "    </tr>\n",
       "    <tr>\n",
       "      <th>74194</th>\n",
       "      <td>2019-11-03 23:56:57</td>\n",
       "      <td>search_1</td>\n",
       "      <td>20850c8f-4135-4059-b13b-198d3ac59902</td>\n",
       "    </tr>\n",
       "    <tr>\n",
       "      <th>74195</th>\n",
       "      <td>2019-11-03 23:57:06</td>\n",
       "      <td>tips_show</td>\n",
       "      <td>28fccdf4-7b9e-42f5-bc73-439a265f20e9</td>\n",
       "    </tr>\n",
       "    <tr>\n",
       "      <th>74196</th>\n",
       "      <td>2019-11-03 23:58:13</td>\n",
       "      <td>tips_show</td>\n",
       "      <td>28fccdf4-7b9e-42f5-bc73-439a265f20e9</td>\n",
       "    </tr>\n",
       "  </tbody>\n",
       "</table>\n",
       "<p>74197 rows × 3 columns</p>\n",
       "</div>"
      ],
      "text/plain": [
       "               event_time   event_name                               user_id\n",
       "0     2019-10-07 00:00:00  advert_open  020292ab-89bc-4156-9acf-68bc2783f894\n",
       "1     2019-10-07 00:00:01    tips_show  020292ab-89bc-4156-9acf-68bc2783f894\n",
       "2     2019-10-07 00:00:02    tips_show  cf7eda61-9349-469f-ac27-e5b6f5ec475c\n",
       "3     2019-10-07 00:00:07    tips_show  020292ab-89bc-4156-9acf-68bc2783f894\n",
       "4     2019-10-07 00:00:56  advert_open  cf7eda61-9349-469f-ac27-e5b6f5ec475c\n",
       "...                   ...          ...                                   ...\n",
       "74192 2019-11-03 23:53:30    tips_show  28fccdf4-7b9e-42f5-bc73-439a265f20e9\n",
       "74193 2019-11-03 23:54:00    tips_show  28fccdf4-7b9e-42f5-bc73-439a265f20e9\n",
       "74194 2019-11-03 23:56:57     search_1  20850c8f-4135-4059-b13b-198d3ac59902\n",
       "74195 2019-11-03 23:57:06    tips_show  28fccdf4-7b9e-42f5-bc73-439a265f20e9\n",
       "74196 2019-11-03 23:58:13    tips_show  28fccdf4-7b9e-42f5-bc73-439a265f20e9\n",
       "\n",
       "[74197 rows x 3 columns]"
      ]
     },
     "execution_count": 15,
     "metadata": {},
     "output_type": "execute_result"
    }
   ],
   "source": [
    "# преобразуем дату\n",
    "mobile_dataset['event_time'] = pd.to_datetime(mobile_dataset['event_time']).dt.round('1S')\n",
    "mobile_dataset"
   ]
  },
  {
   "cell_type": "code",
   "execution_count": 16,
   "id": "59354652",
   "metadata": {},
   "outputs": [
    {
     "name": "stdout",
     "output_type": "stream",
     "text": [
      "<class 'pandas.core.frame.DataFrame'>\n",
      "RangeIndex: 74197 entries, 0 to 74196\n",
      "Data columns (total 3 columns):\n",
      " #   Column      Non-Null Count  Dtype         \n",
      "---  ------      --------------  -----         \n",
      " 0   event_time  74197 non-null  datetime64[ns]\n",
      " 1   event_name  74197 non-null  object        \n",
      " 2   user_id     74197 non-null  object        \n",
      "dtypes: datetime64[ns](1), object(2)\n",
      "memory usage: 1.7+ MB\n"
     ]
    }
   ],
   "source": [
    "mobile_dataset.info()"
   ]
  },
  {
   "cell_type": "code",
   "execution_count": 17,
   "id": "e842f1bb",
   "metadata": {},
   "outputs": [
    {
     "name": "stdout",
     "output_type": "stream",
     "text": [
      "Минимальная дата - 2019-10-07 00:00:00\n",
      "Максимальная дата - 2019-11-03 23:58:13\n"
     ]
    }
   ],
   "source": [
    "print('Минимальная дата -', mobile_dataset['event_time'].min())\n",
    "print('Максимальная дата -', mobile_dataset['event_time'].max())"
   ]
  },
  {
   "cell_type": "markdown",
   "id": "79f7e337",
   "metadata": {},
   "source": [
    "Мы загрузили датасет `mobile_dataset`. Переименовали столбецы и проверили на дубликаты. В нем нет нулевых значений и пропусков. Датасет содержит временной промежуток с 00:00 07-10-2019 по 23:58 03-11-2019."
   ]
  },
  {
   "cell_type": "markdown",
   "id": "d75fee2c",
   "metadata": {},
   "source": [
    "## Исследовательский анализ данных<a id=\"step3\"></a>"
   ]
  },
  {
   "cell_type": "code",
   "execution_count": 18,
   "id": "65308df1",
   "metadata": {},
   "outputs": [
    {
     "data": {
      "image/png": "[encoded data removed]",
      "text/plain": [
       "<Figure size 1080x576 with 1 Axes>"
      ]
     },
     "metadata": {
      "needs_background": "light"
     },
     "output_type": "display_data"
    }
   ],
   "source": [
    "# Построим гистограмму по дате и времени\n",
    "plt.figure(figsize=(15,8))\n",
    "mobile_dataset['event_time'].hist(bins=200)\n",
    "\n",
    "plt.title('Гистограмма по датам \\n')\n",
    "plt.ylabel('Количество')\n",
    "plt.xlabel('Дата')\n",
    "plt.xticks(rotation=45)\n",
    "plt.show()"
   ]
  },
  {
   "cell_type": "markdown",
   "id": "a0b5f75f",
   "metadata": {},
   "source": [
    "На графике прослеживаются суточные и недельные ритмы."
   ]
  },
  {
   "cell_type": "markdown",
   "id": "d5d9f4dd",
   "metadata": {},
   "source": [
    "Посмотрим на уникальные значения столбца `event_name` и отсортируем."
   ]
  },
  {
   "cell_type": "code",
   "execution_count": 19,
   "id": "911b0f65",
   "metadata": {},
   "outputs": [
    {
     "data": {
      "text/plain": [
       "tips_show        40055\n",
       "photos_show      10012\n",
       "advert_open       6164\n",
       "contacts_show     4450\n",
       "map               3881\n",
       "search_1          3506\n",
       "favorites_add     1417\n",
       "search_5          1049\n",
       "tips_click         814\n",
       "search_4           701\n",
       "contacts_call      541\n",
       "search_3           522\n",
       "search_6           460\n",
       "search_2           324\n",
       "search_7           222\n",
       "show_contacts       79\n",
       "Name: event_name, dtype: int64"
      ]
     },
     "execution_count": 19,
     "metadata": {},
     "output_type": "execute_result"
    }
   ],
   "source": [
    "mobile_dataset['event_name'].value_counts()"
   ]
  },
  {
   "cell_type": "markdown",
   "id": "5188e5b1",
   "metadata": {},
   "source": [
    "Расшифровки событий:\n",
    "\n",
    "    `advert_open` — открытие карточки объявления\n",
    "    `photos_show` — просмотр фотографий в объявлении\n",
    "    `tips_show` — пользователь увидел рекомендованные объявления\n",
    "    `tips_click` — пользователь кликнул по рекомендованному объявлению\n",
    "    `contacts_show` и `show_contacts` — пользователь нажал на кнопку \"посмотреть номер телефона\" на карточке объявления\n",
    "    `contacts_call` — пользователь позвонил по номеру телефона на карточке объявления\n",
    "    `map` — пользователь открыл карту размещенных объявлений\n",
    "    `search_1` — `search_7` — разные события, связанные с поиском по сайту\n",
    "    `favorites_add` — добавление объявления в избранное"
   ]
  },
  {
   "cell_type": "markdown",
   "id": "b2b2075e",
   "metadata": {},
   "source": [
    "В столбце есть неявные дубликаты: `contacts_show` и `show_contacts`. Объединим эти события переименовав одно из них.\n",
    "Так же объединим все search с 1 по 7 в один searchs."
   ]
  },
  {
   "cell_type": "code",
   "execution_count": 20,
   "id": "99dd7f3a",
   "metadata": {},
   "outputs": [],
   "source": [
    "mobile_dataset_unite = mobile_dataset.replace({'event_name':{'show_contacts':'contacts_show', \n",
    "                                                             'search_1':'searchs',\n",
    "                                                             'search_2':'searchs',\n",
    "                                                             'search_3':'searchs',\n",
    "                                                             'search_4':'searchs',\n",
    "                                                             'search_5':'searchs',\n",
    "                                                             'search_6':'searchs',\n",
    "                                                             'search_7':'searchs'}})"
   ]
  },
  {
   "cell_type": "markdown",
   "id": "596c1511",
   "metadata": {},
   "source": [
    "Сгруппируем заново и отсорируем."
   ]
  },
  {
   "cell_type": "code",
   "execution_count": 21,
   "id": "10471386",
   "metadata": {},
   "outputs": [
    {
     "data": {
      "text/plain": [
       "tips_show        40055\n",
       "photos_show      10012\n",
       "searchs           6784\n",
       "advert_open       6164\n",
       "contacts_show     4529\n",
       "map               3881\n",
       "favorites_add     1417\n",
       "tips_click         814\n",
       "contacts_call      541\n",
       "Name: event_name, dtype: int64"
      ]
     },
     "execution_count": 21,
     "metadata": {},
     "output_type": "execute_result"
    }
   ],
   "source": [
    "mobile_dataset_unite['event_name'].value_counts()"
   ]
  },
  {
   "cell_type": "markdown",
   "id": "de961c39",
   "metadata": {},
   "source": [
    "Мы видем, что самое популярное событие - `photos_show` (10012 кликов). А наименее популярное событие - `contacts_call` (541 клик).\n",
    "Событие `tips_show` мы не учитываем, т.к. оно не зависит от действий пользователя."
   ]
  },
  {
   "cell_type": "markdown",
   "id": "9ffde802",
   "metadata": {},
   "source": [
    "Выделим сессии относительно таймаута равному 30 минутам. Общепринятая практика. Так как тайм-аут сеанса по умолчанию в Яндекс.Метрике и в Google Analytics равен 30 минутам."
   ]
  },
  {
   "cell_type": "code",
   "execution_count": 22,
   "id": "0b152130",
   "metadata": {
    "scrolled": true
   },
   "outputs": [
    {
     "data": {
      "text/html": [
       "<div>\n",
       "<style scoped>\n",
       "    .dataframe tbody tr th:only-of-type {\n",
       "        vertical-align: middle;\n",
       "    }\n",
       "\n",
       "    .dataframe tbody tr th {\n",
       "        vertical-align: top;\n",
       "    }\n",
       "\n",
       "    .dataframe thead th {\n",
       "        text-align: right;\n",
       "    }\n",
       "</style>\n",
       "<table border=\"1\" class=\"dataframe\">\n",
       "  <thead>\n",
       "    <tr style=\"text-align: right;\">\n",
       "      <th></th>\n",
       "      <th>event_time</th>\n",
       "      <th>event_name</th>\n",
       "      <th>user_id</th>\n",
       "      <th>session_id</th>\n",
       "    </tr>\n",
       "  </thead>\n",
       "  <tbody>\n",
       "    <tr>\n",
       "      <th>805</th>\n",
       "      <td>2019-10-07 13:39:46</td>\n",
       "      <td>tips_show</td>\n",
       "      <td>0001b1d5-b74a-4cbf-aeb0-7df5947bf349</td>\n",
       "      <td>1</td>\n",
       "    </tr>\n",
       "    <tr>\n",
       "      <th>806</th>\n",
       "      <td>2019-10-07 13:40:31</td>\n",
       "      <td>tips_show</td>\n",
       "      <td>0001b1d5-b74a-4cbf-aeb0-7df5947bf349</td>\n",
       "      <td>1</td>\n",
       "    </tr>\n",
       "    <tr>\n",
       "      <th>809</th>\n",
       "      <td>2019-10-07 13:41:06</td>\n",
       "      <td>tips_show</td>\n",
       "      <td>0001b1d5-b74a-4cbf-aeb0-7df5947bf349</td>\n",
       "      <td>1</td>\n",
       "    </tr>\n",
       "    <tr>\n",
       "      <th>820</th>\n",
       "      <td>2019-10-07 13:43:21</td>\n",
       "      <td>tips_show</td>\n",
       "      <td>0001b1d5-b74a-4cbf-aeb0-7df5947bf349</td>\n",
       "      <td>1</td>\n",
       "    </tr>\n",
       "    <tr>\n",
       "      <th>830</th>\n",
       "      <td>2019-10-07 13:45:31</td>\n",
       "      <td>tips_show</td>\n",
       "      <td>0001b1d5-b74a-4cbf-aeb0-7df5947bf349</td>\n",
       "      <td>1</td>\n",
       "    </tr>\n",
       "    <tr>\n",
       "      <th>...</th>\n",
       "      <td>...</td>\n",
       "      <td>...</td>\n",
       "      <td>...</td>\n",
       "      <td>...</td>\n",
       "    </tr>\n",
       "    <tr>\n",
       "      <th>72584</th>\n",
       "      <td>2019-11-03 15:51:24</td>\n",
       "      <td>tips_show</td>\n",
       "      <td>fffb9e79-b927-4dbb-9b48-7fd09b23a62b</td>\n",
       "      <td>10368</td>\n",
       "    </tr>\n",
       "    <tr>\n",
       "      <th>72589</th>\n",
       "      <td>2019-11-03 15:51:58</td>\n",
       "      <td>contacts_show</td>\n",
       "      <td>fffb9e79-b927-4dbb-9b48-7fd09b23a62b</td>\n",
       "      <td>10368</td>\n",
       "    </tr>\n",
       "    <tr>\n",
       "      <th>72684</th>\n",
       "      <td>2019-11-03 16:07:41</td>\n",
       "      <td>tips_show</td>\n",
       "      <td>fffb9e79-b927-4dbb-9b48-7fd09b23a62b</td>\n",
       "      <td>10368</td>\n",
       "    </tr>\n",
       "    <tr>\n",
       "      <th>72688</th>\n",
       "      <td>2019-11-03 16:08:18</td>\n",
       "      <td>tips_show</td>\n",
       "      <td>fffb9e79-b927-4dbb-9b48-7fd09b23a62b</td>\n",
       "      <td>10368</td>\n",
       "    </tr>\n",
       "    <tr>\n",
       "      <th>72689</th>\n",
       "      <td>2019-11-03 16:08:25</td>\n",
       "      <td>tips_show</td>\n",
       "      <td>fffb9e79-b927-4dbb-9b48-7fd09b23a62b</td>\n",
       "      <td>10368</td>\n",
       "    </tr>\n",
       "  </tbody>\n",
       "</table>\n",
       "<p>74197 rows × 4 columns</p>\n",
       "</div>"
      ],
      "text/plain": [
       "               event_time     event_name  \\\n",
       "805   2019-10-07 13:39:46      tips_show   \n",
       "806   2019-10-07 13:40:31      tips_show   \n",
       "809   2019-10-07 13:41:06      tips_show   \n",
       "820   2019-10-07 13:43:21      tips_show   \n",
       "830   2019-10-07 13:45:31      tips_show   \n",
       "...                   ...            ...   \n",
       "72584 2019-11-03 15:51:24      tips_show   \n",
       "72589 2019-11-03 15:51:58  contacts_show   \n",
       "72684 2019-11-03 16:07:41      tips_show   \n",
       "72688 2019-11-03 16:08:18      tips_show   \n",
       "72689 2019-11-03 16:08:25      tips_show   \n",
       "\n",
       "                                    user_id  session_id  \n",
       "805    0001b1d5-b74a-4cbf-aeb0-7df5947bf349           1  \n",
       "806    0001b1d5-b74a-4cbf-aeb0-7df5947bf349           1  \n",
       "809    0001b1d5-b74a-4cbf-aeb0-7df5947bf349           1  \n",
       "820    0001b1d5-b74a-4cbf-aeb0-7df5947bf349           1  \n",
       "830    0001b1d5-b74a-4cbf-aeb0-7df5947bf349           1  \n",
       "...                                     ...         ...  \n",
       "72584  fffb9e79-b927-4dbb-9b48-7fd09b23a62b       10368  \n",
       "72589  fffb9e79-b927-4dbb-9b48-7fd09b23a62b       10368  \n",
       "72684  fffb9e79-b927-4dbb-9b48-7fd09b23a62b       10368  \n",
       "72688  fffb9e79-b927-4dbb-9b48-7fd09b23a62b       10368  \n",
       "72689  fffb9e79-b927-4dbb-9b48-7fd09b23a62b       10368  \n",
       "\n",
       "[74197 rows x 4 columns]"
      ]
     },
     "execution_count": 22,
     "metadata": {},
     "output_type": "execute_result"
    }
   ],
   "source": [
    "# отсортируем датасет\n",
    "mobile_dataset_unite = mobile_dataset_unite.sort_values(['user_id', 'event_time'])\n",
    "\n",
    "g = ((mobile_dataset_unite.groupby('user_id')['event_time']).diff() > pd.Timedelta('30min')).cumsum()\n",
    "\n",
    "# создадим новый столбец сесcий\n",
    "mobile_dataset_unite['session_id'] = mobile_dataset_unite.groupby(['user_id', g], sort=False).ngroup() + 1\n",
    "mobile_dataset_unite"
   ]
  },
  {
   "cell_type": "code",
   "execution_count": 23,
   "id": "59e4122d",
   "metadata": {},
   "outputs": [
    {
     "data": {
      "text/html": [
       "<div>\n",
       "<style scoped>\n",
       "    .dataframe tbody tr th:only-of-type {\n",
       "        vertical-align: middle;\n",
       "    }\n",
       "\n",
       "    .dataframe tbody tr th {\n",
       "        vertical-align: top;\n",
       "    }\n",
       "\n",
       "    .dataframe thead th {\n",
       "        text-align: right;\n",
       "    }\n",
       "</style>\n",
       "<table border=\"1\" class=\"dataframe\">\n",
       "  <thead>\n",
       "    <tr style=\"text-align: right;\">\n",
       "      <th></th>\n",
       "      <th>duration</th>\n",
       "    </tr>\n",
       "    <tr>\n",
       "      <th>session_id</th>\n",
       "      <th></th>\n",
       "    </tr>\n",
       "  </thead>\n",
       "  <tbody>\n",
       "    <tr>\n",
       "      <th>1</th>\n",
       "      <td>596.0</td>\n",
       "    </tr>\n",
       "    <tr>\n",
       "      <th>2</th>\n",
       "      <td>507.0</td>\n",
       "    </tr>\n",
       "    <tr>\n",
       "      <th>3</th>\n",
       "      <td>899.0</td>\n",
       "    </tr>\n",
       "    <tr>\n",
       "      <th>4</th>\n",
       "      <td>758.0</td>\n",
       "    </tr>\n",
       "    <tr>\n",
       "      <th>5</th>\n",
       "      <td>1521.0</td>\n",
       "    </tr>\n",
       "    <tr>\n",
       "      <th>...</th>\n",
       "      <td>...</td>\n",
       "    </tr>\n",
       "    <tr>\n",
       "      <th>10364</th>\n",
       "      <td>0.0</td>\n",
       "    </tr>\n",
       "    <tr>\n",
       "      <th>10365</th>\n",
       "      <td>974.0</td>\n",
       "    </tr>\n",
       "    <tr>\n",
       "      <th>10366</th>\n",
       "      <td>296.0</td>\n",
       "    </tr>\n",
       "    <tr>\n",
       "      <th>10367</th>\n",
       "      <td>948.0</td>\n",
       "    </tr>\n",
       "    <tr>\n",
       "      <th>10368</th>\n",
       "      <td>1944.0</td>\n",
       "    </tr>\n",
       "  </tbody>\n",
       "</table>\n",
       "<p>10368 rows × 1 columns</p>\n",
       "</div>"
      ],
      "text/plain": [
       "            duration\n",
       "session_id          \n",
       "1              596.0\n",
       "2              507.0\n",
       "3              899.0\n",
       "4              758.0\n",
       "5             1521.0\n",
       "...              ...\n",
       "10364            0.0\n",
       "10365          974.0\n",
       "10366          296.0\n",
       "10367          948.0\n",
       "10368         1944.0\n",
       "\n",
       "[10368 rows x 1 columns]"
      ]
     },
     "execution_count": 23,
     "metadata": {},
     "output_type": "execute_result"
    }
   ],
   "source": [
    "# сгруппируем по сессии и определим продолжительность каждой сессии\n",
    "\n",
    "data_duration = (mobile_dataset_unite.groupby('session_id')['event_time']\n",
    "                                     .agg(lambda x: max(x) - min(x))\n",
    "                                     .to_frame()\n",
    "                                     .rename(columns={'event_time': 'duration'}))\n",
    "# округлим до секунды                                    \n",
    "data_duration['duration'] = data_duration['duration'] / np.timedelta64(1, 's')\n",
    "data_duration"
   ]
  },
  {
   "cell_type": "markdown",
   "id": "d6c9d03a",
   "metadata": {},
   "source": [
    "Построим гистограмму распределения продолжительности сессии"
   ]
  },
  {
   "cell_type": "code",
   "execution_count": 24,
   "id": "b265c0a2",
   "metadata": {},
   "outputs": [
    {
     "data": {
      "image/png": "[encoded data removed]",
      "text/plain": [
       "<Figure size 1080x576 with 1 Axes>"
      ]
     },
     "metadata": {
      "needs_background": "light"
     },
     "output_type": "display_data"
    }
   ],
   "source": [
    "plt.figure(figsize=(15,8))\n",
    "data_duration['duration'].hist(bins=100)\n",
    "plt.title('Гистограмма по сессиям \\n')\n",
    "plt.ylabel('Количество')\n",
    "plt.xlabel('Продолжительность сессии')\n",
    "\n",
    "plt.show()"
   ]
  },
  {
   "cell_type": "markdown",
   "id": "869f73eb",
   "metadata": {},
   "source": [
    "Секунды, проведённые пользователями в приложении, имеют экспоненциальное распределение с пиком в районе нуля. Надо поподробней разобраться, почему так много очень коротких сессий. Здесь одна из точек раста использования нашего приложения."
   ]
  },
  {
   "cell_type": "markdown",
   "id": "585a40fb",
   "metadata": {},
   "source": [
    "Сесии меньше 2 секунд посчитаем за ошибочные, т. к. за это время невозможно полноценно воспользоваться программой. Скорее всего здесь речь идет о каком-то сбое. Принимаем решение удалить их. Так же необходимо удалить \"длинный хвост\" сессий. Для уточнения его границы построим ящик с усами."
   ]
  },
  {
   "cell_type": "code",
   "execution_count": 25,
   "id": "32f86845",
   "metadata": {},
   "outputs": [
    {
     "data": {
      "image/png": "[encoded data removed]",
      "text/plain": [
       "<Figure size 432x288 with 1 Axes>"
      ]
     },
     "metadata": {
      "needs_background": "light"
     },
     "output_type": "display_data"
    }
   ],
   "source": [
    "# построим ящик с усами\n",
    "sns.boxplot(x=data_duration['duration']);"
   ]
  },
  {
   "cell_type": "markdown",
   "id": "02de09de",
   "metadata": {},
   "source": [
    "Мы видим, что сессии продолжительностью более 2500 секунд тоже можно удалить."
   ]
  },
  {
   "cell_type": "markdown",
   "id": "5c8f72d8",
   "metadata": {},
   "source": [
    "Посчитаем, какое количество данных мы собираемся удалить."
   ]
  },
  {
   "cell_type": "code",
   "execution_count": 26,
   "id": "c9c3a4d7",
   "metadata": {},
   "outputs": [
    {
     "name": "stdout",
     "output_type": "stream",
     "text": [
      "Размер данных где сессии < 2 секунд - 2181.   Это 21.0% от общего количества\n",
      "Размер данных где сессии > 2500 секунд- 723.   Это 7.0% от общего количества\n",
      "Общее количество сессий 10368\n",
      "Мы удаляем 2904 сессий.  Это 28.0% от общего количества\n"
     ]
    }
   ],
   "source": [
    "size2 = len(data_duration.query('duration < 2'))\n",
    "size2500 = len(data_duration.query('duration > 2500'))\n",
    "size_all = len(data_duration)\n",
    "\n",
    "print('Размер данных где сессии < 2 секунд - {}.   Это {:.1%} от общего количества'.format(size2, size2/size_all) )\n",
    "print('Размер данных где сессии > 2500 секунд- {}.   Это {:.1%} от общего количества'.format(size2500, size2500/size_all) )\n",
    "print('Общее количество сессий', size_all)\n",
    "print('Мы удаляем {} сессий.  Это {:.1%} от общего количества'.format(size2+size2500, (size2+size2500)/size_all) )"
   ]
  },
  {
   "cell_type": "markdown",
   "id": "bcfd217f",
   "metadata": {},
   "source": [
    "Почистим датафрейм сессий применив маску фильтрации."
   ]
  },
  {
   "cell_type": "code",
   "execution_count": 27,
   "id": "9157aa02",
   "metadata": {},
   "outputs": [
    {
     "data": {
      "text/html": [
       "<div>\n",
       "<style scoped>\n",
       "    .dataframe tbody tr th:only-of-type {\n",
       "        vertical-align: middle;\n",
       "    }\n",
       "\n",
       "    .dataframe tbody tr th {\n",
       "        vertical-align: top;\n",
       "    }\n",
       "\n",
       "    .dataframe thead th {\n",
       "        text-align: right;\n",
       "    }\n",
       "</style>\n",
       "<table border=\"1\" class=\"dataframe\">\n",
       "  <thead>\n",
       "    <tr style=\"text-align: right;\">\n",
       "      <th></th>\n",
       "      <th>event_time</th>\n",
       "      <th>event_name</th>\n",
       "      <th>user_id</th>\n",
       "      <th>session_id</th>\n",
       "    </tr>\n",
       "  </thead>\n",
       "  <tbody>\n",
       "    <tr>\n",
       "      <th>0</th>\n",
       "      <td>2019-10-07 13:39:46</td>\n",
       "      <td>tips_show</td>\n",
       "      <td>0001b1d5-b74a-4cbf-aeb0-7df5947bf349</td>\n",
       "      <td>1</td>\n",
       "    </tr>\n",
       "    <tr>\n",
       "      <th>1</th>\n",
       "      <td>2019-10-07 13:40:31</td>\n",
       "      <td>tips_show</td>\n",
       "      <td>0001b1d5-b74a-4cbf-aeb0-7df5947bf349</td>\n",
       "      <td>1</td>\n",
       "    </tr>\n",
       "    <tr>\n",
       "      <th>2</th>\n",
       "      <td>2019-10-07 13:41:06</td>\n",
       "      <td>tips_show</td>\n",
       "      <td>0001b1d5-b74a-4cbf-aeb0-7df5947bf349</td>\n",
       "      <td>1</td>\n",
       "    </tr>\n",
       "    <tr>\n",
       "      <th>3</th>\n",
       "      <td>2019-10-07 13:43:21</td>\n",
       "      <td>tips_show</td>\n",
       "      <td>0001b1d5-b74a-4cbf-aeb0-7df5947bf349</td>\n",
       "      <td>1</td>\n",
       "    </tr>\n",
       "    <tr>\n",
       "      <th>4</th>\n",
       "      <td>2019-10-07 13:45:31</td>\n",
       "      <td>tips_show</td>\n",
       "      <td>0001b1d5-b74a-4cbf-aeb0-7df5947bf349</td>\n",
       "      <td>1</td>\n",
       "    </tr>\n",
       "    <tr>\n",
       "      <th>...</th>\n",
       "      <td>...</td>\n",
       "      <td>...</td>\n",
       "      <td>...</td>\n",
       "      <td>...</td>\n",
       "    </tr>\n",
       "    <tr>\n",
       "      <th>52777</th>\n",
       "      <td>2019-11-03 15:51:24</td>\n",
       "      <td>tips_show</td>\n",
       "      <td>fffb9e79-b927-4dbb-9b48-7fd09b23a62b</td>\n",
       "      <td>10368</td>\n",
       "    </tr>\n",
       "    <tr>\n",
       "      <th>52778</th>\n",
       "      <td>2019-11-03 15:51:58</td>\n",
       "      <td>contacts_show</td>\n",
       "      <td>fffb9e79-b927-4dbb-9b48-7fd09b23a62b</td>\n",
       "      <td>10368</td>\n",
       "    </tr>\n",
       "    <tr>\n",
       "      <th>52779</th>\n",
       "      <td>2019-11-03 16:07:41</td>\n",
       "      <td>tips_show</td>\n",
       "      <td>fffb9e79-b927-4dbb-9b48-7fd09b23a62b</td>\n",
       "      <td>10368</td>\n",
       "    </tr>\n",
       "    <tr>\n",
       "      <th>52780</th>\n",
       "      <td>2019-11-03 16:08:18</td>\n",
       "      <td>tips_show</td>\n",
       "      <td>fffb9e79-b927-4dbb-9b48-7fd09b23a62b</td>\n",
       "      <td>10368</td>\n",
       "    </tr>\n",
       "    <tr>\n",
       "      <th>52781</th>\n",
       "      <td>2019-11-03 16:08:25</td>\n",
       "      <td>tips_show</td>\n",
       "      <td>fffb9e79-b927-4dbb-9b48-7fd09b23a62b</td>\n",
       "      <td>10368</td>\n",
       "    </tr>\n",
       "  </tbody>\n",
       "</table>\n",
       "<p>52782 rows × 4 columns</p>\n",
       "</div>"
      ],
      "text/plain": [
       "               event_time     event_name  \\\n",
       "0     2019-10-07 13:39:46      tips_show   \n",
       "1     2019-10-07 13:40:31      tips_show   \n",
       "2     2019-10-07 13:41:06      tips_show   \n",
       "3     2019-10-07 13:43:21      tips_show   \n",
       "4     2019-10-07 13:45:31      tips_show   \n",
       "...                   ...            ...   \n",
       "52777 2019-11-03 15:51:24      tips_show   \n",
       "52778 2019-11-03 15:51:58  contacts_show   \n",
       "52779 2019-11-03 16:07:41      tips_show   \n",
       "52780 2019-11-03 16:08:18      tips_show   \n",
       "52781 2019-11-03 16:08:25      tips_show   \n",
       "\n",
       "                                    user_id  session_id  \n",
       "0      0001b1d5-b74a-4cbf-aeb0-7df5947bf349           1  \n",
       "1      0001b1d5-b74a-4cbf-aeb0-7df5947bf349           1  \n",
       "2      0001b1d5-b74a-4cbf-aeb0-7df5947bf349           1  \n",
       "3      0001b1d5-b74a-4cbf-aeb0-7df5947bf349           1  \n",
       "4      0001b1d5-b74a-4cbf-aeb0-7df5947bf349           1  \n",
       "...                                     ...         ...  \n",
       "52777  fffb9e79-b927-4dbb-9b48-7fd09b23a62b       10368  \n",
       "52778  fffb9e79-b927-4dbb-9b48-7fd09b23a62b       10368  \n",
       "52779  fffb9e79-b927-4dbb-9b48-7fd09b23a62b       10368  \n",
       "52780  fffb9e79-b927-4dbb-9b48-7fd09b23a62b       10368  \n",
       "52781  fffb9e79-b927-4dbb-9b48-7fd09b23a62b       10368  \n",
       "\n",
       "[52782 rows x 4 columns]"
      ]
     },
     "execution_count": 27,
     "metadata": {},
     "output_type": "execute_result"
    }
   ],
   "source": [
    "data_duration_clin = data_duration.query('duration >= 2 and duration <= 2500').reset_index()\n",
    "# создадим маску фильтрации\n",
    "mask = mobile_dataset_unite['session_id'].isin(data_duration_clin['session_id'])\n",
    "# применим маску к датафрейму\n",
    "mobile_dataset_clean = mobile_dataset_unite[mask]\n",
    "# отсортируем\n",
    "mobile_dataset_clean = mobile_dataset_clean.sort_values(['session_id', 'event_time']).reset_index(drop=True)\n",
    "mobile_dataset_clean"
   ]
  },
  {
   "cell_type": "markdown",
   "id": "74b942cb",
   "metadata": {},
   "source": [
    "Расчитаем длительность каждого события."
   ]
  },
  {
   "cell_type": "code",
   "execution_count": 28,
   "id": "650ce94a",
   "metadata": {},
   "outputs": [],
   "source": [
    "mobile_dataset_clean['delta'] = [0]*len(mobile_dataset_clean)\n",
    "\n",
    "for i in range(1, len(mobile_dataset_clean)):\n",
    "    \n",
    "    if mobile_dataset_clean.loc[i-1,'session_id'] == mobile_dataset_clean.loc[i,'session_id']:\n",
    "        delta = mobile_dataset_clean.loc[i,'event_time'] - mobile_dataset_clean.loc[i-1,'event_time']\n",
    "        mobile_dataset_clean.loc[i-1,'delta'] = delta.total_seconds()"
   ]
  },
  {
   "cell_type": "code",
   "execution_count": 29,
   "id": "ca16654a",
   "metadata": {},
   "outputs": [
    {
     "data": {
      "text/html": [
       "<div>\n",
       "<style scoped>\n",
       "    .dataframe tbody tr th:only-of-type {\n",
       "        vertical-align: middle;\n",
       "    }\n",
       "\n",
       "    .dataframe tbody tr th {\n",
       "        vertical-align: top;\n",
       "    }\n",
       "\n",
       "    .dataframe thead th {\n",
       "        text-align: right;\n",
       "    }\n",
       "</style>\n",
       "<table border=\"1\" class=\"dataframe\">\n",
       "  <thead>\n",
       "    <tr style=\"text-align: right;\">\n",
       "      <th></th>\n",
       "      <th>event_time</th>\n",
       "      <th>event_name</th>\n",
       "      <th>user_id</th>\n",
       "      <th>session_id</th>\n",
       "      <th>delta</th>\n",
       "    </tr>\n",
       "  </thead>\n",
       "  <tbody>\n",
       "    <tr>\n",
       "      <th>0</th>\n",
       "      <td>2019-10-07 13:39:46</td>\n",
       "      <td>tips_show</td>\n",
       "      <td>0001b1d5-b74a-4cbf-aeb0-7df5947bf349</td>\n",
       "      <td>1</td>\n",
       "      <td>45</td>\n",
       "    </tr>\n",
       "    <tr>\n",
       "      <th>1</th>\n",
       "      <td>2019-10-07 13:40:31</td>\n",
       "      <td>tips_show</td>\n",
       "      <td>0001b1d5-b74a-4cbf-aeb0-7df5947bf349</td>\n",
       "      <td>1</td>\n",
       "      <td>35</td>\n",
       "    </tr>\n",
       "    <tr>\n",
       "      <th>2</th>\n",
       "      <td>2019-10-07 13:41:06</td>\n",
       "      <td>tips_show</td>\n",
       "      <td>0001b1d5-b74a-4cbf-aeb0-7df5947bf349</td>\n",
       "      <td>1</td>\n",
       "      <td>135</td>\n",
       "    </tr>\n",
       "    <tr>\n",
       "      <th>3</th>\n",
       "      <td>2019-10-07 13:43:21</td>\n",
       "      <td>tips_show</td>\n",
       "      <td>0001b1d5-b74a-4cbf-aeb0-7df5947bf349</td>\n",
       "      <td>1</td>\n",
       "      <td>130</td>\n",
       "    </tr>\n",
       "    <tr>\n",
       "      <th>4</th>\n",
       "      <td>2019-10-07 13:45:31</td>\n",
       "      <td>tips_show</td>\n",
       "      <td>0001b1d5-b74a-4cbf-aeb0-7df5947bf349</td>\n",
       "      <td>1</td>\n",
       "      <td>12</td>\n",
       "    </tr>\n",
       "    <tr>\n",
       "      <th>...</th>\n",
       "      <td>...</td>\n",
       "      <td>...</td>\n",
       "      <td>...</td>\n",
       "      <td>...</td>\n",
       "      <td>...</td>\n",
       "    </tr>\n",
       "    <tr>\n",
       "      <th>52777</th>\n",
       "      <td>2019-11-03 15:51:24</td>\n",
       "      <td>tips_show</td>\n",
       "      <td>fffb9e79-b927-4dbb-9b48-7fd09b23a62b</td>\n",
       "      <td>10368</td>\n",
       "      <td>34</td>\n",
       "    </tr>\n",
       "    <tr>\n",
       "      <th>52778</th>\n",
       "      <td>2019-11-03 15:51:58</td>\n",
       "      <td>contacts_show</td>\n",
       "      <td>fffb9e79-b927-4dbb-9b48-7fd09b23a62b</td>\n",
       "      <td>10368</td>\n",
       "      <td>943</td>\n",
       "    </tr>\n",
       "    <tr>\n",
       "      <th>52779</th>\n",
       "      <td>2019-11-03 16:07:41</td>\n",
       "      <td>tips_show</td>\n",
       "      <td>fffb9e79-b927-4dbb-9b48-7fd09b23a62b</td>\n",
       "      <td>10368</td>\n",
       "      <td>37</td>\n",
       "    </tr>\n",
       "    <tr>\n",
       "      <th>52780</th>\n",
       "      <td>2019-11-03 16:08:18</td>\n",
       "      <td>tips_show</td>\n",
       "      <td>fffb9e79-b927-4dbb-9b48-7fd09b23a62b</td>\n",
       "      <td>10368</td>\n",
       "      <td>7</td>\n",
       "    </tr>\n",
       "    <tr>\n",
       "      <th>52781</th>\n",
       "      <td>2019-11-03 16:08:25</td>\n",
       "      <td>tips_show</td>\n",
       "      <td>fffb9e79-b927-4dbb-9b48-7fd09b23a62b</td>\n",
       "      <td>10368</td>\n",
       "      <td>0</td>\n",
       "    </tr>\n",
       "  </tbody>\n",
       "</table>\n",
       "<p>52782 rows × 5 columns</p>\n",
       "</div>"
      ],
      "text/plain": [
       "               event_time     event_name  \\\n",
       "0     2019-10-07 13:39:46      tips_show   \n",
       "1     2019-10-07 13:40:31      tips_show   \n",
       "2     2019-10-07 13:41:06      tips_show   \n",
       "3     2019-10-07 13:43:21      tips_show   \n",
       "4     2019-10-07 13:45:31      tips_show   \n",
       "...                   ...            ...   \n",
       "52777 2019-11-03 15:51:24      tips_show   \n",
       "52778 2019-11-03 15:51:58  contacts_show   \n",
       "52779 2019-11-03 16:07:41      tips_show   \n",
       "52780 2019-11-03 16:08:18      tips_show   \n",
       "52781 2019-11-03 16:08:25      tips_show   \n",
       "\n",
       "                                    user_id  session_id  delta  \n",
       "0      0001b1d5-b74a-4cbf-aeb0-7df5947bf349           1     45  \n",
       "1      0001b1d5-b74a-4cbf-aeb0-7df5947bf349           1     35  \n",
       "2      0001b1d5-b74a-4cbf-aeb0-7df5947bf349           1    135  \n",
       "3      0001b1d5-b74a-4cbf-aeb0-7df5947bf349           1    130  \n",
       "4      0001b1d5-b74a-4cbf-aeb0-7df5947bf349           1     12  \n",
       "...                                     ...         ...    ...  \n",
       "52777  fffb9e79-b927-4dbb-9b48-7fd09b23a62b       10368     34  \n",
       "52778  fffb9e79-b927-4dbb-9b48-7fd09b23a62b       10368    943  \n",
       "52779  fffb9e79-b927-4dbb-9b48-7fd09b23a62b       10368     37  \n",
       "52780  fffb9e79-b927-4dbb-9b48-7fd09b23a62b       10368      7  \n",
       "52781  fffb9e79-b927-4dbb-9b48-7fd09b23a62b       10368      0  \n",
       "\n",
       "[52782 rows x 5 columns]"
      ]
     },
     "execution_count": 29,
     "metadata": {},
     "output_type": "execute_result"
    }
   ],
   "source": [
    "mobile_dataset_clean"
   ]
  },
  {
   "cell_type": "markdown",
   "id": "c98785e9",
   "metadata": {},
   "source": [
    "Посмотрим статистику по сессиям."
   ]
  },
  {
   "cell_type": "code",
   "execution_count": 30,
   "id": "7579aff0",
   "metadata": {},
   "outputs": [
    {
     "data": {
      "text/html": [
       "<div>\n",
       "<style scoped>\n",
       "    .dataframe tbody tr th:only-of-type {\n",
       "        vertical-align: middle;\n",
       "    }\n",
       "\n",
       "    .dataframe tbody tr th {\n",
       "        vertical-align: top;\n",
       "    }\n",
       "\n",
       "    .dataframe thead th {\n",
       "        text-align: right;\n",
       "    }\n",
       "</style>\n",
       "<table border=\"1\" class=\"dataframe\">\n",
       "  <thead>\n",
       "    <tr style=\"text-align: right;\">\n",
       "      <th></th>\n",
       "      <th>sum</th>\n",
       "      <th>count</th>\n",
       "      <th>mean</th>\n",
       "      <th>median</th>\n",
       "      <th>min</th>\n",
       "      <th>max</th>\n",
       "    </tr>\n",
       "    <tr>\n",
       "      <th>event_name</th>\n",
       "      <th></th>\n",
       "      <th></th>\n",
       "      <th></th>\n",
       "      <th></th>\n",
       "      <th></th>\n",
       "      <th></th>\n",
       "    </tr>\n",
       "  </thead>\n",
       "  <tbody>\n",
       "    <tr>\n",
       "      <th>advert_open</th>\n",
       "      <td>158422</td>\n",
       "      <td>4556</td>\n",
       "      <td>34.772169</td>\n",
       "      <td>7</td>\n",
       "      <td>0</td>\n",
       "      <td>1754</td>\n",
       "    </tr>\n",
       "    <tr>\n",
       "      <th>contacts_call</th>\n",
       "      <td>55243</td>\n",
       "      <td>442</td>\n",
       "      <td>124.984163</td>\n",
       "      <td>13</td>\n",
       "      <td>0</td>\n",
       "      <td>1700</td>\n",
       "    </tr>\n",
       "    <tr>\n",
       "      <th>contacts_show</th>\n",
       "      <td>281892</td>\n",
       "      <td>3007</td>\n",
       "      <td>93.745261</td>\n",
       "      <td>17</td>\n",
       "      <td>0</td>\n",
       "      <td>1787</td>\n",
       "    </tr>\n",
       "    <tr>\n",
       "      <th>favorites_add</th>\n",
       "      <td>84527</td>\n",
       "      <td>908</td>\n",
       "      <td>93.091410</td>\n",
       "      <td>36</td>\n",
       "      <td>0</td>\n",
       "      <td>1765</td>\n",
       "    </tr>\n",
       "    <tr>\n",
       "      <th>map</th>\n",
       "      <td>266132</td>\n",
       "      <td>2843</td>\n",
       "      <td>93.609567</td>\n",
       "      <td>51</td>\n",
       "      <td>0</td>\n",
       "      <td>1692</td>\n",
       "    </tr>\n",
       "    <tr>\n",
       "      <th>photos_show</th>\n",
       "      <td>856492</td>\n",
       "      <td>8108</td>\n",
       "      <td>105.635422</td>\n",
       "      <td>45</td>\n",
       "      <td>0</td>\n",
       "      <td>1798</td>\n",
       "    </tr>\n",
       "    <tr>\n",
       "      <th>searchs</th>\n",
       "      <td>537571</td>\n",
       "      <td>5724</td>\n",
       "      <td>93.915269</td>\n",
       "      <td>27</td>\n",
       "      <td>0</td>\n",
       "      <td>1795</td>\n",
       "    </tr>\n",
       "    <tr>\n",
       "      <th>tips_click</th>\n",
       "      <td>24917</td>\n",
       "      <td>570</td>\n",
       "      <td>43.714035</td>\n",
       "      <td>9</td>\n",
       "      <td>0</td>\n",
       "      <td>1010</td>\n",
       "    </tr>\n",
       "    <tr>\n",
       "      <th>tips_show</th>\n",
       "      <td>2801533</td>\n",
       "      <td>26624</td>\n",
       "      <td>105.225849</td>\n",
       "      <td>57</td>\n",
       "      <td>0</td>\n",
       "      <td>1796</td>\n",
       "    </tr>\n",
       "  </tbody>\n",
       "</table>\n",
       "</div>"
      ],
      "text/plain": [
       "                   sum  count        mean  median  min   max\n",
       "event_name                                                  \n",
       "advert_open     158422   4556   34.772169       7    0  1754\n",
       "contacts_call    55243    442  124.984163      13    0  1700\n",
       "contacts_show   281892   3007   93.745261      17    0  1787\n",
       "favorites_add    84527    908   93.091410      36    0  1765\n",
       "map             266132   2843   93.609567      51    0  1692\n",
       "photos_show     856492   8108  105.635422      45    0  1798\n",
       "searchs         537571   5724   93.915269      27    0  1795\n",
       "tips_click       24917    570   43.714035       9    0  1010\n",
       "tips_show      2801533  26624  105.225849      57    0  1796"
      ]
     },
     "execution_count": 30,
     "metadata": {},
     "output_type": "execute_result"
    }
   ],
   "source": [
    "md_stat = ( mobile_dataset_clean.groupby('event_name')['delta']\n",
    "                                .agg(['sum', 'count', 'mean', 'median', 'min', 'max']))\n",
    "md_stat                                "
   ]
  },
  {
   "cell_type": "markdown",
   "id": "b59f72c6",
   "metadata": {},
   "source": [
    "Заменим нули на медианные значения."
   ]
  },
  {
   "cell_type": "code",
   "execution_count": 31,
   "id": "644efd39",
   "metadata": {},
   "outputs": [],
   "source": [
    "# напишем цикл\n",
    "for i in md_stat.index:\n",
    "        mobile_dataset_clean['delta'].replace(to_replace=0, value = md_stat.loc[i,'median'], inplace = True)"
   ]
  },
  {
   "cell_type": "markdown",
   "id": "24c9bcba",
   "metadata": {},
   "source": [
    "Еще раз посмотрим на статистику."
   ]
  },
  {
   "cell_type": "code",
   "execution_count": 32,
   "id": "9138b19f",
   "metadata": {},
   "outputs": [
    {
     "data": {
      "text/html": [
       "<div>\n",
       "<style scoped>\n",
       "    .dataframe tbody tr th:only-of-type {\n",
       "        vertical-align: middle;\n",
       "    }\n",
       "\n",
       "    .dataframe tbody tr th {\n",
       "        vertical-align: top;\n",
       "    }\n",
       "\n",
       "    .dataframe thead th {\n",
       "        text-align: right;\n",
       "    }\n",
       "</style>\n",
       "<table border=\"1\" class=\"dataframe\">\n",
       "  <thead>\n",
       "    <tr style=\"text-align: right;\">\n",
       "      <th></th>\n",
       "      <th>sum</th>\n",
       "      <th>count</th>\n",
       "      <th>mean</th>\n",
       "      <th>median</th>\n",
       "      <th>min</th>\n",
       "      <th>max</th>\n",
       "    </tr>\n",
       "    <tr>\n",
       "      <th>event_name</th>\n",
       "      <th></th>\n",
       "      <th></th>\n",
       "      <th></th>\n",
       "      <th></th>\n",
       "      <th></th>\n",
       "      <th></th>\n",
       "    </tr>\n",
       "  </thead>\n",
       "  <tbody>\n",
       "    <tr>\n",
       "      <th>contacts_call</th>\n",
       "      <td>56650</td>\n",
       "      <td>442</td>\n",
       "      <td>128.167421</td>\n",
       "      <td>13</td>\n",
       "      <td>1</td>\n",
       "      <td>1700</td>\n",
       "    </tr>\n",
       "    <tr>\n",
       "      <th>photos_show</th>\n",
       "      <td>870233</td>\n",
       "      <td>8108</td>\n",
       "      <td>107.330168</td>\n",
       "      <td>45</td>\n",
       "      <td>1</td>\n",
       "      <td>1798</td>\n",
       "    </tr>\n",
       "    <tr>\n",
       "      <th>tips_show</th>\n",
       "      <td>2830373</td>\n",
       "      <td>26624</td>\n",
       "      <td>106.309082</td>\n",
       "      <td>57</td>\n",
       "      <td>1</td>\n",
       "      <td>1796</td>\n",
       "    </tr>\n",
       "    <tr>\n",
       "      <th>contacts_show</th>\n",
       "      <td>286246</td>\n",
       "      <td>3007</td>\n",
       "      <td>95.193216</td>\n",
       "      <td>17</td>\n",
       "      <td>1</td>\n",
       "      <td>1787</td>\n",
       "    </tr>\n",
       "    <tr>\n",
       "      <th>searchs</th>\n",
       "      <td>542555</td>\n",
       "      <td>5724</td>\n",
       "      <td>94.785989</td>\n",
       "      <td>27</td>\n",
       "      <td>1</td>\n",
       "      <td>1795</td>\n",
       "    </tr>\n",
       "    <tr>\n",
       "      <th>favorites_add</th>\n",
       "      <td>85738</td>\n",
       "      <td>908</td>\n",
       "      <td>94.425110</td>\n",
       "      <td>36</td>\n",
       "      <td>1</td>\n",
       "      <td>1765</td>\n",
       "    </tr>\n",
       "    <tr>\n",
       "      <th>map</th>\n",
       "      <td>268372</td>\n",
       "      <td>2843</td>\n",
       "      <td>94.397467</td>\n",
       "      <td>51</td>\n",
       "      <td>1</td>\n",
       "      <td>1692</td>\n",
       "    </tr>\n",
       "    <tr>\n",
       "      <th>tips_click</th>\n",
       "      <td>25218</td>\n",
       "      <td>570</td>\n",
       "      <td>44.242105</td>\n",
       "      <td>9</td>\n",
       "      <td>1</td>\n",
       "      <td>1010</td>\n",
       "    </tr>\n",
       "    <tr>\n",
       "      <th>advert_open</th>\n",
       "      <td>160326</td>\n",
       "      <td>4556</td>\n",
       "      <td>35.190079</td>\n",
       "      <td>7</td>\n",
       "      <td>1</td>\n",
       "      <td>1754</td>\n",
       "    </tr>\n",
       "  </tbody>\n",
       "</table>\n",
       "</div>"
      ],
      "text/plain": [
       "                   sum  count        mean  median  min   max\n",
       "event_name                                                  \n",
       "contacts_call    56650    442  128.167421      13    1  1700\n",
       "photos_show     870233   8108  107.330168      45    1  1798\n",
       "tips_show      2830373  26624  106.309082      57    1  1796\n",
       "contacts_show   286246   3007   95.193216      17    1  1787\n",
       "searchs         542555   5724   94.785989      27    1  1795\n",
       "favorites_add    85738    908   94.425110      36    1  1765\n",
       "map             268372   2843   94.397467      51    1  1692\n",
       "tips_click       25218    570   44.242105       9    1  1010\n",
       "advert_open     160326   4556   35.190079       7    1  1754"
      ]
     },
     "execution_count": 32,
     "metadata": {},
     "output_type": "execute_result"
    }
   ],
   "source": [
    "md_stat = ( mobile_dataset_clean.groupby('event_name')['delta']\n",
    "                                .agg(['sum', 'count', 'mean', 'median', 'min', 'max'])\n",
    "                                .sort_values('mean', ascending=False))\n",
    "md_stat "
   ]
  },
  {
   "cell_type": "markdown",
   "id": "f6ced01d",
   "metadata": {},
   "source": [
    "В среднем, самые продолжительные события: `contacts_call` - 128.2 секунд, `photos_show` - 107.3,`tips_show` - 106.3 секунды. Самые скоротечные: `tips_click` - 44.2, `advert_open` - 35.2 секунды."
   ]
  },
  {
   "cell_type": "markdown",
   "id": "e954547d",
   "metadata": {},
   "source": [
    "Найдем общее и среднее время проведенное пользователями в приложении. "
   ]
  },
  {
   "cell_type": "code",
   "execution_count": 33,
   "id": "6642ef19",
   "metadata": {},
   "outputs": [
    {
     "name": "stdout",
     "output_type": "stream",
     "text": [
      "Общее время проведенное пользователями в приложении 1423.8 часов\n",
      "Было совершено 52782 события со средней продолжительностью 88.9 секунды\n"
     ]
    }
   ],
   "source": [
    "print('Общее время проведенное пользователями в приложении {:.5} часов'.format(md_stat['sum'].sum()/3600))\n",
    "\n",
    "print('Было совершено {} события со средней продолжительностью {:.3} секунды'\n",
    "      .format(md_stat['count'].sum(), md_stat['mean'].mean() ))"
   ]
  },
  {
   "cell_type": "markdown",
   "id": "ddf4ad01",
   "metadata": {},
   "source": [
    "**Разделим наших пользователей на три группы.**\n",
    "\n",
    "* Группа data_tips_click - те, кто пользовался рекомендованными объявлениями `tips_click`;\n",
    "* Группа data_map_click - те, кто использовал `map`;\n",
    "* Группа data_search_click - остальные, кто использовал `search`. "
   ]
  },
  {
   "cell_type": "code",
   "execution_count": 34,
   "id": "2c5728ec",
   "metadata": {},
   "outputs": [],
   "source": [
    "# создадим список уникальных user_id совершивших tips_click\n",
    "filter_tips_click = mobile_dataset_clean.query('event_name == \"tips_click\"')['user_id'].unique()\n",
    "# создадим маску\n",
    "mask = mobile_dataset_clean['user_id'].isin(filter_tips_click)\n",
    "# применим маску\n",
    "data_tips_click, data_no_tips_click = mobile_dataset_clean[mask], mobile_dataset_clean[~mask]\n",
    "\n",
    "# выделим группу кто пользуется картой при просмотре объявлений\n",
    "# создадим список\n",
    "map_click = data_no_tips_click.query('event_name == \"map\"')['user_id'].unique()\n",
    "# создадим маску\n",
    "mask = data_no_tips_click['user_id'].isin(map_click)\n",
    "# применим маску\n",
    "data_map_click, data_search_click = data_no_tips_click[mask], data_no_tips_click[~mask]"
   ]
  },
  {
   "cell_type": "code",
   "execution_count": 35,
   "id": "160dd2f7",
   "metadata": {},
   "outputs": [
    {
     "name": "stdout",
     "output_type": "stream",
     "text": [
      "Мы разбили посетителей сайта на группы по: 263, 1171 и 2551 уникальных пользователей\n"
     ]
    }
   ],
   "source": [
    "print('Мы разбили посетителей сайта на группы по: {}, {} и {} уникальных пользователей'.format(\n",
    "                                                            data_tips_click['user_id'].nunique(),\n",
    "                                                            data_map_click['user_id'].nunique(),\n",
    "                                                            data_search_click['user_id'].nunique())\n",
    "                                                             )"
   ]
  },
  {
   "cell_type": "markdown",
   "id": "f2318012",
   "metadata": {},
   "source": [
    "## Ответим на вопросы заказчика:<a id=\"step4\"></a>\n",
    "\n",
    "* Пользователи какой группы склонны часто возвращаться в мобильное приложение (Retention rate)?\n",
    "* Пользователи какой группы часто делают целевое событие (конверсия в целевое действие)?\n",
    "* Как различается время между распространенными событиями пользователей из разных групп?"
   ]
  },
  {
   "cell_type": "markdown",
   "id": "1363b135",
   "metadata": {},
   "source": [
    "#### Пользователи какой группы склонны часто возвращаться в мобильное приложение (Retention rate)?\n",
    "Расчитаем Retention rate."
   ]
  },
  {
   "cell_type": "markdown",
   "id": "89132c05",
   "metadata": {},
   "source": [
    "Для расчета нам необходимо найти дату начала использования приложения."
   ]
  },
  {
   "cell_type": "code",
   "execution_count": 36,
   "id": "0dfe8aaa",
   "metadata": {},
   "outputs": [],
   "source": [
    "# Напишем функцию для нахождения даты начала использования приложения\n",
    "def first_date(mobile_data):\n",
    "    \n",
    "  # отсортируем датафрейм и представим event_timе в формте даты\n",
    "    mobile_data = mobile_data.sort_values(['user_id', 'event_time'])\n",
    "    mobile_data['event_time'] = mobile_data['event_time'].dt.date\n",
    "    mobile_data['event_time'] = pd.to_datetime(mobile_data['event_time'])\n",
    "    #mobile_data = mobile_data.reset_index(drop=True)\n",
    " \n",
    "    # сгруппируем по сессиям и посмотрим первые значения\n",
    "    # найдем дату первого использования приложения\n",
    "    data_fr_date = mobile_data.groupby('user_id').agg({'event_time': 'first'})#.reset_index()\n",
    "    data_fr_date = data_fr_date.rename({'event_time':'first_date'}, axis=1)\n",
    "\n",
    "    # объединим данные\n",
    "    mobile_data = mobile_data.merge(data_fr_date, on='user_id', how='left')\n",
    "    \n",
    "    return mobile_data"
   ]
  },
  {
   "cell_type": "markdown",
   "id": "e48e2963",
   "metadata": {},
   "source": [
    "Напишем функцию для расчета Retention rate."
   ]
  },
  {
   "cell_type": "code",
   "execution_count": 37,
   "id": "92b34a82",
   "metadata": {},
   "outputs": [],
   "source": [
    "def Retention_Table_heatmap (data):\n",
    "\n",
    "    # посчитаем и добавим столбец lifetime\n",
    "    # преобразуем даты в недели\n",
    "    data['event_time'] = data['event_time'].astype('datetime64[W]')\n",
    "    data['first_date'] = data['first_date'].astype('datetime64[W]')\n",
    "    data['lifetime'] = data['event_time'] - data['first_date']\n",
    "    \n",
    "    # сгруппируем\n",
    "    group = data.groupby(['first_date', 'lifetime'])\n",
    "    cohort_data = group['user_id'].size().reset_index()\n",
    "    \n",
    "    # создадим сводную таблицу\n",
    "    cohort_counts = cohort_data.pivot(index='first_date', columns='lifetime', values='user_id')\n",
    "    cohort_counts\n",
    "    # берем первый столбец за базу\n",
    "    base = cohort_counts['0 days']\n",
    "    \n",
    "    # применим метод divide разделив на основание\n",
    "    retention = cohort_counts.divide(base, axis=0).round(3)\n",
    "    \n",
    "    # построим тепловую карту\n",
    "    plt.figure(figsize=(8,5))\n",
    "    plt.title('Retention Table \\n')\n",
    "    ax = sns.heatmap(data=retention, annot=True, fmt='.1%', vmin=0.0, vmax=0.5,cmap='Reds')\n",
    "    ax.set_yticklabels(retention.index)\n",
    "    ax.set_xticklabels(retention.columns)\n",
    "    \n",
    "    plt.show()"
   ]
  },
  {
   "cell_type": "markdown",
   "id": "a51fc0b0",
   "metadata": {},
   "source": [
    "#### Посмотрим на Retention_Table_heatmap наших данных."
   ]
  },
  {
   "cell_type": "code",
   "execution_count": 38,
   "id": "ced764de",
   "metadata": {},
   "outputs": [
    {
     "name": "stdout",
     "output_type": "stream",
     "text": [
      "\n",
      "Retention_Table_heatmap для всех пользователей\n"
     ]
    },
    {
     "data": {
      "image/png": "[encoded data removed]",
      "text/plain": [
       "<Figure size 576x360 with 2 Axes>"
      ]
     },
     "metadata": {
      "needs_background": "light"
     },
     "output_type": "display_data"
    },
    {
     "name": "stdout",
     "output_type": "stream",
     "text": [
      "\n",
      "Retention_Table_heatmap для пользующихся рекомендациями - tips_click \n"
     ]
    },
    {
     "data": {
      "image/png": "[encoded data removed]",
      "text/plain": [
       "<Figure size 576x360 with 2 Axes>"
      ]
     },
     "metadata": {
      "needs_background": "light"
     },
     "output_type": "display_data"
    },
    {
     "name": "stdout",
     "output_type": "stream",
     "text": [
      "\n",
      "Retention_Table_heatmap для использующих карту - map_click\n"
     ]
    },
    {
     "data": {
      "image/png": "[encoded data removed]",
      "text/plain": [
       "<Figure size 576x360 with 2 Axes>"
      ]
     },
     "metadata": {
      "needs_background": "light"
     },
     "output_type": "display_data"
    },
    {
     "name": "stdout",
     "output_type": "stream",
     "text": [
      "\n",
      "Retention_Table_heatmap для пользующихся только просмотром - search_click\n"
     ]
    },
    {
     "data": {
      "image/png": "[encoded data removed]",
      "text/plain": [
       "<Figure size 576x360 with 2 Axes>"
      ]
     },
     "metadata": {
      "needs_background": "light"
     },
     "output_type": "display_data"
    }
   ],
   "source": [
    "# создадим списки для работы в цикле\n",
    "baza = [mobile_dataset_clean, data_tips_click, data_map_click, data_search_click]\n",
    "baza_name = (['всех пользователей', 'пользующихся рекомендациями - tips_click ', \n",
    "              'использующих карту - map_click', 'пользующихся только просмотром - search_click'])\n",
    "\n",
    "# напишем цикл\n",
    "for i,j in zip(baza, baza_name):\n",
    "    \n",
    "    print()\n",
    "    print('Retention_Table_heatmap для', j)\n",
    "    Retention_Table_heatmap(first_date(i))"
   ]
  },
  {
   "cell_type": "markdown",
   "id": "f03cba53",
   "metadata": {},
   "source": [
    "Мы видим, что у клиентов пользующихся рекомендованными объявлениями `tips_click`, *Retention rate* выше, чем у других групп.\n",
    "Самый маленикий *Retention rate* у клиентов использующих только поиск `search`."
   ]
  },
  {
   "cell_type": "markdown",
   "id": "f1519134",
   "metadata": {},
   "source": [
    "#### Пользователи какой группы часто делают целевое событие (конверсия в целевое действие)?\n",
    "\n",
    "Посчитаем конверсию в целевое действие."
   ]
  },
  {
   "cell_type": "code",
   "execution_count": 39,
   "id": "78627751",
   "metadata": {},
   "outputs": [
    {
     "name": "stdout",
     "output_type": "stream",
     "text": [
      "В группе всех пользователей всего 3985 пользователей. 849 из них совершили целевое действие.\n",
      "Конверсия составила 21.3%\n",
      "\n",
      "В группе пользующихся рекомендациями - tips_click  всего 263 пользователей. 69 из них совершили целевое действие.\n",
      "Конверсия составила 26.2%\n",
      "\n",
      "В группе использующих карту - map_click всего 1171 пользователей. 198 из них совершили целевое действие.\n",
      "Конверсия составила 16.9%\n",
      "\n",
      "В группе пользующихся только просмотром - search_click всего 2551 пользователей. 582 из них совершили целевое действие.\n",
      "Конверсия составила 22.8%\n",
      "\n"
     ]
    }
   ],
   "source": [
    "# напишем цикл\n",
    "for i,j in zip(baza, baza_name):\n",
    "\n",
    "    c_s = i.query('event_name == \"contacts_show\"')['user_id'].nunique()\n",
    "    total = len(i.groupby('user_id').count())\n",
    "    \n",
    "    print('В группе {} всего {} пользователей. {} из них совершили целевое действие.'.format(j, total, c_s ))\n",
    "    print('Конверсия составила {:.1%}'.format(c_s/total))\n",
    "    print()"
   ]
  },
  {
   "cell_type": "markdown",
   "id": "77aafc5b",
   "metadata": {},
   "source": [
    "Мы видим что у пользователей из группы `tips_click`конверсия самая высокая и составляет 26.2%. Самая низкая конверсия у группы `map_click` - 16.9%. "
   ]
  },
  {
   "cell_type": "markdown",
   "id": "9cfa2770",
   "metadata": {},
   "source": [
    "#### Как различается время между распространенными событиями пользователей из разных групп?"
   ]
  },
  {
   "cell_type": "code",
   "execution_count": 40,
   "id": "3d5f003c",
   "metadata": {},
   "outputs": [
    {
     "name": "stdout",
     "output_type": "stream",
     "text": [
      "\n",
      "Таблица распределения событий в группе всех пользователей по времени\n"
     ]
    },
    {
     "data": {
      "text/html": [
       "<div>\n",
       "<style scoped>\n",
       "    .dataframe tbody tr th:only-of-type {\n",
       "        vertical-align: middle;\n",
       "    }\n",
       "\n",
       "    .dataframe tbody tr th {\n",
       "        vertical-align: top;\n",
       "    }\n",
       "\n",
       "    .dataframe thead th {\n",
       "        text-align: right;\n",
       "    }\n",
       "</style>\n",
       "<table border=\"1\" class=\"dataframe\">\n",
       "  <thead>\n",
       "    <tr style=\"text-align: right;\">\n",
       "      <th></th>\n",
       "      <th>delta</th>\n",
       "    </tr>\n",
       "    <tr>\n",
       "      <th>event_name</th>\n",
       "      <th></th>\n",
       "    </tr>\n",
       "  </thead>\n",
       "  <tbody>\n",
       "    <tr>\n",
       "      <th>contacts_call</th>\n",
       "      <td>128.2</td>\n",
       "    </tr>\n",
       "    <tr>\n",
       "      <th>photos_show</th>\n",
       "      <td>107.3</td>\n",
       "    </tr>\n",
       "    <tr>\n",
       "      <th>tips_show</th>\n",
       "      <td>106.3</td>\n",
       "    </tr>\n",
       "    <tr>\n",
       "      <th>contacts_show</th>\n",
       "      <td>95.2</td>\n",
       "    </tr>\n",
       "    <tr>\n",
       "      <th>searchs</th>\n",
       "      <td>94.8</td>\n",
       "    </tr>\n",
       "    <tr>\n",
       "      <th>favorites_add</th>\n",
       "      <td>94.4</td>\n",
       "    </tr>\n",
       "    <tr>\n",
       "      <th>map</th>\n",
       "      <td>94.4</td>\n",
       "    </tr>\n",
       "    <tr>\n",
       "      <th>tips_click</th>\n",
       "      <td>44.2</td>\n",
       "    </tr>\n",
       "    <tr>\n",
       "      <th>advert_open</th>\n",
       "      <td>35.2</td>\n",
       "    </tr>\n",
       "  </tbody>\n",
       "</table>\n",
       "</div>"
      ],
      "text/plain": [
       "               delta\n",
       "event_name          \n",
       "contacts_call  128.2\n",
       "photos_show    107.3\n",
       "tips_show      106.3\n",
       "contacts_show   95.2\n",
       "searchs         94.8\n",
       "favorites_add   94.4\n",
       "map             94.4\n",
       "tips_click      44.2\n",
       "advert_open     35.2"
      ]
     },
     "metadata": {},
     "output_type": "display_data"
    },
    {
     "name": "stdout",
     "output_type": "stream",
     "text": [
      "\n",
      "\n",
      "Таблица распределения событий в группе пользующихся рекомендациями - tips_click  по времени\n"
     ]
    },
    {
     "data": {
      "text/html": [
       "<div>\n",
       "<style scoped>\n",
       "    .dataframe tbody tr th:only-of-type {\n",
       "        vertical-align: middle;\n",
       "    }\n",
       "\n",
       "    .dataframe tbody tr th {\n",
       "        vertical-align: top;\n",
       "    }\n",
       "\n",
       "    .dataframe thead th {\n",
       "        text-align: right;\n",
       "    }\n",
       "</style>\n",
       "<table border=\"1\" class=\"dataframe\">\n",
       "  <thead>\n",
       "    <tr style=\"text-align: right;\">\n",
       "      <th></th>\n",
       "      <th>delta</th>\n",
       "    </tr>\n",
       "    <tr>\n",
       "      <th>event_name</th>\n",
       "      <th></th>\n",
       "    </tr>\n",
       "  </thead>\n",
       "  <tbody>\n",
       "    <tr>\n",
       "      <th>contacts_show</th>\n",
       "      <td>137.6</td>\n",
       "    </tr>\n",
       "    <tr>\n",
       "      <th>photos_show</th>\n",
       "      <td>120.5</td>\n",
       "    </tr>\n",
       "    <tr>\n",
       "      <th>tips_show</th>\n",
       "      <td>116.9</td>\n",
       "    </tr>\n",
       "    <tr>\n",
       "      <th>map</th>\n",
       "      <td>108.0</td>\n",
       "    </tr>\n",
       "    <tr>\n",
       "      <th>searchs</th>\n",
       "      <td>70.8</td>\n",
       "    </tr>\n",
       "    <tr>\n",
       "      <th>advert_open</th>\n",
       "      <td>47.5</td>\n",
       "    </tr>\n",
       "    <tr>\n",
       "      <th>tips_click</th>\n",
       "      <td>44.2</td>\n",
       "    </tr>\n",
       "    <tr>\n",
       "      <th>favorites_add</th>\n",
       "      <td>40.6</td>\n",
       "    </tr>\n",
       "  </tbody>\n",
       "</table>\n",
       "</div>"
      ],
      "text/plain": [
       "               delta\n",
       "event_name          \n",
       "contacts_show  137.6\n",
       "photos_show    120.5\n",
       "tips_show      116.9\n",
       "map            108.0\n",
       "searchs         70.8\n",
       "advert_open     47.5\n",
       "tips_click      44.2\n",
       "favorites_add   40.6"
      ]
     },
     "metadata": {},
     "output_type": "display_data"
    },
    {
     "name": "stdout",
     "output_type": "stream",
     "text": [
      "\n",
      "\n",
      "Таблица распределения событий в группе использующих карту - map_click по времени\n"
     ]
    },
    {
     "data": {
      "text/html": [
       "<div>\n",
       "<style scoped>\n",
       "    .dataframe tbody tr th:only-of-type {\n",
       "        vertical-align: middle;\n",
       "    }\n",
       "\n",
       "    .dataframe tbody tr th {\n",
       "        vertical-align: top;\n",
       "    }\n",
       "\n",
       "    .dataframe thead th {\n",
       "        text-align: right;\n",
       "    }\n",
       "</style>\n",
       "<table border=\"1\" class=\"dataframe\">\n",
       "  <thead>\n",
       "    <tr style=\"text-align: right;\">\n",
       "      <th></th>\n",
       "      <th>delta</th>\n",
       "    </tr>\n",
       "    <tr>\n",
       "      <th>event_name</th>\n",
       "      <th></th>\n",
       "    </tr>\n",
       "  </thead>\n",
       "  <tbody>\n",
       "    <tr>\n",
       "      <th>photos_show</th>\n",
       "      <td>118.6</td>\n",
       "    </tr>\n",
       "    <tr>\n",
       "      <th>contacts_show</th>\n",
       "      <td>100.7</td>\n",
       "    </tr>\n",
       "    <tr>\n",
       "      <th>tips_show</th>\n",
       "      <td>99.5</td>\n",
       "    </tr>\n",
       "    <tr>\n",
       "      <th>map</th>\n",
       "      <td>92.8</td>\n",
       "    </tr>\n",
       "    <tr>\n",
       "      <th>searchs</th>\n",
       "      <td>61.3</td>\n",
       "    </tr>\n",
       "    <tr>\n",
       "      <th>favorites_add</th>\n",
       "      <td>49.3</td>\n",
       "    </tr>\n",
       "    <tr>\n",
       "      <th>advert_open</th>\n",
       "      <td>27.0</td>\n",
       "    </tr>\n",
       "  </tbody>\n",
       "</table>\n",
       "</div>"
      ],
      "text/plain": [
       "               delta\n",
       "event_name          \n",
       "photos_show    118.6\n",
       "contacts_show  100.7\n",
       "tips_show       99.5\n",
       "map             92.8\n",
       "searchs         61.3\n",
       "favorites_add   49.3\n",
       "advert_open     27.0"
      ]
     },
     "metadata": {},
     "output_type": "display_data"
    },
    {
     "name": "stdout",
     "output_type": "stream",
     "text": [
      "\n",
      "\n",
      "Таблица распределения событий в группе пользующихся только просмотром - search_click по времени\n"
     ]
    },
    {
     "data": {
      "text/html": [
       "<div>\n",
       "<style scoped>\n",
       "    .dataframe tbody tr th:only-of-type {\n",
       "        vertical-align: middle;\n",
       "    }\n",
       "\n",
       "    .dataframe tbody tr th {\n",
       "        vertical-align: top;\n",
       "    }\n",
       "\n",
       "    .dataframe thead th {\n",
       "        text-align: right;\n",
       "    }\n",
       "</style>\n",
       "<table border=\"1\" class=\"dataframe\">\n",
       "  <thead>\n",
       "    <tr style=\"text-align: right;\">\n",
       "      <th></th>\n",
       "      <th>delta</th>\n",
       "    </tr>\n",
       "    <tr>\n",
       "      <th>event_name</th>\n",
       "      <th></th>\n",
       "    </tr>\n",
       "  </thead>\n",
       "  <tbody>\n",
       "    <tr>\n",
       "      <th>contacts_call</th>\n",
       "      <td>128.2</td>\n",
       "    </tr>\n",
       "    <tr>\n",
       "      <th>tips_show</th>\n",
       "      <td>110.3</td>\n",
       "    </tr>\n",
       "    <tr>\n",
       "      <th>favorites_add</th>\n",
       "      <td>108.1</td>\n",
       "    </tr>\n",
       "    <tr>\n",
       "      <th>searchs</th>\n",
       "      <td>107.4</td>\n",
       "    </tr>\n",
       "    <tr>\n",
       "      <th>photos_show</th>\n",
       "      <td>107.0</td>\n",
       "    </tr>\n",
       "    <tr>\n",
       "      <th>contacts_show</th>\n",
       "      <td>86.8</td>\n",
       "    </tr>\n",
       "    <tr>\n",
       "      <th>advert_open</th>\n",
       "      <td>49.3</td>\n",
       "    </tr>\n",
       "  </tbody>\n",
       "</table>\n",
       "</div>"
      ],
      "text/plain": [
       "               delta\n",
       "event_name          \n",
       "contacts_call  128.2\n",
       "tips_show      110.3\n",
       "favorites_add  108.1\n",
       "searchs        107.4\n",
       "photos_show    107.0\n",
       "contacts_show   86.8\n",
       "advert_open     49.3"
      ]
     },
     "metadata": {},
     "output_type": "display_data"
    },
    {
     "name": "stdout",
     "output_type": "stream",
     "text": [
      "\n"
     ]
    }
   ],
   "source": [
    "# напишем цикл\n",
    "for i,j in zip(baza, baza_name):\n",
    "    \n",
    "    mdc_pt = (pd.pivot_table(i, columns ='event_name', values = 'delta', aggfunc='mean',).T\n",
    "                .sort_values('delta', ascending=False)\n",
    "                )\n",
    "    print()\n",
    "    print('Таблица распределения событий в группе {} по времени'.format(j))\n",
    "    display(mdc_pt.round(1))\n",
    "    print()\n",
    "    "
   ]
  },
  {
   "cell_type": "markdown",
   "id": "d7f611cf",
   "metadata": {},
   "source": [
    "Изучая среднее время в трех группах видно, насколько по разному ведут себя покупатели. Если в группе tips_click наибольшее время приходится на `contacts_show` (137.6) и `photos_show` (120.5), то в группе map_click это `photos_show` (118.6) и `contacts_show` (100.7). Группа search_click координально от них отличается. Здесь в топе `contacts_call` (128.2) и `favorites_add` (108.1). В этой группе активно пользуются добавлением в избранное при просмотре объявлений. (Действие `tips_show` мы не берем в расчет, т.к. оно не зависит от действий посетителя). Наименее продолжительные действия в группе tips_click - `favorites_add` (40.6),а в группах map_click и search_click - `advert_open` (27.0) и  (49.3) соответственно.  "
   ]
  },
  {
   "cell_type": "markdown",
   "id": "46a6c6e4",
   "metadata": {},
   "source": [
    "## Проверка статестических гипотез<a id=\"step5\"></a>"
   ]
  },
  {
   "cell_type": "markdown",
   "id": "da46c82b",
   "metadata": {},
   "source": [
    "**Проверим первую гипотезу:** \n",
    "\n",
    "пользователи установившие приложение по ссыке из `yandex` и пользователи установившими приложение из `google` демонстрируют разную конверсию в `contacts_show` (в просмотры контыктов). "
   ]
  },
  {
   "cell_type": "markdown",
   "id": "ab5f94e6",
   "metadata": {},
   "source": [
    "Cформулируем гипотезы:\n",
    "\n",
    "Нулевая гипотеза - у пользователей установивших yandex и пользователей установивших google конверсия в просмотры одинаковая.\n",
    "Альтернативная гипотеза - группы демонстрируют разную конверсию в просмотры контактов."
   ]
  },
  {
   "cell_type": "markdown",
   "id": "4036160d",
   "metadata": {},
   "source": [
    "Для начала объединим два датафрейма с данными и разделим на 2 части."
   ]
  },
  {
   "cell_type": "code",
   "execution_count": 41,
   "id": "7008f4d6",
   "metadata": {},
   "outputs": [],
   "source": [
    "data = mobile_dataset_clean.merge(mobile_sourсes, on='user_id', how='left')\n",
    "\n",
    "data_yandex = data.query('source == \"yandex\"')\n",
    "data_google = data.query('source == \"google\"')"
   ]
  },
  {
   "cell_type": "markdown",
   "id": "2b666524",
   "metadata": {},
   "source": [
    "Посчитаем доли."
   ]
  },
  {
   "cell_type": "code",
   "execution_count": 42,
   "id": "a4d705ad",
   "metadata": {},
   "outputs": [
    {
     "name": "stdout",
     "output_type": "stream",
     "text": [
      "417 236 1797 1045\n"
     ]
    }
   ],
   "source": [
    "yandex_total = len(data_yandex.groupby('user_id')['event_name'].count())\n",
    "yandex_fact = len(data_yandex.query('event_name == \"contacts_show\"').groupby('user_id')['event_name'].count())\n",
    "\n",
    "google_total = len(data_google.groupby('user_id')['event_name'].count())\n",
    "google_fact = len(data_google.query('event_name == \"contacts_show\"').groupby('user_id')['event_name'].count())\n",
    "\n",
    "print(yandex_fact, google_fact, yandex_total, google_total)"
   ]
  },
  {
   "cell_type": "markdown",
   "id": "38ae927f",
   "metadata": {},
   "source": [
    "Напишем функцию для рассчета."
   ]
  },
  {
   "cell_type": "code",
   "execution_count": 43,
   "id": "9bb149c3",
   "metadata": {},
   "outputs": [],
   "source": [
    "def count_pvalue(fact1, fact2, total1, total2):\n",
    "    \n",
    "    # пропорция событий в первой группе:\n",
    "    p1 = fact1/total1\n",
    "    # пропорция событий во второй группе:\n",
    "    p2 = fact2/total2 \n",
    "    # пропорция событий в комбинированном датасете:\n",
    "    p_comb = (fact1 + fact2) / (total1 + total2)\n",
    "    # разница пропорций в датасетах\n",
    "    delta = p1 - p2  \n",
    "    \n",
    "    # считаем статистику в ст.отклонениях стандартного нормального распределения\n",
    "    z_value = delta / mth.sqrt(p_comb * (1 - p_comb) * (1/total1 + 1/total2))\n",
    "    \n",
    "    # задаем стандартное нормальное распределение (среднее 0, ст.отклонение 1)\n",
    "    distr = st.norm(0, 1) \n",
    "\n",
    "    # считаем p-value\n",
    "    p_value = (1 - distr.cdf(abs(z_value)))*2\n",
    "\n",
    "    print('p-значение: ', p_value)\n",
    "    \n",
    "    # критический уровень статистической значимости\n",
    "    alpha = 0.05\n",
    "    \n",
    "    if p_value < alpha:\n",
    "        print('Отвергаем нулевую гипотезу: между группами есть значимая разница')\n",
    "    else:\n",
    "        print('Не получилось отвергнуть нулевую гипотезу, нет оснований считать группы разными')\n",
    "    \n",
    "    print()\n",
    "    print('Конверсия первой группы {:.2%}'.format(fact1/total1))\n",
    "    print('Конверсия второй группы {:.2%}'.format(fact2/total2))      "
   ]
  },
  {
   "cell_type": "code",
   "execution_count": 44,
   "id": "36ebec43",
   "metadata": {},
   "outputs": [
    {
     "name": "stdout",
     "output_type": "stream",
     "text": [
      "p-значение:  0.7040757644231586\n",
      "Не получилось отвергнуть нулевую гипотезу, нет оснований считать группы разными\n",
      "\n",
      "Конверсия первой группы 23.21%\n",
      "Конверсия второй группы 22.58%\n"
     ]
    }
   ],
   "source": [
    "count_pvalue(yandex_fact, google_fact, yandex_total, google_total)"
   ]
  },
  {
   "cell_type": "markdown",
   "id": "97beacff",
   "metadata": {},
   "source": [
    "Вывод: у пользователей установивших yandex и пользователей установивших google конверсия в просмотры одинаковая."
   ]
  },
  {
   "cell_type": "markdown",
   "id": "5694640e",
   "metadata": {},
   "source": [
    "**Проверим вторую гипотезу:**\n",
    "\n",
    "Одни пользователи совершают действия `favorites_add`, другие — его не совершают. Проверяем гипотезу: конверсия в просмотры контактов различается у этих двух групп."
   ]
  },
  {
   "cell_type": "markdown",
   "id": "65ceb671",
   "metadata": {},
   "source": [
    "Сформулируем гипотезы.\n",
    "\n",
    "Нулевая гипотеза - у пользователей совершающих событие favorites_add и у пользователей не совершающих это действие конверсия в просмотры одинаковая.\n",
    "\n",
    "Альтернативная гипотеза - конверсия у этих групп разная."
   ]
  },
  {
   "cell_type": "markdown",
   "id": "16ecc88b",
   "metadata": {},
   "source": [
    "Посчитаем доли."
   ]
  },
  {
   "cell_type": "code",
   "execution_count": 45,
   "id": "314eac06",
   "metadata": {},
   "outputs": [
    {
     "name": "stdout",
     "output_type": "stream",
     "text": [
      "99 750 287 3698\n"
     ]
    }
   ],
   "source": [
    "# создадим список уникальных user_id совершивших favorites_add\n",
    "filter_favorites_add = data.query('event_name == \"favorites_add\"')['user_id'].unique()\n",
    "# создадим маску\n",
    "mask = data['user_id'].isin(filter_favorites_add)\n",
    "# применим маску и создадим 2 датафрейма\n",
    "data_favorites_add, data_no_favorites_add = mobile_dataset_clean[mask], mobile_dataset_clean[~mask]\n",
    "\n",
    "favorites_total = len(data_favorites_add.groupby('user_id').count())\n",
    "favorites_fact = len(data_favorites_add.query('event_name == \"contacts_show\"').groupby('user_id').count())\n",
    "\n",
    "no_favorites_total = len(data_no_favorites_add.groupby('user_id').count())\n",
    "no_favorites_fact = len(data_no_favorites_add.query('event_name == \"contacts_show\"').groupby('user_id').count())\n",
    "\n",
    "print(favorites_fact, no_favorites_fact, favorites_total, no_favorites_total)"
   ]
  },
  {
   "cell_type": "code",
   "execution_count": 46,
   "id": "9a830506",
   "metadata": {},
   "outputs": [
    {
     "name": "stdout",
     "output_type": "stream",
     "text": [
      "p-значение:  1.4703519291003886e-08\n",
      "Отвергаем нулевую гипотезу: между группами есть значимая разница\n",
      "\n",
      "Конверсия первой группы 34.49%\n",
      "Конверсия второй группы 20.28%\n"
     ]
    }
   ],
   "source": [
    "count_pvalue(favorites_fact, no_favorites_fact, favorites_total, no_favorites_total)"
   ]
  },
  {
   "cell_type": "markdown",
   "id": "4c9d6bf3",
   "metadata": {},
   "source": [
    "Вывод: у пользователей совершающих событие `favorites_add` и у пользователей не совершающих это действие конверсия в просмотры разная."
   ]
  },
  {
   "cell_type": "markdown",
   "id": "abafc1e7",
   "metadata": {},
   "source": [
    "## Выводы<a id=\"step6\"></a>"
   ]
  },
  {
   "cell_type": "markdown",
   "id": "87af7eb8",
   "metadata": {},
   "source": [
    "#### В начале проекта мы загрузили данные и подготовили их.\n",
    "\n",
    "* Заменили названия столбцов\n",
    "* Проверили на пропуски и нулевые значения\n",
    "* Проверили на наличие дубликатов и объединили неявные дубликаты."
   ]
  },
  {
   "cell_type": "markdown",
   "id": "dd10cba5",
   "metadata": {},
   "source": [
    "#### Изучили и проверили данные.\n",
    "\n",
    "* Всего 4293 уникальных пользователя\n",
    "* Временной отрузок событий с 00:00 07.10.2019 по 23:58 03.11.2019\n",
    "* На гистограмме четко прослеживаются суточные и недельные ритмы.\n",
    "* Самое популярное событие - `photos_show` (10012 кликов). А наименее популярное событие - `contacts_call` (541 клик).\n",
    "* Выделили сессии относительно таймаута равному 30 минутам.\n",
    "* Построили гистограмму распределения продолжительности сессий. Обнаружили, что очень много сессий находится в районе нуля. Сессии менее 2 секунд посчитали за ошибочные и отсекли их. Так же удалили сессии длиннее 2500 секунд. Всего было удалено 28% от общего числа сессий.\n",
    "* Расчитали длительность каждого события. В среднем, самые продолжительные события - `contacts_call` (128.2 секунды), `photos_show` (107.3) и `contacts_show` (95.2 секунд). (Событие `tips_show` мы не учитываем, т.к. оно не зависит от действий пользователя). А самые скоротечные события - `map` (94.4), `tips_click` (44.2) и  `advert_open` (35.2 секунды).\n",
    "* Подсчитали, что общее время проведенное пользователями в приложении 1423.8 часов. Было совершено 52782 событий со средней продолжительностью 88.9 секунды.\n",
    "* Разделили пользователей на три группы.\n",
    "    * Группа data_tips_click - те, кто пользовался рекомендованными объявлениями `tips_click`;\n",
    "    * Группа data_map_click - те, кто использовал `map`;\n",
    "    * Группа data_search_click - остальные, кто использовал `search`."
   ]
  },
  {
   "cell_type": "markdown",
   "id": "b9611ae5",
   "metadata": {},
   "source": [
    "#### Ответили на вопросы заказчика"
   ]
  },
  {
   "cell_type": "markdown",
   "id": "6dea0f87",
   "metadata": {},
   "source": [
    "* Пользователи какой группы склонны часто возвращаться в мобильное приложение (Retention rate)?\n",
    "    * Построили тепловую карту для наших групп и выяснили, что у клиентов пользующихся рекомендованными объявлениями `tips_click`, *Retention rate* выше, чем у других групп. Самый маленикий *Retention rate* у клиентов использующих только поиск `search`.\n",
    "* Пользователи какой группы часто делают целевое событие (конверсия в целевое действие)?\n",
    "    * Посчитали конверсию и мы видили, что у пользователей из группы tips_clickконверсия самая высокая и составляет 26.2%. Самая низкая конверсия у группы map_click - 16.9%.\n",
    "* Как различается время между распространенными событиями пользователей из разных групп?\n",
    "    * Построили таблицы распределения событий в группах по времени и увидели, насколько по разному ведут себя покупатели. Если в группе tips_click наибольшее время приходится на `contacts_show` (137.6) и `photos_show` (120.5), то в группе map_click это `photos_show` (118.6) и `contacts_show` (100.7). Группа search_click координально от них отличается. Здесь в топе `contacts_call` (128.2) и `favorites_add` (108.1). В этой группе активно пользуются добавлением в избранное при просмотре объявлений. (Действие `tips_show` мы не берем в расчет, т.к. оно не зависит от действий посетителя). Наименее продолжительные действия в группе tips_click - `favorites_add` (40.6),а в группах map_click и search_click - `advert_open` (27.0) и  (49.3) соответственно.  "
   ]
  },
  {
   "cell_type": "markdown",
   "id": "279172e7",
   "metadata": {},
   "source": [
    "#### Проверили статестические гипотезы."
   ]
  },
  {
   "cell_type": "markdown",
   "id": "7ae91278",
   "metadata": {},
   "source": [
    "* Гипотеза первая: пользователи установившие приложение по ссыке из `yandex` и пользователи установившими приложение из `google` демонстрируют разную конверсию в `contacts_show` (в просмотры контыктов).\n",
    "    * Провели Z-тест и выяснили, что у пользователей установивших `yandex` и пользователей установивших `google` конверсия в просмотры одинаковая.\n",
    "* Гипотеза вторая: одни пользователи совершают действия `favorites_add`, другие — его не совершают. Проверяем гипотезу: конверсия в просмотры контактов различается у этих двух групп.\n",
    "    * Провели Z-тест и увидели что у пользователей совершающих событие `favorites_add` и у пользователей не совершающих это действие конверсия в просмотры разная."
   ]
  },
  {
   "cell_type": "markdown",
   "id": "413e2e7c",
   "metadata": {},
   "source": [
    "## Рекомендации<a id=\"step7\"></a>"
   ]
  },
  {
   "cell_type": "markdown",
   "id": "a544c6a2",
   "metadata": {},
   "source": [
    "* Обратить внимание на большое количество ошибочных сессий (меньше 2 секунд)- 28%. Возможна некорректная работа браузера и т.п. Здесь одна из точек роста приложения.\n",
    "* Улучшить систему рекомендательных объявлений, т.к. крайне мало переходов от `tips_show` к `tips_click`.\n",
    "* Добавить событие клика по карточке товара, чтобы иметь представление, как событие клика влияет на целевое действие."
   ]
  }
 ],
 "metadata": {
  "ExecuteTimeLog": [
   {
    "duration": 2791,
    "start_time": "2022-08-21T05:43:22.869Z"
   },
   {
    "duration": 209,
    "start_time": "2022-08-21T05:43:25.662Z"
   },
   {
    "duration": 116,
    "start_time": "2022-08-21T05:43:25.873Z"
   },
   {
    "duration": 0,
    "start_time": "2022-08-21T05:43:25.992Z"
   },
   {
    "duration": 0,
    "start_time": "2022-08-21T05:43:25.993Z"
   },
   {
    "duration": 0,
    "start_time": "2022-08-21T05:43:25.998Z"
   },
   {
    "duration": 0,
    "start_time": "2022-08-21T05:43:25.999Z"
   },
   {
    "duration": 0,
    "start_time": "2022-08-21T05:43:26.000Z"
   },
   {
    "duration": 0,
    "start_time": "2022-08-21T05:43:26.002Z"
   },
   {
    "duration": 0,
    "start_time": "2022-08-21T05:43:26.003Z"
   },
   {
    "duration": 0,
    "start_time": "2022-08-21T05:43:26.005Z"
   },
   {
    "duration": 0,
    "start_time": "2022-08-21T05:43:26.006Z"
   },
   {
    "duration": 0,
    "start_time": "2022-08-21T05:43:26.008Z"
   },
   {
    "duration": 0,
    "start_time": "2022-08-21T05:43:26.009Z"
   },
   {
    "duration": 0,
    "start_time": "2022-08-21T05:43:26.010Z"
   },
   {
    "duration": 0,
    "start_time": "2022-08-21T05:43:26.012Z"
   },
   {
    "duration": 0,
    "start_time": "2022-08-21T05:43:26.013Z"
   },
   {
    "duration": 0,
    "start_time": "2022-08-21T05:43:26.014Z"
   },
   {
    "duration": 0,
    "start_time": "2022-08-21T05:43:26.016Z"
   },
   {
    "duration": 0,
    "start_time": "2022-08-21T05:43:26.017Z"
   },
   {
    "duration": 0,
    "start_time": "2022-08-21T05:43:26.019Z"
   },
   {
    "duration": 0,
    "start_time": "2022-08-21T05:43:26.020Z"
   },
   {
    "duration": 0,
    "start_time": "2022-08-21T05:43:26.021Z"
   },
   {
    "duration": 0,
    "start_time": "2022-08-21T05:43:26.023Z"
   },
   {
    "duration": 0,
    "start_time": "2022-08-21T05:43:26.024Z"
   },
   {
    "duration": 0,
    "start_time": "2022-08-21T05:43:26.025Z"
   },
   {
    "duration": 0,
    "start_time": "2022-08-21T05:43:26.026Z"
   },
   {
    "duration": 0,
    "start_time": "2022-08-21T05:43:26.026Z"
   },
   {
    "duration": 0,
    "start_time": "2022-08-21T05:43:26.027Z"
   },
   {
    "duration": 0,
    "start_time": "2022-08-21T05:43:26.028Z"
   },
   {
    "duration": 0,
    "start_time": "2022-08-21T05:43:26.029Z"
   },
   {
    "duration": 0,
    "start_time": "2022-08-21T05:43:26.030Z"
   },
   {
    "duration": 0,
    "start_time": "2022-08-21T05:43:26.031Z"
   },
   {
    "duration": 0,
    "start_time": "2022-08-21T05:43:26.032Z"
   },
   {
    "duration": 0,
    "start_time": "2022-08-21T05:43:26.033Z"
   },
   {
    "duration": 0,
    "start_time": "2022-08-21T05:43:26.034Z"
   },
   {
    "duration": 0,
    "start_time": "2022-08-21T05:43:26.035Z"
   },
   {
    "duration": 0,
    "start_time": "2022-08-21T05:43:26.098Z"
   },
   {
    "duration": 0,
    "start_time": "2022-08-21T05:43:26.099Z"
   },
   {
    "duration": 0,
    "start_time": "2022-08-21T05:43:26.101Z"
   },
   {
    "duration": 0,
    "start_time": "2022-08-21T05:43:26.103Z"
   },
   {
    "duration": 0,
    "start_time": "2022-08-21T05:43:26.104Z"
   },
   {
    "duration": 0,
    "start_time": "2022-08-21T05:43:26.106Z"
   },
   {
    "duration": 0,
    "start_time": "2022-08-21T05:43:26.107Z"
   },
   {
    "duration": 0,
    "start_time": "2022-08-21T05:43:26.108Z"
   },
   {
    "duration": 0,
    "start_time": "2022-08-21T05:43:26.109Z"
   },
   {
    "duration": 416,
    "start_time": "2022-08-21T05:45:32.510Z"
   },
   {
    "duration": 2372,
    "start_time": "2022-08-21T05:45:41.149Z"
   },
   {
    "duration": 110,
    "start_time": "2022-08-21T05:45:43.523Z"
   },
   {
    "duration": 0,
    "start_time": "2022-08-21T05:45:43.635Z"
   },
   {
    "duration": 0,
    "start_time": "2022-08-21T05:45:43.636Z"
   },
   {
    "duration": 0,
    "start_time": "2022-08-21T05:45:43.637Z"
   },
   {
    "duration": 0,
    "start_time": "2022-08-21T05:45:43.637Z"
   },
   {
    "duration": 0,
    "start_time": "2022-08-21T05:45:43.638Z"
   },
   {
    "duration": 0,
    "start_time": "2022-08-21T05:45:43.640Z"
   },
   {
    "duration": 0,
    "start_time": "2022-08-21T05:45:43.641Z"
   },
   {
    "duration": 0,
    "start_time": "2022-08-21T05:45:43.642Z"
   },
   {
    "duration": 0,
    "start_time": "2022-08-21T05:45:43.643Z"
   },
   {
    "duration": 0,
    "start_time": "2022-08-21T05:45:43.644Z"
   },
   {
    "duration": 0,
    "start_time": "2022-08-21T05:45:43.644Z"
   },
   {
    "duration": 0,
    "start_time": "2022-08-21T05:45:43.645Z"
   },
   {
    "duration": 0,
    "start_time": "2022-08-21T05:45:43.646Z"
   },
   {
    "duration": 0,
    "start_time": "2022-08-21T05:45:43.647Z"
   },
   {
    "duration": 0,
    "start_time": "2022-08-21T05:45:43.648Z"
   },
   {
    "duration": 0,
    "start_time": "2022-08-21T05:45:43.649Z"
   },
   {
    "duration": 0,
    "start_time": "2022-08-21T05:45:43.650Z"
   },
   {
    "duration": 0,
    "start_time": "2022-08-21T05:45:43.651Z"
   },
   {
    "duration": 0,
    "start_time": "2022-08-21T05:45:43.651Z"
   },
   {
    "duration": 0,
    "start_time": "2022-08-21T05:45:43.652Z"
   },
   {
    "duration": 0,
    "start_time": "2022-08-21T05:45:43.653Z"
   },
   {
    "duration": 0,
    "start_time": "2022-08-21T05:45:43.654Z"
   },
   {
    "duration": 0,
    "start_time": "2022-08-21T05:45:43.656Z"
   },
   {
    "duration": 0,
    "start_time": "2022-08-21T05:45:43.656Z"
   },
   {
    "duration": 0,
    "start_time": "2022-08-21T05:45:43.698Z"
   },
   {
    "duration": 0,
    "start_time": "2022-08-21T05:45:43.699Z"
   },
   {
    "duration": 0,
    "start_time": "2022-08-21T05:45:43.700Z"
   },
   {
    "duration": 0,
    "start_time": "2022-08-21T05:45:43.701Z"
   },
   {
    "duration": 0,
    "start_time": "2022-08-21T05:45:43.702Z"
   },
   {
    "duration": 0,
    "start_time": "2022-08-21T05:45:43.703Z"
   },
   {
    "duration": 0,
    "start_time": "2022-08-21T05:45:43.704Z"
   },
   {
    "duration": 0,
    "start_time": "2022-08-21T05:45:43.705Z"
   },
   {
    "duration": 0,
    "start_time": "2022-08-21T05:45:43.706Z"
   },
   {
    "duration": 0,
    "start_time": "2022-08-21T05:45:43.708Z"
   },
   {
    "duration": 0,
    "start_time": "2022-08-21T05:45:43.709Z"
   },
   {
    "duration": 0,
    "start_time": "2022-08-21T05:45:43.710Z"
   },
   {
    "duration": 0,
    "start_time": "2022-08-21T05:45:43.711Z"
   },
   {
    "duration": 0,
    "start_time": "2022-08-21T05:45:43.711Z"
   },
   {
    "duration": 0,
    "start_time": "2022-08-21T05:45:43.712Z"
   },
   {
    "duration": 0,
    "start_time": "2022-08-21T05:45:43.713Z"
   },
   {
    "duration": 0,
    "start_time": "2022-08-21T05:45:43.714Z"
   },
   {
    "duration": 0,
    "start_time": "2022-08-21T05:45:43.715Z"
   },
   {
    "duration": 0,
    "start_time": "2022-08-21T05:45:43.716Z"
   },
   {
    "duration": 0,
    "start_time": "2022-08-21T05:45:43.716Z"
   },
   {
    "duration": 2537,
    "start_time": "2022-08-21T05:46:08.643Z"
   },
   {
    "duration": 200,
    "start_time": "2022-08-21T05:46:11.181Z"
   },
   {
    "duration": 112,
    "start_time": "2022-08-21T05:46:11.383Z"
   },
   {
    "duration": 0,
    "start_time": "2022-08-21T05:46:11.498Z"
   },
   {
    "duration": 1,
    "start_time": "2022-08-21T05:46:11.499Z"
   },
   {
    "duration": 0,
    "start_time": "2022-08-21T05:46:11.501Z"
   },
   {
    "duration": 0,
    "start_time": "2022-08-21T05:46:11.502Z"
   },
   {
    "duration": 0,
    "start_time": "2022-08-21T05:46:11.503Z"
   },
   {
    "duration": 0,
    "start_time": "2022-08-21T05:46:11.504Z"
   },
   {
    "duration": 0,
    "start_time": "2022-08-21T05:46:11.505Z"
   },
   {
    "duration": 0,
    "start_time": "2022-08-21T05:46:11.506Z"
   },
   {
    "duration": 0,
    "start_time": "2022-08-21T05:46:11.507Z"
   },
   {
    "duration": 0,
    "start_time": "2022-08-21T05:46:11.508Z"
   },
   {
    "duration": 0,
    "start_time": "2022-08-21T05:46:11.509Z"
   },
   {
    "duration": 0,
    "start_time": "2022-08-21T05:46:11.510Z"
   },
   {
    "duration": 0,
    "start_time": "2022-08-21T05:46:11.511Z"
   },
   {
    "duration": 0,
    "start_time": "2022-08-21T05:46:11.512Z"
   },
   {
    "duration": 0,
    "start_time": "2022-08-21T05:46:11.513Z"
   },
   {
    "duration": 0,
    "start_time": "2022-08-21T05:46:11.514Z"
   },
   {
    "duration": 0,
    "start_time": "2022-08-21T05:46:11.515Z"
   },
   {
    "duration": 0,
    "start_time": "2022-08-21T05:46:11.516Z"
   },
   {
    "duration": 0,
    "start_time": "2022-08-21T05:46:11.518Z"
   },
   {
    "duration": 0,
    "start_time": "2022-08-21T05:46:11.519Z"
   },
   {
    "duration": 0,
    "start_time": "2022-08-21T05:46:11.520Z"
   },
   {
    "duration": 1,
    "start_time": "2022-08-21T05:46:11.521Z"
   },
   {
    "duration": 0,
    "start_time": "2022-08-21T05:46:11.523Z"
   },
   {
    "duration": 0,
    "start_time": "2022-08-21T05:46:11.524Z"
   },
   {
    "duration": 0,
    "start_time": "2022-08-21T05:46:11.525Z"
   },
   {
    "duration": 0,
    "start_time": "2022-08-21T05:46:11.527Z"
   },
   {
    "duration": 0,
    "start_time": "2022-08-21T05:46:11.527Z"
   },
   {
    "duration": 0,
    "start_time": "2022-08-21T05:46:11.529Z"
   },
   {
    "duration": 0,
    "start_time": "2022-08-21T05:46:11.530Z"
   },
   {
    "duration": 0,
    "start_time": "2022-08-21T05:46:11.532Z"
   },
   {
    "duration": 0,
    "start_time": "2022-08-21T05:46:11.533Z"
   },
   {
    "duration": 0,
    "start_time": "2022-08-21T05:46:11.535Z"
   },
   {
    "duration": 0,
    "start_time": "2022-08-21T05:46:11.536Z"
   },
   {
    "duration": 0,
    "start_time": "2022-08-21T05:46:11.598Z"
   },
   {
    "duration": 0,
    "start_time": "2022-08-21T05:46:11.600Z"
   },
   {
    "duration": 0,
    "start_time": "2022-08-21T05:46:11.602Z"
   },
   {
    "duration": 0,
    "start_time": "2022-08-21T05:46:11.603Z"
   },
   {
    "duration": 0,
    "start_time": "2022-08-21T05:46:11.605Z"
   },
   {
    "duration": 0,
    "start_time": "2022-08-21T05:46:11.606Z"
   },
   {
    "duration": 0,
    "start_time": "2022-08-21T05:46:11.608Z"
   },
   {
    "duration": 0,
    "start_time": "2022-08-21T05:46:11.609Z"
   },
   {
    "duration": 0,
    "start_time": "2022-08-21T05:46:11.612Z"
   },
   {
    "duration": 9,
    "start_time": "2022-08-21T05:47:01.772Z"
   },
   {
    "duration": 202,
    "start_time": "2022-08-21T05:47:05.473Z"
   },
   {
    "duration": 243,
    "start_time": "2022-08-21T05:47:11.785Z"
   },
   {
    "duration": 3,
    "start_time": "2022-08-21T05:47:14.843Z"
   },
   {
    "duration": 7,
    "start_time": "2022-08-21T05:47:16.610Z"
   },
   {
    "duration": 6,
    "start_time": "2022-08-21T05:47:17.196Z"
   },
   {
    "duration": 2332,
    "start_time": "2022-08-21T05:47:25.038Z"
   },
   {
    "duration": 203,
    "start_time": "2022-08-21T05:47:27.372Z"
   },
   {
    "duration": 3,
    "start_time": "2022-08-21T05:47:27.576Z"
   },
   {
    "duration": 9,
    "start_time": "2022-08-21T05:47:27.581Z"
   },
   {
    "duration": 15,
    "start_time": "2022-08-21T05:47:27.591Z"
   },
   {
    "duration": 15,
    "start_time": "2022-08-21T05:47:27.607Z"
   },
   {
    "duration": 6,
    "start_time": "2022-08-21T05:47:27.624Z"
   },
   {
    "duration": 14,
    "start_time": "2022-08-21T05:47:27.632Z"
   },
   {
    "duration": 7,
    "start_time": "2022-08-21T05:47:27.648Z"
   },
   {
    "duration": 7,
    "start_time": "2022-08-21T05:47:27.657Z"
   },
   {
    "duration": 47,
    "start_time": "2022-08-21T05:47:27.665Z"
   },
   {
    "duration": 13,
    "start_time": "2022-08-21T05:47:27.713Z"
   },
   {
    "duration": 17,
    "start_time": "2022-08-21T05:47:27.728Z"
   },
   {
    "duration": 27,
    "start_time": "2022-08-21T05:47:27.747Z"
   },
   {
    "duration": 15,
    "start_time": "2022-08-21T05:47:27.798Z"
   },
   {
    "duration": 3,
    "start_time": "2022-08-21T05:47:27.815Z"
   },
   {
    "duration": 450,
    "start_time": "2022-08-21T05:47:27.820Z"
   },
   {
    "duration": 8,
    "start_time": "2022-08-21T05:47:28.271Z"
   },
   {
    "duration": 28,
    "start_time": "2022-08-21T05:47:28.281Z"
   },
   {
    "duration": 8,
    "start_time": "2022-08-21T05:47:28.310Z"
   },
   {
    "duration": 702,
    "start_time": "2022-08-21T05:47:28.320Z"
   },
   {
    "duration": 1329,
    "start_time": "2022-08-21T05:47:29.023Z"
   },
   {
    "duration": 247,
    "start_time": "2022-08-21T05:47:30.353Z"
   },
   {
    "duration": 6,
    "start_time": "2022-08-21T05:47:30.601Z"
   },
   {
    "duration": 16,
    "start_time": "2022-08-21T05:47:30.608Z"
   },
   {
    "duration": 52,
    "start_time": "2022-08-21T05:47:30.625Z"
   },
   {
    "duration": 19490,
    "start_time": "2022-08-21T05:47:30.678Z"
   },
   {
    "duration": 12,
    "start_time": "2022-08-21T05:47:50.172Z"
   },
   {
    "duration": 25,
    "start_time": "2022-08-21T05:47:50.185Z"
   },
   {
    "duration": 6,
    "start_time": "2022-08-21T05:47:50.212Z"
   },
   {
    "duration": 17,
    "start_time": "2022-08-21T05:47:50.219Z"
   },
   {
    "duration": 4,
    "start_time": "2022-08-21T05:47:50.237Z"
   },
   {
    "duration": 20,
    "start_time": "2022-08-21T05:47:50.242Z"
   },
   {
    "duration": 41,
    "start_time": "2022-08-21T05:47:50.263Z"
   },
   {
    "duration": 4,
    "start_time": "2022-08-21T05:47:50.305Z"
   },
   {
    "duration": 6,
    "start_time": "2022-08-21T05:47:50.310Z"
   },
   {
    "duration": 1631,
    "start_time": "2022-08-21T05:47:50.317Z"
   },
   {
    "duration": 34,
    "start_time": "2022-08-21T05:47:51.950Z"
   },
   {
    "duration": 54,
    "start_time": "2022-08-21T05:47:51.998Z"
   },
   {
    "duration": 24,
    "start_time": "2022-08-21T05:47:52.053Z"
   },
   {
    "duration": 35,
    "start_time": "2022-08-21T05:47:52.078Z"
   },
   {
    "duration": 4,
    "start_time": "2022-08-21T05:47:52.114Z"
   },
   {
    "duration": 8,
    "start_time": "2022-08-21T05:47:52.119Z"
   },
   {
    "duration": 31,
    "start_time": "2022-08-21T05:47:52.129Z"
   },
   {
    "duration": 5,
    "start_time": "2022-08-21T05:47:52.161Z"
   },
   {
    "duration": 3,
    "start_time": "2022-08-21T05:57:07.772Z"
   },
   {
    "duration": 30,
    "start_time": "2022-08-21T05:57:11.004Z"
   },
   {
    "duration": 33,
    "start_time": "2022-08-21T05:57:17.441Z"
   },
   {
    "duration": 1631,
    "start_time": "2022-08-21T15:41:52.272Z"
   },
   {
    "duration": 108,
    "start_time": "2022-08-21T15:41:53.905Z"
   },
   {
    "duration": 96,
    "start_time": "2022-08-21T15:41:54.015Z"
   },
   {
    "duration": 0,
    "start_time": "2022-08-21T15:41:54.113Z"
   },
   {
    "duration": 0,
    "start_time": "2022-08-21T15:41:54.115Z"
   },
   {
    "duration": 0,
    "start_time": "2022-08-21T15:41:54.116Z"
   },
   {
    "duration": 0,
    "start_time": "2022-08-21T15:41:54.117Z"
   },
   {
    "duration": 0,
    "start_time": "2022-08-21T15:41:54.118Z"
   },
   {
    "duration": 0,
    "start_time": "2022-08-21T15:41:54.119Z"
   },
   {
    "duration": 0,
    "start_time": "2022-08-21T15:41:54.120Z"
   },
   {
    "duration": 0,
    "start_time": "2022-08-21T15:41:54.121Z"
   },
   {
    "duration": 0,
    "start_time": "2022-08-21T15:41:54.122Z"
   },
   {
    "duration": 0,
    "start_time": "2022-08-21T15:41:54.123Z"
   },
   {
    "duration": 0,
    "start_time": "2022-08-21T15:41:54.124Z"
   },
   {
    "duration": 0,
    "start_time": "2022-08-21T15:41:54.125Z"
   },
   {
    "duration": 0,
    "start_time": "2022-08-21T15:41:54.126Z"
   },
   {
    "duration": 0,
    "start_time": "2022-08-21T15:41:54.128Z"
   },
   {
    "duration": 0,
    "start_time": "2022-08-21T15:41:54.129Z"
   },
   {
    "duration": 0,
    "start_time": "2022-08-21T15:41:54.130Z"
   },
   {
    "duration": 0,
    "start_time": "2022-08-21T15:41:54.131Z"
   },
   {
    "duration": 0,
    "start_time": "2022-08-21T15:41:54.133Z"
   },
   {
    "duration": 0,
    "start_time": "2022-08-21T15:41:54.134Z"
   },
   {
    "duration": 2561,
    "start_time": "2022-08-23T17:55:50.887Z"
   },
   {
    "duration": 373,
    "start_time": "2022-08-23T17:55:53.450Z"
   },
   {
    "duration": 10,
    "start_time": "2022-08-23T17:55:53.828Z"
   },
   {
    "duration": 3,
    "start_time": "2022-08-23T17:55:53.839Z"
   },
   {
    "duration": 8,
    "start_time": "2022-08-23T17:55:53.844Z"
   },
   {
    "duration": 7,
    "start_time": "2022-08-23T17:55:53.853Z"
   },
   {
    "duration": 10,
    "start_time": "2022-08-23T17:55:53.861Z"
   },
   {
    "duration": 6,
    "start_time": "2022-08-23T17:55:53.873Z"
   },
   {
    "duration": 8,
    "start_time": "2022-08-23T17:55:53.906Z"
   },
   {
    "duration": 7,
    "start_time": "2022-08-23T17:55:53.915Z"
   },
   {
    "duration": 7,
    "start_time": "2022-08-23T17:55:53.924Z"
   },
   {
    "duration": 30,
    "start_time": "2022-08-23T17:55:53.932Z"
   },
   {
    "duration": 10,
    "start_time": "2022-08-23T17:55:53.963Z"
   },
   {
    "duration": 38,
    "start_time": "2022-08-23T17:55:53.974Z"
   },
   {
    "duration": 26,
    "start_time": "2022-08-23T17:55:54.014Z"
   },
   {
    "duration": 13,
    "start_time": "2022-08-23T17:55:54.041Z"
   },
   {
    "duration": 4,
    "start_time": "2022-08-23T17:55:54.056Z"
   },
   {
    "duration": 498,
    "start_time": "2022-08-23T17:55:54.062Z"
   },
   {
    "duration": 9,
    "start_time": "2022-08-23T17:55:54.562Z"
   },
   {
    "duration": 20,
    "start_time": "2022-08-23T17:55:54.572Z"
   },
   {
    "duration": 18,
    "start_time": "2022-08-23T17:55:54.594Z"
   },
   {
    "duration": 769,
    "start_time": "2022-08-23T17:55:54.614Z"
   },
   {
    "duration": 513,
    "start_time": "2022-08-23T17:55:55.384Z"
   },
   {
    "duration": 429,
    "start_time": "2022-08-23T17:55:55.898Z"
   },
   {
    "duration": 98,
    "start_time": "2022-08-23T17:55:56.328Z"
   },
   {
    "duration": 8,
    "start_time": "2022-08-23T17:55:56.427Z"
   },
   {
    "duration": 42,
    "start_time": "2022-08-23T17:55:56.438Z"
   },
   {
    "duration": 23789,
    "start_time": "2022-08-23T17:55:56.482Z"
   },
   {
    "duration": 11,
    "start_time": "2022-08-23T17:56:20.273Z"
   },
   {
    "duration": 28,
    "start_time": "2022-08-23T17:56:20.285Z"
   },
   {
    "duration": 5,
    "start_time": "2022-08-23T17:56:20.315Z"
   },
   {
    "duration": 18,
    "start_time": "2022-08-23T17:56:20.322Z"
   },
   {
    "duration": 4,
    "start_time": "2022-08-23T17:56:20.341Z"
   },
   {
    "duration": 18,
    "start_time": "2022-08-23T17:56:20.346Z"
   },
   {
    "duration": 9,
    "start_time": "2022-08-23T17:56:20.366Z"
   },
   {
    "duration": 32,
    "start_time": "2022-08-23T17:56:20.377Z"
   },
   {
    "duration": 5,
    "start_time": "2022-08-23T17:56:20.411Z"
   },
   {
    "duration": 1678,
    "start_time": "2022-08-23T17:56:20.418Z"
   },
   {
    "duration": 43,
    "start_time": "2022-08-23T17:56:22.097Z"
   },
   {
    "duration": 81,
    "start_time": "2022-08-23T17:56:22.141Z"
   },
   {
    "duration": 23,
    "start_time": "2022-08-23T17:56:22.223Z"
   },
   {
    "duration": 17,
    "start_time": "2022-08-23T17:56:22.248Z"
   },
   {
    "duration": 4,
    "start_time": "2022-08-23T17:56:22.267Z"
   },
   {
    "duration": 34,
    "start_time": "2022-08-23T17:56:22.273Z"
   },
   {
    "duration": 43,
    "start_time": "2022-08-23T17:56:22.309Z"
   },
   {
    "duration": 5,
    "start_time": "2022-08-23T17:56:22.353Z"
   }
  ],
  "kernelspec": {
   "display_name": "Python 3 (ipykernel)",
   "language": "python",
   "name": "python3"
  },
  "language_info": {
   "codemirror_mode": {
    "name": "ipython",
    "version": 3
   },
   "file_extension": ".py",
   "mimetype": "text/x-python",
   "name": "python",
   "nbconvert_exporter": "python",
   "pygments_lexer": "ipython3",
   "version": "3.9.5"
  },
  "toc": {
   "base_numbering": 1,
   "nav_menu": {},
   "number_sections": true,
   "sideBar": true,
   "skip_h1_title": true,
   "title_cell": "Table of Contents",
   "title_sidebar": "Contents",
   "toc_cell": false,
   "toc_position": {},
   "toc_section_display": true,
   "toc_window_display": false
  }
 },
 "nbformat": 4,
 "nbformat_minor": 5
}
